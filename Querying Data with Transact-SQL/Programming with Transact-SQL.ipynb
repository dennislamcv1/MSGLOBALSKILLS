{
 "cells": [
  {
   "cell_type": "markdown",
   "metadata": {},
   "source": [
    "## Programming with Transact-SQL"
   ]
  },
  {
   "cell_type": "markdown",
   "metadata": {},
   "source": [
    "***"
   ]
  },
  {
   "cell_type": "markdown",
   "metadata": {},
   "source": [
    "### Import Libraries"
   ]
  },
  {
   "cell_type": "code",
   "execution_count": 1,
   "metadata": {},
   "outputs": [],
   "source": [
    "import pandas as pd\n",
    "import numpy as np\n",
    "import matplotlib.pyplot as plt\n",
    "import seaborn as sns\n",
    "import random\n",
    "\n",
    "import pyodbc\n",
    "\n",
    "%matplotlib inline\n",
    "\n",
    "pd.set_option('display.max_columns',None)\n",
    "#pd.set_option('display.max_rows',None)\n",
    "pd.set_option('display.width', 1000)\n",
    "pd.option_context('float_format','{:.2f}'.format)\n",
    "\n",
    "random.seed(0)\n",
    "np.random.seed(0)\n",
    "np.set_printoptions(suppress=True)"
   ]
  },
  {
   "cell_type": "markdown",
   "metadata": {},
   "source": [
    "## Load Data from SQL database"
   ]
  },
  {
   "cell_type": "markdown",
   "metadata": {},
   "source": [
    "### MSSQL"
   ]
  },
  {
   "cell_type": "code",
   "execution_count": 2,
   "metadata": {},
   "outputs": [],
   "source": [
    "conn = pyodbc.connect('Driver={SQL Server};'\n",
    "                      'Server=DESKTOP-ARQLULI\\SQLEXPRESS2019;'\n",
    "                      'Database=AdventureWorksLT2012;'\n",
    "                      'Trusted_Connection=yes;')"
   ]
  },
  {
   "cell_type": "markdown",
   "metadata": {},
   "source": [
    "## Challenge 1: Creating scripts to insert sales orders"
   ]
  },
  {
   "cell_type": "code",
   "execution_count": null,
   "metadata": {},
   "outputs": [],
   "source": [
    "pd.read_sql_query(\"DECLARE @OrderDate datetime = GETDATE();\\\n",
    "                   DECLARE @DueDate datetime = DATEADD(dd, 7, GETDATE());\\\n",
    "                   DECLARE @CustomerID int = 1;\\\n",
    "                   INSERT INTO SalesLT.SalesOrderHeader (OrderDate, DueDate, CustomerID, ShipMethod)\\\n",
    "                   VALUES (@OrderDate, @DueDate, @CustomerID, 'CARGO TRANSPORT 5');\\\n",
    "                   PRINT SCOPE_IDENTITY();\", conn)"
   ]
  },
  {
   "cell_type": "code",
   "execution_count": null,
   "metadata": {},
   "outputs": [],
   "source": [
    "-- Code from previous exercise\n",
    "DECLARE @OrderDate datetime = GETDATE();\n",
    "DECLARE @DueDate datetime = DATEADD(dd, 7, GETDATE());\n",
    "DECLARE @CustomerID int = 1;\n",
    "INSERT INTO SalesLT.SalesOrderHeader (OrderDate, DueDate, CustomerID, ShipMethod)\n",
    "VALUES (@OrderDate, @DueDate, @CustomerID, 'CARGO TRANSPORT 5');\n",
    "DECLARE @OrderID int = SCOPE_IDENTITY();\n",
    "\n",
    "-- Additional script to complete\n",
    "DECLARE @ProductID int = 760;\n",
    "DECLARE @Quantity int = 1;\n",
    "DECLARE @UnitPrice money = 782.99;\n",
    "DECLARE @SalesOrderID int\n",
    "IF EXISTS (SELECT * FROM SalesLT.SalesOrderHeader WHERE SalesOrderID = @SalesOrderID)\n",
    "BEGIN\n",
    "\tINSERT INTO SalesLT.SalesOrderDetail (SalesOrderID, OrderQty, ProductID, UnitPrice)\n",
    "\tVALUES (@OrderID, @Quantity, @ProductID, @UnitPrice)\n",
    "END\n",
    "ELSE\n",
    "BEGIN\n",
    "\tPRINT 'The order does not exist'\n",
    "END"
   ]
  },
  {
   "cell_type": "markdown",
   "metadata": {},
   "source": [
    "## Challenge 2: Updating Bike Prices"
   ]
  },
  {
   "cell_type": "code",
   "execution_count": null,
   "metadata": {},
   "outputs": [],
   "source": [
    "DECLARE @MarketAverage money = 2000;\n",
    "DECLARE @MarketMax money = 5000;\n",
    "DECLARE @AWMax money;\n",
    "DECLARE @AWAverage money;\n",
    "\n",
    "SELECT @AWAverage = AVG(ListPrice), @AWMax = MAX(ListPrice)\n",
    "FROM SalesLT.Product\n",
    "WHERE ProductCategoryID IN\n",
    "\t(SELECT DISTINCT ProductCategoryID\n",
    "\t FROM SalesLT.vGetAllCategories\n",
    "\t WHERE ParentProductCategoryName = 'Bikes');\n",
    "\n",
    "WHILE @AWAverage < @MarketAverage\n",
    "BEGIN\n",
    "   UPDATE SalesLT.Product\n",
    "   SET ListPrice = ListPrice * 1.1\n",
    "   WHERE ProductCategoryID IN\n",
    "\t(SELECT DISTINCT ProductCategoryID\n",
    "\t FROM SalesLT.vGetAllCategories\n",
    "\t WHERE ParentProductCategoryName = 'Bikes');\n",
    "\n",
    "\tSELECT @AWAverage = AVG(ListPrice), @AWMax = MAX(ListPrice)\n",
    "\tFROM SalesLT.Product\n",
    "\tWHERE ProductCategoryID IN\n",
    "\t(SELECT DISTINCT ProductCategoryID\n",
    "\t FROM SalesLT.vGetAllCategories\n",
    "\t WHERE ParentProductCategoryName = 'Bikes');\n",
    "\n",
    "   IF @AWMax >= @MarketMax\n",
    "      BREAK\n",
    "   ELSE\n",
    "      CONTINUE\n",
    "END\n",
    "\n",
    "PRINT 'New average bike price:' + CONVERT(VARCHAR, @AWAverage);\n",
    "PRINT 'New maximum bike price:' + CONVERT(VARCHAR, @AWMax);"
   ]
  },
  {
   "cell_type": "code",
   "execution_count": 4,
   "metadata": {},
   "outputs": [],
   "source": [
    "conn.close()"
   ]
  },
  {
   "cell_type": "markdown",
   "metadata": {},
   "source": [
    "#### Python code done by Dennis Lam"
   ]
  }
 ],
 "metadata": {
  "kernelspec": {
   "display_name": "Python 3",
   "language": "python",
   "name": "python3"
  },
  "language_info": {
   "codemirror_mode": {
    "name": "ipython",
    "version": 3
   },
   "file_extension": ".py",
   "mimetype": "text/x-python",
   "name": "python",
   "nbconvert_exporter": "python",
   "pygments_lexer": "ipython3",
   "version": "3.8.8"
  }
 },
 "nbformat": 4,
 "nbformat_minor": 4
}
