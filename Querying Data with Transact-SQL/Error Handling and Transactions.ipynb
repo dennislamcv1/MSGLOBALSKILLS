{
 "cells": [
  {
   "cell_type": "markdown",
   "metadata": {},
   "source": [
    "## Error Handling and Transactions"
   ]
  },
  {
   "cell_type": "markdown",
   "metadata": {},
   "source": [
    "***"
   ]
  },
  {
   "cell_type": "markdown",
   "metadata": {},
   "source": [
    "### Import Libraries"
   ]
  },
  {
   "cell_type": "code",
   "execution_count": 1,
   "metadata": {},
   "outputs": [],
   "source": [
    "import pandas as pd\n",
    "import numpy as np\n",
    "import matplotlib.pyplot as plt\n",
    "import seaborn as sns\n",
    "import random\n",
    "\n",
    "import pyodbc\n",
    "\n",
    "%matplotlib inline\n",
    "\n",
    "pd.set_option('display.max_columns',None)\n",
    "#pd.set_option('display.max_rows',None)\n",
    "pd.set_option('display.width', 1000)\n",
    "pd.option_context('float_format','{:.2f}'.format)\n",
    "\n",
    "random.seed(0)\n",
    "np.random.seed(0)\n",
    "np.set_printoptions(suppress=True)"
   ]
  },
  {
   "cell_type": "markdown",
   "metadata": {},
   "source": [
    "## Load Data from SQL database"
   ]
  },
  {
   "cell_type": "markdown",
   "metadata": {},
   "source": [
    "### MSSQL"
   ]
  },
  {
   "cell_type": "code",
   "execution_count": 2,
   "metadata": {},
   "outputs": [],
   "source": [
    "conn = pyodbc.connect('Driver={SQL Server};'\n",
    "                      'Server=DESKTOP-ARQLULI\\SQLEXPRESS2019;'\n",
    "                      'Database=AdventureWorksLT2012;'\n",
    "                      'Trusted_Connection=yes;')"
   ]
  },
  {
   "cell_type": "markdown",
   "metadata": {},
   "source": [
    "## Challenge 1: Logging Errors"
   ]
  },
  {
   "cell_type": "code",
   "execution_count": null,
   "metadata": {},
   "outputs": [],
   "source": [
    "DECLARE @OrderID int = 0\n",
    "\n",
    "-- Declare a custom error if the specified order doesn't exist\n",
    "DECLARE @error VARCHAR(30) = 'Order #' + cast(@OrderID as VARCHAR) + ' does not exist';\n",
    "\n",
    "IF NOT EXISTS (SELECT * FROM SalesLT.SalesOrderHeader WHERE SalesOrderID = @OrderID)\n",
    "BEGIN\n",
    "  THROW 50001, @error, 0;\n",
    "END\n",
    "ELSE\n",
    "BEGIN\n",
    "  DELETE FROM SalesLT.SalesOrderDetail WHERE SalesOrderID = @OrderID;\n",
    "  DELETE FROM SalesLT.SalesOrderHeader WHERE SalesOrderID = @OrderID;\n",
    "END"
   ]
  },
  {
   "cell_type": "code",
   "execution_count": null,
   "metadata": {},
   "outputs": [],
   "source": [
    "DECLARE @OrderID int = 71774\n",
    "DECLARE @error VARCHAR(30) = 'Order #' + cast(@OrderID as VARCHAR) + ' does not exist';\n",
    "\n",
    "-- Wrap IF ELSE in a TRY block\n",
    "BEGIN TRY\n",
    "  IF NOT EXISTS (SELECT * FROM SalesLT.SalesOrderHeader WHERE SalesOrderID = @OrderID)\n",
    "  BEGIN\n",
    "    THROW 50001, @error, 0\n",
    "  END\n",
    "  ELSE\n",
    "  BEGIN\n",
    "    DELETE FROM SalesLT.SalesOrderDetail WHERE SalesOrderID = @OrderID;\n",
    "    DELETE FROM SalesLT.SalesOrderHeader WHERE SalesOrderID = @OrderID;\n",
    "  END\n",
    "END TRY\n",
    "-- Add a CATCH block to print out the error\n",
    "BEGIN CATCH\n",
    "  PRINT ERROR_MESSAGE();\n",
    "END CATCH;"
   ]
  },
  {
   "cell_type": "markdown",
   "metadata": {},
   "source": [
    "## Challenge 2: Ensuring Data Consistency"
   ]
  },
  {
   "cell_type": "code",
   "execution_count": null,
   "metadata": {},
   "outputs": [],
   "source": [
    "DECLARE @OrderID int = 0\n",
    "DECLARE @error VARCHAR(30) = 'Order #' + cast(@OrderID as VARCHAR) + ' does not exist';\n",
    "\n",
    "BEGIN TRY\n",
    "  IF NOT EXISTS (SELECT * FROM SalesLT.SalesOrderHeader WHERE SalesOrderID = @OrderID)\n",
    "  BEGIN\n",
    "    THROW 50001, @error, 0\n",
    "  END\n",
    "  ELSE\n",
    "  BEGIN\n",
    "    BEGIN TRANSACTION\n",
    "    DELETE FROM SalesLT.SalesOrderDetail\n",
    "    WHERE SalesOrderID = @OrderID;\n",
    "    DELETE FROM SalesLT.SalesOrderHeader\n",
    "    WHERE SalesOrderID = @OrderID;\n",
    "    COMMIT TRANSACTION\n",
    "  END\n",
    "END TRY\n",
    "BEGIN CATCH\n",
    "  IF @@TRANCOUNT > 0\n",
    "  BEGIN\n",
    "    ROLLBACK TRANSACTION;\n",
    "  END\n",
    "  ELSE\n",
    "  BEGIN\n",
    "    PRINT ERROR_MESSAGE();\n",
    "  END\n",
    "END CATCH"
   ]
  },
  {
   "cell_type": "code",
   "execution_count": 3,
   "metadata": {},
   "outputs": [],
   "source": [
    "conn.close()"
   ]
  },
  {
   "cell_type": "markdown",
   "metadata": {},
   "source": [
    "#### Python code done by Dennis Lam"
   ]
  }
 ],
 "metadata": {
  "kernelspec": {
   "display_name": "Python 3",
   "language": "python",
   "name": "python3"
  },
  "language_info": {
   "codemirror_mode": {
    "name": "ipython",
    "version": 3
   },
   "file_extension": ".py",
   "mimetype": "text/x-python",
   "name": "python",
   "nbconvert_exporter": "python",
   "pygments_lexer": "ipython3",
   "version": "3.8.8"
  }
 },
 "nbformat": 4,
 "nbformat_minor": 4
}
