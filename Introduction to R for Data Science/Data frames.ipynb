{
 "cells": [
  {
   "cell_type": "code",
   "execution_count": 1,
   "id": "3466aded",
   "metadata": {},
   "outputs": [
    {
     "data": {
      "text/html": [
       "<table class=\"dataframe\">\n",
       "<caption>A data.frame: 6 × 11</caption>\n",
       "<thead>\n",
       "\t<tr><th></th><th scope=col>mpg</th><th scope=col>cyl</th><th scope=col>disp</th><th scope=col>hp</th><th scope=col>drat</th><th scope=col>wt</th><th scope=col>qsec</th><th scope=col>vs</th><th scope=col>am</th><th scope=col>gear</th><th scope=col>carb</th></tr>\n",
       "\t<tr><th></th><th scope=col>&lt;dbl&gt;</th><th scope=col>&lt;dbl&gt;</th><th scope=col>&lt;dbl&gt;</th><th scope=col>&lt;dbl&gt;</th><th scope=col>&lt;dbl&gt;</th><th scope=col>&lt;dbl&gt;</th><th scope=col>&lt;dbl&gt;</th><th scope=col>&lt;dbl&gt;</th><th scope=col>&lt;dbl&gt;</th><th scope=col>&lt;dbl&gt;</th><th scope=col>&lt;dbl&gt;</th></tr>\n",
       "</thead>\n",
       "<tbody>\n",
       "\t<tr><th scope=row>Mazda RX4</th><td>21.0</td><td>6</td><td>160</td><td>110</td><td>3.90</td><td>2.620</td><td>16.46</td><td>0</td><td>1</td><td>4</td><td>4</td></tr>\n",
       "\t<tr><th scope=row>Mazda RX4 Wag</th><td>21.0</td><td>6</td><td>160</td><td>110</td><td>3.90</td><td>2.875</td><td>17.02</td><td>0</td><td>1</td><td>4</td><td>4</td></tr>\n",
       "\t<tr><th scope=row>Datsun 710</th><td>22.8</td><td>4</td><td>108</td><td> 93</td><td>3.85</td><td>2.320</td><td>18.61</td><td>1</td><td>1</td><td>4</td><td>1</td></tr>\n",
       "\t<tr><th scope=row>Hornet 4 Drive</th><td>21.4</td><td>6</td><td>258</td><td>110</td><td>3.08</td><td>3.215</td><td>19.44</td><td>1</td><td>0</td><td>3</td><td>1</td></tr>\n",
       "\t<tr><th scope=row>Hornet Sportabout</th><td>18.7</td><td>8</td><td>360</td><td>175</td><td>3.15</td><td>3.440</td><td>17.02</td><td>0</td><td>0</td><td>3</td><td>2</td></tr>\n",
       "\t<tr><th scope=row>Valiant</th><td>18.1</td><td>6</td><td>225</td><td>105</td><td>2.76</td><td>3.460</td><td>20.22</td><td>1</td><td>0</td><td>3</td><td>1</td></tr>\n",
       "</tbody>\n",
       "</table>\n"
      ],
      "text/latex": [
       "A data.frame: 6 × 11\n",
       "\\begin{tabular}{r|lllllllllll}\n",
       "  & mpg & cyl & disp & hp & drat & wt & qsec & vs & am & gear & carb\\\\\n",
       "  & <dbl> & <dbl> & <dbl> & <dbl> & <dbl> & <dbl> & <dbl> & <dbl> & <dbl> & <dbl> & <dbl>\\\\\n",
       "\\hline\n",
       "\tMazda RX4 & 21.0 & 6 & 160 & 110 & 3.90 & 2.620 & 16.46 & 0 & 1 & 4 & 4\\\\\n",
       "\tMazda RX4 Wag & 21.0 & 6 & 160 & 110 & 3.90 & 2.875 & 17.02 & 0 & 1 & 4 & 4\\\\\n",
       "\tDatsun 710 & 22.8 & 4 & 108 &  93 & 3.85 & 2.320 & 18.61 & 1 & 1 & 4 & 1\\\\\n",
       "\tHornet 4 Drive & 21.4 & 6 & 258 & 110 & 3.08 & 3.215 & 19.44 & 1 & 0 & 3 & 1\\\\\n",
       "\tHornet Sportabout & 18.7 & 8 & 360 & 175 & 3.15 & 3.440 & 17.02 & 0 & 0 & 3 & 2\\\\\n",
       "\tValiant & 18.1 & 6 & 225 & 105 & 2.76 & 3.460 & 20.22 & 1 & 0 & 3 & 1\\\\\n",
       "\\end{tabular}\n"
      ],
      "text/markdown": [
       "\n",
       "A data.frame: 6 × 11\n",
       "\n",
       "| <!--/--> | mpg &lt;dbl&gt; | cyl &lt;dbl&gt; | disp &lt;dbl&gt; | hp &lt;dbl&gt; | drat &lt;dbl&gt; | wt &lt;dbl&gt; | qsec &lt;dbl&gt; | vs &lt;dbl&gt; | am &lt;dbl&gt; | gear &lt;dbl&gt; | carb &lt;dbl&gt; |\n",
       "|---|---|---|---|---|---|---|---|---|---|---|---|\n",
       "| Mazda RX4 | 21.0 | 6 | 160 | 110 | 3.90 | 2.620 | 16.46 | 0 | 1 | 4 | 4 |\n",
       "| Mazda RX4 Wag | 21.0 | 6 | 160 | 110 | 3.90 | 2.875 | 17.02 | 0 | 1 | 4 | 4 |\n",
       "| Datsun 710 | 22.8 | 4 | 108 |  93 | 3.85 | 2.320 | 18.61 | 1 | 1 | 4 | 1 |\n",
       "| Hornet 4 Drive | 21.4 | 6 | 258 | 110 | 3.08 | 3.215 | 19.44 | 1 | 0 | 3 | 1 |\n",
       "| Hornet Sportabout | 18.7 | 8 | 360 | 175 | 3.15 | 3.440 | 17.02 | 0 | 0 | 3 | 2 |\n",
       "| Valiant | 18.1 | 6 | 225 | 105 | 2.76 | 3.460 | 20.22 | 1 | 0 | 3 | 1 |\n",
       "\n"
      ],
      "text/plain": [
       "                  mpg  cyl disp hp  drat wt    qsec  vs am gear carb\n",
       "Mazda RX4         21.0 6   160  110 3.90 2.620 16.46 0  1  4    4   \n",
       "Mazda RX4 Wag     21.0 6   160  110 3.90 2.875 17.02 0  1  4    4   \n",
       "Datsun 710        22.8 4   108   93 3.85 2.320 18.61 1  1  4    1   \n",
       "Hornet 4 Drive    21.4 6   258  110 3.08 3.215 19.44 1  0  3    1   \n",
       "Hornet Sportabout 18.7 8   360  175 3.15 3.440 17.02 0  0  3    2   \n",
       "Valiant           18.1 6   225  105 2.76 3.460 20.22 1  0  3    1   "
      ]
     },
     "metadata": {},
     "output_type": "display_data"
    },
    {
     "data": {
      "text/html": [
       "<table class=\"dataframe\">\n",
       "<caption>A data.frame: 6 × 11</caption>\n",
       "<thead>\n",
       "\t<tr><th></th><th scope=col>mpg</th><th scope=col>cyl</th><th scope=col>disp</th><th scope=col>hp</th><th scope=col>drat</th><th scope=col>wt</th><th scope=col>qsec</th><th scope=col>vs</th><th scope=col>am</th><th scope=col>gear</th><th scope=col>carb</th></tr>\n",
       "\t<tr><th></th><th scope=col>&lt;dbl&gt;</th><th scope=col>&lt;dbl&gt;</th><th scope=col>&lt;dbl&gt;</th><th scope=col>&lt;dbl&gt;</th><th scope=col>&lt;dbl&gt;</th><th scope=col>&lt;dbl&gt;</th><th scope=col>&lt;dbl&gt;</th><th scope=col>&lt;dbl&gt;</th><th scope=col>&lt;dbl&gt;</th><th scope=col>&lt;dbl&gt;</th><th scope=col>&lt;dbl&gt;</th></tr>\n",
       "</thead>\n",
       "<tbody>\n",
       "\t<tr><th scope=row>Porsche 914-2</th><td>26.0</td><td>4</td><td>120.3</td><td> 91</td><td>4.43</td><td>2.140</td><td>16.7</td><td>0</td><td>1</td><td>5</td><td>2</td></tr>\n",
       "\t<tr><th scope=row>Lotus Europa</th><td>30.4</td><td>4</td><td> 95.1</td><td>113</td><td>3.77</td><td>1.513</td><td>16.9</td><td>1</td><td>1</td><td>5</td><td>2</td></tr>\n",
       "\t<tr><th scope=row>Ford Pantera L</th><td>15.8</td><td>8</td><td>351.0</td><td>264</td><td>4.22</td><td>3.170</td><td>14.5</td><td>0</td><td>1</td><td>5</td><td>4</td></tr>\n",
       "\t<tr><th scope=row>Ferrari Dino</th><td>19.7</td><td>6</td><td>145.0</td><td>175</td><td>3.62</td><td>2.770</td><td>15.5</td><td>0</td><td>1</td><td>5</td><td>6</td></tr>\n",
       "\t<tr><th scope=row>Maserati Bora</th><td>15.0</td><td>8</td><td>301.0</td><td>335</td><td>3.54</td><td>3.570</td><td>14.6</td><td>0</td><td>1</td><td>5</td><td>8</td></tr>\n",
       "\t<tr><th scope=row>Volvo 142E</th><td>21.4</td><td>4</td><td>121.0</td><td>109</td><td>4.11</td><td>2.780</td><td>18.6</td><td>1</td><td>1</td><td>4</td><td>2</td></tr>\n",
       "</tbody>\n",
       "</table>\n"
      ],
      "text/latex": [
       "A data.frame: 6 × 11\n",
       "\\begin{tabular}{r|lllllllllll}\n",
       "  & mpg & cyl & disp & hp & drat & wt & qsec & vs & am & gear & carb\\\\\n",
       "  & <dbl> & <dbl> & <dbl> & <dbl> & <dbl> & <dbl> & <dbl> & <dbl> & <dbl> & <dbl> & <dbl>\\\\\n",
       "\\hline\n",
       "\tPorsche 914-2 & 26.0 & 4 & 120.3 &  91 & 4.43 & 2.140 & 16.7 & 0 & 1 & 5 & 2\\\\\n",
       "\tLotus Europa & 30.4 & 4 &  95.1 & 113 & 3.77 & 1.513 & 16.9 & 1 & 1 & 5 & 2\\\\\n",
       "\tFord Pantera L & 15.8 & 8 & 351.0 & 264 & 4.22 & 3.170 & 14.5 & 0 & 1 & 5 & 4\\\\\n",
       "\tFerrari Dino & 19.7 & 6 & 145.0 & 175 & 3.62 & 2.770 & 15.5 & 0 & 1 & 5 & 6\\\\\n",
       "\tMaserati Bora & 15.0 & 8 & 301.0 & 335 & 3.54 & 3.570 & 14.6 & 0 & 1 & 5 & 8\\\\\n",
       "\tVolvo 142E & 21.4 & 4 & 121.0 & 109 & 4.11 & 2.780 & 18.6 & 1 & 1 & 4 & 2\\\\\n",
       "\\end{tabular}\n"
      ],
      "text/markdown": [
       "\n",
       "A data.frame: 6 × 11\n",
       "\n",
       "| <!--/--> | mpg &lt;dbl&gt; | cyl &lt;dbl&gt; | disp &lt;dbl&gt; | hp &lt;dbl&gt; | drat &lt;dbl&gt; | wt &lt;dbl&gt; | qsec &lt;dbl&gt; | vs &lt;dbl&gt; | am &lt;dbl&gt; | gear &lt;dbl&gt; | carb &lt;dbl&gt; |\n",
       "|---|---|---|---|---|---|---|---|---|---|---|---|\n",
       "| Porsche 914-2 | 26.0 | 4 | 120.3 |  91 | 4.43 | 2.140 | 16.7 | 0 | 1 | 5 | 2 |\n",
       "| Lotus Europa | 30.4 | 4 |  95.1 | 113 | 3.77 | 1.513 | 16.9 | 1 | 1 | 5 | 2 |\n",
       "| Ford Pantera L | 15.8 | 8 | 351.0 | 264 | 4.22 | 3.170 | 14.5 | 0 | 1 | 5 | 4 |\n",
       "| Ferrari Dino | 19.7 | 6 | 145.0 | 175 | 3.62 | 2.770 | 15.5 | 0 | 1 | 5 | 6 |\n",
       "| Maserati Bora | 15.0 | 8 | 301.0 | 335 | 3.54 | 3.570 | 14.6 | 0 | 1 | 5 | 8 |\n",
       "| Volvo 142E | 21.4 | 4 | 121.0 | 109 | 4.11 | 2.780 | 18.6 | 1 | 1 | 4 | 2 |\n",
       "\n"
      ],
      "text/plain": [
       "               mpg  cyl disp  hp  drat wt    qsec vs am gear carb\n",
       "Porsche 914-2  26.0 4   120.3  91 4.43 2.140 16.7 0  1  5    2   \n",
       "Lotus Europa   30.4 4    95.1 113 3.77 1.513 16.9 1  1  5    2   \n",
       "Ford Pantera L 15.8 8   351.0 264 4.22 3.170 14.5 0  1  5    4   \n",
       "Ferrari Dino   19.7 6   145.0 175 3.62 2.770 15.5 0  1  5    6   \n",
       "Maserati Bora  15.0 8   301.0 335 3.54 3.570 14.6 0  1  5    8   \n",
       "Volvo 142E     21.4 4   121.0 109 4.11 2.780 18.6 1  1  4    2   "
      ]
     },
     "metadata": {},
     "output_type": "display_data"
    },
    {
     "data": {
      "text/html": [
       "<style>\n",
       ".list-inline {list-style: none; margin:0; padding: 0}\n",
       ".list-inline>li {display: inline-block}\n",
       ".list-inline>li:not(:last-child)::after {content: \"\\00b7\"; padding: 0 .5ex}\n",
       "</style>\n",
       "<ol class=list-inline><li>32</li><li>11</li></ol>\n"
      ],
      "text/latex": [
       "\\begin{enumerate*}\n",
       "\\item 32\n",
       "\\item 11\n",
       "\\end{enumerate*}\n"
      ],
      "text/markdown": [
       "1. 32\n",
       "2. 11\n",
       "\n",
       "\n"
      ],
      "text/plain": [
       "[1] 32 11"
      ]
     },
     "metadata": {},
     "output_type": "display_data"
    }
   ],
   "source": [
    "# Print the first observations of mtcars\n",
    "head(mtcars)\n",
    "\n",
    "# Print the last observations of mtcars\n",
    "tail(mtcars)\n",
    "\n",
    "# Print the dimensions of mtcars\n",
    "dim(mtcars)"
   ]
  },
  {
   "cell_type": "code",
   "execution_count": 2,
   "id": "70895313",
   "metadata": {},
   "outputs": [
    {
     "name": "stdout",
     "output_type": "stream",
     "text": [
      "'data.frame':\t32 obs. of  11 variables:\n",
      " $ mpg : num  21 21 22.8 21.4 18.7 18.1 14.3 24.4 22.8 19.2 ...\n",
      " $ cyl : num  6 6 4 6 8 6 8 4 4 6 ...\n",
      " $ disp: num  160 160 108 258 360 ...\n",
      " $ hp  : num  110 110 93 110 175 105 245 62 95 123 ...\n",
      " $ drat: num  3.9 3.9 3.85 3.08 3.15 2.76 3.21 3.69 3.92 3.92 ...\n",
      " $ wt  : num  2.62 2.88 2.32 3.21 3.44 ...\n",
      " $ qsec: num  16.5 17 18.6 19.4 17 ...\n",
      " $ vs  : num  0 0 1 1 0 1 0 1 1 1 ...\n",
      " $ am  : num  1 1 1 0 0 0 0 0 0 0 ...\n",
      " $ gear: num  4 4 4 3 3 3 3 4 4 4 ...\n",
      " $ carb: num  4 4 1 1 2 1 4 2 2 4 ...\n"
     ]
    }
   ],
   "source": [
    "# Investigate the structure of the mtcars data set\n",
    "str(mtcars)"
   ]
  },
  {
   "cell_type": "code",
   "execution_count": 3,
   "id": "b3c90a86",
   "metadata": {},
   "outputs": [
    {
     "data": {
      "text/html": [
       "<table class=\"dataframe\">\n",
       "<caption>A data.frame: 8 × 5</caption>\n",
       "<thead>\n",
       "\t<tr><th scope=col>planets</th><th scope=col>type</th><th scope=col>diameter</th><th scope=col>rotation</th><th scope=col>rings</th></tr>\n",
       "\t<tr><th scope=col>&lt;fct&gt;</th><th scope=col>&lt;fct&gt;</th><th scope=col>&lt;dbl&gt;</th><th scope=col>&lt;dbl&gt;</th><th scope=col>&lt;lgl&gt;</th></tr>\n",
       "</thead>\n",
       "<tbody>\n",
       "\t<tr><td>Mercury</td><td>Terrestrial planet</td><td> 0.382</td><td>  58.64</td><td>FALSE</td></tr>\n",
       "\t<tr><td>Venus  </td><td>Terrestrial planet</td><td> 0.949</td><td>-243.02</td><td>FALSE</td></tr>\n",
       "\t<tr><td>Earth  </td><td>Terrestrial planet</td><td> 1.000</td><td>   1.00</td><td>FALSE</td></tr>\n",
       "\t<tr><td>Mars   </td><td>Terrestrial planet</td><td> 0.532</td><td>   1.03</td><td>FALSE</td></tr>\n",
       "\t<tr><td>Jupiter</td><td>Gas giant         </td><td>11.209</td><td>   0.41</td><td> TRUE</td></tr>\n",
       "\t<tr><td>Saturn </td><td>Gas giant         </td><td> 9.449</td><td>   0.43</td><td> TRUE</td></tr>\n",
       "\t<tr><td>Uranus </td><td>Gas giant         </td><td> 4.007</td><td>  -0.72</td><td> TRUE</td></tr>\n",
       "\t<tr><td>Neptune</td><td>Gas giant         </td><td> 3.883</td><td>   0.67</td><td> TRUE</td></tr>\n",
       "</tbody>\n",
       "</table>\n"
      ],
      "text/latex": [
       "A data.frame: 8 × 5\n",
       "\\begin{tabular}{lllll}\n",
       " planets & type & diameter & rotation & rings\\\\\n",
       " <fct> & <fct> & <dbl> & <dbl> & <lgl>\\\\\n",
       "\\hline\n",
       "\t Mercury & Terrestrial planet &  0.382 &   58.64 & FALSE\\\\\n",
       "\t Venus   & Terrestrial planet &  0.949 & -243.02 & FALSE\\\\\n",
       "\t Earth   & Terrestrial planet &  1.000 &    1.00 & FALSE\\\\\n",
       "\t Mars    & Terrestrial planet &  0.532 &    1.03 & FALSE\\\\\n",
       "\t Jupiter & Gas giant          & 11.209 &    0.41 &  TRUE\\\\\n",
       "\t Saturn  & Gas giant          &  9.449 &    0.43 &  TRUE\\\\\n",
       "\t Uranus  & Gas giant          &  4.007 &   -0.72 &  TRUE\\\\\n",
       "\t Neptune & Gas giant          &  3.883 &    0.67 &  TRUE\\\\\n",
       "\\end{tabular}\n"
      ],
      "text/markdown": [
       "\n",
       "A data.frame: 8 × 5\n",
       "\n",
       "| planets &lt;fct&gt; | type &lt;fct&gt; | diameter &lt;dbl&gt; | rotation &lt;dbl&gt; | rings &lt;lgl&gt; |\n",
       "|---|---|---|---|---|\n",
       "| Mercury | Terrestrial planet |  0.382 |   58.64 | FALSE |\n",
       "| Venus   | Terrestrial planet |  0.949 | -243.02 | FALSE |\n",
       "| Earth   | Terrestrial planet |  1.000 |    1.00 | FALSE |\n",
       "| Mars    | Terrestrial planet |  0.532 |    1.03 | FALSE |\n",
       "| Jupiter | Gas giant          | 11.209 |    0.41 |  TRUE |\n",
       "| Saturn  | Gas giant          |  9.449 |    0.43 |  TRUE |\n",
       "| Uranus  | Gas giant          |  4.007 |   -0.72 |  TRUE |\n",
       "| Neptune | Gas giant          |  3.883 |    0.67 |  TRUE |\n",
       "\n"
      ],
      "text/plain": [
       "  planets type               diameter rotation rings\n",
       "1 Mercury Terrestrial planet  0.382     58.64  FALSE\n",
       "2 Venus   Terrestrial planet  0.949   -243.02  FALSE\n",
       "3 Earth   Terrestrial planet  1.000      1.00  FALSE\n",
       "4 Mars    Terrestrial planet  0.532      1.03  FALSE\n",
       "5 Jupiter Gas giant          11.209      0.41   TRUE\n",
       "6 Saturn  Gas giant           9.449      0.43   TRUE\n",
       "7 Uranus  Gas giant           4.007     -0.72   TRUE\n",
       "8 Neptune Gas giant           3.883      0.67   TRUE"
      ]
     },
     "metadata": {},
     "output_type": "display_data"
    },
    {
     "name": "stdout",
     "output_type": "stream",
     "text": [
      "'data.frame':\t8 obs. of  5 variables:\n",
      " $ planets : Factor w/ 8 levels \"Earth\",\"Jupiter\",..: 4 8 1 3 2 6 7 5\n",
      " $ type    : Factor w/ 2 levels \"Gas giant\",\"Terrestrial planet\": 2 2 2 2 1 1 1 1\n",
      " $ diameter: num  0.382 0.949 1 0.532 11.209 ...\n",
      " $ rotation: num  58.64 -243.02 1 1.03 0.41 ...\n",
      " $ rings   : logi  FALSE FALSE FALSE FALSE TRUE TRUE ...\n"
     ]
    }
   ],
   "source": [
    "# Definition of vectors\n",
    "planets <- c(\"Mercury\", \"Venus\", \"Earth\", \"Mars\", \"Jupiter\", \"Saturn\", \"Uranus\", \"Neptune\")\n",
    "type <- c(\"Terrestrial planet\", \"Terrestrial planet\", \"Terrestrial planet\", \n",
    "          \"Terrestrial planet\", \"Gas giant\", \"Gas giant\", \"Gas giant\", \"Gas giant\")\n",
    "diameter <- c(0.382, 0.949, 1, 0.532, 11.209, 9.449, 4.007, 3.883)\n",
    "rotation <- c(58.64, -243.02, 1, 1.03, 0.41, 0.43, -0.72, 0.67)\n",
    "rings <- c(FALSE, FALSE, FALSE, FALSE, TRUE, TRUE, TRUE, TRUE)\n",
    "\n",
    "# Create a data frame: planets_df\n",
    "planets_df = data.frame(planets,type,diameter,rotation,rings)\n",
    "planets_df\n",
    "# Display the structure of planets_df\n",
    "str(planets_df)"
   ]
  },
  {
   "cell_type": "code",
   "execution_count": 4,
   "id": "fc04cde7",
   "metadata": {},
   "outputs": [
    {
     "data": {
      "text/html": [
       "<style>\n",
       ".list-inline {list-style: none; margin:0; padding: 0}\n",
       ".list-inline>li {display: inline-block}\n",
       ".list-inline>li:not(:last-child)::after {content: \"\\00b7\"; padding: 0 .5ex}\n",
       "</style>\n",
       "<ol class=list-inline><li>Terrestrial planet</li><li>Terrestrial planet</li><li>Terrestrial planet</li><li>Terrestrial planet</li><li>Gas giant</li><li>Gas giant</li><li>Gas giant</li><li>Gas giant</li></ol>\n",
       "\n",
       "<details>\n",
       "\t<summary style=display:list-item;cursor:pointer>\n",
       "\t\t<strong>Levels</strong>:\n",
       "\t</summary>\n",
       "\t<style>\n",
       "\t.list-inline {list-style: none; margin:0; padding: 0}\n",
       "\t.list-inline>li {display: inline-block}\n",
       "\t.list-inline>li:not(:last-child)::after {content: \"\\00b7\"; padding: 0 .5ex}\n",
       "\t</style>\n",
       "\t<ol class=list-inline><li>'Gas giant'</li><li>'Terrestrial planet'</li></ol>\n",
       "</details>"
      ],
      "text/latex": [
       "\\begin{enumerate*}\n",
       "\\item Terrestrial planet\n",
       "\\item Terrestrial planet\n",
       "\\item Terrestrial planet\n",
       "\\item Terrestrial planet\n",
       "\\item Gas giant\n",
       "\\item Gas giant\n",
       "\\item Gas giant\n",
       "\\item Gas giant\n",
       "\\end{enumerate*}\n",
       "\n",
       "\\emph{Levels}: \\begin{enumerate*}\n",
       "\\item 'Gas giant'\n",
       "\\item 'Terrestrial planet'\n",
       "\\end{enumerate*}\n"
      ],
      "text/markdown": [
       "1. Terrestrial planet\n",
       "2. Terrestrial planet\n",
       "3. Terrestrial planet\n",
       "4. Terrestrial planet\n",
       "5. Gas giant\n",
       "6. Gas giant\n",
       "7. Gas giant\n",
       "8. Gas giant\n",
       "\n",
       "\n",
       "\n",
       "**Levels**: 1. 'Gas giant'\n",
       "2. 'Terrestrial planet'\n",
       "\n",
       "\n"
      ],
      "text/plain": [
       "[1] Terrestrial planet Terrestrial planet Terrestrial planet Terrestrial planet\n",
       "[5] Gas giant          Gas giant          Gas giant          Gas giant         \n",
       "Levels: Gas giant Terrestrial planet"
      ]
     },
     "metadata": {},
     "output_type": "display_data"
    },
    {
     "data": {
      "text/html": [
       "<table class=\"dataframe\">\n",
       "<caption>A data.frame: 8 × 5</caption>\n",
       "<thead>\n",
       "\t<tr><th scope=col>planets</th><th scope=col>type_factor</th><th scope=col>diameter</th><th scope=col>rotation</th><th scope=col>rings</th></tr>\n",
       "\t<tr><th scope=col>&lt;chr&gt;</th><th scope=col>&lt;fct&gt;</th><th scope=col>&lt;dbl&gt;</th><th scope=col>&lt;dbl&gt;</th><th scope=col>&lt;lgl&gt;</th></tr>\n",
       "</thead>\n",
       "<tbody>\n",
       "\t<tr><td>Mercury</td><td>Terrestrial planet</td><td> 0.382</td><td>  58.64</td><td>FALSE</td></tr>\n",
       "\t<tr><td>Venus  </td><td>Terrestrial planet</td><td> 0.949</td><td>-243.02</td><td>FALSE</td></tr>\n",
       "\t<tr><td>Earth  </td><td>Terrestrial planet</td><td> 1.000</td><td>   1.00</td><td>FALSE</td></tr>\n",
       "\t<tr><td>Mars   </td><td>Terrestrial planet</td><td> 0.532</td><td>   1.03</td><td>FALSE</td></tr>\n",
       "\t<tr><td>Jupiter</td><td>Gas giant         </td><td>11.209</td><td>   0.41</td><td> TRUE</td></tr>\n",
       "\t<tr><td>Saturn </td><td>Gas giant         </td><td> 9.449</td><td>   0.43</td><td> TRUE</td></tr>\n",
       "\t<tr><td>Uranus </td><td>Gas giant         </td><td> 4.007</td><td>  -0.72</td><td> TRUE</td></tr>\n",
       "\t<tr><td>Neptune</td><td>Gas giant         </td><td> 3.883</td><td>   0.67</td><td> TRUE</td></tr>\n",
       "</tbody>\n",
       "</table>\n"
      ],
      "text/latex": [
       "A data.frame: 8 × 5\n",
       "\\begin{tabular}{lllll}\n",
       " planets & type\\_factor & diameter & rotation & rings\\\\\n",
       " <chr> & <fct> & <dbl> & <dbl> & <lgl>\\\\\n",
       "\\hline\n",
       "\t Mercury & Terrestrial planet &  0.382 &   58.64 & FALSE\\\\\n",
       "\t Venus   & Terrestrial planet &  0.949 & -243.02 & FALSE\\\\\n",
       "\t Earth   & Terrestrial planet &  1.000 &    1.00 & FALSE\\\\\n",
       "\t Mars    & Terrestrial planet &  0.532 &    1.03 & FALSE\\\\\n",
       "\t Jupiter & Gas giant          & 11.209 &    0.41 &  TRUE\\\\\n",
       "\t Saturn  & Gas giant          &  9.449 &    0.43 &  TRUE\\\\\n",
       "\t Uranus  & Gas giant          &  4.007 &   -0.72 &  TRUE\\\\\n",
       "\t Neptune & Gas giant          &  3.883 &    0.67 &  TRUE\\\\\n",
       "\\end{tabular}\n"
      ],
      "text/markdown": [
       "\n",
       "A data.frame: 8 × 5\n",
       "\n",
       "| planets &lt;chr&gt; | type_factor &lt;fct&gt; | diameter &lt;dbl&gt; | rotation &lt;dbl&gt; | rings &lt;lgl&gt; |\n",
       "|---|---|---|---|---|\n",
       "| Mercury | Terrestrial planet |  0.382 |   58.64 | FALSE |\n",
       "| Venus   | Terrestrial planet |  0.949 | -243.02 | FALSE |\n",
       "| Earth   | Terrestrial planet |  1.000 |    1.00 | FALSE |\n",
       "| Mars    | Terrestrial planet |  0.532 |    1.03 | FALSE |\n",
       "| Jupiter | Gas giant          | 11.209 |    0.41 |  TRUE |\n",
       "| Saturn  | Gas giant          |  9.449 |    0.43 |  TRUE |\n",
       "| Uranus  | Gas giant          |  4.007 |   -0.72 |  TRUE |\n",
       "| Neptune | Gas giant          |  3.883 |    0.67 |  TRUE |\n",
       "\n"
      ],
      "text/plain": [
       "  planets type_factor        diameter rotation rings\n",
       "1 Mercury Terrestrial planet  0.382     58.64  FALSE\n",
       "2 Venus   Terrestrial planet  0.949   -243.02  FALSE\n",
       "3 Earth   Terrestrial planet  1.000      1.00  FALSE\n",
       "4 Mars    Terrestrial planet  0.532      1.03  FALSE\n",
       "5 Jupiter Gas giant          11.209      0.41   TRUE\n",
       "6 Saturn  Gas giant           9.449      0.43   TRUE\n",
       "7 Uranus  Gas giant           4.007     -0.72   TRUE\n",
       "8 Neptune Gas giant           3.883      0.67   TRUE"
      ]
     },
     "metadata": {},
     "output_type": "display_data"
    },
    {
     "name": "stdout",
     "output_type": "stream",
     "text": [
      "'data.frame':\t8 obs. of  5 variables:\n",
      " $ planets    : chr  \"Mercury\" \"Venus\" \"Earth\" \"Mars\" ...\n",
      " $ type_factor: Factor w/ 2 levels \"Gas giant\",\"Terrestrial planet\": 2 2 2 2 1 1 1 1\n",
      " $ diameter   : num  0.382 0.949 1 0.532 11.209 ...\n",
      " $ rotation   : num  58.64 -243.02 1 1.03 0.41 ...\n",
      " $ rings      : logi  FALSE FALSE FALSE FALSE TRUE TRUE ...\n"
     ]
    }
   ],
   "source": [
    "# Definition of vectors\n",
    "planets <- c(\"Mercury\", \"Venus\", \"Earth\", \"Mars\", \"Jupiter\", \"Saturn\", \"Uranus\", \"Neptune\")\n",
    "type <- c(\"Terrestrial planet\", \"Terrestrial planet\", \"Terrestrial planet\", \n",
    "          \"Terrestrial planet\", \"Gas giant\", \"Gas giant\", \"Gas giant\", \"Gas giant\")\n",
    "diameter <- c(0.382, 0.949, 1, 0.532, 11.209, 9.449, 4.007, 3.883)\n",
    "rotation <- c(58.64, -243.02, 1, 1.03, 0.41, 0.43, -0.72, 0.67)\n",
    "rings <- c(FALSE, FALSE, FALSE, FALSE, TRUE, TRUE, TRUE, TRUE)\n",
    "\n",
    "# Encode type as a factor: type_factor\n",
    "type_factor = factor(type)\n",
    "type_factor\n",
    "# Construct planets_df: strings are not converted to factors!\n",
    "planets_df <- data.frame(planets,type_factor,diameter,rotation,rings, stringsAsFactors=FALSE)\n",
    "planets_df\n",
    "# Display the structure of planets_df\n",
    "str(planets_df)"
   ]
  },
  {
   "cell_type": "code",
   "execution_count": 5,
   "id": "c477eb4b",
   "metadata": {},
   "outputs": [
    {
     "data": {
      "text/html": [
       "<table class=\"dataframe\">\n",
       "<caption>A data.frame: 8 × 5</caption>\n",
       "<thead>\n",
       "\t<tr><th scope=col>name</th><th scope=col>type</th><th scope=col>diameter</th><th scope=col>rotation</th><th scope=col>has_rings</th></tr>\n",
       "\t<tr><th scope=col>&lt;chr&gt;</th><th scope=col>&lt;fct&gt;</th><th scope=col>&lt;dbl&gt;</th><th scope=col>&lt;dbl&gt;</th><th scope=col>&lt;lgl&gt;</th></tr>\n",
       "</thead>\n",
       "<tbody>\n",
       "\t<tr><td>Mercury</td><td>Terrestrial planet</td><td> 0.382</td><td>  58.64</td><td>FALSE</td></tr>\n",
       "\t<tr><td>Venus  </td><td>Terrestrial planet</td><td> 0.949</td><td>-243.02</td><td>FALSE</td></tr>\n",
       "\t<tr><td>Earth  </td><td>Terrestrial planet</td><td> 1.000</td><td>   1.00</td><td>FALSE</td></tr>\n",
       "\t<tr><td>Mars   </td><td>Terrestrial planet</td><td> 0.532</td><td>   1.03</td><td>FALSE</td></tr>\n",
       "\t<tr><td>Jupiter</td><td>Gas giant         </td><td>11.209</td><td>   0.41</td><td> TRUE</td></tr>\n",
       "\t<tr><td>Saturn </td><td>Gas giant         </td><td> 9.449</td><td>   0.43</td><td> TRUE</td></tr>\n",
       "\t<tr><td>Uranus </td><td>Gas giant         </td><td> 4.007</td><td>  -0.72</td><td> TRUE</td></tr>\n",
       "\t<tr><td>Neptune</td><td>Gas giant         </td><td> 3.883</td><td>   0.67</td><td> TRUE</td></tr>\n",
       "</tbody>\n",
       "</table>\n"
      ],
      "text/latex": [
       "A data.frame: 8 × 5\n",
       "\\begin{tabular}{lllll}\n",
       " name & type & diameter & rotation & has\\_rings\\\\\n",
       " <chr> & <fct> & <dbl> & <dbl> & <lgl>\\\\\n",
       "\\hline\n",
       "\t Mercury & Terrestrial planet &  0.382 &   58.64 & FALSE\\\\\n",
       "\t Venus   & Terrestrial planet &  0.949 & -243.02 & FALSE\\\\\n",
       "\t Earth   & Terrestrial planet &  1.000 &    1.00 & FALSE\\\\\n",
       "\t Mars    & Terrestrial planet &  0.532 &    1.03 & FALSE\\\\\n",
       "\t Jupiter & Gas giant          & 11.209 &    0.41 &  TRUE\\\\\n",
       "\t Saturn  & Gas giant          &  9.449 &    0.43 &  TRUE\\\\\n",
       "\t Uranus  & Gas giant          &  4.007 &   -0.72 &  TRUE\\\\\n",
       "\t Neptune & Gas giant          &  3.883 &    0.67 &  TRUE\\\\\n",
       "\\end{tabular}\n"
      ],
      "text/markdown": [
       "\n",
       "A data.frame: 8 × 5\n",
       "\n",
       "| name &lt;chr&gt; | type &lt;fct&gt; | diameter &lt;dbl&gt; | rotation &lt;dbl&gt; | has_rings &lt;lgl&gt; |\n",
       "|---|---|---|---|---|\n",
       "| Mercury | Terrestrial planet |  0.382 |   58.64 | FALSE |\n",
       "| Venus   | Terrestrial planet |  0.949 | -243.02 | FALSE |\n",
       "| Earth   | Terrestrial planet |  1.000 |    1.00 | FALSE |\n",
       "| Mars    | Terrestrial planet |  0.532 |    1.03 | FALSE |\n",
       "| Jupiter | Gas giant          | 11.209 |    0.41 |  TRUE |\n",
       "| Saturn  | Gas giant          |  9.449 |    0.43 |  TRUE |\n",
       "| Uranus  | Gas giant          |  4.007 |   -0.72 |  TRUE |\n",
       "| Neptune | Gas giant          |  3.883 |    0.67 |  TRUE |\n",
       "\n"
      ],
      "text/plain": [
       "  name    type               diameter rotation has_rings\n",
       "1 Mercury Terrestrial planet  0.382     58.64  FALSE    \n",
       "2 Venus   Terrestrial planet  0.949   -243.02  FALSE    \n",
       "3 Earth   Terrestrial planet  1.000      1.00  FALSE    \n",
       "4 Mars    Terrestrial planet  0.532      1.03  FALSE    \n",
       "5 Jupiter Gas giant          11.209      0.41   TRUE    \n",
       "6 Saturn  Gas giant           9.449      0.43   TRUE    \n",
       "7 Uranus  Gas giant           4.007     -0.72   TRUE    \n",
       "8 Neptune Gas giant           3.883      0.67   TRUE    "
      ]
     },
     "metadata": {},
     "output_type": "display_data"
    }
   ],
   "source": [
    "# Construct improved planets_df\n",
    "planets <- c(\"Mercury\", \"Venus\", \"Earth\", \"Mars\", \"Jupiter\", \"Saturn\", \"Uranus\", \"Neptune\")\n",
    "type <- c(\"Terrestrial planet\", \"Terrestrial planet\", \"Terrestrial planet\", \n",
    "          \"Terrestrial planet\", \"Gas giant\", \"Gas giant\", \"Gas giant\", \"Gas giant\")\n",
    "diameter <- c(0.382, 0.949, 1, 0.532, 11.209, 9.449, 4.007, 3.883)\n",
    "rotation <- c(58.64, -243.02, 1, 1.03, 0.41, 0.43, -0.72, 0.67)\n",
    "rings <- c(FALSE, FALSE, FALSE, FALSE, TRUE, TRUE, TRUE, TRUE)\n",
    "type_factor <- factor(type)\n",
    "planets_df <- data.frame(planets, type_factor, diameter, rotation, rings, stringsAsFactors = FALSE)\n",
    "\n",
    "# Improve the names of planets_df\n",
    "names(planets_df)= c(\"name\", \"type\", \"diameter\", \"rotation\", \"has_rings\")\n",
    "\n",
    "planets_df"
   ]
  },
  {
   "cell_type": "code",
   "execution_count": 7,
   "id": "8bc08ccc",
   "metadata": {},
   "outputs": [],
   "source": [
    "countries <-c(\"Canada\", \"United States\", \"France\", \"Belgium\", \"India\", \"China\", \"United Kingdom\", \"Russia\")\n",
    "continents <-c(\"North-America\", \"North-America\", \"Europe\", \"Europe\", \"Asia\", \"Asia\", \"Europe\", \"Asia\")\n",
    "gdp <- c(44843, 54596, 44538, 47787, 1808, 8154, 45653, 8184)\n",
    "hdi <- c(0.902, 0.914, 0.884, 0.881, 0.586, 0.719, 0.892, 0.778)\n",
    "president <- c(F, T, T, F, T, T, F, T)"
   ]
  },
  {
   "cell_type": "code",
   "execution_count": 8,
   "id": "901e72d2",
   "metadata": {},
   "outputs": [
    {
     "name": "stdout",
     "output_type": "stream",
     "text": [
      "'data.frame':\t8 obs. of  5 variables:\n",
      " $ countries        : chr  \"Canada\" \"United States\" \"France\" \"Belgium\" ...\n",
      " $ continents_factor: Factor w/ 3 levels \"Asia\",\"Europe\",..: 3 3 2 2 1 1 2 1\n",
      " $ gdp              : num  44843 54596 44538 47787 1808 ...\n",
      " $ hdi              : num  0.902 0.914 0.884 0.881 0.586 0.719 0.892 0.778\n",
      " $ president        : logi  FALSE TRUE TRUE FALSE TRUE TRUE ...\n"
     ]
    }
   ],
   "source": [
    "# Convert continents to factor: continents_factor\n",
    "continents_factor=factor(continents)\n",
    "\n",
    "# Create countries_df with the appropriate column names\n",
    "countries_df=data.frame(countries,continents_factor,gdp,hdi,president,stringsAsFactors=FALSE)\n",
    "\n",
    "# Display the structure of countries_df\n",
    "str(countries_df)"
   ]
  },
  {
   "cell_type": "code",
   "execution_count": 9,
   "id": "80add486",
   "metadata": {},
   "outputs": [
    {
     "data": {
      "text/html": [
       "<table class=\"dataframe\">\n",
       "<caption>A data.frame: 8 × 5</caption>\n",
       "<thead>\n",
       "\t<tr><th scope=col>name</th><th scope=col>type</th><th scope=col>diameter</th><th scope=col>rotation</th><th scope=col>has_rings</th></tr>\n",
       "\t<tr><th scope=col>&lt;chr&gt;</th><th scope=col>&lt;fct&gt;</th><th scope=col>&lt;dbl&gt;</th><th scope=col>&lt;dbl&gt;</th><th scope=col>&lt;lgl&gt;</th></tr>\n",
       "</thead>\n",
       "<tbody>\n",
       "\t<tr><td>Mercury</td><td>Terrestrial planet</td><td> 0.382</td><td>  58.64</td><td>FALSE</td></tr>\n",
       "\t<tr><td>Venus  </td><td>Terrestrial planet</td><td> 0.949</td><td>-243.02</td><td>FALSE</td></tr>\n",
       "\t<tr><td>Earth  </td><td>Terrestrial planet</td><td> 1.000</td><td>   1.00</td><td>FALSE</td></tr>\n",
       "\t<tr><td>Mars   </td><td>Terrestrial planet</td><td> 0.532</td><td>   1.03</td><td>FALSE</td></tr>\n",
       "\t<tr><td>Jupiter</td><td>Gas giant         </td><td>11.209</td><td>   0.41</td><td> TRUE</td></tr>\n",
       "\t<tr><td>Saturn </td><td>Gas giant         </td><td> 9.449</td><td>   0.43</td><td> TRUE</td></tr>\n",
       "\t<tr><td>Uranus </td><td>Gas giant         </td><td> 4.007</td><td>  -0.72</td><td> TRUE</td></tr>\n",
       "\t<tr><td>Neptune</td><td>Gas giant         </td><td> 3.883</td><td>   0.67</td><td> TRUE</td></tr>\n",
       "</tbody>\n",
       "</table>\n"
      ],
      "text/latex": [
       "A data.frame: 8 × 5\n",
       "\\begin{tabular}{lllll}\n",
       " name & type & diameter & rotation & has\\_rings\\\\\n",
       " <chr> & <fct> & <dbl> & <dbl> & <lgl>\\\\\n",
       "\\hline\n",
       "\t Mercury & Terrestrial planet &  0.382 &   58.64 & FALSE\\\\\n",
       "\t Venus   & Terrestrial planet &  0.949 & -243.02 & FALSE\\\\\n",
       "\t Earth   & Terrestrial planet &  1.000 &    1.00 & FALSE\\\\\n",
       "\t Mars    & Terrestrial planet &  0.532 &    1.03 & FALSE\\\\\n",
       "\t Jupiter & Gas giant          & 11.209 &    0.41 &  TRUE\\\\\n",
       "\t Saturn  & Gas giant          &  9.449 &    0.43 &  TRUE\\\\\n",
       "\t Uranus  & Gas giant          &  4.007 &   -0.72 &  TRUE\\\\\n",
       "\t Neptune & Gas giant          &  3.883 &    0.67 &  TRUE\\\\\n",
       "\\end{tabular}\n"
      ],
      "text/markdown": [
       "\n",
       "A data.frame: 8 × 5\n",
       "\n",
       "| name &lt;chr&gt; | type &lt;fct&gt; | diameter &lt;dbl&gt; | rotation &lt;dbl&gt; | has_rings &lt;lgl&gt; |\n",
       "|---|---|---|---|---|\n",
       "| Mercury | Terrestrial planet |  0.382 |   58.64 | FALSE |\n",
       "| Venus   | Terrestrial planet |  0.949 | -243.02 | FALSE |\n",
       "| Earth   | Terrestrial planet |  1.000 |    1.00 | FALSE |\n",
       "| Mars    | Terrestrial planet |  0.532 |    1.03 | FALSE |\n",
       "| Jupiter | Gas giant          | 11.209 |    0.41 |  TRUE |\n",
       "| Saturn  | Gas giant          |  9.449 |    0.43 |  TRUE |\n",
       "| Uranus  | Gas giant          |  4.007 |   -0.72 |  TRUE |\n",
       "| Neptune | Gas giant          |  3.883 |    0.67 |  TRUE |\n",
       "\n"
      ],
      "text/plain": [
       "  name    type               diameter rotation has_rings\n",
       "1 Mercury Terrestrial planet  0.382     58.64  FALSE    \n",
       "2 Venus   Terrestrial planet  0.949   -243.02  FALSE    \n",
       "3 Earth   Terrestrial planet  1.000      1.00  FALSE    \n",
       "4 Mars    Terrestrial planet  0.532      1.03  FALSE    \n",
       "5 Jupiter Gas giant          11.209      0.41   TRUE    \n",
       "6 Saturn  Gas giant           9.449      0.43   TRUE    \n",
       "7 Uranus  Gas giant           4.007     -0.72   TRUE    \n",
       "8 Neptune Gas giant           3.883      0.67   TRUE    "
      ]
     },
     "metadata": {},
     "output_type": "display_data"
    },
    {
     "data": {
      "text/html": [
       "Terrestrial planet\n",
       "<details>\n",
       "\t<summary style=display:list-item;cursor:pointer>\n",
       "\t\t<strong>Levels</strong>:\n",
       "\t</summary>\n",
       "\t<style>\n",
       "\t.list-inline {list-style: none; margin:0; padding: 0}\n",
       "\t.list-inline>li {display: inline-block}\n",
       "\t.list-inline>li:not(:last-child)::after {content: \"\\00b7\"; padding: 0 .5ex}\n",
       "\t</style>\n",
       "\t<ol class=list-inline><li>'Gas giant'</li><li>'Terrestrial planet'</li></ol>\n",
       "</details>"
      ],
      "text/latex": [
       "Terrestrial planet\n",
       "\\emph{Levels}: \\begin{enumerate*}\n",
       "\\item 'Gas giant'\n",
       "\\item 'Terrestrial planet'\n",
       "\\end{enumerate*}\n"
      ],
      "text/markdown": [
       "Terrestrial planet\n",
       "**Levels**: 1. 'Gas giant'\n",
       "2. 'Terrestrial planet'\n",
       "\n",
       "\n"
      ],
      "text/plain": [
       "[1] Terrestrial planet\n",
       "Levels: Gas giant Terrestrial planet"
      ]
     },
     "metadata": {},
     "output_type": "display_data"
    },
    {
     "data": {
      "text/html": [
       "<style>\n",
       ".list-inline {list-style: none; margin:0; padding: 0}\n",
       ".list-inline>li {display: inline-block}\n",
       ".list-inline>li:not(:last-child)::after {content: \"\\00b7\"; padding: 0 .5ex}\n",
       "</style>\n",
       "<ol class=list-inline><li>58.64</li><li>-243.02</li><li>1</li><li>1.03</li><li>0.41</li><li>0.43</li><li>-0.72</li><li>0.67</li></ol>\n"
      ],
      "text/latex": [
       "\\begin{enumerate*}\n",
       "\\item 58.64\n",
       "\\item -243.02\n",
       "\\item 1\n",
       "\\item 1.03\n",
       "\\item 0.41\n",
       "\\item 0.43\n",
       "\\item -0.72\n",
       "\\item 0.67\n",
       "\\end{enumerate*}\n"
      ],
      "text/markdown": [
       "1. 58.64\n",
       "2. -243.02\n",
       "3. 1\n",
       "4. 1.03\n",
       "5. 0.41\n",
       "6. 0.43\n",
       "7. -0.72\n",
       "8. 0.67\n",
       "\n",
       "\n"
      ],
      "text/plain": [
       "[1]   58.64 -243.02    1.00    1.03    0.41    0.43   -0.72    0.67"
      ]
     },
     "metadata": {},
     "output_type": "display_data"
    },
    {
     "data": {
      "text/html": [
       "<table class=\"dataframe\">\n",
       "<caption>A data.frame: 3 × 5</caption>\n",
       "<thead>\n",
       "\t<tr><th></th><th scope=col>name</th><th scope=col>type</th><th scope=col>diameter</th><th scope=col>rotation</th><th scope=col>has_rings</th></tr>\n",
       "\t<tr><th></th><th scope=col>&lt;chr&gt;</th><th scope=col>&lt;fct&gt;</th><th scope=col>&lt;dbl&gt;</th><th scope=col>&lt;dbl&gt;</th><th scope=col>&lt;lgl&gt;</th></tr>\n",
       "</thead>\n",
       "<tbody>\n",
       "\t<tr><th scope=row>1</th><td>Mercury</td><td>Terrestrial planet</td><td>0.382</td><td>  58.64</td><td>FALSE</td></tr>\n",
       "\t<tr><th scope=row>2</th><td>Venus  </td><td>Terrestrial planet</td><td>0.949</td><td>-243.02</td><td>FALSE</td></tr>\n",
       "\t<tr><th scope=row>3</th><td>Earth  </td><td>Terrestrial planet</td><td>1.000</td><td>   1.00</td><td>FALSE</td></tr>\n",
       "</tbody>\n",
       "</table>\n"
      ],
      "text/latex": [
       "A data.frame: 3 × 5\n",
       "\\begin{tabular}{r|lllll}\n",
       "  & name & type & diameter & rotation & has\\_rings\\\\\n",
       "  & <chr> & <fct> & <dbl> & <dbl> & <lgl>\\\\\n",
       "\\hline\n",
       "\t1 & Mercury & Terrestrial planet & 0.382 &   58.64 & FALSE\\\\\n",
       "\t2 & Venus   & Terrestrial planet & 0.949 & -243.02 & FALSE\\\\\n",
       "\t3 & Earth   & Terrestrial planet & 1.000 &    1.00 & FALSE\\\\\n",
       "\\end{tabular}\n"
      ],
      "text/markdown": [
       "\n",
       "A data.frame: 3 × 5\n",
       "\n",
       "| <!--/--> | name &lt;chr&gt; | type &lt;fct&gt; | diameter &lt;dbl&gt; | rotation &lt;dbl&gt; | has_rings &lt;lgl&gt; |\n",
       "|---|---|---|---|---|---|\n",
       "| 1 | Mercury | Terrestrial planet | 0.382 |   58.64 | FALSE |\n",
       "| 2 | Venus   | Terrestrial planet | 0.949 | -243.02 | FALSE |\n",
       "| 3 | Earth   | Terrestrial planet | 1.000 |    1.00 | FALSE |\n",
       "\n"
      ],
      "text/plain": [
       "  name    type               diameter rotation has_rings\n",
       "1 Mercury Terrestrial planet 0.382      58.64  FALSE    \n",
       "2 Venus   Terrestrial planet 0.949    -243.02  FALSE    \n",
       "3 Earth   Terrestrial planet 1.000       1.00  FALSE    "
      ]
     },
     "metadata": {},
     "output_type": "display_data"
    },
    {
     "data": {
      "text/html": [
       "<table class=\"dataframe\">\n",
       "<caption>A data.frame: 3 × 5</caption>\n",
       "<thead>\n",
       "\t<tr><th></th><th scope=col>name</th><th scope=col>type</th><th scope=col>diameter</th><th scope=col>rotation</th><th scope=col>has_rings</th></tr>\n",
       "\t<tr><th></th><th scope=col>&lt;chr&gt;</th><th scope=col>&lt;fct&gt;</th><th scope=col>&lt;dbl&gt;</th><th scope=col>&lt;dbl&gt;</th><th scope=col>&lt;lgl&gt;</th></tr>\n",
       "</thead>\n",
       "<tbody>\n",
       "\t<tr><th scope=row>6</th><td>Saturn </td><td>Gas giant</td><td>9.449</td><td> 0.43</td><td>TRUE</td></tr>\n",
       "\t<tr><th scope=row>7</th><td>Uranus </td><td>Gas giant</td><td>4.007</td><td>-0.72</td><td>TRUE</td></tr>\n",
       "\t<tr><th scope=row>8</th><td>Neptune</td><td>Gas giant</td><td>3.883</td><td> 0.67</td><td>TRUE</td></tr>\n",
       "</tbody>\n",
       "</table>\n"
      ],
      "text/latex": [
       "A data.frame: 3 × 5\n",
       "\\begin{tabular}{r|lllll}\n",
       "  & name & type & diameter & rotation & has\\_rings\\\\\n",
       "  & <chr> & <fct> & <dbl> & <dbl> & <lgl>\\\\\n",
       "\\hline\n",
       "\t6 & Saturn  & Gas giant & 9.449 &  0.43 & TRUE\\\\\n",
       "\t7 & Uranus  & Gas giant & 4.007 & -0.72 & TRUE\\\\\n",
       "\t8 & Neptune & Gas giant & 3.883 &  0.67 & TRUE\\\\\n",
       "\\end{tabular}\n"
      ],
      "text/markdown": [
       "\n",
       "A data.frame: 3 × 5\n",
       "\n",
       "| <!--/--> | name &lt;chr&gt; | type &lt;fct&gt; | diameter &lt;dbl&gt; | rotation &lt;dbl&gt; | has_rings &lt;lgl&gt; |\n",
       "|---|---|---|---|---|---|\n",
       "| 6 | Saturn  | Gas giant | 9.449 |  0.43 | TRUE |\n",
       "| 7 | Uranus  | Gas giant | 4.007 | -0.72 | TRUE |\n",
       "| 8 | Neptune | Gas giant | 3.883 |  0.67 | TRUE |\n",
       "\n"
      ],
      "text/plain": [
       "  name    type      diameter rotation has_rings\n",
       "6 Saturn  Gas giant 9.449     0.43    TRUE     \n",
       "7 Uranus  Gas giant 4.007    -0.72    TRUE     \n",
       "8 Neptune Gas giant 3.883     0.67    TRUE     "
      ]
     },
     "metadata": {},
     "output_type": "display_data"
    }
   ],
   "source": [
    "# planets_df is pre-loaded\n",
    "planets_df\n",
    "# The type of Mars: mars_type\n",
    "mars_type <- planets_df[4,2]\n",
    "mars_type\n",
    "# Entire rotation column: rotation\n",
    "rotation <- planets_df[,4]\n",
    "rotation\n",
    "\n",
    "# First three planets: closest_planets_df\n",
    "closest_planets_df <- planets_df[1:3,]\n",
    "closest_planets_df \n",
    "# Last three planets: furthest_planets_df\n",
    "furthest_planets_df <- planets_df[6:8,]\n",
    "furthest_planets_df"
   ]
  },
  {
   "cell_type": "code",
   "execution_count": 10,
   "id": "017ffcad",
   "metadata": {},
   "outputs": [
    {
     "data": {
      "text/html": [
       "<table class=\"dataframe\">\n",
       "<caption>A data.frame: 1 × 2</caption>\n",
       "<thead>\n",
       "\t<tr><th></th><th scope=col>diameter</th><th scope=col>rotation</th></tr>\n",
       "\t<tr><th></th><th scope=col>&lt;dbl&gt;</th><th scope=col>&lt;dbl&gt;</th></tr>\n",
       "</thead>\n",
       "<tbody>\n",
       "\t<tr><th scope=row>3</th><td>1</td><td>1</td></tr>\n",
       "</tbody>\n",
       "</table>\n"
      ],
      "text/latex": [
       "A data.frame: 1 × 2\n",
       "\\begin{tabular}{r|ll}\n",
       "  & diameter & rotation\\\\\n",
       "  & <dbl> & <dbl>\\\\\n",
       "\\hline\n",
       "\t3 & 1 & 1\\\\\n",
       "\\end{tabular}\n"
      ],
      "text/markdown": [
       "\n",
       "A data.frame: 1 × 2\n",
       "\n",
       "| <!--/--> | diameter &lt;dbl&gt; | rotation &lt;dbl&gt; |\n",
       "|---|---|---|\n",
       "| 3 | 1 | 1 |\n",
       "\n"
      ],
      "text/plain": [
       "  diameter rotation\n",
       "3 1        1       "
      ]
     },
     "metadata": {},
     "output_type": "display_data"
    },
    {
     "data": {
      "text/html": [
       "<style>\n",
       ".list-inline {list-style: none; margin:0; padding: 0}\n",
       ".list-inline>li {display: inline-block}\n",
       ".list-inline>li:not(:last-child)::after {content: \"\\00b7\"; padding: 0 .5ex}\n",
       "</style>\n",
       "<ol class=list-inline><li>1</li><li>0.532</li><li>11.209</li><li>9.449</li><li>4.007</li><li>3.883</li></ol>\n"
      ],
      "text/latex": [
       "\\begin{enumerate*}\n",
       "\\item 1\n",
       "\\item 0.532\n",
       "\\item 11.209\n",
       "\\item 9.449\n",
       "\\item 4.007\n",
       "\\item 3.883\n",
       "\\end{enumerate*}\n"
      ],
      "text/markdown": [
       "1. 1\n",
       "2. 0.532\n",
       "3. 11.209\n",
       "4. 9.449\n",
       "5. 4.007\n",
       "6. 3.883\n",
       "\n",
       "\n"
      ],
      "text/plain": [
       "[1]  1.000  0.532 11.209  9.449  4.007  3.883"
      ]
     },
     "metadata": {},
     "output_type": "display_data"
    }
   ],
   "source": [
    "# planets_df is pre-loaded\n",
    "\n",
    "# Diameter and rotation for Earth: earth_data \n",
    "earth_data = planets_df[3,3:4]\n",
    "earth_data\n",
    "# Diameter for the last six rows: furthest_planets_diameter\n",
    "furthest_planets_diameter = planets_df[3:8,3]\n",
    "\n",
    "# Print furthest_planets_diameter\n",
    "furthest_planets_diameter"
   ]
  },
  {
   "cell_type": "code",
   "execution_count": 11,
   "id": "a1329712",
   "metadata": {},
   "outputs": [
    {
     "data": {
      "text/html": [
       "<style>\n",
       ".list-inline {list-style: none; margin:0; padding: 0}\n",
       ".list-inline>li {display: inline-block}\n",
       ".list-inline>li:not(:last-child)::after {content: \"\\00b7\"; padding: 0 .5ex}\n",
       "</style>\n",
       "<ol class=list-inline><li>FALSE</li><li>FALSE</li><li>FALSE</li><li>FALSE</li><li>TRUE</li><li>TRUE</li><li>TRUE</li><li>TRUE</li></ol>\n"
      ],
      "text/latex": [
       "\\begin{enumerate*}\n",
       "\\item FALSE\n",
       "\\item FALSE\n",
       "\\item FALSE\n",
       "\\item FALSE\n",
       "\\item TRUE\n",
       "\\item TRUE\n",
       "\\item TRUE\n",
       "\\item TRUE\n",
       "\\end{enumerate*}\n"
      ],
      "text/markdown": [
       "1. FALSE\n",
       "2. FALSE\n",
       "3. FALSE\n",
       "4. FALSE\n",
       "5. TRUE\n",
       "6. TRUE\n",
       "7. TRUE\n",
       "8. TRUE\n",
       "\n",
       "\n"
      ],
      "text/plain": [
       "[1] FALSE FALSE FALSE FALSE  TRUE  TRUE  TRUE  TRUE"
      ]
     },
     "metadata": {},
     "output_type": "display_data"
    }
   ],
   "source": [
    "# planets_df is pre-loaded in your workspace\n",
    "\n",
    "# Create rings_vector\n",
    "rings_vector = planets_df[,\"has_rings\"]\n",
    "\n",
    "# Print rings_vector\n",
    "rings_vector"
   ]
  },
  {
   "cell_type": "code",
   "execution_count": 12,
   "id": "4dd2a8bb",
   "metadata": {},
   "outputs": [
    {
     "data": {
      "text/html": [
       "<table class=\"dataframe\">\n",
       "<caption>A data.frame: 4 × 5</caption>\n",
       "<thead>\n",
       "\t<tr><th></th><th scope=col>name</th><th scope=col>type</th><th scope=col>diameter</th><th scope=col>rotation</th><th scope=col>has_rings</th></tr>\n",
       "\t<tr><th></th><th scope=col>&lt;chr&gt;</th><th scope=col>&lt;fct&gt;</th><th scope=col>&lt;dbl&gt;</th><th scope=col>&lt;dbl&gt;</th><th scope=col>&lt;lgl&gt;</th></tr>\n",
       "</thead>\n",
       "<tbody>\n",
       "\t<tr><th scope=row>5</th><td>Jupiter</td><td>Gas giant</td><td>11.209</td><td> 0.41</td><td>TRUE</td></tr>\n",
       "\t<tr><th scope=row>6</th><td>Saturn </td><td>Gas giant</td><td> 9.449</td><td> 0.43</td><td>TRUE</td></tr>\n",
       "\t<tr><th scope=row>7</th><td>Uranus </td><td>Gas giant</td><td> 4.007</td><td>-0.72</td><td>TRUE</td></tr>\n",
       "\t<tr><th scope=row>8</th><td>Neptune</td><td>Gas giant</td><td> 3.883</td><td> 0.67</td><td>TRUE</td></tr>\n",
       "</tbody>\n",
       "</table>\n"
      ],
      "text/latex": [
       "A data.frame: 4 × 5\n",
       "\\begin{tabular}{r|lllll}\n",
       "  & name & type & diameter & rotation & has\\_rings\\\\\n",
       "  & <chr> & <fct> & <dbl> & <dbl> & <lgl>\\\\\n",
       "\\hline\n",
       "\t5 & Jupiter & Gas giant & 11.209 &  0.41 & TRUE\\\\\n",
       "\t6 & Saturn  & Gas giant &  9.449 &  0.43 & TRUE\\\\\n",
       "\t7 & Uranus  & Gas giant &  4.007 & -0.72 & TRUE\\\\\n",
       "\t8 & Neptune & Gas giant &  3.883 &  0.67 & TRUE\\\\\n",
       "\\end{tabular}\n"
      ],
      "text/markdown": [
       "\n",
       "A data.frame: 4 × 5\n",
       "\n",
       "| <!--/--> | name &lt;chr&gt; | type &lt;fct&gt; | diameter &lt;dbl&gt; | rotation &lt;dbl&gt; | has_rings &lt;lgl&gt; |\n",
       "|---|---|---|---|---|---|\n",
       "| 5 | Jupiter | Gas giant | 11.209 |  0.41 | TRUE |\n",
       "| 6 | Saturn  | Gas giant |  9.449 |  0.43 | TRUE |\n",
       "| 7 | Uranus  | Gas giant |  4.007 | -0.72 | TRUE |\n",
       "| 8 | Neptune | Gas giant |  3.883 |  0.67 | TRUE |\n",
       "\n"
      ],
      "text/plain": [
       "  name    type      diameter rotation has_rings\n",
       "5 Jupiter Gas giant 11.209    0.41    TRUE     \n",
       "6 Saturn  Gas giant  9.449    0.43    TRUE     \n",
       "7 Uranus  Gas giant  4.007   -0.72    TRUE     \n",
       "8 Neptune Gas giant  3.883    0.67    TRUE     "
      ]
     },
     "metadata": {},
     "output_type": "display_data"
    }
   ],
   "source": [
    "# planets_df pre-loaded in your workspace\n",
    "\n",
    "# Create rings_vector\n",
    "rings_vector <- planets_df$has_rings\n",
    "\n",
    "# Select the information on planets with rings: planets_with_rings_df\n",
    "planets_with_rings_df = planets_df[rings_vector,]\n",
    "planets_with_rings_df"
   ]
  },
  {
   "cell_type": "code",
   "execution_count": 13,
   "id": "077027b8",
   "metadata": {},
   "outputs": [
    {
     "data": {
      "text/html": [
       "<table class=\"dataframe\">\n",
       "<caption>A data.frame: 3 × 5</caption>\n",
       "<thead>\n",
       "\t<tr><th></th><th scope=col>name</th><th scope=col>type</th><th scope=col>diameter</th><th scope=col>rotation</th><th scope=col>has_rings</th></tr>\n",
       "\t<tr><th></th><th scope=col>&lt;chr&gt;</th><th scope=col>&lt;fct&gt;</th><th scope=col>&lt;dbl&gt;</th><th scope=col>&lt;dbl&gt;</th><th scope=col>&lt;lgl&gt;</th></tr>\n",
       "</thead>\n",
       "<tbody>\n",
       "\t<tr><th scope=row>1</th><td>Mercury</td><td>Terrestrial planet</td><td>0.382</td><td>  58.64</td><td>FALSE</td></tr>\n",
       "\t<tr><th scope=row>2</th><td>Venus  </td><td>Terrestrial planet</td><td>0.949</td><td>-243.02</td><td>FALSE</td></tr>\n",
       "\t<tr><th scope=row>4</th><td>Mars   </td><td>Terrestrial planet</td><td>0.532</td><td>   1.03</td><td>FALSE</td></tr>\n",
       "</tbody>\n",
       "</table>\n"
      ],
      "text/latex": [
       "A data.frame: 3 × 5\n",
       "\\begin{tabular}{r|lllll}\n",
       "  & name & type & diameter & rotation & has\\_rings\\\\\n",
       "  & <chr> & <fct> & <dbl> & <dbl> & <lgl>\\\\\n",
       "\\hline\n",
       "\t1 & Mercury & Terrestrial planet & 0.382 &   58.64 & FALSE\\\\\n",
       "\t2 & Venus   & Terrestrial planet & 0.949 & -243.02 & FALSE\\\\\n",
       "\t4 & Mars    & Terrestrial planet & 0.532 &    1.03 & FALSE\\\\\n",
       "\\end{tabular}\n"
      ],
      "text/markdown": [
       "\n",
       "A data.frame: 3 × 5\n",
       "\n",
       "| <!--/--> | name &lt;chr&gt; | type &lt;fct&gt; | diameter &lt;dbl&gt; | rotation &lt;dbl&gt; | has_rings &lt;lgl&gt; |\n",
       "|---|---|---|---|---|---|\n",
       "| 1 | Mercury | Terrestrial planet | 0.382 |   58.64 | FALSE |\n",
       "| 2 | Venus   | Terrestrial planet | 0.949 | -243.02 | FALSE |\n",
       "| 4 | Mars    | Terrestrial planet | 0.532 |    1.03 | FALSE |\n",
       "\n"
      ],
      "text/plain": [
       "  name    type               diameter rotation has_rings\n",
       "1 Mercury Terrestrial planet 0.382      58.64  FALSE    \n",
       "2 Venus   Terrestrial planet 0.949    -243.02  FALSE    \n",
       "4 Mars    Terrestrial planet 0.532       1.03  FALSE    "
      ]
     },
     "metadata": {},
     "output_type": "display_data"
    },
    {
     "data": {
      "text/html": [
       "<table class=\"dataframe\">\n",
       "<caption>A data.frame: 3 × 5</caption>\n",
       "<thead>\n",
       "\t<tr><th></th><th scope=col>name</th><th scope=col>type</th><th scope=col>diameter</th><th scope=col>rotation</th><th scope=col>has_rings</th></tr>\n",
       "\t<tr><th></th><th scope=col>&lt;chr&gt;</th><th scope=col>&lt;fct&gt;</th><th scope=col>&lt;dbl&gt;</th><th scope=col>&lt;dbl&gt;</th><th scope=col>&lt;lgl&gt;</th></tr>\n",
       "</thead>\n",
       "<tbody>\n",
       "\t<tr><th scope=row>1</th><td>Mercury</td><td>Terrestrial planet</td><td>0.382</td><td>  58.64</td><td>FALSE</td></tr>\n",
       "\t<tr><th scope=row>2</th><td>Venus  </td><td>Terrestrial planet</td><td>0.949</td><td>-243.02</td><td>FALSE</td></tr>\n",
       "\t<tr><th scope=row>4</th><td>Mars   </td><td>Terrestrial planet</td><td>0.532</td><td>   1.03</td><td>FALSE</td></tr>\n",
       "</tbody>\n",
       "</table>\n"
      ],
      "text/latex": [
       "A data.frame: 3 × 5\n",
       "\\begin{tabular}{r|lllll}\n",
       "  & name & type & diameter & rotation & has\\_rings\\\\\n",
       "  & <chr> & <fct> & <dbl> & <dbl> & <lgl>\\\\\n",
       "\\hline\n",
       "\t1 & Mercury & Terrestrial planet & 0.382 &   58.64 & FALSE\\\\\n",
       "\t2 & Venus   & Terrestrial planet & 0.949 & -243.02 & FALSE\\\\\n",
       "\t4 & Mars    & Terrestrial planet & 0.532 &    1.03 & FALSE\\\\\n",
       "\\end{tabular}\n"
      ],
      "text/markdown": [
       "\n",
       "A data.frame: 3 × 5\n",
       "\n",
       "| <!--/--> | name &lt;chr&gt; | type &lt;fct&gt; | diameter &lt;dbl&gt; | rotation &lt;dbl&gt; | has_rings &lt;lgl&gt; |\n",
       "|---|---|---|---|---|---|\n",
       "| 1 | Mercury | Terrestrial planet | 0.382 |   58.64 | FALSE |\n",
       "| 2 | Venus   | Terrestrial planet | 0.949 | -243.02 | FALSE |\n",
       "| 4 | Mars    | Terrestrial planet | 0.532 |    1.03 | FALSE |\n",
       "\n"
      ],
      "text/plain": [
       "  name    type               diameter rotation has_rings\n",
       "1 Mercury Terrestrial planet 0.382      58.64  FALSE    \n",
       "2 Venus   Terrestrial planet 0.949    -243.02  FALSE    \n",
       "4 Mars    Terrestrial planet 0.532       1.03  FALSE    "
      ]
     },
     "metadata": {},
     "output_type": "display_data"
    }
   ],
   "source": [
    "# planets_df is pre-loaded in your workspace\n",
    "\n",
    "# Planets that are smaller than planet Earth: small_planets_df\n",
    "small_planets_df=subset(planets_df, subset = diameter<1)\n",
    "small_planets_df\n",
    "# Planets that rotate slower than planet Earth: slow_planets_df\n",
    "slow_planets_df=subset(planets_df, subset = abs(rotation)>1)\n",
    "slow_planets_df"
   ]
  },
  {
   "cell_type": "code",
   "execution_count": 14,
   "id": "d3541eea",
   "metadata": {},
   "outputs": [
    {
     "data": {
      "text/html": [
       "<table class=\"dataframe\">\n",
       "<caption>A data.frame: 8 × 6</caption>\n",
       "<thead>\n",
       "\t<tr><th scope=col>name</th><th scope=col>type</th><th scope=col>diameter</th><th scope=col>rotation</th><th scope=col>has_rings</th><th scope=col>moon</th></tr>\n",
       "\t<tr><th scope=col>&lt;chr&gt;</th><th scope=col>&lt;fct&gt;</th><th scope=col>&lt;dbl&gt;</th><th scope=col>&lt;dbl&gt;</th><th scope=col>&lt;lgl&gt;</th><th scope=col>&lt;dbl&gt;</th></tr>\n",
       "</thead>\n",
       "<tbody>\n",
       "\t<tr><td>Mercury</td><td>Terrestrial planet</td><td> 0.382</td><td>  58.64</td><td>FALSE</td><td> 0</td></tr>\n",
       "\t<tr><td>Venus  </td><td>Terrestrial planet</td><td> 0.949</td><td>-243.02</td><td>FALSE</td><td> 0</td></tr>\n",
       "\t<tr><td>Earth  </td><td>Terrestrial planet</td><td> 1.000</td><td>   1.00</td><td>FALSE</td><td> 1</td></tr>\n",
       "\t<tr><td>Mars   </td><td>Terrestrial planet</td><td> 0.532</td><td>   1.03</td><td>FALSE</td><td> 2</td></tr>\n",
       "\t<tr><td>Jupiter</td><td>Gas giant         </td><td>11.209</td><td>   0.41</td><td> TRUE</td><td>67</td></tr>\n",
       "\t<tr><td>Saturn </td><td>Gas giant         </td><td> 9.449</td><td>   0.43</td><td> TRUE</td><td>62</td></tr>\n",
       "\t<tr><td>Uranus </td><td>Gas giant         </td><td> 4.007</td><td>  -0.72</td><td> TRUE</td><td>27</td></tr>\n",
       "\t<tr><td>Neptune</td><td>Gas giant         </td><td> 3.883</td><td>   0.67</td><td> TRUE</td><td>14</td></tr>\n",
       "</tbody>\n",
       "</table>\n"
      ],
      "text/latex": [
       "A data.frame: 8 × 6\n",
       "\\begin{tabular}{llllll}\n",
       " name & type & diameter & rotation & has\\_rings & moon\\\\\n",
       " <chr> & <fct> & <dbl> & <dbl> & <lgl> & <dbl>\\\\\n",
       "\\hline\n",
       "\t Mercury & Terrestrial planet &  0.382 &   58.64 & FALSE &  0\\\\\n",
       "\t Venus   & Terrestrial planet &  0.949 & -243.02 & FALSE &  0\\\\\n",
       "\t Earth   & Terrestrial planet &  1.000 &    1.00 & FALSE &  1\\\\\n",
       "\t Mars    & Terrestrial planet &  0.532 &    1.03 & FALSE &  2\\\\\n",
       "\t Jupiter & Gas giant          & 11.209 &    0.41 &  TRUE & 67\\\\\n",
       "\t Saturn  & Gas giant          &  9.449 &    0.43 &  TRUE & 62\\\\\n",
       "\t Uranus  & Gas giant          &  4.007 &   -0.72 &  TRUE & 27\\\\\n",
       "\t Neptune & Gas giant          &  3.883 &    0.67 &  TRUE & 14\\\\\n",
       "\\end{tabular}\n"
      ],
      "text/markdown": [
       "\n",
       "A data.frame: 8 × 6\n",
       "\n",
       "| name &lt;chr&gt; | type &lt;fct&gt; | diameter &lt;dbl&gt; | rotation &lt;dbl&gt; | has_rings &lt;lgl&gt; | moon &lt;dbl&gt; |\n",
       "|---|---|---|---|---|---|\n",
       "| Mercury | Terrestrial planet |  0.382 |   58.64 | FALSE |  0 |\n",
       "| Venus   | Terrestrial planet |  0.949 | -243.02 | FALSE |  0 |\n",
       "| Earth   | Terrestrial planet |  1.000 |    1.00 | FALSE |  1 |\n",
       "| Mars    | Terrestrial planet |  0.532 |    1.03 | FALSE |  2 |\n",
       "| Jupiter | Gas giant          | 11.209 |    0.41 |  TRUE | 67 |\n",
       "| Saturn  | Gas giant          |  9.449 |    0.43 |  TRUE | 62 |\n",
       "| Uranus  | Gas giant          |  4.007 |   -0.72 |  TRUE | 27 |\n",
       "| Neptune | Gas giant          |  3.883 |    0.67 |  TRUE | 14 |\n",
       "\n"
      ],
      "text/plain": [
       "  name    type               diameter rotation has_rings moon\n",
       "1 Mercury Terrestrial planet  0.382     58.64  FALSE      0  \n",
       "2 Venus   Terrestrial planet  0.949   -243.02  FALSE      0  \n",
       "3 Earth   Terrestrial planet  1.000      1.00  FALSE      1  \n",
       "4 Mars    Terrestrial planet  0.532      1.03  FALSE      2  \n",
       "5 Jupiter Gas giant          11.209      0.41   TRUE     67  \n",
       "6 Saturn  Gas giant           9.449      0.43   TRUE     62  \n",
       "7 Uranus  Gas giant           4.007     -0.72   TRUE     27  \n",
       "8 Neptune Gas giant           3.883      0.67   TRUE     14  "
      ]
     },
     "metadata": {},
     "output_type": "display_data"
    },
    {
     "data": {
      "text/html": [
       "<table class=\"dataframe\">\n",
       "<caption>A data.frame: 8 × 7</caption>\n",
       "<thead>\n",
       "\t<tr><th scope=col>name</th><th scope=col>type</th><th scope=col>diameter</th><th scope=col>rotation</th><th scope=col>has_rings</th><th scope=col>moon</th><th scope=col>mass</th></tr>\n",
       "\t<tr><th scope=col>&lt;chr&gt;</th><th scope=col>&lt;fct&gt;</th><th scope=col>&lt;dbl&gt;</th><th scope=col>&lt;dbl&gt;</th><th scope=col>&lt;lgl&gt;</th><th scope=col>&lt;dbl&gt;</th><th scope=col>&lt;dbl&gt;</th></tr>\n",
       "</thead>\n",
       "<tbody>\n",
       "\t<tr><td>Mercury</td><td>Terrestrial planet</td><td> 0.382</td><td>  58.64</td><td>FALSE</td><td> 0</td><td>  0.06</td></tr>\n",
       "\t<tr><td>Venus  </td><td>Terrestrial planet</td><td> 0.949</td><td>-243.02</td><td>FALSE</td><td> 0</td><td>  0.82</td></tr>\n",
       "\t<tr><td>Earth  </td><td>Terrestrial planet</td><td> 1.000</td><td>   1.00</td><td>FALSE</td><td> 1</td><td>  1.00</td></tr>\n",
       "\t<tr><td>Mars   </td><td>Terrestrial planet</td><td> 0.532</td><td>   1.03</td><td>FALSE</td><td> 2</td><td>  0.11</td></tr>\n",
       "\t<tr><td>Jupiter</td><td>Gas giant         </td><td>11.209</td><td>   0.41</td><td> TRUE</td><td>67</td><td>317.80</td></tr>\n",
       "\t<tr><td>Saturn </td><td>Gas giant         </td><td> 9.449</td><td>   0.43</td><td> TRUE</td><td>62</td><td> 95.20</td></tr>\n",
       "\t<tr><td>Uranus </td><td>Gas giant         </td><td> 4.007</td><td>  -0.72</td><td> TRUE</td><td>27</td><td> 14.60</td></tr>\n",
       "\t<tr><td>Neptune</td><td>Gas giant         </td><td> 3.883</td><td>   0.67</td><td> TRUE</td><td>14</td><td> 17.20</td></tr>\n",
       "</tbody>\n",
       "</table>\n"
      ],
      "text/latex": [
       "A data.frame: 8 × 7\n",
       "\\begin{tabular}{lllllll}\n",
       " name & type & diameter & rotation & has\\_rings & moon & mass\\\\\n",
       " <chr> & <fct> & <dbl> & <dbl> & <lgl> & <dbl> & <dbl>\\\\\n",
       "\\hline\n",
       "\t Mercury & Terrestrial planet &  0.382 &   58.64 & FALSE &  0 &   0.06\\\\\n",
       "\t Venus   & Terrestrial planet &  0.949 & -243.02 & FALSE &  0 &   0.82\\\\\n",
       "\t Earth   & Terrestrial planet &  1.000 &    1.00 & FALSE &  1 &   1.00\\\\\n",
       "\t Mars    & Terrestrial planet &  0.532 &    1.03 & FALSE &  2 &   0.11\\\\\n",
       "\t Jupiter & Gas giant          & 11.209 &    0.41 &  TRUE & 67 & 317.80\\\\\n",
       "\t Saturn  & Gas giant          &  9.449 &    0.43 &  TRUE & 62 &  95.20\\\\\n",
       "\t Uranus  & Gas giant          &  4.007 &   -0.72 &  TRUE & 27 &  14.60\\\\\n",
       "\t Neptune & Gas giant          &  3.883 &    0.67 &  TRUE & 14 &  17.20\\\\\n",
       "\\end{tabular}\n"
      ],
      "text/markdown": [
       "\n",
       "A data.frame: 8 × 7\n",
       "\n",
       "| name &lt;chr&gt; | type &lt;fct&gt; | diameter &lt;dbl&gt; | rotation &lt;dbl&gt; | has_rings &lt;lgl&gt; | moon &lt;dbl&gt; | mass &lt;dbl&gt; |\n",
       "|---|---|---|---|---|---|---|\n",
       "| Mercury | Terrestrial planet |  0.382 |   58.64 | FALSE |  0 |   0.06 |\n",
       "| Venus   | Terrestrial planet |  0.949 | -243.02 | FALSE |  0 |   0.82 |\n",
       "| Earth   | Terrestrial planet |  1.000 |    1.00 | FALSE |  1 |   1.00 |\n",
       "| Mars    | Terrestrial planet |  0.532 |    1.03 | FALSE |  2 |   0.11 |\n",
       "| Jupiter | Gas giant          | 11.209 |    0.41 |  TRUE | 67 | 317.80 |\n",
       "| Saturn  | Gas giant          |  9.449 |    0.43 |  TRUE | 62 |  95.20 |\n",
       "| Uranus  | Gas giant          |  4.007 |   -0.72 |  TRUE | 27 |  14.60 |\n",
       "| Neptune | Gas giant          |  3.883 |    0.67 |  TRUE | 14 |  17.20 |\n",
       "\n"
      ],
      "text/plain": [
       "  name    type               diameter rotation has_rings moon mass  \n",
       "1 Mercury Terrestrial planet  0.382     58.64  FALSE      0     0.06\n",
       "2 Venus   Terrestrial planet  0.949   -243.02  FALSE      0     0.82\n",
       "3 Earth   Terrestrial planet  1.000      1.00  FALSE      1     1.00\n",
       "4 Mars    Terrestrial planet  0.532      1.03  FALSE      2     0.11\n",
       "5 Jupiter Gas giant          11.209      0.41   TRUE     67   317.80\n",
       "6 Saturn  Gas giant           9.449      0.43   TRUE     62    95.20\n",
       "7 Uranus  Gas giant           4.007     -0.72   TRUE     27    14.60\n",
       "8 Neptune Gas giant           3.883      0.67   TRUE     14    17.20"
      ]
     },
     "metadata": {},
     "output_type": "display_data"
    }
   ],
   "source": [
    "# planets_df is already pre-loaded in your workspace\n",
    "\n",
    "# Definition of moons and masses\n",
    "moons <- c(0, 0, 1, 2, 67, 62, 27, 14)\n",
    "masses <- c(0.06, 0.82, 1.00, 0.11, 317.8, 95.2, 14.6, 17.2)\n",
    "\n",
    "# Add moons to planets_df under the name \"moon\"\n",
    "moon = planets_df$moon = moons\n",
    "planets_df\n",
    "# Add masses to planets_df under the name \"mass\"\n",
    "mass = planets_df$mass = masses\n",
    "planets_df"
   ]
  },
  {
   "cell_type": "code",
   "execution_count": 15,
   "id": "85e3c9cd",
   "metadata": {},
   "outputs": [
    {
     "ename": "ERROR",
     "evalue": "Error in rbind(deparse.level, ...): numbers of columns of arguments do not match\n",
     "output_type": "error",
     "traceback": [
      "Error in rbind(deparse.level, ...): numbers of columns of arguments do not match\nTraceback:\n",
      "1. rbind(planets_df, pluto)",
      "2. rbind(deparse.level, ...)",
      "3. stop(\"numbers of columns of arguments do not match\")"
     ]
    }
   ],
   "source": [
    "# planets_df is pre-loaded (without the columns moon and mass)\n",
    "\n",
    "# Name pluto correctly\n",
    "pluto <- data.frame(name=\"Pluto\", type=\"Terrestrial planet\", diameter=0.18, rotation=-6.38, has_rings=FALSE)\n",
    "\n",
    "# Bind planets_df and pluto together: planets_df_ext\n",
    "planets_df_ext = rbind(planets_df,pluto)\n",
    "\n",
    "# Print out planets_df_ext\n",
    "planets_df_ext"
   ]
  },
  {
   "cell_type": "code",
   "execution_count": 16,
   "id": "54790593",
   "metadata": {},
   "outputs": [],
   "source": [
    "planets <- c(\"Mercury\", \"Venus\", \"Earth\", \"Mars\", \"Jupiter\", \"Saturn\", \"Uranus\", \"Neptune\")\n",
    "type <- c(\"Terrestrial planet\", \"Terrestrial planet\", \"Terrestrial planet\", \n",
    "          \"Terrestrial planet\", \"Gas giant\", \"Gas giant\", \"Gas giant\", \"Gas giant\")\n",
    "diameter <- c(0.382, 0.949, 1, 0.532, 11.209, 9.449, 4.007, 3.883)\n",
    "rotation <- c(58.64, -243.02, 1, 1.03, 0.41, 0.43, -0.72, 0.67)\n",
    "rings <- c(FALSE, FALSE, FALSE, FALSE, TRUE, TRUE, TRUE, TRUE)\n",
    "type_factor <- factor(type)\n",
    "planets_df <- data.frame(planets, type_factor, diameter, rotation, rings, stringsAsFactors = FALSE)\n",
    "names(planets_df) <- c(\"name\", \"type\", \"diameter\", \"rotation\", \"has_rings\")\n",
    "rm(planets, type, diameter, rotation, rings, type_factor)"
   ]
  },
  {
   "cell_type": "code",
   "execution_count": 17,
   "id": "1319df18",
   "metadata": {},
   "outputs": [
    {
     "data": {
      "text/html": [
       "<table class=\"dataframe\">\n",
       "<caption>A data.frame: 8 × 5</caption>\n",
       "<thead>\n",
       "\t<tr><th></th><th scope=col>name</th><th scope=col>type</th><th scope=col>diameter</th><th scope=col>rotation</th><th scope=col>has_rings</th></tr>\n",
       "\t<tr><th></th><th scope=col>&lt;chr&gt;</th><th scope=col>&lt;fct&gt;</th><th scope=col>&lt;dbl&gt;</th><th scope=col>&lt;dbl&gt;</th><th scope=col>&lt;lgl&gt;</th></tr>\n",
       "</thead>\n",
       "<tbody>\n",
       "\t<tr><th scope=row>5</th><td>Jupiter</td><td>Gas giant         </td><td>11.209</td><td>   0.41</td><td> TRUE</td></tr>\n",
       "\t<tr><th scope=row>6</th><td>Saturn </td><td>Gas giant         </td><td> 9.449</td><td>   0.43</td><td> TRUE</td></tr>\n",
       "\t<tr><th scope=row>7</th><td>Uranus </td><td>Gas giant         </td><td> 4.007</td><td>  -0.72</td><td> TRUE</td></tr>\n",
       "\t<tr><th scope=row>8</th><td>Neptune</td><td>Gas giant         </td><td> 3.883</td><td>   0.67</td><td> TRUE</td></tr>\n",
       "\t<tr><th scope=row>3</th><td>Earth  </td><td>Terrestrial planet</td><td> 1.000</td><td>   1.00</td><td>FALSE</td></tr>\n",
       "\t<tr><th scope=row>2</th><td>Venus  </td><td>Terrestrial planet</td><td> 0.949</td><td>-243.02</td><td>FALSE</td></tr>\n",
       "\t<tr><th scope=row>4</th><td>Mars   </td><td>Terrestrial planet</td><td> 0.532</td><td>   1.03</td><td>FALSE</td></tr>\n",
       "\t<tr><th scope=row>1</th><td>Mercury</td><td>Terrestrial planet</td><td> 0.382</td><td>  58.64</td><td>FALSE</td></tr>\n",
       "</tbody>\n",
       "</table>\n"
      ],
      "text/latex": [
       "A data.frame: 8 × 5\n",
       "\\begin{tabular}{r|lllll}\n",
       "  & name & type & diameter & rotation & has\\_rings\\\\\n",
       "  & <chr> & <fct> & <dbl> & <dbl> & <lgl>\\\\\n",
       "\\hline\n",
       "\t5 & Jupiter & Gas giant          & 11.209 &    0.41 &  TRUE\\\\\n",
       "\t6 & Saturn  & Gas giant          &  9.449 &    0.43 &  TRUE\\\\\n",
       "\t7 & Uranus  & Gas giant          &  4.007 &   -0.72 &  TRUE\\\\\n",
       "\t8 & Neptune & Gas giant          &  3.883 &    0.67 &  TRUE\\\\\n",
       "\t3 & Earth   & Terrestrial planet &  1.000 &    1.00 & FALSE\\\\\n",
       "\t2 & Venus   & Terrestrial planet &  0.949 & -243.02 & FALSE\\\\\n",
       "\t4 & Mars    & Terrestrial planet &  0.532 &    1.03 & FALSE\\\\\n",
       "\t1 & Mercury & Terrestrial planet &  0.382 &   58.64 & FALSE\\\\\n",
       "\\end{tabular}\n"
      ],
      "text/markdown": [
       "\n",
       "A data.frame: 8 × 5\n",
       "\n",
       "| <!--/--> | name &lt;chr&gt; | type &lt;fct&gt; | diameter &lt;dbl&gt; | rotation &lt;dbl&gt; | has_rings &lt;lgl&gt; |\n",
       "|---|---|---|---|---|---|\n",
       "| 5 | Jupiter | Gas giant          | 11.209 |    0.41 |  TRUE |\n",
       "| 6 | Saturn  | Gas giant          |  9.449 |    0.43 |  TRUE |\n",
       "| 7 | Uranus  | Gas giant          |  4.007 |   -0.72 |  TRUE |\n",
       "| 8 | Neptune | Gas giant          |  3.883 |    0.67 |  TRUE |\n",
       "| 3 | Earth   | Terrestrial planet |  1.000 |    1.00 | FALSE |\n",
       "| 2 | Venus   | Terrestrial planet |  0.949 | -243.02 | FALSE |\n",
       "| 4 | Mars    | Terrestrial planet |  0.532 |    1.03 | FALSE |\n",
       "| 1 | Mercury | Terrestrial planet |  0.382 |   58.64 | FALSE |\n",
       "\n"
      ],
      "text/plain": [
       "  name    type               diameter rotation has_rings\n",
       "5 Jupiter Gas giant          11.209      0.41   TRUE    \n",
       "6 Saturn  Gas giant           9.449      0.43   TRUE    \n",
       "7 Uranus  Gas giant           4.007     -0.72   TRUE    \n",
       "8 Neptune Gas giant           3.883      0.67   TRUE    \n",
       "3 Earth   Terrestrial planet  1.000      1.00  FALSE    \n",
       "2 Venus   Terrestrial planet  0.949   -243.02  FALSE    \n",
       "4 Mars    Terrestrial planet  0.532      1.03  FALSE    \n",
       "1 Mercury Terrestrial planet  0.382     58.64  FALSE    "
      ]
     },
     "metadata": {},
     "output_type": "display_data"
    }
   ],
   "source": [
    "# planets_df is pre-loaded in your workspace\n",
    "\n",
    "# Create a desired ordering for planets_df: positions\n",
    "positions=order(planets_df$diameter,decreasing=TRUE)\n",
    "\n",
    "# Create a new, ordered data frame: largest_first_df\n",
    "largest_first_df = planets_df[positions,]\n",
    "\n",
    "# Print largest_first_df\n",
    "largest_first_df"
   ]
  },
  {
   "cell_type": "code",
   "execution_count": 18,
   "id": "e93e685a",
   "metadata": {},
   "outputs": [],
   "source": [
    "countries <-c(\"Canada\", \"United States\", \"France\", \"Belgium\", \"India\", \"China\", \"United Kingdom\", \"Russia\")\n",
    "continents <-c(\"North-America\", \"North-America\", \"Europe\", \"Europe\", \"Asia\", \"Asia\", \"Europe\", \"Asia\")\n",
    "gdp <- c(44843, 54596, 44538, 47787, 1808, 8154, 45653, 8184)\n",
    "hdi <- c(0.902, 0.914, 0.884, 0.881, 0.586, 0.719, 0.892, 0.778)\n",
    "president <- c(F, T, T, F, T, T, F, T)"
   ]
  },
  {
   "cell_type": "code",
   "execution_count": 19,
   "id": "86fc93c3",
   "metadata": {},
   "outputs": [
    {
     "data": {
      "text/html": [
       "<table class=\"dataframe\">\n",
       "<caption>A data.frame: 8 × 5</caption>\n",
       "<thead>\n",
       "\t<tr><th scope=col>name</th><th scope=col>cont</th><th scope=col>GDP</th><th scope=col>HDI</th><th scope=col>has_president</th></tr>\n",
       "\t<tr><th scope=col>&lt;chr&gt;</th><th scope=col>&lt;fct&gt;</th><th scope=col>&lt;dbl&gt;</th><th scope=col>&lt;dbl&gt;</th><th scope=col>&lt;lgl&gt;</th></tr>\n",
       "</thead>\n",
       "<tbody>\n",
       "\t<tr><td>Canada        </td><td>North-America</td><td>44843</td><td>0.902</td><td>FALSE</td></tr>\n",
       "\t<tr><td>United States </td><td>North-America</td><td>54596</td><td>0.914</td><td> TRUE</td></tr>\n",
       "\t<tr><td>France        </td><td>Europe       </td><td>44538</td><td>0.884</td><td> TRUE</td></tr>\n",
       "\t<tr><td>Belgium       </td><td>Europe       </td><td>47787</td><td>0.881</td><td>FALSE</td></tr>\n",
       "\t<tr><td>India         </td><td>Asia         </td><td> 1808</td><td>0.586</td><td> TRUE</td></tr>\n",
       "\t<tr><td>China         </td><td>Asia         </td><td> 8154</td><td>0.719</td><td> TRUE</td></tr>\n",
       "\t<tr><td>United Kingdom</td><td>Europe       </td><td>45653</td><td>0.892</td><td>FALSE</td></tr>\n",
       "\t<tr><td>Russia        </td><td>Asia         </td><td> 8184</td><td>0.778</td><td> TRUE</td></tr>\n",
       "</tbody>\n",
       "</table>\n"
      ],
      "text/latex": [
       "A data.frame: 8 × 5\n",
       "\\begin{tabular}{lllll}\n",
       " name & cont & GDP & HDI & has\\_president\\\\\n",
       " <chr> & <fct> & <dbl> & <dbl> & <lgl>\\\\\n",
       "\\hline\n",
       "\t Canada         & North-America & 44843 & 0.902 & FALSE\\\\\n",
       "\t United States  & North-America & 54596 & 0.914 &  TRUE\\\\\n",
       "\t France         & Europe        & 44538 & 0.884 &  TRUE\\\\\n",
       "\t Belgium        & Europe        & 47787 & 0.881 & FALSE\\\\\n",
       "\t India          & Asia          &  1808 & 0.586 &  TRUE\\\\\n",
       "\t China          & Asia          &  8154 & 0.719 &  TRUE\\\\\n",
       "\t United Kingdom & Europe        & 45653 & 0.892 & FALSE\\\\\n",
       "\t Russia         & Asia          &  8184 & 0.778 &  TRUE\\\\\n",
       "\\end{tabular}\n"
      ],
      "text/markdown": [
       "\n",
       "A data.frame: 8 × 5\n",
       "\n",
       "| name &lt;chr&gt; | cont &lt;fct&gt; | GDP &lt;dbl&gt; | HDI &lt;dbl&gt; | has_president &lt;lgl&gt; |\n",
       "|---|---|---|---|---|\n",
       "| Canada         | North-America | 44843 | 0.902 | FALSE |\n",
       "| United States  | North-America | 54596 | 0.914 |  TRUE |\n",
       "| France         | Europe        | 44538 | 0.884 |  TRUE |\n",
       "| Belgium        | Europe        | 47787 | 0.881 | FALSE |\n",
       "| India          | Asia          |  1808 | 0.586 |  TRUE |\n",
       "| China          | Asia          |  8154 | 0.719 |  TRUE |\n",
       "| United Kingdom | Europe        | 45653 | 0.892 | FALSE |\n",
       "| Russia         | Asia          |  8184 | 0.778 |  TRUE |\n",
       "\n"
      ],
      "text/plain": [
       "  name           cont          GDP   HDI   has_president\n",
       "1 Canada         North-America 44843 0.902 FALSE        \n",
       "2 United States  North-America 54596 0.914  TRUE        \n",
       "3 France         Europe        44538 0.884  TRUE        \n",
       "4 Belgium        Europe        47787 0.881 FALSE        \n",
       "5 India          Asia           1808 0.586  TRUE        \n",
       "6 China          Asia           8154 0.719  TRUE        \n",
       "7 United Kingdom Europe        45653 0.892 FALSE        \n",
       "8 Russia         Asia           8184 0.778  TRUE        "
      ]
     },
     "metadata": {},
     "output_type": "display_data"
    }
   ],
   "source": [
    "continents_factor <- factor(continents)\n",
    "countries_df <- data.frame(name = countries, cont = continents_factor, GDP = gdp, HDI = hdi, has_president = president, stringsAsFactors=FALSE)\n",
    "countries_df"
   ]
  },
  {
   "cell_type": "code",
   "execution_count": 20,
   "id": "d3e03df4",
   "metadata": {},
   "outputs": [],
   "source": [
    "population <- c(35749600,  321163157,   66616416,   11239755, 1210193422, 1357380000,   64511000,143975923)"
   ]
  },
  {
   "cell_type": "code",
   "execution_count": 21,
   "id": "6d9e64b0",
   "metadata": {},
   "outputs": [
    {
     "data": {
      "text/html": [
       "<table class=\"dataframe\">\n",
       "<caption>A data.frame: 8 × 4</caption>\n",
       "<thead>\n",
       "\t<tr><th scope=col>name</th><th scope=col>cont</th><th scope=col>has_president</th><th scope=col>population</th></tr>\n",
       "\t<tr><th scope=col>&lt;chr&gt;</th><th scope=col>&lt;fct&gt;</th><th scope=col>&lt;lgl&gt;</th><th scope=col>&lt;dbl&gt;</th></tr>\n",
       "</thead>\n",
       "<tbody>\n",
       "\t<tr><td>Canada        </td><td>North-America</td><td>FALSE</td><td>  35749600</td></tr>\n",
       "\t<tr><td>United States </td><td>North-America</td><td> TRUE</td><td> 321163157</td></tr>\n",
       "\t<tr><td>France        </td><td>Europe       </td><td> TRUE</td><td>  66616416</td></tr>\n",
       "\t<tr><td>Belgium       </td><td>Europe       </td><td>FALSE</td><td>  11239755</td></tr>\n",
       "\t<tr><td>India         </td><td>Asia         </td><td> TRUE</td><td>1210193422</td></tr>\n",
       "\t<tr><td>China         </td><td>Asia         </td><td> TRUE</td><td>1357380000</td></tr>\n",
       "\t<tr><td>United Kingdom</td><td>Europe       </td><td>FALSE</td><td>  64511000</td></tr>\n",
       "\t<tr><td>Russia        </td><td>Asia         </td><td> TRUE</td><td> 143975923</td></tr>\n",
       "</tbody>\n",
       "</table>\n"
      ],
      "text/latex": [
       "A data.frame: 8 × 4\n",
       "\\begin{tabular}{llll}\n",
       " name & cont & has\\_president & population\\\\\n",
       " <chr> & <fct> & <lgl> & <dbl>\\\\\n",
       "\\hline\n",
       "\t Canada         & North-America & FALSE &   35749600\\\\\n",
       "\t United States  & North-America &  TRUE &  321163157\\\\\n",
       "\t France         & Europe        &  TRUE &   66616416\\\\\n",
       "\t Belgium        & Europe        & FALSE &   11239755\\\\\n",
       "\t India          & Asia          &  TRUE & 1210193422\\\\\n",
       "\t China          & Asia          &  TRUE & 1357380000\\\\\n",
       "\t United Kingdom & Europe        & FALSE &   64511000\\\\\n",
       "\t Russia         & Asia          &  TRUE &  143975923\\\\\n",
       "\\end{tabular}\n"
      ],
      "text/markdown": [
       "\n",
       "A data.frame: 8 × 4\n",
       "\n",
       "| name &lt;chr&gt; | cont &lt;fct&gt; | has_president &lt;lgl&gt; | population &lt;dbl&gt; |\n",
       "|---|---|---|---|\n",
       "| Canada         | North-America | FALSE |   35749600 |\n",
       "| United States  | North-America |  TRUE |  321163157 |\n",
       "| France         | Europe        |  TRUE |   66616416 |\n",
       "| Belgium        | Europe        | FALSE |   11239755 |\n",
       "| India          | Asia          |  TRUE | 1210193422 |\n",
       "| China          | Asia          |  TRUE | 1357380000 |\n",
       "| United Kingdom | Europe        | FALSE |   64511000 |\n",
       "| Russia         | Asia          |  TRUE |  143975923 |\n",
       "\n"
      ],
      "text/plain": [
       "  name           cont          has_president population\n",
       "1 Canada         North-America FALSE           35749600\n",
       "2 United States  North-America  TRUE          321163157\n",
       "3 France         Europe         TRUE           66616416\n",
       "4 Belgium        Europe        FALSE           11239755\n",
       "5 India          Asia           TRUE         1210193422\n",
       "6 China          Asia           TRUE         1357380000\n",
       "7 United Kingdom Europe        FALSE           64511000\n",
       "8 Russia         Asia           TRUE          143975923"
      ]
     },
     "metadata": {},
     "output_type": "display_data"
    },
    {
     "ename": "ERROR",
     "evalue": "Error in names(brazil) <- brazilcol: object 'brazil' not found\n",
     "output_type": "error",
     "traceback": [
      "Error in names(brazil) <- brazilcol: object 'brazil' not found\nTraceback:\n"
     ]
    }
   ],
   "source": [
    "# Remove economic variables and add population\n",
    "countries_df_dem = cbind(countries_df[-c(3,4)],population)\n",
    "countries_df_dem\n",
    "# Add brazil\n",
    "brazilcol <- c(\"name\",\"continent\",\"has_president\",\"population\")\n",
    "names(brazil)<-brazilcol\n",
    "brazil\n",
    "countries_df2 <- rbind(countries_df_dem,brazil)\n",
    "\n",
    "\n",
    "# Sort by population\n",
    "countries_df2[order(countries_df2$population, decreasing = TRUE),]"
   ]
  },
  {
   "cell_type": "code",
   "execution_count": null,
   "id": "89f62edd",
   "metadata": {},
   "outputs": [],
   "source": []
  }
 ],
 "metadata": {
  "kernelspec": {
   "display_name": "R",
   "language": "R",
   "name": "ir"
  },
  "language_info": {
   "codemirror_mode": "r",
   "file_extension": ".r",
   "mimetype": "text/x-r-source",
   "name": "R",
   "pygments_lexer": "r",
   "version": "3.6.3"
  }
 },
 "nbformat": 4,
 "nbformat_minor": 5
}
