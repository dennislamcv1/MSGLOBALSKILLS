{
 "cells": [
  {
   "cell_type": "code",
   "execution_count": 1,
   "id": "f0dc11bd",
   "metadata": {},
   "outputs": [
    {
     "data": {
      "text/html": [
       "7"
      ],
      "text/latex": [
       "7"
      ],
      "text/markdown": [
       "7"
      ],
      "text/plain": [
       "[1] 7"
      ]
     },
     "metadata": {},
     "output_type": "display_data"
    }
   ],
   "source": [
    "3 + 4"
   ]
  },
  {
   "cell_type": "code",
   "execution_count": 2,
   "id": "496cf7d0",
   "metadata": {},
   "outputs": [
    {
     "data": {
      "text/html": [
       "7"
      ],
      "text/latex": [
       "7"
      ],
      "text/markdown": [
       "7"
      ],
      "text/plain": [
       "[1] 7"
      ]
     },
     "metadata": {},
     "output_type": "display_data"
    }
   ],
   "source": [
    "# Calculate 3 + 4\n",
    "3 + 4"
   ]
  },
  {
   "cell_type": "code",
   "execution_count": 3,
   "id": "23c9c257",
   "metadata": {},
   "outputs": [
    {
     "data": {
      "text/html": [
       "10"
      ],
      "text/latex": [
       "10"
      ],
      "text/markdown": [
       "10"
      ],
      "text/plain": [
       "[1] 10"
      ]
     },
     "metadata": {},
     "output_type": "display_data"
    },
    {
     "data": {
      "text/html": [
       "0"
      ],
      "text/latex": [
       "0"
      ],
      "text/markdown": [
       "0"
      ],
      "text/plain": [
       "[1] 0"
      ]
     },
     "metadata": {},
     "output_type": "display_data"
    },
    {
     "data": {
      "text/html": [
       "15"
      ],
      "text/latex": [
       "15"
      ],
      "text/markdown": [
       "15"
      ],
      "text/plain": [
       "[1] 15"
      ]
     },
     "metadata": {},
     "output_type": "display_data"
    },
    {
     "data": {
      "text/html": [
       "5"
      ],
      "text/latex": [
       "5"
      ],
      "text/markdown": [
       "5"
      ],
      "text/plain": [
       "[1] 5"
      ]
     },
     "metadata": {},
     "output_type": "display_data"
    },
    {
     "data": {
      "text/html": [
       "32"
      ],
      "text/latex": [
       "32"
      ],
      "text/markdown": [
       "32"
      ],
      "text/plain": [
       "[1] 32"
      ]
     },
     "metadata": {},
     "output_type": "display_data"
    },
    {
     "data": {
      "text/html": [
       "4"
      ],
      "text/latex": [
       "4"
      ],
      "text/markdown": [
       "4"
      ],
      "text/plain": [
       "[1] 4"
      ]
     },
     "metadata": {},
     "output_type": "display_data"
    }
   ],
   "source": [
    "# Addition\n",
    "5 + 5\n",
    "\n",
    "# Subtraction\n",
    "5 - 5\n",
    "\n",
    "# Multiplication\n",
    "3 * 5\n",
    "\n",
    " # Division\n",
    "(5 + 5) / 2\n",
    "\n",
    "# Exponentiation\n",
    "2^5\n",
    "\n",
    "# Modulo\n",
    "28%%6"
   ]
  },
  {
   "cell_type": "code",
   "execution_count": 4,
   "id": "218983d3",
   "metadata": {},
   "outputs": [],
   "source": [
    "# statements (1) and (5) are correct; the others are false"
   ]
  },
  {
   "cell_type": "code",
   "execution_count": 5,
   "id": "f4c4df0c",
   "metadata": {},
   "outputs": [
    {
     "data": {
      "text/html": [
       "42"
      ],
      "text/latex": [
       "42"
      ],
      "text/markdown": [
       "42"
      ],
      "text/plain": [
       "[1] 42"
      ]
     },
     "metadata": {},
     "output_type": "display_data"
    }
   ],
   "source": [
    "# Assign the value 42 to x\n",
    "x <- 42\n",
    "\n",
    "# Print out the value of the variable x\n",
    "x"
   ]
  },
  {
   "cell_type": "code",
   "execution_count": 6,
   "id": "844c8966",
   "metadata": {},
   "outputs": [
    {
     "data": {
      "text/html": [
       "5"
      ],
      "text/latex": [
       "5"
      ],
      "text/markdown": [
       "5"
      ],
      "text/plain": [
       "[1] 5"
      ]
     },
     "metadata": {},
     "output_type": "display_data"
    }
   ],
   "source": [
    "# Assign the value 5 to the variable called my_apples\n",
    "my_apples<-5\n",
    "\n",
    "# Print out the value of the variable my_apples\n",
    "my_apples"
   ]
  },
  {
   "cell_type": "code",
   "execution_count": 7,
   "id": "3f98d3e5",
   "metadata": {},
   "outputs": [
    {
     "data": {
      "text/html": [
       "11"
      ],
      "text/latex": [
       "11"
      ],
      "text/markdown": [
       "11"
      ],
      "text/plain": [
       "[1] 11"
      ]
     },
     "metadata": {},
     "output_type": "display_data"
    }
   ],
   "source": [
    "# Assign a value to the variables my_apples and my_oranges\n",
    "my_apples <- 5\n",
    "my_oranges <- 6\n",
    "\n",
    "# Add these two variables together and print the result\n",
    "my_apples + my_oranges\n",
    "\n",
    "# Create the variable my_fruit\n",
    "my_fruit = my_apples + my_oranges"
   ]
  },
  {
   "cell_type": "code",
   "execution_count": 8,
   "id": "dbbf4383",
   "metadata": {},
   "outputs": [
    {
     "data": {
      "text/html": [],
      "text/latex": [],
      "text/markdown": [],
      "text/plain": [
       "character(0)"
      ]
     },
     "metadata": {},
     "output_type": "display_data"
    }
   ],
   "source": [
    "# Clear the entire workspace\n",
    "rm(list = ls())\n",
    "\n",
    "# List the contents of your workspace\n",
    "ls()"
   ]
  },
  {
   "cell_type": "code",
   "execution_count": 9,
   "id": "c737a3f5",
   "metadata": {},
   "outputs": [],
   "source": [
    "# Create the variable horses\n",
    "horses <- 3\n",
    "\n",
    "# Create the variable dogs\n",
    "dogs <- 7\n",
    "\n",
    "# Create the variable animals\n",
    "animals = horses+dogs\n"
   ]
  },
  {
   "cell_type": "code",
   "execution_count": 10,
   "id": "8d996878",
   "metadata": {},
   "outputs": [
    {
     "data": {
      "text/html": [
       "<style>\n",
       ".list-inline {list-style: none; margin:0; padding: 0}\n",
       ".list-inline>li {display: inline-block}\n",
       ".list-inline>li:not(:last-child)::after {content: \"\\00b7\"; padding: 0 .5ex}\n",
       "</style>\n",
       "<ol class=list-inline><li>'animals'</li><li>'dogs'</li><li>'horses'</li></ol>\n"
      ],
      "text/latex": [
       "\\begin{enumerate*}\n",
       "\\item 'animals'\n",
       "\\item 'dogs'\n",
       "\\item 'horses'\n",
       "\\end{enumerate*}\n"
      ],
      "text/markdown": [
       "1. 'animals'\n",
       "2. 'dogs'\n",
       "3. 'horses'\n",
       "\n",
       "\n"
      ],
      "text/plain": [
       "[1] \"animals\" \"dogs\"    \"horses\" "
      ]
     },
     "metadata": {},
     "output_type": "display_data"
    }
   ],
   "source": [
    "# Inspect the contents of the workspace again\n",
    "ls()"
   ]
  },
  {
   "cell_type": "code",
   "execution_count": 11,
   "id": "f58d92c4",
   "metadata": {},
   "outputs": [],
   "source": [
    "# Remove dogs from the workspace\n",
    "rm(dogs)"
   ]
  },
  {
   "cell_type": "code",
   "execution_count": 12,
   "id": "9d80c7c0",
   "metadata": {},
   "outputs": [
    {
     "data": {
      "text/html": [
       "<style>\n",
       ".list-inline {list-style: none; margin:0; padding: 0}\n",
       ".list-inline>li {display: inline-block}\n",
       ".list-inline>li:not(:last-child)::after {content: \"\\00b7\"; padding: 0 .5ex}\n",
       "</style>\n",
       "<ol class=list-inline><li>'animals'</li><li>'horses'</li></ol>\n"
      ],
      "text/latex": [
       "\\begin{enumerate*}\n",
       "\\item 'animals'\n",
       "\\item 'horses'\n",
       "\\end{enumerate*}\n"
      ],
      "text/markdown": [
       "1. 'animals'\n",
       "2. 'horses'\n",
       "\n",
       "\n"
      ],
      "text/plain": [
       "[1] \"animals\" \"horses\" "
      ]
     },
     "metadata": {},
     "output_type": "display_data"
    }
   ],
   "source": [
    "# Inspect the objects in your workspace once more\n",
    "ls()"
   ]
  },
  {
   "cell_type": "code",
   "execution_count": 13,
   "id": "01ec28c1",
   "metadata": {},
   "outputs": [],
   "source": [
    "# Create the variables r and R\n",
    "r <- 2\n",
    "R <- 6\n",
    "\n",
    "# Calculate the volume of the donut: vol_donut\n",
    "vol_donut=2*pi^2*r^2*R"
   ]
  },
  {
   "cell_type": "code",
   "execution_count": 14,
   "id": "ab177ada",
   "metadata": {},
   "outputs": [
    {
     "data": {
      "text/html": [
       "<style>\n",
       ".list-inline {list-style: none; margin:0; padding: 0}\n",
       ".list-inline>li {display: inline-block}\n",
       ".list-inline>li:not(:last-child)::after {content: \"\\00b7\"; padding: 0 .5ex}\n",
       "</style>\n",
       "<ol class=list-inline><li>'animals'</li><li>'horses'</li><li>'vol_donut'</li></ol>\n"
      ],
      "text/latex": [
       "\\begin{enumerate*}\n",
       "\\item 'animals'\n",
       "\\item 'horses'\n",
       "\\item 'vol\\_donut'\n",
       "\\end{enumerate*}\n"
      ],
      "text/markdown": [
       "1. 'animals'\n",
       "2. 'horses'\n",
       "3. 'vol_donut'\n",
       "\n",
       "\n"
      ],
      "text/plain": [
       "[1] \"animals\"   \"horses\"    \"vol_donut\""
      ]
     },
     "metadata": {},
     "output_type": "display_data"
    }
   ],
   "source": [
    "# Remove all intermediary variables that you've used with rm()\n",
    "rm(r)\n",
    "rm(R)\n",
    "\n",
    "# List the elements in your workspace\n",
    "ls()"
   ]
  },
  {
   "cell_type": "code",
   "execution_count": 15,
   "id": "f909e7d4",
   "metadata": {},
   "outputs": [],
   "source": [
    "# What is the answer to the universe?\n",
    "my_numeric <- 42\n",
    "\n",
    "# The quotation marks indicate that the variable is of type character\n",
    "my_character <- \"forty-two\"\n",
    "\n",
    "# Change the value of my_logical\n",
    "my_logical <- FALSE"
   ]
  },
  {
   "cell_type": "code",
   "execution_count": 16,
   "id": "112ca1a9",
   "metadata": {},
   "outputs": [
    {
     "data": {
      "text/html": [
       "5"
      ],
      "text/latex": [
       "5"
      ],
      "text/markdown": [
       "5"
      ],
      "text/plain": [
       "[1] 5"
      ]
     },
     "metadata": {},
     "output_type": "display_data"
    },
    {
     "data": {
      "text/html": [
       "6"
      ],
      "text/latex": [
       "6"
      ],
      "text/markdown": [
       "6"
      ],
      "text/plain": [
       "[1] 6"
      ]
     },
     "metadata": {},
     "output_type": "display_data"
    },
    {
     "data": {
      "text/html": [
       "11"
      ],
      "text/latex": [
       "11"
      ],
      "text/markdown": [
       "11"
      ],
      "text/plain": [
       "[1] 11"
      ]
     },
     "metadata": {},
     "output_type": "display_data"
    }
   ],
   "source": [
    "# Assign a value to the variable called my_apples\n",
    "my_apples <- 5 \n",
    "\n",
    "# Print out the value of my_apples\n",
    "my_apples       \n",
    "\n",
    "# Assign a value to the variable my_oranges and print it out\n",
    "my_oranges <- 6\n",
    "my_oranges \n",
    "\n",
    "# New variable that contains the total amount of fruit\n",
    "my_fruit <- my_apples + my_oranges \n",
    "my_fruit"
   ]
  },
  {
   "cell_type": "code",
   "execution_count": 17,
   "id": "671240c8",
   "metadata": {},
   "outputs": [],
   "source": [
    "# a's class is numeric, b is a character, c is a logical."
   ]
  },
  {
   "cell_type": "code",
   "execution_count": 18,
   "id": "3422b8b6",
   "metadata": {},
   "outputs": [],
   "source": [
    "# Create variables var1, var2 and var3\n",
    "var1 <- TRUE\n",
    "var2 <- 0.3\n",
    "var3 <- \"i\""
   ]
  },
  {
   "cell_type": "code",
   "execution_count": 19,
   "id": "1c838243",
   "metadata": {},
   "outputs": [
    {
     "data": {
      "text/html": [
       "TRUE"
      ],
      "text/latex": [
       "TRUE"
      ],
      "text/markdown": [
       "TRUE"
      ],
      "text/plain": [
       "[1] TRUE"
      ]
     },
     "metadata": {},
     "output_type": "display_data"
    }
   ],
   "source": [
    "# Convert var1 to a character: var1_char\n",
    "var1_char <- as.character(var1)\n",
    "\n",
    "# See whether var1_char is a character\n",
    "is.character(var1_char)"
   ]
  },
  {
   "cell_type": "code",
   "execution_count": 20,
   "id": "fe25f126",
   "metadata": {},
   "outputs": [
    {
     "data": {
      "text/html": [
       "'logical'"
      ],
      "text/latex": [
       "'logical'"
      ],
      "text/markdown": [
       "'logical'"
      ],
      "text/plain": [
       "[1] \"logical\""
      ]
     },
     "metadata": {},
     "output_type": "display_data"
    }
   ],
   "source": [
    "# Convert var2 to a logical: var2_log\n",
    "var2_log <- as.logical(var2)\n",
    "\n",
    "# Inspect the class of var2_log\n",
    "class(var2_log)"
   ]
  },
  {
   "cell_type": "code",
   "execution_count": 21,
   "id": "056480a3",
   "metadata": {},
   "outputs": [
    {
     "name": "stderr",
     "output_type": "stream",
     "text": [
      "Warning message in eval(expr, envir, enclos):\n",
      "\"NAs introduced by coercion\"\n"
     ]
    }
   ],
   "source": [
    "# Coerce var3 to a numeric: var3_num\n",
    "var3_num <- as.numeric(var3)  "
   ]
  },
  {
   "cell_type": "code",
   "execution_count": 22,
   "id": "ecea9ec1",
   "metadata": {},
   "outputs": [
    {
     "ename": "ERROR",
     "evalue": "Error in eval(expr, envir, enclos): object 'age' not found\n",
     "output_type": "error",
     "traceback": [
      "Error in eval(expr, envir, enclos): object 'age' not found\nTraceback:\n"
     ]
    }
   ],
   "source": [
    "# Convert age to numeric: age_clean\n",
    "age_clean <- as.numeric(age)\n",
    "age_clean\n",
    "\n",
    "# Convert employed to logical: employed_clean\n",
    "employed_clean <- as.logical(employed)\n",
    "employed_clean\n",
    "\n",
    "# Convert salary to numeric: salary_clean\n",
    "salary_clean <- as.numeric(salary)\n",
    "salary_clean"
   ]
  },
  {
   "cell_type": "code",
   "execution_count": null,
   "id": "a7058c92",
   "metadata": {},
   "outputs": [],
   "source": []
  }
 ],
 "metadata": {
  "kernelspec": {
   "display_name": "R",
   "language": "R",
   "name": "ir"
  },
  "language_info": {
   "codemirror_mode": "r",
   "file_extension": ".r",
   "mimetype": "text/x-r-source",
   "name": "R",
   "pygments_lexer": "r",
   "version": "3.6.3"
  }
 },
 "nbformat": 4,
 "nbformat_minor": 5
}
