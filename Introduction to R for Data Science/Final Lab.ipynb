{
 "cells": [
  {
   "cell_type": "markdown",
   "id": "4d97f468",
   "metadata": {},
   "source": [
    "### Section 1: Importing and Summarizing Data"
   ]
  },
  {
   "cell_type": "code",
   "execution_count": 1,
   "id": "9fe0b94d",
   "metadata": {},
   "outputs": [
    {
     "name": "stderr",
     "output_type": "stream",
     "text": [
      "-- \u001b[1mAttaching packages\u001b[22m ------------------------------------------------------------------------------- tidyverse 1.3.1 --\n",
      "\n",
      "\u001b[32mv\u001b[39m \u001b[34mggplot2\u001b[39m 3.3.3     \u001b[32mv\u001b[39m \u001b[34mpurrr  \u001b[39m 0.3.4\n",
      "\u001b[32mv\u001b[39m \u001b[34mtibble \u001b[39m 3.1.1     \u001b[32mv\u001b[39m \u001b[34mdplyr  \u001b[39m 1.0.5\n",
      "\u001b[32mv\u001b[39m \u001b[34mtidyr  \u001b[39m 1.1.3     \u001b[32mv\u001b[39m \u001b[34mstringr\u001b[39m 1.4.0\n",
      "\u001b[32mv\u001b[39m \u001b[34mreadr  \u001b[39m 1.4.0     \u001b[32mv\u001b[39m \u001b[34mforcats\u001b[39m 0.5.1\n",
      "\n",
      "-- \u001b[1mConflicts\u001b[22m ---------------------------------------------------------------------------------- tidyverse_conflicts() --\n",
      "\u001b[31mx\u001b[39m \u001b[34mdplyr\u001b[39m::\u001b[32mfilter()\u001b[39m masks \u001b[34mstats\u001b[39m::filter()\n",
      "\u001b[31mx\u001b[39m \u001b[34mdplyr\u001b[39m::\u001b[32mlag()\u001b[39m    masks \u001b[34mstats\u001b[39m::lag()\n",
      "\n",
      "\n",
      "Attaching package: 'pracma'\n",
      "\n",
      "\n",
      "The following object is masked from 'package:purrr':\n",
      "\n",
      "    cross\n",
      "\n",
      "\n"
     ]
    }
   ],
   "source": [
    "# Load tidyverse\n",
    "library(tidyverse)\n",
    "library(pracma)"
   ]
  },
  {
   "cell_type": "code",
   "execution_count": 2,
   "id": "fdc5759a",
   "metadata": {},
   "outputs": [
    {
     "name": "stderr",
     "output_type": "stream",
     "text": [
      "\n",
      "\u001b[36m--\u001b[39m \u001b[1m\u001b[1mColumn specification\u001b[1m\u001b[22m \u001b[36m------------------------------------------------------------------------------------------------\u001b[39m\n",
      "cols(\n",
      "  VendorID = \u001b[32mcol_double()\u001b[39m,\n",
      "  tpep_pickup_datetime = \u001b[34mcol_datetime(format = \"\")\u001b[39m,\n",
      "  tpep_dropoff_datetime = \u001b[34mcol_datetime(format = \"\")\u001b[39m,\n",
      "  passenger_count = \u001b[32mcol_double()\u001b[39m,\n",
      "  trip_distance = \u001b[32mcol_double()\u001b[39m,\n",
      "  pickup_longitude = \u001b[32mcol_double()\u001b[39m,\n",
      "  pickup_latitude = \u001b[32mcol_double()\u001b[39m,\n",
      "  RatecodeID = \u001b[32mcol_double()\u001b[39m,\n",
      "  store_and_fwd_flag = \u001b[31mcol_character()\u001b[39m,\n",
      "  dropoff_longitude = \u001b[32mcol_double()\u001b[39m,\n",
      "  dropoff_latitude = \u001b[32mcol_double()\u001b[39m,\n",
      "  payment_type = \u001b[32mcol_double()\u001b[39m,\n",
      "  fare_amount = \u001b[32mcol_double()\u001b[39m,\n",
      "  extra = \u001b[32mcol_double()\u001b[39m,\n",
      "  mta_tax = \u001b[32mcol_double()\u001b[39m,\n",
      "  tip_amount = \u001b[32mcol_double()\u001b[39m,\n",
      "  tolls_amount = \u001b[32mcol_double()\u001b[39m,\n",
      "  improvement_surcharge = \u001b[32mcol_double()\u001b[39m,\n",
      "  total_amount = \u001b[32mcol_double()\u001b[39m\n",
      ")\n",
      "\n",
      "\n"
     ]
    }
   ],
   "source": [
    "# Read in the data\n",
    "taxis <- read_csv(\"taxis.csv\")"
   ]
  },
  {
   "cell_type": "code",
   "execution_count": 3,
   "id": "eeee7abf",
   "metadata": {},
   "outputs": [
    {
     "data": {
      "text/html": [
       "<table class=\"dataframe\">\n",
       "<caption>A tibble: 6 × 19</caption>\n",
       "<thead>\n",
       "\t<tr><th scope=col>VendorID</th><th scope=col>tpep_pickup_datetime</th><th scope=col>tpep_dropoff_datetime</th><th scope=col>passenger_count</th><th scope=col>trip_distance</th><th scope=col>pickup_longitude</th><th scope=col>pickup_latitude</th><th scope=col>RatecodeID</th><th scope=col>store_and_fwd_flag</th><th scope=col>dropoff_longitude</th><th scope=col>dropoff_latitude</th><th scope=col>payment_type</th><th scope=col>fare_amount</th><th scope=col>extra</th><th scope=col>mta_tax</th><th scope=col>tip_amount</th><th scope=col>tolls_amount</th><th scope=col>improvement_surcharge</th><th scope=col>total_amount</th></tr>\n",
       "\t<tr><th scope=col>&lt;dbl&gt;</th><th scope=col>&lt;dttm&gt;</th><th scope=col>&lt;dttm&gt;</th><th scope=col>&lt;dbl&gt;</th><th scope=col>&lt;dbl&gt;</th><th scope=col>&lt;dbl&gt;</th><th scope=col>&lt;dbl&gt;</th><th scope=col>&lt;dbl&gt;</th><th scope=col>&lt;chr&gt;</th><th scope=col>&lt;dbl&gt;</th><th scope=col>&lt;dbl&gt;</th><th scope=col>&lt;dbl&gt;</th><th scope=col>&lt;dbl&gt;</th><th scope=col>&lt;dbl&gt;</th><th scope=col>&lt;dbl&gt;</th><th scope=col>&lt;dbl&gt;</th><th scope=col>&lt;dbl&gt;</th><th scope=col>&lt;dbl&gt;</th><th scope=col>&lt;dbl&gt;</th></tr>\n",
       "</thead>\n",
       "<tbody>\n",
       "\t<tr><td>2</td><td>2016-01-01</td><td>2016-01-01 00:00:00</td><td>2</td><td> 1.10</td><td>-73.99037</td><td>40.73470</td><td>1</td><td>N</td><td>-73.98184</td><td>40.73241</td><td>2</td><td> 7.5</td><td>0.5</td><td>0.5</td><td>0</td><td>0</td><td>0.3</td><td> 8.8</td></tr>\n",
       "\t<tr><td>2</td><td>2016-01-01</td><td>2016-01-01 00:00:00</td><td>5</td><td> 4.90</td><td>-73.98078</td><td>40.72991</td><td>1</td><td>N</td><td>-73.94447</td><td>40.71668</td><td>1</td><td>18.0</td><td>0.5</td><td>0.5</td><td>0</td><td>0</td><td>0.3</td><td>19.3</td></tr>\n",
       "\t<tr><td>2</td><td>2016-01-01</td><td>2016-01-01 00:00:00</td><td>1</td><td>10.54</td><td>-73.98455</td><td>40.67957</td><td>1</td><td>N</td><td>-73.95027</td><td>40.78893</td><td>1</td><td>33.0</td><td>0.5</td><td>0.5</td><td>0</td><td>0</td><td>0.3</td><td>34.3</td></tr>\n",
       "\t<tr><td>2</td><td>2016-01-01</td><td>2016-01-01 00:00:00</td><td>1</td><td> 4.75</td><td>-73.99347</td><td>40.71899</td><td>1</td><td>N</td><td>-73.96224</td><td>40.65733</td><td>2</td><td>16.5</td><td>0.0</td><td>0.5</td><td>0</td><td>0</td><td>0.3</td><td>17.3</td></tr>\n",
       "\t<tr><td>2</td><td>2016-01-01</td><td>2016-01-01 00:00:00</td><td>3</td><td> 1.76</td><td>-73.96062</td><td>40.78133</td><td>1</td><td>N</td><td>-73.97726</td><td>40.75851</td><td>2</td><td> 8.0</td><td>0.0</td><td>0.5</td><td>0</td><td>0</td><td>0.3</td><td> 8.8</td></tr>\n",
       "\t<tr><td>2</td><td>2016-01-01</td><td>2016-01-01 00:18:30</td><td>2</td><td> 5.52</td><td>-73.98012</td><td>40.74305</td><td>1</td><td>N</td><td>-73.91349</td><td>40.76314</td><td>2</td><td>19.0</td><td>0.5</td><td>0.5</td><td>0</td><td>0</td><td>0.3</td><td>20.3</td></tr>\n",
       "</tbody>\n",
       "</table>\n"
      ],
      "text/latex": [
       "A tibble: 6 × 19\n",
       "\\begin{tabular}{lllllllllllllllllll}\n",
       " VendorID & tpep\\_pickup\\_datetime & tpep\\_dropoff\\_datetime & passenger\\_count & trip\\_distance & pickup\\_longitude & pickup\\_latitude & RatecodeID & store\\_and\\_fwd\\_flag & dropoff\\_longitude & dropoff\\_latitude & payment\\_type & fare\\_amount & extra & mta\\_tax & tip\\_amount & tolls\\_amount & improvement\\_surcharge & total\\_amount\\\\\n",
       " <dbl> & <dttm> & <dttm> & <dbl> & <dbl> & <dbl> & <dbl> & <dbl> & <chr> & <dbl> & <dbl> & <dbl> & <dbl> & <dbl> & <dbl> & <dbl> & <dbl> & <dbl> & <dbl>\\\\\n",
       "\\hline\n",
       "\t 2 & 2016-01-01 & 2016-01-01 00:00:00 & 2 &  1.10 & -73.99037 & 40.73470 & 1 & N & -73.98184 & 40.73241 & 2 &  7.5 & 0.5 & 0.5 & 0 & 0 & 0.3 &  8.8\\\\\n",
       "\t 2 & 2016-01-01 & 2016-01-01 00:00:00 & 5 &  4.90 & -73.98078 & 40.72991 & 1 & N & -73.94447 & 40.71668 & 1 & 18.0 & 0.5 & 0.5 & 0 & 0 & 0.3 & 19.3\\\\\n",
       "\t 2 & 2016-01-01 & 2016-01-01 00:00:00 & 1 & 10.54 & -73.98455 & 40.67957 & 1 & N & -73.95027 & 40.78893 & 1 & 33.0 & 0.5 & 0.5 & 0 & 0 & 0.3 & 34.3\\\\\n",
       "\t 2 & 2016-01-01 & 2016-01-01 00:00:00 & 1 &  4.75 & -73.99347 & 40.71899 & 1 & N & -73.96224 & 40.65733 & 2 & 16.5 & 0.0 & 0.5 & 0 & 0 & 0.3 & 17.3\\\\\n",
       "\t 2 & 2016-01-01 & 2016-01-01 00:00:00 & 3 &  1.76 & -73.96062 & 40.78133 & 1 & N & -73.97726 & 40.75851 & 2 &  8.0 & 0.0 & 0.5 & 0 & 0 & 0.3 &  8.8\\\\\n",
       "\t 2 & 2016-01-01 & 2016-01-01 00:18:30 & 2 &  5.52 & -73.98012 & 40.74305 & 1 & N & -73.91349 & 40.76314 & 2 & 19.0 & 0.5 & 0.5 & 0 & 0 & 0.3 & 20.3\\\\\n",
       "\\end{tabular}\n"
      ],
      "text/markdown": [
       "\n",
       "A tibble: 6 × 19\n",
       "\n",
       "| VendorID &lt;dbl&gt; | tpep_pickup_datetime &lt;dttm&gt; | tpep_dropoff_datetime &lt;dttm&gt; | passenger_count &lt;dbl&gt; | trip_distance &lt;dbl&gt; | pickup_longitude &lt;dbl&gt; | pickup_latitude &lt;dbl&gt; | RatecodeID &lt;dbl&gt; | store_and_fwd_flag &lt;chr&gt; | dropoff_longitude &lt;dbl&gt; | dropoff_latitude &lt;dbl&gt; | payment_type &lt;dbl&gt; | fare_amount &lt;dbl&gt; | extra &lt;dbl&gt; | mta_tax &lt;dbl&gt; | tip_amount &lt;dbl&gt; | tolls_amount &lt;dbl&gt; | improvement_surcharge &lt;dbl&gt; | total_amount &lt;dbl&gt; |\n",
       "|---|---|---|---|---|---|---|---|---|---|---|---|---|---|---|---|---|---|---|\n",
       "| 2 | 2016-01-01 | 2016-01-01 00:00:00 | 2 |  1.10 | -73.99037 | 40.73470 | 1 | N | -73.98184 | 40.73241 | 2 |  7.5 | 0.5 | 0.5 | 0 | 0 | 0.3 |  8.8 |\n",
       "| 2 | 2016-01-01 | 2016-01-01 00:00:00 | 5 |  4.90 | -73.98078 | 40.72991 | 1 | N | -73.94447 | 40.71668 | 1 | 18.0 | 0.5 | 0.5 | 0 | 0 | 0.3 | 19.3 |\n",
       "| 2 | 2016-01-01 | 2016-01-01 00:00:00 | 1 | 10.54 | -73.98455 | 40.67957 | 1 | N | -73.95027 | 40.78893 | 1 | 33.0 | 0.5 | 0.5 | 0 | 0 | 0.3 | 34.3 |\n",
       "| 2 | 2016-01-01 | 2016-01-01 00:00:00 | 1 |  4.75 | -73.99347 | 40.71899 | 1 | N | -73.96224 | 40.65733 | 2 | 16.5 | 0.0 | 0.5 | 0 | 0 | 0.3 | 17.3 |\n",
       "| 2 | 2016-01-01 | 2016-01-01 00:00:00 | 3 |  1.76 | -73.96062 | 40.78133 | 1 | N | -73.97726 | 40.75851 | 2 |  8.0 | 0.0 | 0.5 | 0 | 0 | 0.3 |  8.8 |\n",
       "| 2 | 2016-01-01 | 2016-01-01 00:18:30 | 2 |  5.52 | -73.98012 | 40.74305 | 1 | N | -73.91349 | 40.76314 | 2 | 19.0 | 0.5 | 0.5 | 0 | 0 | 0.3 | 20.3 |\n",
       "\n"
      ],
      "text/plain": [
       "  VendorID tpep_pickup_datetime tpep_dropoff_datetime passenger_count\n",
       "1 2        2016-01-01           2016-01-01 00:00:00   2              \n",
       "2 2        2016-01-01           2016-01-01 00:00:00   5              \n",
       "3 2        2016-01-01           2016-01-01 00:00:00   1              \n",
       "4 2        2016-01-01           2016-01-01 00:00:00   1              \n",
       "5 2        2016-01-01           2016-01-01 00:00:00   3              \n",
       "6 2        2016-01-01           2016-01-01 00:18:30   2              \n",
       "  trip_distance pickup_longitude pickup_latitude RatecodeID store_and_fwd_flag\n",
       "1  1.10         -73.99037        40.73470        1          N                 \n",
       "2  4.90         -73.98078        40.72991        1          N                 \n",
       "3 10.54         -73.98455        40.67957        1          N                 \n",
       "4  4.75         -73.99347        40.71899        1          N                 \n",
       "5  1.76         -73.96062        40.78133        1          N                 \n",
       "6  5.52         -73.98012        40.74305        1          N                 \n",
       "  dropoff_longitude dropoff_latitude payment_type fare_amount extra mta_tax\n",
       "1 -73.98184         40.73241         2             7.5        0.5   0.5    \n",
       "2 -73.94447         40.71668         1            18.0        0.5   0.5    \n",
       "3 -73.95027         40.78893         1            33.0        0.5   0.5    \n",
       "4 -73.96224         40.65733         2            16.5        0.0   0.5    \n",
       "5 -73.97726         40.75851         2             8.0        0.0   0.5    \n",
       "6 -73.91349         40.76314         2            19.0        0.5   0.5    \n",
       "  tip_amount tolls_amount improvement_surcharge total_amount\n",
       "1 0          0            0.3                    8.8        \n",
       "2 0          0            0.3                   19.3        \n",
       "3 0          0            0.3                   34.3        \n",
       "4 0          0            0.3                   17.3        \n",
       "5 0          0            0.3                    8.8        \n",
       "6 0          0            0.3                   20.3        "
      ]
     },
     "metadata": {},
     "output_type": "display_data"
    }
   ],
   "source": [
    "# Explore the data\n",
    "head(taxis)"
   ]
  },
  {
   "cell_type": "code",
   "execution_count": 4,
   "id": "a75ef908",
   "metadata": {},
   "outputs": [
    {
     "name": "stdout",
     "output_type": "stream",
     "text": [
      "Rows: 30,001\n",
      "Columns: 19\n",
      "$ VendorID              \u001b[3m\u001b[90m<dbl>\u001b[39m\u001b[23m 2, 2, 2, 2, 2, 2, 2, 1, 1, 2, 2, 2, 2, 1, 1, 2, ~\n",
      "$ tpep_pickup_datetime  \u001b[3m\u001b[90m<dttm>\u001b[39m\u001b[23m 2016-01-01 00:00:00, 2016-01-01 00:00:00, 2016-~\n",
      "$ tpep_dropoff_datetime \u001b[3m\u001b[90m<dttm>\u001b[39m\u001b[23m 2016-01-01 00:00:00, 2016-01-01 00:00:00, 2016-~\n",
      "$ passenger_count       \u001b[3m\u001b[90m<dbl>\u001b[39m\u001b[23m 2, 5, 1, 1, 3, 2, 2, 1, 1, 1, 1, 6, 4, 1, 2, 1, ~\n",
      "$ trip_distance         \u001b[3m\u001b[90m<dbl>\u001b[39m\u001b[23m 1.10, 4.90, 10.54, 4.75, 1.76, 5.52, 7.45, 1.20,~\n",
      "$ pickup_longitude      \u001b[3m\u001b[90m<dbl>\u001b[39m\u001b[23m -73.99037, -73.98078, -73.98455, -73.99347, -73.~\n",
      "$ pickup_latitude       \u001b[3m\u001b[90m<dbl>\u001b[39m\u001b[23m 40.73470, 40.72991, 40.67957, 40.71899, 40.78133~\n",
      "$ RatecodeID            \u001b[3m\u001b[90m<dbl>\u001b[39m\u001b[23m 1, 1, 1, 1, 1, 1, 1, 1, 1, 1, 1, 1, 1, 1, 1, 1, ~\n",
      "$ store_and_fwd_flag    \u001b[3m\u001b[90m<chr>\u001b[39m\u001b[23m \"N\", \"N\", \"N\", \"N\", \"N\", \"N\", \"N\", \"N\", \"N\", \"N\"~\n",
      "$ dropoff_longitude     \u001b[3m\u001b[90m<dbl>\u001b[39m\u001b[23m -73.98184, -73.94447, -73.95027, -73.96224, -73.~\n",
      "$ dropoff_latitude      \u001b[3m\u001b[90m<dbl>\u001b[39m\u001b[23m 40.73241, 40.71668, 40.78893, 40.65733, 40.75851~\n",
      "$ payment_type          \u001b[3m\u001b[90m<dbl>\u001b[39m\u001b[23m 2, 1, 1, 2, 2, 2, 2, 2, 2, 2, 2, 1, 2, 1, 1, 2, ~\n",
      "$ fare_amount           \u001b[3m\u001b[90m<dbl>\u001b[39m\u001b[23m 7.5, 18.0, 33.0, 16.5, 8.0, 19.0, 26.0, 9.0, 18.~\n",
      "$ extra                 \u001b[3m\u001b[90m<dbl>\u001b[39m\u001b[23m 0.5, 0.5, 0.5, 0.0, 0.0, 0.5, 0.5, 0.5, 0.5, 0.5~\n",
      "$ mta_tax               \u001b[3m\u001b[90m<dbl>\u001b[39m\u001b[23m 0.5, 0.5, 0.5, 0.5, 0.5, 0.5, 0.5, 0.5, 0.5, 0.5~\n",
      "$ tip_amount            \u001b[3m\u001b[90m<dbl>\u001b[39m\u001b[23m 0.00, 0.00, 0.00, 0.00, 0.00, 0.00, 0.00, 0.00, ~\n",
      "$ tolls_amount          \u001b[3m\u001b[90m<dbl>\u001b[39m\u001b[23m 0, 0, 0, 0, 0, 0, 0, 0, 0, 0, 0, 0, 0, 0, 0, 0, ~\n",
      "$ improvement_surcharge \u001b[3m\u001b[90m<dbl>\u001b[39m\u001b[23m 0.3, 0.3, 0.3, 0.3, 0.3, 0.3, 0.3, 0.3, 0.3, 0.3~\n",
      "$ total_amount          \u001b[3m\u001b[90m<dbl>\u001b[39m\u001b[23m 8.80, 19.30, 34.30, 17.30, 8.80, 20.30, 27.30, 1~\n"
     ]
    }
   ],
   "source": [
    "# Take a glimpse at your data\n",
    "glimpse(taxis)"
   ]
  },
  {
   "cell_type": "code",
   "execution_count": 5,
   "id": "de2bc4e6",
   "metadata": {},
   "outputs": [
    {
     "name": "stdout",
     "output_type": "stream",
     "text": [
      "spec_tbl_df [30,001 x 19] (S3: spec_tbl_df/tbl_df/tbl/data.frame)\n",
      " $ VendorID             : num [1:30001] 2 2 2 2 2 2 2 1 1 2 ...\n",
      " $ tpep_pickup_datetime : POSIXct[1:30001], format: \"2016-01-01 00:00:00\" \"2016-01-01 00:00:00\" ...\n",
      " $ tpep_dropoff_datetime: POSIXct[1:30001], format: \"2016-01-01 00:00:00\" \"2016-01-01 00:00:00\" ...\n",
      " $ passenger_count      : num [1:30001] 2 5 1 1 3 2 2 1 1 1 ...\n",
      " $ trip_distance        : num [1:30001] 1.1 4.9 10.54 4.75 1.76 ...\n",
      " $ pickup_longitude     : num [1:30001] -74 -74 -74 -74 -74 ...\n",
      " $ pickup_latitude      : num [1:30001] 40.7 40.7 40.7 40.7 40.8 ...\n",
      " $ RatecodeID           : num [1:30001] 1 1 1 1 1 1 1 1 1 1 ...\n",
      " $ store_and_fwd_flag   : chr [1:30001] \"N\" \"N\" \"N\" \"N\" ...\n",
      " $ dropoff_longitude    : num [1:30001] -74 -73.9 -74 -74 -74 ...\n",
      " $ dropoff_latitude     : num [1:30001] 40.7 40.7 40.8 40.7 40.8 ...\n",
      " $ payment_type         : num [1:30001] 2 1 1 2 2 2 2 2 2 2 ...\n",
      " $ fare_amount          : num [1:30001] 7.5 18 33 16.5 8 19 26 9 18 11.5 ...\n",
      " $ extra                : num [1:30001] 0.5 0.5 0.5 0 0 0.5 0.5 0.5 0.5 0.5 ...\n",
      " $ mta_tax              : num [1:30001] 0.5 0.5 0.5 0.5 0.5 0.5 0.5 0.5 0.5 0.5 ...\n",
      " $ tip_amount           : num [1:30001] 0 0 0 0 0 0 0 0 0 0 ...\n",
      " $ tolls_amount         : num [1:30001] 0 0 0 0 0 0 0 0 0 0 ...\n",
      " $ improvement_surcharge: num [1:30001] 0.3 0.3 0.3 0.3 0.3 0.3 0.3 0.3 0.3 0.3 ...\n",
      " $ total_amount         : num [1:30001] 8.8 19.3 34.3 17.3 8.8 20.3 27.3 10.3 19.3 12.8 ...\n",
      " - attr(*, \"spec\")=\n",
      "  .. cols(\n",
      "  ..   VendorID = \u001b[32mcol_double()\u001b[39m,\n",
      "  ..   tpep_pickup_datetime = \u001b[34mcol_datetime(format = \"\")\u001b[39m,\n",
      "  ..   tpep_dropoff_datetime = \u001b[34mcol_datetime(format = \"\")\u001b[39m,\n",
      "  ..   passenger_count = \u001b[32mcol_double()\u001b[39m,\n",
      "  ..   trip_distance = \u001b[32mcol_double()\u001b[39m,\n",
      "  ..   pickup_longitude = \u001b[32mcol_double()\u001b[39m,\n",
      "  ..   pickup_latitude = \u001b[32mcol_double()\u001b[39m,\n",
      "  ..   RatecodeID = \u001b[32mcol_double()\u001b[39m,\n",
      "  ..   store_and_fwd_flag = \u001b[31mcol_character()\u001b[39m,\n",
      "  ..   dropoff_longitude = \u001b[32mcol_double()\u001b[39m,\n",
      "  ..   dropoff_latitude = \u001b[32mcol_double()\u001b[39m,\n",
      "  ..   payment_type = \u001b[32mcol_double()\u001b[39m,\n",
      "  ..   fare_amount = \u001b[32mcol_double()\u001b[39m,\n",
      "  ..   extra = \u001b[32mcol_double()\u001b[39m,\n",
      "  ..   mta_tax = \u001b[32mcol_double()\u001b[39m,\n",
      "  ..   tip_amount = \u001b[32mcol_double()\u001b[39m,\n",
      "  ..   tolls_amount = \u001b[32mcol_double()\u001b[39m,\n",
      "  ..   improvement_surcharge = \u001b[32mcol_double()\u001b[39m,\n",
      "  ..   total_amount = \u001b[32mcol_double()\u001b[39m\n",
      "  .. )\n"
     ]
    }
   ],
   "source": [
    "# Check out the structure of your data\n",
    "str(taxis)"
   ]
  },
  {
   "cell_type": "code",
   "execution_count": 6,
   "id": "1e8ae678",
   "metadata": {},
   "outputs": [
    {
     "data": {
      "text/plain": [
       "    VendorID     tpep_pickup_datetime          tpep_dropoff_datetime        \n",
       " Min.   :1.000   Min.   :2016-01-01 00:00:00   Min.   :2016-01-01 00:00:00  \n",
       " 1st Qu.:1.000   1st Qu.:2016-01-02 01:33:36   1st Qu.:2016-01-02 01:44:02  \n",
       " Median :2.000   Median :2016-01-02 02:33:51   Median :2016-01-02 02:44:32  \n",
       " Mean   :1.548   Mean   :2016-01-03 05:27:27   Mean   :2016-01-03 05:42:14  \n",
       " 3rd Qu.:2.000   3rd Qu.:2016-01-02 03:54:08   3rd Qu.:2016-01-02 04:05:55  \n",
       " Max.   :2.000   Max.   :2016-01-29 11:33:12   Max.   :2016-01-30 11:28:54  \n",
       " passenger_count trip_distance    pickup_longitude pickup_latitude\n",
       " Min.   :1.00    Min.   : 0.000   Min.   :-74.73   Min.   : 0.00  \n",
       " 1st Qu.:1.00    1st Qu.: 1.160   1st Qu.:-73.99   1st Qu.:40.73  \n",
       " Median :1.00    Median : 2.200   Median :-73.99   Median :40.74  \n",
       " Mean   :1.79    Mean   : 3.512   Mean   :-72.79   Mean   :40.09  \n",
       " 3rd Qu.:2.00    3rd Qu.: 4.480   3rd Qu.:-73.98   3rd Qu.:40.76  \n",
       " Max.   :6.00    Max.   :47.390   Max.   :  0.00   Max.   :41.03  \n",
       "   RatecodeID    store_and_fwd_flag dropoff_longitude dropoff_latitude\n",
       " Min.   :1.000   Length:30001       Min.   :-74.73    Min.   : 0.00   \n",
       " 1st Qu.:1.000   Class :character   1st Qu.:-73.99    1st Qu.:40.73   \n",
       " Median :1.000   Mode  :character   Median :-73.98    Median :40.75   \n",
       " Mean   :1.057                      Mean   :-72.85    Mean   :40.13   \n",
       " 3rd Qu.:1.000                      3rd Qu.:-73.95    3rd Qu.:40.77   \n",
       " Max.   :5.000                      Max.   :  0.00    Max.   :41.10   \n",
       "  payment_type    fare_amount         extra            mta_tax       \n",
       " Min.   :1.000   Min.   :-80.00   Min.   :-0.5000   Min.   :-0.5000  \n",
       " 1st Qu.:1.000   1st Qu.:  6.50   1st Qu.: 0.5000   1st Qu.: 0.5000  \n",
       " Median :1.000   Median :  9.50   Median : 0.5000   Median : 0.5000  \n",
       " Mean   :1.434   Mean   : 13.14   Mean   : 0.4654   Mean   : 0.4947  \n",
       " 3rd Qu.:2.000   3rd Qu.: 16.00   3rd Qu.: 0.5000   3rd Qu.: 0.5000  \n",
       " Max.   :4.000   Max.   :420.00   Max.   : 1.0000   Max.   : 0.5000  \n",
       "   tip_amount       tolls_amount     improvement_surcharge  total_amount   \n",
       " Min.   :  0.000   Min.   : 0.0000   Min.   :-0.3000       Min.   :-80.30  \n",
       " 1st Qu.:  0.000   1st Qu.: 0.0000   1st Qu.: 0.3000       1st Qu.:  8.30  \n",
       " Median :  1.000   Median : 0.0000   Median : 0.3000       Median : 11.80  \n",
       " Mean   :  1.528   Mean   : 0.2331   Mean   : 0.2995       Mean   : 16.16  \n",
       " 3rd Qu.:  2.060   3rd Qu.: 0.0000   3rd Qu.: 0.3000       3rd Qu.: 18.95  \n",
       " Max.   :100.000   Max.   :28.5000   Max.   : 0.3000       Max.   :490.80  "
      ]
     },
     "metadata": {},
     "output_type": "display_data"
    }
   ],
   "source": [
    "# Summarize your data\n",
    "summary(taxis)"
   ]
  },
  {
   "cell_type": "code",
   "execution_count": 7,
   "id": "0f8374e9",
   "metadata": {},
   "outputs": [
    {
     "data": {
      "text/html": [
       "<table class=\"dataframe\">\n",
       "<caption>A tibble: 6 × 1</caption>\n",
       "<thead>\n",
       "\t<tr><th scope=col>total_amount</th></tr>\n",
       "\t<tr><th scope=col>&lt;dbl&gt;</th></tr>\n",
       "</thead>\n",
       "<tbody>\n",
       "\t<tr><td> 8.8</td></tr>\n",
       "\t<tr><td>19.3</td></tr>\n",
       "\t<tr><td>34.3</td></tr>\n",
       "\t<tr><td>17.3</td></tr>\n",
       "\t<tr><td> 8.8</td></tr>\n",
       "\t<tr><td>20.3</td></tr>\n",
       "</tbody>\n",
       "</table>\n"
      ],
      "text/latex": [
       "A tibble: 6 × 1\n",
       "\\begin{tabular}{l}\n",
       " total\\_amount\\\\\n",
       " <dbl>\\\\\n",
       "\\hline\n",
       "\t  8.8\\\\\n",
       "\t 19.3\\\\\n",
       "\t 34.3\\\\\n",
       "\t 17.3\\\\\n",
       "\t  8.8\\\\\n",
       "\t 20.3\\\\\n",
       "\\end{tabular}\n"
      ],
      "text/markdown": [
       "\n",
       "A tibble: 6 × 1\n",
       "\n",
       "| total_amount &lt;dbl&gt; |\n",
       "|---|\n",
       "|  8.8 |\n",
       "| 19.3 |\n",
       "| 34.3 |\n",
       "| 17.3 |\n",
       "|  8.8 |\n",
       "| 20.3 |\n",
       "\n"
      ],
      "text/plain": [
       "  total_amount\n",
       "1  8.8        \n",
       "2 19.3        \n",
       "3 34.3        \n",
       "4 17.3        \n",
       "5  8.8        \n",
       "6 20.3        "
      ]
     },
     "metadata": {},
     "output_type": "display_data"
    }
   ],
   "source": [
    "# Create total_amount_col\n",
    "total_amount_col <- taxis[,19]\n",
    "head(total_amount_col)"
   ]
  },
  {
   "cell_type": "code",
   "execution_count": 8,
   "id": "6fd21f1e",
   "metadata": {},
   "outputs": [
    {
     "data": {
      "text/html": [
       "<table class=\"dataframe\">\n",
       "<caption>A tibble: 1 × 19</caption>\n",
       "<thead>\n",
       "\t<tr><th scope=col>VendorID</th><th scope=col>tpep_pickup_datetime</th><th scope=col>tpep_dropoff_datetime</th><th scope=col>passenger_count</th><th scope=col>trip_distance</th><th scope=col>pickup_longitude</th><th scope=col>pickup_latitude</th><th scope=col>RatecodeID</th><th scope=col>store_and_fwd_flag</th><th scope=col>dropoff_longitude</th><th scope=col>dropoff_latitude</th><th scope=col>payment_type</th><th scope=col>fare_amount</th><th scope=col>extra</th><th scope=col>mta_tax</th><th scope=col>tip_amount</th><th scope=col>tolls_amount</th><th scope=col>improvement_surcharge</th><th scope=col>total_amount</th></tr>\n",
       "\t<tr><th scope=col>&lt;dbl&gt;</th><th scope=col>&lt;dttm&gt;</th><th scope=col>&lt;dttm&gt;</th><th scope=col>&lt;dbl&gt;</th><th scope=col>&lt;dbl&gt;</th><th scope=col>&lt;dbl&gt;</th><th scope=col>&lt;dbl&gt;</th><th scope=col>&lt;dbl&gt;</th><th scope=col>&lt;chr&gt;</th><th scope=col>&lt;dbl&gt;</th><th scope=col>&lt;dbl&gt;</th><th scope=col>&lt;dbl&gt;</th><th scope=col>&lt;dbl&gt;</th><th scope=col>&lt;dbl&gt;</th><th scope=col>&lt;dbl&gt;</th><th scope=col>&lt;dbl&gt;</th><th scope=col>&lt;dbl&gt;</th><th scope=col>&lt;dbl&gt;</th><th scope=col>&lt;dbl&gt;</th></tr>\n",
       "</thead>\n",
       "<tbody>\n",
       "\t<tr><td>2</td><td>2016-01-01 00:01:21</td><td>2016-01-01 00:27:41</td><td>6</td><td>8.78</td><td>-73.99663</td><td>40.7246</td><td>1</td><td>N</td><td>-73.86998</td><td>40.75529</td><td>2</td><td>27</td><td>0.5</td><td>0.5</td><td>0</td><td>0</td><td>0.3</td><td>28.3</td></tr>\n",
       "</tbody>\n",
       "</table>\n"
      ],
      "text/latex": [
       "A tibble: 1 × 19\n",
       "\\begin{tabular}{lllllllllllllllllll}\n",
       " VendorID & tpep\\_pickup\\_datetime & tpep\\_dropoff\\_datetime & passenger\\_count & trip\\_distance & pickup\\_longitude & pickup\\_latitude & RatecodeID & store\\_and\\_fwd\\_flag & dropoff\\_longitude & dropoff\\_latitude & payment\\_type & fare\\_amount & extra & mta\\_tax & tip\\_amount & tolls\\_amount & improvement\\_surcharge & total\\_amount\\\\\n",
       " <dbl> & <dttm> & <dttm> & <dbl> & <dbl> & <dbl> & <dbl> & <dbl> & <chr> & <dbl> & <dbl> & <dbl> & <dbl> & <dbl> & <dbl> & <dbl> & <dbl> & <dbl> & <dbl>\\\\\n",
       "\\hline\n",
       "\t 2 & 2016-01-01 00:01:21 & 2016-01-01 00:27:41 & 6 & 8.78 & -73.99663 & 40.7246 & 1 & N & -73.86998 & 40.75529 & 2 & 27 & 0.5 & 0.5 & 0 & 0 & 0.3 & 28.3\\\\\n",
       "\\end{tabular}\n"
      ],
      "text/markdown": [
       "\n",
       "A tibble: 1 × 19\n",
       "\n",
       "| VendorID &lt;dbl&gt; | tpep_pickup_datetime &lt;dttm&gt; | tpep_dropoff_datetime &lt;dttm&gt; | passenger_count &lt;dbl&gt; | trip_distance &lt;dbl&gt; | pickup_longitude &lt;dbl&gt; | pickup_latitude &lt;dbl&gt; | RatecodeID &lt;dbl&gt; | store_and_fwd_flag &lt;chr&gt; | dropoff_longitude &lt;dbl&gt; | dropoff_latitude &lt;dbl&gt; | payment_type &lt;dbl&gt; | fare_amount &lt;dbl&gt; | extra &lt;dbl&gt; | mta_tax &lt;dbl&gt; | tip_amount &lt;dbl&gt; | tolls_amount &lt;dbl&gt; | improvement_surcharge &lt;dbl&gt; | total_amount &lt;dbl&gt; |\n",
       "|---|---|---|---|---|---|---|---|---|---|---|---|---|---|---|---|---|---|---|\n",
       "| 2 | 2016-01-01 00:01:21 | 2016-01-01 00:27:41 | 6 | 8.78 | -73.99663 | 40.7246 | 1 | N | -73.86998 | 40.75529 | 2 | 27 | 0.5 | 0.5 | 0 | 0 | 0.3 | 28.3 |\n",
       "\n"
      ],
      "text/plain": [
       "  VendorID tpep_pickup_datetime tpep_dropoff_datetime passenger_count\n",
       "1 2        2016-01-01 00:01:21  2016-01-01 00:27:41   6              \n",
       "  trip_distance pickup_longitude pickup_latitude RatecodeID store_and_fwd_flag\n",
       "1 8.78          -73.99663        40.7246         1          N                 \n",
       "  dropoff_longitude dropoff_latitude payment_type fare_amount extra mta_tax\n",
       "1 -73.86998         40.75529         2            27          0.5   0.5    \n",
       "  tip_amount tolls_amount improvement_surcharge total_amount\n",
       "1 0          0            0.3                   28.3        "
      ]
     },
     "metadata": {},
     "output_type": "display_data"
    }
   ],
   "source": [
    "# Extract the 125th row\n",
    "row_125 <- taxis[125,]\n",
    "row_125"
   ]
  },
  {
   "cell_type": "code",
   "execution_count": 9,
   "id": "b2da351e",
   "metadata": {},
   "outputs": [
    {
     "data": {
      "text/html": [
       "<table class=\"dataframe\">\n",
       "<caption>A tibble: 1 × 1</caption>\n",
       "<thead>\n",
       "\t<tr><th scope=col>passenger_count</th></tr>\n",
       "\t<tr><th scope=col>&lt;dbl&gt;</th></tr>\n",
       "</thead>\n",
       "<tbody>\n",
       "\t<tr><td>1</td></tr>\n",
       "</tbody>\n",
       "</table>\n"
      ],
      "text/latex": [
       "A tibble: 1 × 1\n",
       "\\begin{tabular}{l}\n",
       " passenger\\_count\\\\\n",
       " <dbl>\\\\\n",
       "\\hline\n",
       "\t 1\\\\\n",
       "\\end{tabular}\n"
      ],
      "text/markdown": [
       "\n",
       "A tibble: 1 × 1\n",
       "\n",
       "| passenger_count &lt;dbl&gt; |\n",
       "|---|\n",
       "| 1 |\n",
       "\n"
      ],
      "text/plain": [
       "  passenger_count\n",
       "1 1              "
      ]
     },
     "metadata": {},
     "output_type": "display_data"
    }
   ],
   "source": [
    "# Find passenger_count_1031\n",
    "passenger_count_1031 <- taxis[1031,4]\n",
    "passenger_count_1031"
   ]
  },
  {
   "cell_type": "code",
   "execution_count": 10,
   "id": "48ab0a65",
   "metadata": {},
   "outputs": [
    {
     "data": {
      "text/html": [
       "3.51200293323556"
      ],
      "text/latex": [
       "3.51200293323556"
      ],
      "text/markdown": [
       "3.51200293323556"
      ],
      "text/plain": [
       "[1] 3.512003"
      ]
     },
     "metadata": {},
     "output_type": "display_data"
    },
    {
     "data": {
      "text/html": [
       "3.74533099535827"
      ],
      "text/latex": [
       "3.74533099535827"
      ],
      "text/markdown": [
       "3.74533099535827"
      ],
      "text/plain": [
       "[1] 3.745331"
      ]
     },
     "metadata": {},
     "output_type": "display_data"
    }
   ],
   "source": [
    "# Find the mean and standard deviation of trip_distance\n",
    "mean(taxis$trip_distance)\n",
    "sd(taxis$trip_distance)"
   ]
  },
  {
   "cell_type": "code",
   "execution_count": 11,
   "id": "e747baae",
   "metadata": {},
   "outputs": [
    {
     "data": {
      "text/html": [
       "<style>\n",
       ".dl-inline {width: auto; margin:0; padding: 0}\n",
       ".dl-inline>dt, .dl-inline>dd {float: none; width: auto; display: inline-block}\n",
       ".dl-inline>dt::after {content: \":\\0020\"; padding-right: .5ex}\n",
       ".dl-inline>dt:not(:first-of-type) {padding-left: .5ex}\n",
       "</style><dl class=dl-inline><dt>25%</dt><dd>1.16</dd><dt>50%</dt><dd>2.2</dd><dt>75%</dt><dd>4.48</dd></dl>\n"
      ],
      "text/latex": [
       "\\begin{description*}\n",
       "\\item[25\\textbackslash{}\\%] 1.16\n",
       "\\item[50\\textbackslash{}\\%] 2.2\n",
       "\\item[75\\textbackslash{}\\%] 4.48\n",
       "\\end{description*}\n"
      ],
      "text/markdown": [
       "25%\n",
       ":   1.1650%\n",
       ":   2.275%\n",
       ":   4.48\n",
       "\n"
      ],
      "text/plain": [
       " 25%  50%  75% \n",
       "1.16 2.20 4.48 "
      ]
     },
     "metadata": {},
     "output_type": "display_data"
    }
   ],
   "source": [
    "# Find the 25th, 50th, and 75th percentiles of trip_distance\n",
    "quantile(taxis$trip_distance, c(.25,.50,.75))"
   ]
  },
  {
   "cell_type": "code",
   "execution_count": 12,
   "id": "6aaa7709",
   "metadata": {},
   "outputs": [
    {
     "data": {
      "text/html": [
       "<style>\n",
       ".dl-inline {width: auto; margin:0; padding: 0}\n",
       ".dl-inline>dt, .dl-inline>dd {float: none; width: auto; display: inline-block}\n",
       ".dl-inline>dt::after {content: \":\\0020\"; padding-right: .5ex}\n",
       ".dl-inline>dt:not(:first-of-type) {padding-left: .5ex}\n",
       "</style><dl class=dl-inline><dt>VendorID</dt><dd>TRUE</dd><dt>tpep_pickup_datetime</dt><dd>FALSE</dd><dt>tpep_dropoff_datetime</dt><dd>FALSE</dd><dt>passenger_count</dt><dd>TRUE</dd><dt>trip_distance</dt><dd>TRUE</dd><dt>pickup_longitude</dt><dd>TRUE</dd><dt>pickup_latitude</dt><dd>TRUE</dd><dt>RatecodeID</dt><dd>TRUE</dd><dt>store_and_fwd_flag</dt><dd>FALSE</dd><dt>dropoff_longitude</dt><dd>TRUE</dd><dt>dropoff_latitude</dt><dd>TRUE</dd><dt>payment_type</dt><dd>TRUE</dd><dt>fare_amount</dt><dd>TRUE</dd><dt>extra</dt><dd>TRUE</dd><dt>mta_tax</dt><dd>TRUE</dd><dt>tip_amount</dt><dd>TRUE</dd><dt>tolls_amount</dt><dd>TRUE</dd><dt>improvement_surcharge</dt><dd>TRUE</dd><dt>total_amount</dt><dd>TRUE</dd></dl>\n"
      ],
      "text/latex": [
       "\\begin{description*}\n",
       "\\item[VendorID] TRUE\n",
       "\\item[tpep\\textbackslash{}\\_pickup\\textbackslash{}\\_datetime] FALSE\n",
       "\\item[tpep\\textbackslash{}\\_dropoff\\textbackslash{}\\_datetime] FALSE\n",
       "\\item[passenger\\textbackslash{}\\_count] TRUE\n",
       "\\item[trip\\textbackslash{}\\_distance] TRUE\n",
       "\\item[pickup\\textbackslash{}\\_longitude] TRUE\n",
       "\\item[pickup\\textbackslash{}\\_latitude] TRUE\n",
       "\\item[RatecodeID] TRUE\n",
       "\\item[store\\textbackslash{}\\_and\\textbackslash{}\\_fwd\\textbackslash{}\\_flag] FALSE\n",
       "\\item[dropoff\\textbackslash{}\\_longitude] TRUE\n",
       "\\item[dropoff\\textbackslash{}\\_latitude] TRUE\n",
       "\\item[payment\\textbackslash{}\\_type] TRUE\n",
       "\\item[fare\\textbackslash{}\\_amount] TRUE\n",
       "\\item[extra] TRUE\n",
       "\\item[mta\\textbackslash{}\\_tax] TRUE\n",
       "\\item[tip\\textbackslash{}\\_amount] TRUE\n",
       "\\item[tolls\\textbackslash{}\\_amount] TRUE\n",
       "\\item[improvement\\textbackslash{}\\_surcharge] TRUE\n",
       "\\item[total\\textbackslash{}\\_amount] TRUE\n",
       "\\end{description*}\n"
      ],
      "text/markdown": [
       "VendorID\n",
       ":   TRUEtpep_pickup_datetime\n",
       ":   FALSEtpep_dropoff_datetime\n",
       ":   FALSEpassenger_count\n",
       ":   TRUEtrip_distance\n",
       ":   TRUEpickup_longitude\n",
       ":   TRUEpickup_latitude\n",
       ":   TRUERatecodeID\n",
       ":   TRUEstore_and_fwd_flag\n",
       ":   FALSEdropoff_longitude\n",
       ":   TRUEdropoff_latitude\n",
       ":   TRUEpayment_type\n",
       ":   TRUEfare_amount\n",
       ":   TRUEextra\n",
       ":   TRUEmta_tax\n",
       ":   TRUEtip_amount\n",
       ":   TRUEtolls_amount\n",
       ":   TRUEimprovement_surcharge\n",
       ":   TRUEtotal_amount\n",
       ":   TRUE\n",
       "\n"
      ],
      "text/plain": [
       "             VendorID  tpep_pickup_datetime tpep_dropoff_datetime \n",
       "                 TRUE                 FALSE                 FALSE \n",
       "      passenger_count         trip_distance      pickup_longitude \n",
       "                 TRUE                  TRUE                  TRUE \n",
       "      pickup_latitude            RatecodeID    store_and_fwd_flag \n",
       "                 TRUE                  TRUE                 FALSE \n",
       "    dropoff_longitude      dropoff_latitude          payment_type \n",
       "                 TRUE                  TRUE                  TRUE \n",
       "          fare_amount                 extra               mta_tax \n",
       "                 TRUE                  TRUE                  TRUE \n",
       "           tip_amount          tolls_amount improvement_surcharge \n",
       "                 TRUE                  TRUE                  TRUE \n",
       "         total_amount \n",
       "                 TRUE "
      ]
     },
     "metadata": {},
     "output_type": "display_data"
    }
   ],
   "source": [
    "# Find the numeric columns\n",
    "numeric_cols <- sapply(taxis, is.numeric)\n",
    "numeric_cols"
   ]
  },
  {
   "cell_type": "code",
   "execution_count": 13,
   "id": "3f20e5f1",
   "metadata": {},
   "outputs": [
    {
     "data": {
      "text/html": [
       "<table class=\"dataframe\">\n",
       "<caption>A tibble: 6 × 14</caption>\n",
       "<thead>\n",
       "\t<tr><th scope=col>VendorID</th><th scope=col>passenger_count</th><th scope=col>trip_distance</th><th scope=col>pickup_longitude</th><th scope=col>pickup_latitude</th><th scope=col>RatecodeID</th><th scope=col>dropoff_longitude</th><th scope=col>dropoff_latitude</th><th scope=col>fare_amount</th><th scope=col>extra</th><th scope=col>mta_tax</th><th scope=col>tip_amount</th><th scope=col>tolls_amount</th><th scope=col>total_amount</th></tr>\n",
       "\t<tr><th scope=col>&lt;dbl&gt;</th><th scope=col>&lt;dbl&gt;</th><th scope=col>&lt;dbl&gt;</th><th scope=col>&lt;dbl&gt;</th><th scope=col>&lt;dbl&gt;</th><th scope=col>&lt;dbl&gt;</th><th scope=col>&lt;dbl&gt;</th><th scope=col>&lt;dbl&gt;</th><th scope=col>&lt;dbl&gt;</th><th scope=col>&lt;dbl&gt;</th><th scope=col>&lt;dbl&gt;</th><th scope=col>&lt;dbl&gt;</th><th scope=col>&lt;dbl&gt;</th><th scope=col>&lt;dbl&gt;</th></tr>\n",
       "</thead>\n",
       "<tbody>\n",
       "\t<tr><td>2</td><td>2</td><td> 1.10</td><td>-73.99037</td><td>40.73470</td><td>1</td><td>-73.98184</td><td>40.73241</td><td> 7.5</td><td>0.5</td><td>0.5</td><td>0</td><td>0</td><td> 8.8</td></tr>\n",
       "\t<tr><td>2</td><td>5</td><td> 4.90</td><td>-73.98078</td><td>40.72991</td><td>1</td><td>-73.94447</td><td>40.71668</td><td>18.0</td><td>0.5</td><td>0.5</td><td>0</td><td>0</td><td>19.3</td></tr>\n",
       "\t<tr><td>2</td><td>1</td><td>10.54</td><td>-73.98455</td><td>40.67957</td><td>1</td><td>-73.95027</td><td>40.78893</td><td>33.0</td><td>0.5</td><td>0.5</td><td>0</td><td>0</td><td>34.3</td></tr>\n",
       "\t<tr><td>2</td><td>1</td><td> 4.75</td><td>-73.99347</td><td>40.71899</td><td>1</td><td>-73.96224</td><td>40.65733</td><td>16.5</td><td>0.0</td><td>0.5</td><td>0</td><td>0</td><td>17.3</td></tr>\n",
       "\t<tr><td>2</td><td>3</td><td> 1.76</td><td>-73.96062</td><td>40.78133</td><td>1</td><td>-73.97726</td><td>40.75851</td><td> 8.0</td><td>0.0</td><td>0.5</td><td>0</td><td>0</td><td> 8.8</td></tr>\n",
       "\t<tr><td>2</td><td>2</td><td> 5.52</td><td>-73.98012</td><td>40.74305</td><td>1</td><td>-73.91349</td><td>40.76314</td><td>19.0</td><td>0.5</td><td>0.5</td><td>0</td><td>0</td><td>20.3</td></tr>\n",
       "</tbody>\n",
       "</table>\n"
      ],
      "text/latex": [
       "A tibble: 6 × 14\n",
       "\\begin{tabular}{llllllllllllll}\n",
       " VendorID & passenger\\_count & trip\\_distance & pickup\\_longitude & pickup\\_latitude & RatecodeID & dropoff\\_longitude & dropoff\\_latitude & fare\\_amount & extra & mta\\_tax & tip\\_amount & tolls\\_amount & total\\_amount\\\\\n",
       " <dbl> & <dbl> & <dbl> & <dbl> & <dbl> & <dbl> & <dbl> & <dbl> & <dbl> & <dbl> & <dbl> & <dbl> & <dbl> & <dbl>\\\\\n",
       "\\hline\n",
       "\t 2 & 2 &  1.10 & -73.99037 & 40.73470 & 1 & -73.98184 & 40.73241 &  7.5 & 0.5 & 0.5 & 0 & 0 &  8.8\\\\\n",
       "\t 2 & 5 &  4.90 & -73.98078 & 40.72991 & 1 & -73.94447 & 40.71668 & 18.0 & 0.5 & 0.5 & 0 & 0 & 19.3\\\\\n",
       "\t 2 & 1 & 10.54 & -73.98455 & 40.67957 & 1 & -73.95027 & 40.78893 & 33.0 & 0.5 & 0.5 & 0 & 0 & 34.3\\\\\n",
       "\t 2 & 1 &  4.75 & -73.99347 & 40.71899 & 1 & -73.96224 & 40.65733 & 16.5 & 0.0 & 0.5 & 0 & 0 & 17.3\\\\\n",
       "\t 2 & 3 &  1.76 & -73.96062 & 40.78133 & 1 & -73.97726 & 40.75851 &  8.0 & 0.0 & 0.5 & 0 & 0 &  8.8\\\\\n",
       "\t 2 & 2 &  5.52 & -73.98012 & 40.74305 & 1 & -73.91349 & 40.76314 & 19.0 & 0.5 & 0.5 & 0 & 0 & 20.3\\\\\n",
       "\\end{tabular}\n"
      ],
      "text/markdown": [
       "\n",
       "A tibble: 6 × 14\n",
       "\n",
       "| VendorID &lt;dbl&gt; | passenger_count &lt;dbl&gt; | trip_distance &lt;dbl&gt; | pickup_longitude &lt;dbl&gt; | pickup_latitude &lt;dbl&gt; | RatecodeID &lt;dbl&gt; | dropoff_longitude &lt;dbl&gt; | dropoff_latitude &lt;dbl&gt; | fare_amount &lt;dbl&gt; | extra &lt;dbl&gt; | mta_tax &lt;dbl&gt; | tip_amount &lt;dbl&gt; | tolls_amount &lt;dbl&gt; | total_amount &lt;dbl&gt; |\n",
       "|---|---|---|---|---|---|---|---|---|---|---|---|---|---|\n",
       "| 2 | 2 |  1.10 | -73.99037 | 40.73470 | 1 | -73.98184 | 40.73241 |  7.5 | 0.5 | 0.5 | 0 | 0 |  8.8 |\n",
       "| 2 | 5 |  4.90 | -73.98078 | 40.72991 | 1 | -73.94447 | 40.71668 | 18.0 | 0.5 | 0.5 | 0 | 0 | 19.3 |\n",
       "| 2 | 1 | 10.54 | -73.98455 | 40.67957 | 1 | -73.95027 | 40.78893 | 33.0 | 0.5 | 0.5 | 0 | 0 | 34.3 |\n",
       "| 2 | 1 |  4.75 | -73.99347 | 40.71899 | 1 | -73.96224 | 40.65733 | 16.5 | 0.0 | 0.5 | 0 | 0 | 17.3 |\n",
       "| 2 | 3 |  1.76 | -73.96062 | 40.78133 | 1 | -73.97726 | 40.75851 |  8.0 | 0.0 | 0.5 | 0 | 0 |  8.8 |\n",
       "| 2 | 2 |  5.52 | -73.98012 | 40.74305 | 1 | -73.91349 | 40.76314 | 19.0 | 0.5 | 0.5 | 0 | 0 | 20.3 |\n",
       "\n"
      ],
      "text/plain": [
       "  VendorID passenger_count trip_distance pickup_longitude pickup_latitude\n",
       "1 2        2                1.10         -73.99037        40.73470       \n",
       "2 2        5                4.90         -73.98078        40.72991       \n",
       "3 2        1               10.54         -73.98455        40.67957       \n",
       "4 2        1                4.75         -73.99347        40.71899       \n",
       "5 2        3                1.76         -73.96062        40.78133       \n",
       "6 2        2                5.52         -73.98012        40.74305       \n",
       "  RatecodeID dropoff_longitude dropoff_latitude fare_amount extra mta_tax\n",
       "1 1          -73.98184         40.73241          7.5        0.5   0.5    \n",
       "2 1          -73.94447         40.71668         18.0        0.5   0.5    \n",
       "3 1          -73.95027         40.78893         33.0        0.5   0.5    \n",
       "4 1          -73.96224         40.65733         16.5        0.0   0.5    \n",
       "5 1          -73.97726         40.75851          8.0        0.0   0.5    \n",
       "6 1          -73.91349         40.76314         19.0        0.5   0.5    \n",
       "  tip_amount tolls_amount total_amount\n",
       "1 0          0             8.8        \n",
       "2 0          0            19.3        \n",
       "3 0          0            34.3        \n",
       "4 0          0            17.3        \n",
       "5 0          0             8.8        \n",
       "6 0          0            20.3        "
      ]
     },
     "metadata": {},
     "output_type": "display_data"
    }
   ],
   "source": [
    "# Create taxis_numeric\n",
    "taxis_numeric <- taxis[,c(\"VendorID\",\"passenger_count\",\"trip_distance\",\"pickup_longitude\",\"pickup_latitude\",\"RatecodeID\",\"dropoff_longitude\",\"dropoff_latitude\",\"fare_amount\",\"extra\",\"mta_tax\",\"tip_amount\",\"tolls_amount\",\"total_amount\")]\n",
    "head(taxis_numeric)"
   ]
  },
  {
   "cell_type": "code",
   "execution_count": 14,
   "id": "0e7c9d42",
   "metadata": {},
   "outputs": [
    {
     "data": {
      "text/html": [
       "<style>\n",
       ".dl-inline {width: auto; margin:0; padding: 0}\n",
       ".dl-inline>dt, .dl-inline>dd {float: none; width: auto; display: inline-block}\n",
       ".dl-inline>dt::after {content: \":\\0020\"; padding-right: .5ex}\n",
       ".dl-inline>dt:not(:first-of-type) {padding-left: .5ex}\n",
       "</style><dl class=dl-inline><dt>VendorID</dt><dd>1.54751508283057</dd><dt>passenger_count</dt><dd>1.78950701643279</dd><dt>trip_distance</dt><dd>3.51200293323556</dd><dt>pickup_longitude</dt><dd>-72.7933182821111</dd><dt>pickup_latitude</dt><dd>40.0913767498186</dd><dt>RatecodeID</dt><dd>1.05749808339722</dd><dt>dropoff_longitude</dt><dd>-72.8546072870671</dd><dt>dropoff_latitude</dt><dd>40.1344258129221</dd><dt>fare_amount</dt><dd>13.1430808973034</dd><dt>extra</dt><dd>0.465384487183761</dd><dt>mta_tax</dt><dd>0.494683510549648</dd><dt>tip_amount</dt><dd>1.52837805406486</dd><dt>tolls_amount</dt><dd>0.233083897203427</dd><dt>total_amount</dt><dd>16.1641408619713</dd></dl>\n"
      ],
      "text/latex": [
       "\\begin{description*}\n",
       "\\item[VendorID] 1.54751508283057\n",
       "\\item[passenger\\textbackslash{}\\_count] 1.78950701643279\n",
       "\\item[trip\\textbackslash{}\\_distance] 3.51200293323556\n",
       "\\item[pickup\\textbackslash{}\\_longitude] -72.7933182821111\n",
       "\\item[pickup\\textbackslash{}\\_latitude] 40.0913767498186\n",
       "\\item[RatecodeID] 1.05749808339722\n",
       "\\item[dropoff\\textbackslash{}\\_longitude] -72.8546072870671\n",
       "\\item[dropoff\\textbackslash{}\\_latitude] 40.1344258129221\n",
       "\\item[fare\\textbackslash{}\\_amount] 13.1430808973034\n",
       "\\item[extra] 0.465384487183761\n",
       "\\item[mta\\textbackslash{}\\_tax] 0.494683510549648\n",
       "\\item[tip\\textbackslash{}\\_amount] 1.52837805406486\n",
       "\\item[tolls\\textbackslash{}\\_amount] 0.233083897203427\n",
       "\\item[total\\textbackslash{}\\_amount] 16.1641408619713\n",
       "\\end{description*}\n"
      ],
      "text/markdown": [
       "VendorID\n",
       ":   1.54751508283057passenger_count\n",
       ":   1.78950701643279trip_distance\n",
       ":   3.51200293323556pickup_longitude\n",
       ":   -72.7933182821111pickup_latitude\n",
       ":   40.0913767498186RatecodeID\n",
       ":   1.05749808339722dropoff_longitude\n",
       ":   -72.8546072870671dropoff_latitude\n",
       ":   40.1344258129221fare_amount\n",
       ":   13.1430808973034extra\n",
       ":   0.465384487183761mta_tax\n",
       ":   0.494683510549648tip_amount\n",
       ":   1.52837805406486tolls_amount\n",
       ":   0.233083897203427total_amount\n",
       ":   16.1641408619713\n",
       "\n"
      ],
      "text/plain": [
       "         VendorID   passenger_count     trip_distance  pickup_longitude \n",
       "        1.5475151         1.7895070         3.5120029       -72.7933183 \n",
       "  pickup_latitude        RatecodeID dropoff_longitude  dropoff_latitude \n",
       "       40.0913767         1.0574981       -72.8546073        40.1344258 \n",
       "      fare_amount             extra           mta_tax        tip_amount \n",
       "       13.1430809         0.4653845         0.4946835         1.5283781 \n",
       "     tolls_amount      total_amount \n",
       "        0.2330839        16.1641409 "
      ]
     },
     "metadata": {},
     "output_type": "display_data"
    }
   ],
   "source": [
    "# Find means of all numeric columns\n",
    "all_means <- sapply(taxis_numeric,mean)\n",
    "all_means"
   ]
  },
  {
   "cell_type": "code",
   "execution_count": 15,
   "id": "79cc20f9",
   "metadata": {},
   "outputs": [
    {
     "data": {
      "text/html": [
       "<style>\n",
       ".list-inline {list-style: none; margin:0; padding: 0}\n",
       ".list-inline>li {display: inline-block}\n",
       ".list-inline>li:not(:last-child)::after {content: \"\\00b7\"; padding: 0 .5ex}\n",
       "</style>\n",
       "<ol class=list-inline><li>'trip_distance'</li><li>'total_amount'</li><li>'passenger_count'</li></ol>\n"
      ],
      "text/latex": [
       "\\begin{enumerate*}\n",
       "\\item 'trip\\_distance'\n",
       "\\item 'total\\_amount'\n",
       "\\item 'passenger\\_count'\n",
       "\\end{enumerate*}\n"
      ],
      "text/markdown": [
       "1. 'trip_distance'\n",
       "2. 'total_amount'\n",
       "3. 'passenger_count'\n",
       "\n",
       "\n"
      ],
      "text/plain": [
       "[1] \"trip_distance\"   \"total_amount\"    \"passenger_count\""
      ]
     },
     "metadata": {},
     "output_type": "display_data"
    }
   ],
   "source": [
    "# Define columns\n",
    "columns <- c('trip_distance','total_amount','passenger_count')\n",
    "head(columns)"
   ]
  },
  {
   "cell_type": "code",
   "execution_count": 16,
   "id": "03faae23",
   "metadata": {},
   "outputs": [],
   "source": [
    "# Create summary function\n",
    "taxis_summary <- function(col, data) {\n",
    "  c(\n",
    "    mean = mean(data[[col]]), \n",
    "    sd = sd(data[[col]]),\n",
    "    quantile(data[[col]], c(.25,.50,.75))\n",
    "    )\n",
    "}"
   ]
  },
  {
   "cell_type": "code",
   "execution_count": 17,
   "id": "b384c207",
   "metadata": {},
   "outputs": [
    {
     "data": {
      "text/html": [
       "<table class=\"dataframe\">\n",
       "<caption>A matrix: 5 × 3 of type dbl</caption>\n",
       "<thead>\n",
       "\t<tr><th></th><th scope=col>trip_distance</th><th scope=col>total_amount</th><th scope=col>passenger_count</th></tr>\n",
       "</thead>\n",
       "<tbody>\n",
       "\t<tr><th scope=row>mean</th><td>3.512003</td><td>16.16414</td><td>1.789507</td></tr>\n",
       "\t<tr><th scope=row>sd</th><td>3.745331</td><td>13.44221</td><td>1.387008</td></tr>\n",
       "\t<tr><th scope=row>25%</th><td>1.160000</td><td> 8.30000</td><td>1.000000</td></tr>\n",
       "\t<tr><th scope=row>50%</th><td>2.200000</td><td>11.80000</td><td>1.000000</td></tr>\n",
       "\t<tr><th scope=row>75%</th><td>4.480000</td><td>18.95000</td><td>2.000000</td></tr>\n",
       "</tbody>\n",
       "</table>\n"
      ],
      "text/latex": [
       "A matrix: 5 × 3 of type dbl\n",
       "\\begin{tabular}{r|lll}\n",
       "  & trip\\_distance & total\\_amount & passenger\\_count\\\\\n",
       "\\hline\n",
       "\tmean & 3.512003 & 16.16414 & 1.789507\\\\\n",
       "\tsd & 3.745331 & 13.44221 & 1.387008\\\\\n",
       "\t25\\% & 1.160000 &  8.30000 & 1.000000\\\\\n",
       "\t50\\% & 2.200000 & 11.80000 & 1.000000\\\\\n",
       "\t75\\% & 4.480000 & 18.95000 & 2.000000\\\\\n",
       "\\end{tabular}\n"
      ],
      "text/markdown": [
       "\n",
       "A matrix: 5 × 3 of type dbl\n",
       "\n",
       "| <!--/--> | trip_distance | total_amount | passenger_count |\n",
       "|---|---|---|---|\n",
       "| mean | 3.512003 | 16.16414 | 1.789507 |\n",
       "| sd | 3.745331 | 13.44221 | 1.387008 |\n",
       "| 25% | 1.160000 |  8.30000 | 1.000000 |\n",
       "| 50% | 2.200000 | 11.80000 | 1.000000 |\n",
       "| 75% | 4.480000 | 18.95000 | 2.000000 |\n",
       "\n"
      ],
      "text/plain": [
       "     trip_distance total_amount passenger_count\n",
       "mean 3.512003      16.16414     1.789507       \n",
       "sd   3.745331      13.44221     1.387008       \n",
       "25%  1.160000       8.30000     1.000000       \n",
       "50%  2.200000      11.80000     1.000000       \n",
       "75%  4.480000      18.95000     2.000000       "
      ]
     },
     "metadata": {},
     "output_type": "display_data"
    }
   ],
   "source": [
    "# Use sapply to summarize columns\n",
    "sapply(columns, taxis_summary, taxis)"
   ]
  },
  {
   "cell_type": "code",
   "execution_count": 18,
   "id": "2950d4c2",
   "metadata": {},
   "outputs": [
    {
     "data": {
      "text/html": [
       "0.878415880592039"
      ],
      "text/latex": [
       "0.878415880592039"
      ],
      "text/markdown": [
       "0.878415880592039"
      ],
      "text/plain": [
       "[1] 0.8784159"
      ]
     },
     "metadata": {},
     "output_type": "display_data"
    }
   ],
   "source": [
    "# Find the correlation between trip_distance and total_amount\n",
    "cor(taxis$trip_distance,taxis$total_amount)"
   ]
  },
  {
   "cell_type": "code",
   "execution_count": 19,
   "id": "ce0ade14",
   "metadata": {},
   "outputs": [
    {
     "data": {
      "text/html": [
       "-0.300005788695694"
      ],
      "text/latex": [
       "-0.300005788695694"
      ],
      "text/markdown": [
       "-0.300005788695694"
      ],
      "text/plain": [
       "[1] -0.3000058"
      ]
     },
     "metadata": {},
     "output_type": "display_data"
    }
   ],
   "source": [
    "# Find the correlation of a different pair of columns\n",
    "cor(taxis$extra,taxis$total_amount)"
   ]
  },
  {
   "cell_type": "markdown",
   "id": "42ae1ea3",
   "metadata": {},
   "source": [
    "### Section 2: Manipulating Data"
   ]
  },
  {
   "cell_type": "code",
   "execution_count": 20,
   "id": "4f5ed5f7",
   "metadata": {},
   "outputs": [
    {
     "data": {
      "text/html": [
       "<style>\n",
       ".list-inline {list-style: none; margin:0; padding: 0}\n",
       ".list-inline>li {display: inline-block}\n",
       ".list-inline>li:not(:last-child)::after {content: \"\\00b7\"; padding: 0 .5ex}\n",
       "</style>\n",
       "<ol class=list-inline><li>'dropoff_latitude'</li><li>'dropoff_longitude'</li><li>'extra'</li><li>'fare_amount'</li><li>'improvement_surcharge'</li><li>'mta_tax'</li><li>'passenger_count'</li><li>'payment_type'</li><li>'pickup_latitude'</li><li>'pickup_longitude'</li><li>'RatecodeID'</li><li>'store_and_fwd_flag'</li><li>'tip_amount'</li><li>'tolls_amount'</li><li>'total_amount'</li><li>'tpep_dropoff_datetime'</li><li>'tpep_pickup_datetime'</li><li>'trip_distance'</li><li>'VendorID'</li></ol>\n"
      ],
      "text/latex": [
       "\\begin{enumerate*}\n",
       "\\item 'dropoff\\_latitude'\n",
       "\\item 'dropoff\\_longitude'\n",
       "\\item 'extra'\n",
       "\\item 'fare\\_amount'\n",
       "\\item 'improvement\\_surcharge'\n",
       "\\item 'mta\\_tax'\n",
       "\\item 'passenger\\_count'\n",
       "\\item 'payment\\_type'\n",
       "\\item 'pickup\\_latitude'\n",
       "\\item 'pickup\\_longitude'\n",
       "\\item 'RatecodeID'\n",
       "\\item 'store\\_and\\_fwd\\_flag'\n",
       "\\item 'tip\\_amount'\n",
       "\\item 'tolls\\_amount'\n",
       "\\item 'total\\_amount'\n",
       "\\item 'tpep\\_dropoff\\_datetime'\n",
       "\\item 'tpep\\_pickup\\_datetime'\n",
       "\\item 'trip\\_distance'\n",
       "\\item 'VendorID'\n",
       "\\end{enumerate*}\n"
      ],
      "text/markdown": [
       "1. 'dropoff_latitude'\n",
       "2. 'dropoff_longitude'\n",
       "3. 'extra'\n",
       "4. 'fare_amount'\n",
       "5. 'improvement_surcharge'\n",
       "6. 'mta_tax'\n",
       "7. 'passenger_count'\n",
       "8. 'payment_type'\n",
       "9. 'pickup_latitude'\n",
       "10. 'pickup_longitude'\n",
       "11. 'RatecodeID'\n",
       "12. 'store_and_fwd_flag'\n",
       "13. 'tip_amount'\n",
       "14. 'tolls_amount'\n",
       "15. 'total_amount'\n",
       "16. 'tpep_dropoff_datetime'\n",
       "17. 'tpep_pickup_datetime'\n",
       "18. 'trip_distance'\n",
       "19. 'VendorID'\n",
       "\n",
       "\n"
      ],
      "text/plain": [
       " [1] \"dropoff_latitude\"      \"dropoff_longitude\"     \"extra\"                \n",
       " [4] \"fare_amount\"           \"improvement_surcharge\" \"mta_tax\"              \n",
       " [7] \"passenger_count\"       \"payment_type\"          \"pickup_latitude\"      \n",
       "[10] \"pickup_longitude\"      \"RatecodeID\"            \"store_and_fwd_flag\"   \n",
       "[13] \"tip_amount\"            \"tolls_amount\"          \"total_amount\"         \n",
       "[16] \"tpep_dropoff_datetime\" \"tpep_pickup_datetime\"  \"trip_distance\"        \n",
       "[19] \"VendorID\"             "
      ]
     },
     "metadata": {},
     "output_type": "display_data"
    }
   ],
   "source": [
    "ls(taxis)"
   ]
  },
  {
   "cell_type": "code",
   "execution_count": 21,
   "id": "9a2770a0",
   "metadata": {},
   "outputs": [],
   "source": [
    "# Select the geographic columns\n",
    "taxis_geo <- taxis %>% \n",
    "  select(pickup_longitude, pickup_latitude, dropoff_longitude, dropoff_latitude,trip_distance)"
   ]
  },
  {
   "cell_type": "code",
   "execution_count": 22,
   "id": "b59a15dd",
   "metadata": {},
   "outputs": [
    {
     "data": {
      "text/html": [
       "<table class=\"dataframe\">\n",
       "<caption>A tibble: 6 × 5</caption>\n",
       "<thead>\n",
       "\t<tr><th scope=col>pickup_longitude</th><th scope=col>pickup_latitude</th><th scope=col>dropoff_longitude</th><th scope=col>dropoff_latitude</th><th scope=col>trip_distance</th></tr>\n",
       "\t<tr><th scope=col>&lt;dbl&gt;</th><th scope=col>&lt;dbl&gt;</th><th scope=col>&lt;dbl&gt;</th><th scope=col>&lt;dbl&gt;</th><th scope=col>&lt;dbl&gt;</th></tr>\n",
       "</thead>\n",
       "<tbody>\n",
       "\t<tr><td>-73.99037</td><td>40.73470</td><td>-73.98184</td><td>40.73241</td><td> 1.10</td></tr>\n",
       "\t<tr><td>-73.98078</td><td>40.72991</td><td>-73.94447</td><td>40.71668</td><td> 4.90</td></tr>\n",
       "\t<tr><td>-73.98455</td><td>40.67957</td><td>-73.95027</td><td>40.78893</td><td>10.54</td></tr>\n",
       "\t<tr><td>-73.99347</td><td>40.71899</td><td>-73.96224</td><td>40.65733</td><td> 4.75</td></tr>\n",
       "\t<tr><td>-73.96062</td><td>40.78133</td><td>-73.97726</td><td>40.75851</td><td> 1.76</td></tr>\n",
       "\t<tr><td>-73.98012</td><td>40.74305</td><td>-73.91349</td><td>40.76314</td><td> 5.52</td></tr>\n",
       "</tbody>\n",
       "</table>\n"
      ],
      "text/latex": [
       "A tibble: 6 × 5\n",
       "\\begin{tabular}{lllll}\n",
       " pickup\\_longitude & pickup\\_latitude & dropoff\\_longitude & dropoff\\_latitude & trip\\_distance\\\\\n",
       " <dbl> & <dbl> & <dbl> & <dbl> & <dbl>\\\\\n",
       "\\hline\n",
       "\t -73.99037 & 40.73470 & -73.98184 & 40.73241 &  1.10\\\\\n",
       "\t -73.98078 & 40.72991 & -73.94447 & 40.71668 &  4.90\\\\\n",
       "\t -73.98455 & 40.67957 & -73.95027 & 40.78893 & 10.54\\\\\n",
       "\t -73.99347 & 40.71899 & -73.96224 & 40.65733 &  4.75\\\\\n",
       "\t -73.96062 & 40.78133 & -73.97726 & 40.75851 &  1.76\\\\\n",
       "\t -73.98012 & 40.74305 & -73.91349 & 40.76314 &  5.52\\\\\n",
       "\\end{tabular}\n"
      ],
      "text/markdown": [
       "\n",
       "A tibble: 6 × 5\n",
       "\n",
       "| pickup_longitude &lt;dbl&gt; | pickup_latitude &lt;dbl&gt; | dropoff_longitude &lt;dbl&gt; | dropoff_latitude &lt;dbl&gt; | trip_distance &lt;dbl&gt; |\n",
       "|---|---|---|---|---|\n",
       "| -73.99037 | 40.73470 | -73.98184 | 40.73241 |  1.10 |\n",
       "| -73.98078 | 40.72991 | -73.94447 | 40.71668 |  4.90 |\n",
       "| -73.98455 | 40.67957 | -73.95027 | 40.78893 | 10.54 |\n",
       "| -73.99347 | 40.71899 | -73.96224 | 40.65733 |  4.75 |\n",
       "| -73.96062 | 40.78133 | -73.97726 | 40.75851 |  1.76 |\n",
       "| -73.98012 | 40.74305 | -73.91349 | 40.76314 |  5.52 |\n",
       "\n"
      ],
      "text/plain": [
       "  pickup_longitude pickup_latitude dropoff_longitude dropoff_latitude\n",
       "1 -73.99037        40.73470        -73.98184         40.73241        \n",
       "2 -73.98078        40.72991        -73.94447         40.71668        \n",
       "3 -73.98455        40.67957        -73.95027         40.78893        \n",
       "4 -73.99347        40.71899        -73.96224         40.65733        \n",
       "5 -73.96062        40.78133        -73.97726         40.75851        \n",
       "6 -73.98012        40.74305        -73.91349         40.76314        \n",
       "  trip_distance\n",
       "1  1.10        \n",
       "2  4.90        \n",
       "3 10.54        \n",
       "4  4.75        \n",
       "5  1.76        \n",
       "6  5.52        "
      ]
     },
     "metadata": {},
     "output_type": "display_data"
    }
   ],
   "source": [
    "head(taxis_geo)"
   ]
  },
  {
   "cell_type": "code",
   "execution_count": 23,
   "id": "433524be",
   "metadata": {},
   "outputs": [],
   "source": [
    "# Create taxis_smaller\n",
    "taxis_smaller <- taxis %>% \n",
    "  select(-VendorID, -store_and_fwd_flag)"
   ]
  },
  {
   "cell_type": "code",
   "execution_count": 24,
   "id": "dc5424ce",
   "metadata": {},
   "outputs": [
    {
     "data": {
      "text/html": [
       "<table class=\"dataframe\">\n",
       "<caption>A tibble: 6 × 17</caption>\n",
       "<thead>\n",
       "\t<tr><th scope=col>tpep_pickup_datetime</th><th scope=col>tpep_dropoff_datetime</th><th scope=col>passenger_count</th><th scope=col>trip_distance</th><th scope=col>pickup_longitude</th><th scope=col>pickup_latitude</th><th scope=col>RatecodeID</th><th scope=col>dropoff_longitude</th><th scope=col>dropoff_latitude</th><th scope=col>payment_type</th><th scope=col>fare_amount</th><th scope=col>extra</th><th scope=col>mta_tax</th><th scope=col>tip_amount</th><th scope=col>tolls_amount</th><th scope=col>improvement_surcharge</th><th scope=col>total_amount</th></tr>\n",
       "\t<tr><th scope=col>&lt;dttm&gt;</th><th scope=col>&lt;dttm&gt;</th><th scope=col>&lt;dbl&gt;</th><th scope=col>&lt;dbl&gt;</th><th scope=col>&lt;dbl&gt;</th><th scope=col>&lt;dbl&gt;</th><th scope=col>&lt;dbl&gt;</th><th scope=col>&lt;dbl&gt;</th><th scope=col>&lt;dbl&gt;</th><th scope=col>&lt;dbl&gt;</th><th scope=col>&lt;dbl&gt;</th><th scope=col>&lt;dbl&gt;</th><th scope=col>&lt;dbl&gt;</th><th scope=col>&lt;dbl&gt;</th><th scope=col>&lt;dbl&gt;</th><th scope=col>&lt;dbl&gt;</th><th scope=col>&lt;dbl&gt;</th></tr>\n",
       "</thead>\n",
       "<tbody>\n",
       "\t<tr><td>2016-01-01</td><td>2016-01-01 00:00:00</td><td>2</td><td> 1.10</td><td>-73.99037</td><td>40.73470</td><td>1</td><td>-73.98184</td><td>40.73241</td><td>2</td><td> 7.5</td><td>0.5</td><td>0.5</td><td>0</td><td>0</td><td>0.3</td><td> 8.8</td></tr>\n",
       "\t<tr><td>2016-01-01</td><td>2016-01-01 00:00:00</td><td>5</td><td> 4.90</td><td>-73.98078</td><td>40.72991</td><td>1</td><td>-73.94447</td><td>40.71668</td><td>1</td><td>18.0</td><td>0.5</td><td>0.5</td><td>0</td><td>0</td><td>0.3</td><td>19.3</td></tr>\n",
       "\t<tr><td>2016-01-01</td><td>2016-01-01 00:00:00</td><td>1</td><td>10.54</td><td>-73.98455</td><td>40.67957</td><td>1</td><td>-73.95027</td><td>40.78893</td><td>1</td><td>33.0</td><td>0.5</td><td>0.5</td><td>0</td><td>0</td><td>0.3</td><td>34.3</td></tr>\n",
       "\t<tr><td>2016-01-01</td><td>2016-01-01 00:00:00</td><td>1</td><td> 4.75</td><td>-73.99347</td><td>40.71899</td><td>1</td><td>-73.96224</td><td>40.65733</td><td>2</td><td>16.5</td><td>0.0</td><td>0.5</td><td>0</td><td>0</td><td>0.3</td><td>17.3</td></tr>\n",
       "\t<tr><td>2016-01-01</td><td>2016-01-01 00:00:00</td><td>3</td><td> 1.76</td><td>-73.96062</td><td>40.78133</td><td>1</td><td>-73.97726</td><td>40.75851</td><td>2</td><td> 8.0</td><td>0.0</td><td>0.5</td><td>0</td><td>0</td><td>0.3</td><td> 8.8</td></tr>\n",
       "\t<tr><td>2016-01-01</td><td>2016-01-01 00:18:30</td><td>2</td><td> 5.52</td><td>-73.98012</td><td>40.74305</td><td>1</td><td>-73.91349</td><td>40.76314</td><td>2</td><td>19.0</td><td>0.5</td><td>0.5</td><td>0</td><td>0</td><td>0.3</td><td>20.3</td></tr>\n",
       "</tbody>\n",
       "</table>\n"
      ],
      "text/latex": [
       "A tibble: 6 × 17\n",
       "\\begin{tabular}{lllllllllllllllll}\n",
       " tpep\\_pickup\\_datetime & tpep\\_dropoff\\_datetime & passenger\\_count & trip\\_distance & pickup\\_longitude & pickup\\_latitude & RatecodeID & dropoff\\_longitude & dropoff\\_latitude & payment\\_type & fare\\_amount & extra & mta\\_tax & tip\\_amount & tolls\\_amount & improvement\\_surcharge & total\\_amount\\\\\n",
       " <dttm> & <dttm> & <dbl> & <dbl> & <dbl> & <dbl> & <dbl> & <dbl> & <dbl> & <dbl> & <dbl> & <dbl> & <dbl> & <dbl> & <dbl> & <dbl> & <dbl>\\\\\n",
       "\\hline\n",
       "\t 2016-01-01 & 2016-01-01 00:00:00 & 2 &  1.10 & -73.99037 & 40.73470 & 1 & -73.98184 & 40.73241 & 2 &  7.5 & 0.5 & 0.5 & 0 & 0 & 0.3 &  8.8\\\\\n",
       "\t 2016-01-01 & 2016-01-01 00:00:00 & 5 &  4.90 & -73.98078 & 40.72991 & 1 & -73.94447 & 40.71668 & 1 & 18.0 & 0.5 & 0.5 & 0 & 0 & 0.3 & 19.3\\\\\n",
       "\t 2016-01-01 & 2016-01-01 00:00:00 & 1 & 10.54 & -73.98455 & 40.67957 & 1 & -73.95027 & 40.78893 & 1 & 33.0 & 0.5 & 0.5 & 0 & 0 & 0.3 & 34.3\\\\\n",
       "\t 2016-01-01 & 2016-01-01 00:00:00 & 1 &  4.75 & -73.99347 & 40.71899 & 1 & -73.96224 & 40.65733 & 2 & 16.5 & 0.0 & 0.5 & 0 & 0 & 0.3 & 17.3\\\\\n",
       "\t 2016-01-01 & 2016-01-01 00:00:00 & 3 &  1.76 & -73.96062 & 40.78133 & 1 & -73.97726 & 40.75851 & 2 &  8.0 & 0.0 & 0.5 & 0 & 0 & 0.3 &  8.8\\\\\n",
       "\t 2016-01-01 & 2016-01-01 00:18:30 & 2 &  5.52 & -73.98012 & 40.74305 & 1 & -73.91349 & 40.76314 & 2 & 19.0 & 0.5 & 0.5 & 0 & 0 & 0.3 & 20.3\\\\\n",
       "\\end{tabular}\n"
      ],
      "text/markdown": [
       "\n",
       "A tibble: 6 × 17\n",
       "\n",
       "| tpep_pickup_datetime &lt;dttm&gt; | tpep_dropoff_datetime &lt;dttm&gt; | passenger_count &lt;dbl&gt; | trip_distance &lt;dbl&gt; | pickup_longitude &lt;dbl&gt; | pickup_latitude &lt;dbl&gt; | RatecodeID &lt;dbl&gt; | dropoff_longitude &lt;dbl&gt; | dropoff_latitude &lt;dbl&gt; | payment_type &lt;dbl&gt; | fare_amount &lt;dbl&gt; | extra &lt;dbl&gt; | mta_tax &lt;dbl&gt; | tip_amount &lt;dbl&gt; | tolls_amount &lt;dbl&gt; | improvement_surcharge &lt;dbl&gt; | total_amount &lt;dbl&gt; |\n",
       "|---|---|---|---|---|---|---|---|---|---|---|---|---|---|---|---|---|\n",
       "| 2016-01-01 | 2016-01-01 00:00:00 | 2 |  1.10 | -73.99037 | 40.73470 | 1 | -73.98184 | 40.73241 | 2 |  7.5 | 0.5 | 0.5 | 0 | 0 | 0.3 |  8.8 |\n",
       "| 2016-01-01 | 2016-01-01 00:00:00 | 5 |  4.90 | -73.98078 | 40.72991 | 1 | -73.94447 | 40.71668 | 1 | 18.0 | 0.5 | 0.5 | 0 | 0 | 0.3 | 19.3 |\n",
       "| 2016-01-01 | 2016-01-01 00:00:00 | 1 | 10.54 | -73.98455 | 40.67957 | 1 | -73.95027 | 40.78893 | 1 | 33.0 | 0.5 | 0.5 | 0 | 0 | 0.3 | 34.3 |\n",
       "| 2016-01-01 | 2016-01-01 00:00:00 | 1 |  4.75 | -73.99347 | 40.71899 | 1 | -73.96224 | 40.65733 | 2 | 16.5 | 0.0 | 0.5 | 0 | 0 | 0.3 | 17.3 |\n",
       "| 2016-01-01 | 2016-01-01 00:00:00 | 3 |  1.76 | -73.96062 | 40.78133 | 1 | -73.97726 | 40.75851 | 2 |  8.0 | 0.0 | 0.5 | 0 | 0 | 0.3 |  8.8 |\n",
       "| 2016-01-01 | 2016-01-01 00:18:30 | 2 |  5.52 | -73.98012 | 40.74305 | 1 | -73.91349 | 40.76314 | 2 | 19.0 | 0.5 | 0.5 | 0 | 0 | 0.3 | 20.3 |\n",
       "\n"
      ],
      "text/plain": [
       "  tpep_pickup_datetime tpep_dropoff_datetime passenger_count trip_distance\n",
       "1 2016-01-01           2016-01-01 00:00:00   2                1.10        \n",
       "2 2016-01-01           2016-01-01 00:00:00   5                4.90        \n",
       "3 2016-01-01           2016-01-01 00:00:00   1               10.54        \n",
       "4 2016-01-01           2016-01-01 00:00:00   1                4.75        \n",
       "5 2016-01-01           2016-01-01 00:00:00   3                1.76        \n",
       "6 2016-01-01           2016-01-01 00:18:30   2                5.52        \n",
       "  pickup_longitude pickup_latitude RatecodeID dropoff_longitude\n",
       "1 -73.99037        40.73470        1          -73.98184        \n",
       "2 -73.98078        40.72991        1          -73.94447        \n",
       "3 -73.98455        40.67957        1          -73.95027        \n",
       "4 -73.99347        40.71899        1          -73.96224        \n",
       "5 -73.96062        40.78133        1          -73.97726        \n",
       "6 -73.98012        40.74305        1          -73.91349        \n",
       "  dropoff_latitude payment_type fare_amount extra mta_tax tip_amount\n",
       "1 40.73241         2             7.5        0.5   0.5     0         \n",
       "2 40.71668         1            18.0        0.5   0.5     0         \n",
       "3 40.78893         1            33.0        0.5   0.5     0         \n",
       "4 40.65733         2            16.5        0.0   0.5     0         \n",
       "5 40.75851         2             8.0        0.0   0.5     0         \n",
       "6 40.76314         2            19.0        0.5   0.5     0         \n",
       "  tolls_amount improvement_surcharge total_amount\n",
       "1 0            0.3                    8.8        \n",
       "2 0            0.3                   19.3        \n",
       "3 0            0.3                   34.3        \n",
       "4 0            0.3                   17.3        \n",
       "5 0            0.3                    8.8        \n",
       "6 0            0.3                   20.3        "
      ]
     },
     "metadata": {},
     "output_type": "display_data"
    }
   ],
   "source": [
    "head(taxis_smaller)"
   ]
  },
  {
   "cell_type": "code",
   "execution_count": 25,
   "id": "96f63362",
   "metadata": {},
   "outputs": [
    {
     "data": {
      "text/html": [
       "<style>\n",
       ".list-inline {list-style: none; margin:0; padding: 0}\n",
       ".list-inline>li {display: inline-block}\n",
       ".list-inline>li:not(:last-child)::after {content: \"\\00b7\"; padding: 0 .5ex}\n",
       "</style>\n",
       "<ol class=list-inline><li>30001</li><li>19</li></ol>\n"
      ],
      "text/latex": [
       "\\begin{enumerate*}\n",
       "\\item 30001\n",
       "\\item 19\n",
       "\\end{enumerate*}\n"
      ],
      "text/markdown": [
       "1. 30001\n",
       "2. 19\n",
       "\n",
       "\n"
      ],
      "text/plain": [
       "[1] 30001    19"
      ]
     },
     "metadata": {},
     "output_type": "display_data"
    },
    {
     "data": {
      "text/html": [
       "<style>\n",
       ".list-inline {list-style: none; margin:0; padding: 0}\n",
       ".list-inline>li {display: inline-block}\n",
       ".list-inline>li:not(:last-child)::after {content: \"\\00b7\"; padding: 0 .5ex}\n",
       "</style>\n",
       "<ol class=list-inline><li>30001</li><li>17</li></ol>\n"
      ],
      "text/latex": [
       "\\begin{enumerate*}\n",
       "\\item 30001\n",
       "\\item 17\n",
       "\\end{enumerate*}\n"
      ],
      "text/markdown": [
       "1. 30001\n",
       "2. 17\n",
       "\n",
       "\n"
      ],
      "text/plain": [
       "[1] 30001    17"
      ]
     },
     "metadata": {},
     "output_type": "display_data"
    }
   ],
   "source": [
    "# Print the size of taxis and taxis_smaller\n",
    "\n",
    "dim(taxis)\n",
    "\n",
    "dim(taxis_smaller)"
   ]
  },
  {
   "cell_type": "code",
   "execution_count": 26,
   "id": "ca6bf6f7",
   "metadata": {},
   "outputs": [
    {
     "name": "stdout",
     "output_type": "stream",
     "text": [
      "spec_tbl_df [30,001 x 19] (S3: spec_tbl_df/tbl_df/tbl/data.frame)\n",
      " $ VendorID             : num [1:30001] 2 2 2 2 2 2 2 1 1 2 ...\n",
      " $ tpep_pickup_datetime : POSIXct[1:30001], format: \"2016-01-01 00:00:00\" \"2016-01-01 00:00:00\" ...\n",
      " $ tpep_dropoff_datetime: POSIXct[1:30001], format: \"2016-01-01 00:00:00\" \"2016-01-01 00:00:00\" ...\n",
      " $ passenger_count      : num [1:30001] 2 5 1 1 3 2 2 1 1 1 ...\n",
      " $ trip_distance        : num [1:30001] 1.1 4.9 10.54 4.75 1.76 ...\n",
      " $ pickup_longitude     : num [1:30001] -74 -74 -74 -74 -74 ...\n",
      " $ pickup_latitude      : num [1:30001] 40.7 40.7 40.7 40.7 40.8 ...\n",
      " $ RatecodeID           : num [1:30001] 1 1 1 1 1 1 1 1 1 1 ...\n",
      " $ store_and_fwd_flag   : chr [1:30001] \"N\" \"N\" \"N\" \"N\" ...\n",
      " $ dropoff_longitude    : num [1:30001] -74 -73.9 -74 -74 -74 ...\n",
      " $ dropoff_latitude     : num [1:30001] 40.7 40.7 40.8 40.7 40.8 ...\n",
      " $ payment_type         : num [1:30001] 2 1 1 2 2 2 2 2 2 2 ...\n",
      " $ fare_amount          : num [1:30001] 7.5 18 33 16.5 8 19 26 9 18 11.5 ...\n",
      " $ extra                : num [1:30001] 0.5 0.5 0.5 0 0 0.5 0.5 0.5 0.5 0.5 ...\n",
      " $ mta_tax              : num [1:30001] 0.5 0.5 0.5 0.5 0.5 0.5 0.5 0.5 0.5 0.5 ...\n",
      " $ tip_amount           : num [1:30001] 0 0 0 0 0 0 0 0 0 0 ...\n",
      " $ tolls_amount         : num [1:30001] 0 0 0 0 0 0 0 0 0 0 ...\n",
      " $ improvement_surcharge: num [1:30001] 0.3 0.3 0.3 0.3 0.3 0.3 0.3 0.3 0.3 0.3 ...\n",
      " $ total_amount         : num [1:30001] 8.8 19.3 34.3 17.3 8.8 20.3 27.3 10.3 19.3 12.8 ...\n",
      " - attr(*, \"spec\")=\n",
      "  .. cols(\n",
      "  ..   VendorID = \u001b[32mcol_double()\u001b[39m,\n",
      "  ..   tpep_pickup_datetime = \u001b[34mcol_datetime(format = \"\")\u001b[39m,\n",
      "  ..   tpep_dropoff_datetime = \u001b[34mcol_datetime(format = \"\")\u001b[39m,\n",
      "  ..   passenger_count = \u001b[32mcol_double()\u001b[39m,\n",
      "  ..   trip_distance = \u001b[32mcol_double()\u001b[39m,\n",
      "  ..   pickup_longitude = \u001b[32mcol_double()\u001b[39m,\n",
      "  ..   pickup_latitude = \u001b[32mcol_double()\u001b[39m,\n",
      "  ..   RatecodeID = \u001b[32mcol_double()\u001b[39m,\n",
      "  ..   store_and_fwd_flag = \u001b[31mcol_character()\u001b[39m,\n",
      "  ..   dropoff_longitude = \u001b[32mcol_double()\u001b[39m,\n",
      "  ..   dropoff_latitude = \u001b[32mcol_double()\u001b[39m,\n",
      "  ..   payment_type = \u001b[32mcol_double()\u001b[39m,\n",
      "  ..   fare_amount = \u001b[32mcol_double()\u001b[39m,\n",
      "  ..   extra = \u001b[32mcol_double()\u001b[39m,\n",
      "  ..   mta_tax = \u001b[32mcol_double()\u001b[39m,\n",
      "  ..   tip_amount = \u001b[32mcol_double()\u001b[39m,\n",
      "  ..   tolls_amount = \u001b[32mcol_double()\u001b[39m,\n",
      "  ..   improvement_surcharge = \u001b[32mcol_double()\u001b[39m,\n",
      "  ..   total_amount = \u001b[32mcol_double()\u001b[39m\n",
      "  .. )\n"
     ]
    }
   ],
   "source": [
    "str(taxis)"
   ]
  },
  {
   "cell_type": "code",
   "execution_count": 27,
   "id": "e8ac7928",
   "metadata": {},
   "outputs": [],
   "source": [
    "# Create taxis_numeric\n",
    "taxis_numeric <- taxis %>% \n",
    "      select_if(is.numeric)"
   ]
  },
  {
   "cell_type": "code",
   "execution_count": 28,
   "id": "da68013c",
   "metadata": {},
   "outputs": [
    {
     "data": {
      "text/html": [
       "<table class=\"dataframe\">\n",
       "<caption>A tibble: 6 × 16</caption>\n",
       "<thead>\n",
       "\t<tr><th scope=col>VendorID</th><th scope=col>passenger_count</th><th scope=col>trip_distance</th><th scope=col>pickup_longitude</th><th scope=col>pickup_latitude</th><th scope=col>RatecodeID</th><th scope=col>dropoff_longitude</th><th scope=col>dropoff_latitude</th><th scope=col>payment_type</th><th scope=col>fare_amount</th><th scope=col>extra</th><th scope=col>mta_tax</th><th scope=col>tip_amount</th><th scope=col>tolls_amount</th><th scope=col>improvement_surcharge</th><th scope=col>total_amount</th></tr>\n",
       "\t<tr><th scope=col>&lt;dbl&gt;</th><th scope=col>&lt;dbl&gt;</th><th scope=col>&lt;dbl&gt;</th><th scope=col>&lt;dbl&gt;</th><th scope=col>&lt;dbl&gt;</th><th scope=col>&lt;dbl&gt;</th><th scope=col>&lt;dbl&gt;</th><th scope=col>&lt;dbl&gt;</th><th scope=col>&lt;dbl&gt;</th><th scope=col>&lt;dbl&gt;</th><th scope=col>&lt;dbl&gt;</th><th scope=col>&lt;dbl&gt;</th><th scope=col>&lt;dbl&gt;</th><th scope=col>&lt;dbl&gt;</th><th scope=col>&lt;dbl&gt;</th><th scope=col>&lt;dbl&gt;</th></tr>\n",
       "</thead>\n",
       "<tbody>\n",
       "\t<tr><td>2</td><td>2</td><td> 1.10</td><td>-73.99037</td><td>40.73470</td><td>1</td><td>-73.98184</td><td>40.73241</td><td>2</td><td> 7.5</td><td>0.5</td><td>0.5</td><td>0</td><td>0</td><td>0.3</td><td> 8.8</td></tr>\n",
       "\t<tr><td>2</td><td>5</td><td> 4.90</td><td>-73.98078</td><td>40.72991</td><td>1</td><td>-73.94447</td><td>40.71668</td><td>1</td><td>18.0</td><td>0.5</td><td>0.5</td><td>0</td><td>0</td><td>0.3</td><td>19.3</td></tr>\n",
       "\t<tr><td>2</td><td>1</td><td>10.54</td><td>-73.98455</td><td>40.67957</td><td>1</td><td>-73.95027</td><td>40.78893</td><td>1</td><td>33.0</td><td>0.5</td><td>0.5</td><td>0</td><td>0</td><td>0.3</td><td>34.3</td></tr>\n",
       "\t<tr><td>2</td><td>1</td><td> 4.75</td><td>-73.99347</td><td>40.71899</td><td>1</td><td>-73.96224</td><td>40.65733</td><td>2</td><td>16.5</td><td>0.0</td><td>0.5</td><td>0</td><td>0</td><td>0.3</td><td>17.3</td></tr>\n",
       "\t<tr><td>2</td><td>3</td><td> 1.76</td><td>-73.96062</td><td>40.78133</td><td>1</td><td>-73.97726</td><td>40.75851</td><td>2</td><td> 8.0</td><td>0.0</td><td>0.5</td><td>0</td><td>0</td><td>0.3</td><td> 8.8</td></tr>\n",
       "\t<tr><td>2</td><td>2</td><td> 5.52</td><td>-73.98012</td><td>40.74305</td><td>1</td><td>-73.91349</td><td>40.76314</td><td>2</td><td>19.0</td><td>0.5</td><td>0.5</td><td>0</td><td>0</td><td>0.3</td><td>20.3</td></tr>\n",
       "</tbody>\n",
       "</table>\n"
      ],
      "text/latex": [
       "A tibble: 6 × 16\n",
       "\\begin{tabular}{llllllllllllllll}\n",
       " VendorID & passenger\\_count & trip\\_distance & pickup\\_longitude & pickup\\_latitude & RatecodeID & dropoff\\_longitude & dropoff\\_latitude & payment\\_type & fare\\_amount & extra & mta\\_tax & tip\\_amount & tolls\\_amount & improvement\\_surcharge & total\\_amount\\\\\n",
       " <dbl> & <dbl> & <dbl> & <dbl> & <dbl> & <dbl> & <dbl> & <dbl> & <dbl> & <dbl> & <dbl> & <dbl> & <dbl> & <dbl> & <dbl> & <dbl>\\\\\n",
       "\\hline\n",
       "\t 2 & 2 &  1.10 & -73.99037 & 40.73470 & 1 & -73.98184 & 40.73241 & 2 &  7.5 & 0.5 & 0.5 & 0 & 0 & 0.3 &  8.8\\\\\n",
       "\t 2 & 5 &  4.90 & -73.98078 & 40.72991 & 1 & -73.94447 & 40.71668 & 1 & 18.0 & 0.5 & 0.5 & 0 & 0 & 0.3 & 19.3\\\\\n",
       "\t 2 & 1 & 10.54 & -73.98455 & 40.67957 & 1 & -73.95027 & 40.78893 & 1 & 33.0 & 0.5 & 0.5 & 0 & 0 & 0.3 & 34.3\\\\\n",
       "\t 2 & 1 &  4.75 & -73.99347 & 40.71899 & 1 & -73.96224 & 40.65733 & 2 & 16.5 & 0.0 & 0.5 & 0 & 0 & 0.3 & 17.3\\\\\n",
       "\t 2 & 3 &  1.76 & -73.96062 & 40.78133 & 1 & -73.97726 & 40.75851 & 2 &  8.0 & 0.0 & 0.5 & 0 & 0 & 0.3 &  8.8\\\\\n",
       "\t 2 & 2 &  5.52 & -73.98012 & 40.74305 & 1 & -73.91349 & 40.76314 & 2 & 19.0 & 0.5 & 0.5 & 0 & 0 & 0.3 & 20.3\\\\\n",
       "\\end{tabular}\n"
      ],
      "text/markdown": [
       "\n",
       "A tibble: 6 × 16\n",
       "\n",
       "| VendorID &lt;dbl&gt; | passenger_count &lt;dbl&gt; | trip_distance &lt;dbl&gt; | pickup_longitude &lt;dbl&gt; | pickup_latitude &lt;dbl&gt; | RatecodeID &lt;dbl&gt; | dropoff_longitude &lt;dbl&gt; | dropoff_latitude &lt;dbl&gt; | payment_type &lt;dbl&gt; | fare_amount &lt;dbl&gt; | extra &lt;dbl&gt; | mta_tax &lt;dbl&gt; | tip_amount &lt;dbl&gt; | tolls_amount &lt;dbl&gt; | improvement_surcharge &lt;dbl&gt; | total_amount &lt;dbl&gt; |\n",
       "|---|---|---|---|---|---|---|---|---|---|---|---|---|---|---|---|\n",
       "| 2 | 2 |  1.10 | -73.99037 | 40.73470 | 1 | -73.98184 | 40.73241 | 2 |  7.5 | 0.5 | 0.5 | 0 | 0 | 0.3 |  8.8 |\n",
       "| 2 | 5 |  4.90 | -73.98078 | 40.72991 | 1 | -73.94447 | 40.71668 | 1 | 18.0 | 0.5 | 0.5 | 0 | 0 | 0.3 | 19.3 |\n",
       "| 2 | 1 | 10.54 | -73.98455 | 40.67957 | 1 | -73.95027 | 40.78893 | 1 | 33.0 | 0.5 | 0.5 | 0 | 0 | 0.3 | 34.3 |\n",
       "| 2 | 1 |  4.75 | -73.99347 | 40.71899 | 1 | -73.96224 | 40.65733 | 2 | 16.5 | 0.0 | 0.5 | 0 | 0 | 0.3 | 17.3 |\n",
       "| 2 | 3 |  1.76 | -73.96062 | 40.78133 | 1 | -73.97726 | 40.75851 | 2 |  8.0 | 0.0 | 0.5 | 0 | 0 | 0.3 |  8.8 |\n",
       "| 2 | 2 |  5.52 | -73.98012 | 40.74305 | 1 | -73.91349 | 40.76314 | 2 | 19.0 | 0.5 | 0.5 | 0 | 0 | 0.3 | 20.3 |\n",
       "\n"
      ],
      "text/plain": [
       "  VendorID passenger_count trip_distance pickup_longitude pickup_latitude\n",
       "1 2        2                1.10         -73.99037        40.73470       \n",
       "2 2        5                4.90         -73.98078        40.72991       \n",
       "3 2        1               10.54         -73.98455        40.67957       \n",
       "4 2        1                4.75         -73.99347        40.71899       \n",
       "5 2        3                1.76         -73.96062        40.78133       \n",
       "6 2        2                5.52         -73.98012        40.74305       \n",
       "  RatecodeID dropoff_longitude dropoff_latitude payment_type fare_amount extra\n",
       "1 1          -73.98184         40.73241         2             7.5        0.5  \n",
       "2 1          -73.94447         40.71668         1            18.0        0.5  \n",
       "3 1          -73.95027         40.78893         1            33.0        0.5  \n",
       "4 1          -73.96224         40.65733         2            16.5        0.0  \n",
       "5 1          -73.97726         40.75851         2             8.0        0.0  \n",
       "6 1          -73.91349         40.76314         2            19.0        0.5  \n",
       "  mta_tax tip_amount tolls_amount improvement_surcharge total_amount\n",
       "1 0.5     0          0            0.3                    8.8        \n",
       "2 0.5     0          0            0.3                   19.3        \n",
       "3 0.5     0          0            0.3                   34.3        \n",
       "4 0.5     0          0            0.3                   17.3        \n",
       "5 0.5     0          0            0.3                    8.8        \n",
       "6 0.5     0          0            0.3                   20.3        "
      ]
     },
     "metadata": {},
     "output_type": "display_data"
    }
   ],
   "source": [
    "head(taxis_numeric)"
   ]
  },
  {
   "cell_type": "code",
   "execution_count": 29,
   "id": "5b279191",
   "metadata": {},
   "outputs": [
    {
     "data": {
      "text/html": [
       "<table class=\"dataframe\">\n",
       "<caption>A matrix: 16 × 16 of type dbl</caption>\n",
       "<thead>\n",
       "\t<tr><th></th><th scope=col>VendorID</th><th scope=col>passenger_count</th><th scope=col>trip_distance</th><th scope=col>pickup_longitude</th><th scope=col>pickup_latitude</th><th scope=col>RatecodeID</th><th scope=col>dropoff_longitude</th><th scope=col>dropoff_latitude</th><th scope=col>payment_type</th><th scope=col>fare_amount</th><th scope=col>extra</th><th scope=col>mta_tax</th><th scope=col>tip_amount</th><th scope=col>tolls_amount</th><th scope=col>improvement_surcharge</th><th scope=col>total_amount</th></tr>\n",
       "</thead>\n",
       "<tbody>\n",
       "\t<tr><th scope=row>VendorID</th><td> 1.000000000</td><td> 0.262540509</td><td> 0.008926689</td><td>-0.044939892</td><td> 0.045037419</td><td> 0.007917738</td><td>-0.046168305</td><td> 0.046256047</td><td>-0.023800429</td><td> 0.007149731</td><td>-0.01013964</td><td> 0.007785521</td><td> 0.005870923</td><td>-0.0061061401</td><td>-0.0249288215</td><td> 0.006535851</td></tr>\n",
       "\t<tr><th scope=row>passenger_count</th><td> 0.262540509</td><td> 1.000000000</td><td> 0.017714229</td><td>-0.014739769</td><td> 0.014647078</td><td>-0.008908202</td><td>-0.015044600</td><td> 0.014975874</td><td>-0.019479091</td><td> 0.011877321</td><td> 0.01957661</td><td> 0.005927385</td><td> 0.009647988</td><td> 0.0250958877</td><td> 0.0119653071</td><td> 0.014787292</td></tr>\n",
       "\t<tr><th scope=row>trip_distance</th><td> 0.008926689</td><td> 0.017714229</td><td> 1.000000000</td><td>-0.013691300</td><td> 0.013814486</td><td> 0.254133008</td><td>-0.014632440</td><td> 0.015888087</td><td>-0.022755681</td><td> 0.894906002</td><td>-0.20611338</td><td>-0.126408731</td><td> 0.367974615</td><td> 0.4765862140</td><td> 0.0256717584</td><td> 0.878415881</td></tr>\n",
       "\t<tr><th scope=row>pickup_longitude</th><td>-0.044939892</td><td>-0.014739769</td><td>-0.013691300</td><td> 1.000000000</td><td>-0.999974948</td><td> 0.140806355</td><td> 0.882732406</td><td>-0.882748282</td><td>-0.004763404</td><td> 0.033762915</td><td>-0.05925876</td><td>-0.087481488</td><td> 0.020685874</td><td>-0.0071081037</td><td>-0.0304687643</td><td> 0.031123431</td></tr>\n",
       "\t<tr><th scope=row>pickup_latitude</th><td> 0.045037419</td><td> 0.014647078</td><td> 0.013814486</td><td>-0.999974948</td><td> 1.000000000</td><td>-0.140752822</td><td>-0.882718556</td><td> 0.882774599</td><td> 0.005344911</td><td>-0.033697529</td><td> 0.05877245</td><td> 0.087477264</td><td>-0.020963970</td><td> 0.0075296483</td><td> 0.0304150147</td><td>-0.031086798</td></tr>\n",
       "\t<tr><th scope=row>RatecodeID</th><td> 0.007917738</td><td>-0.008908202</td><td> 0.254133008</td><td> 0.140806355</td><td>-0.140752822</td><td> 1.000000000</td><td> 0.105746920</td><td>-0.106509627</td><td>-0.022991516</td><td> 0.472776148</td><td>-0.44619900</td><td>-0.670231317</td><td> 0.213274312</td><td> 0.3855303562</td><td>-0.0486823084</td><td> 0.475715665</td></tr>\n",
       "\t<tr><th scope=row>dropoff_longitude</th><td>-0.046168305</td><td>-0.015044600</td><td>-0.014632440</td><td> 0.882732406</td><td>-0.882718556</td><td> 0.105746920</td><td> 1.000000000</td><td>-0.999936428</td><td> 0.005333462</td><td> 0.025530662</td><td>-0.04625860</td><td>-0.070029135</td><td> 0.012395166</td><td>-0.0084993801</td><td>-0.0215935692</td><td> 0.022528947</td></tr>\n",
       "\t<tr><th scope=row>dropoff_latitude</th><td> 0.046256047</td><td> 0.014975874</td><td> 0.015888087</td><td>-0.882748282</td><td> 0.882774599</td><td>-0.106509627</td><td>-0.999936428</td><td> 1.000000000</td><td>-0.004649523</td><td>-0.024799207</td><td> 0.04630285</td><td> 0.071311926</td><td>-0.012756486</td><td> 0.0077094238</td><td> 0.0215945633</td><td>-0.022057693</td></tr>\n",
       "\t<tr><th scope=row>payment_type</th><td>-0.023800429</td><td>-0.019479091</td><td>-0.022755681</td><td>-0.004763404</td><td> 0.005344911</td><td>-0.022991516</td><td> 0.005333462</td><td>-0.004649523</td><td> 1.000000000</td><td>-0.035033036</td><td> 0.03221611</td><td>-0.039852122</td><td>-0.465516484</td><td>-0.0162173112</td><td>-0.0973183553</td><td>-0.126147908</td></tr>\n",
       "\t<tr><th scope=row>fare_amount</th><td> 0.007149731</td><td> 0.011877321</td><td> 0.894906002</td><td> 0.033762915</td><td>-0.033697529</td><td> 0.472776148</td><td> 0.025530662</td><td>-0.024799207</td><td>-0.035033036</td><td> 1.000000000</td><td>-0.30429139</td><td>-0.259129841</td><td> 0.417343984</td><td> 0.4961016692</td><td> 0.0504707659</td><td> 0.977981543</td></tr>\n",
       "\t<tr><th scope=row>extra</th><td>-0.010139643</td><td> 0.019576606</td><td>-0.206113379</td><td>-0.059258763</td><td> 0.058772455</td><td>-0.446199002</td><td>-0.046258603</td><td> 0.046302846</td><td> 0.032216107</td><td>-0.304291385</td><td> 1.00000000</td><td> 0.256693810</td><td>-0.158448732</td><td>-0.2065334767</td><td> 0.1904707389</td><td>-0.300005789</td></tr>\n",
       "\t<tr><th scope=row>mta_tax</th><td> 0.007785521</td><td> 0.005927385</td><td>-0.126408731</td><td>-0.087481488</td><td> 0.087477264</td><td>-0.670231317</td><td>-0.070029135</td><td> 0.071311926</td><td>-0.039852122</td><td>-0.259129841</td><td> 0.25669381</td><td> 1.000000000</td><td>-0.124559323</td><td>-0.3718583079</td><td> 0.4751786328</td><td>-0.275332899</td></tr>\n",
       "\t<tr><th scope=row>tip_amount</th><td> 0.005870923</td><td> 0.009647988</td><td> 0.367974615</td><td> 0.020685874</td><td>-0.020963970</td><td> 0.213274312</td><td> 0.012395166</td><td>-0.012756486</td><td>-0.465516484</td><td> 0.417343984</td><td>-0.15844873</td><td>-0.124559323</td><td> 1.000000000</td><td> 0.2523016571</td><td> 0.0135391942</td><td> 0.580668496</td></tr>\n",
       "\t<tr><th scope=row>tolls_amount</th><td>-0.006106140</td><td> 0.025095888</td><td> 0.476586214</td><td>-0.007108104</td><td> 0.007529648</td><td> 0.385530356</td><td>-0.008499380</td><td> 0.007709424</td><td>-0.016217311</td><td> 0.496101669</td><td>-0.20653348</td><td>-0.371858308</td><td> 0.252301657</td><td> 1.0000000000</td><td> 0.0002046862</td><td> 0.569174319</td></tr>\n",
       "\t<tr><th scope=row>improvement_surcharge</th><td>-0.024928822</td><td> 0.011965307</td><td> 0.025671758</td><td>-0.030468764</td><td> 0.030415015</td><td>-0.048682308</td><td>-0.021593569</td><td> 0.021594563</td><td>-0.097318355</td><td> 0.050470766</td><td> 0.19047074</td><td> 0.475178633</td><td> 0.013539194</td><td> 0.0002046862</td><td> 1.0000000000</td><td> 0.050463721</td></tr>\n",
       "\t<tr><th scope=row>total_amount</th><td> 0.006535851</td><td> 0.014787292</td><td> 0.878415881</td><td> 0.031123431</td><td>-0.031086798</td><td> 0.475715665</td><td> 0.022528947</td><td>-0.022057693</td><td>-0.126147908</td><td> 0.977981543</td><td>-0.30000579</td><td>-0.275332899</td><td> 0.580668496</td><td> 0.5691743192</td><td> 0.0504637215</td><td> 1.000000000</td></tr>\n",
       "</tbody>\n",
       "</table>\n"
      ],
      "text/latex": [
       "A matrix: 16 × 16 of type dbl\n",
       "\\begin{tabular}{r|llllllllllllllll}\n",
       "  & VendorID & passenger\\_count & trip\\_distance & pickup\\_longitude & pickup\\_latitude & RatecodeID & dropoff\\_longitude & dropoff\\_latitude & payment\\_type & fare\\_amount & extra & mta\\_tax & tip\\_amount & tolls\\_amount & improvement\\_surcharge & total\\_amount\\\\\n",
       "\\hline\n",
       "\tVendorID &  1.000000000 &  0.262540509 &  0.008926689 & -0.044939892 &  0.045037419 &  0.007917738 & -0.046168305 &  0.046256047 & -0.023800429 &  0.007149731 & -0.01013964 &  0.007785521 &  0.005870923 & -0.0061061401 & -0.0249288215 &  0.006535851\\\\\n",
       "\tpassenger\\_count &  0.262540509 &  1.000000000 &  0.017714229 & -0.014739769 &  0.014647078 & -0.008908202 & -0.015044600 &  0.014975874 & -0.019479091 &  0.011877321 &  0.01957661 &  0.005927385 &  0.009647988 &  0.0250958877 &  0.0119653071 &  0.014787292\\\\\n",
       "\ttrip\\_distance &  0.008926689 &  0.017714229 &  1.000000000 & -0.013691300 &  0.013814486 &  0.254133008 & -0.014632440 &  0.015888087 & -0.022755681 &  0.894906002 & -0.20611338 & -0.126408731 &  0.367974615 &  0.4765862140 &  0.0256717584 &  0.878415881\\\\\n",
       "\tpickup\\_longitude & -0.044939892 & -0.014739769 & -0.013691300 &  1.000000000 & -0.999974948 &  0.140806355 &  0.882732406 & -0.882748282 & -0.004763404 &  0.033762915 & -0.05925876 & -0.087481488 &  0.020685874 & -0.0071081037 & -0.0304687643 &  0.031123431\\\\\n",
       "\tpickup\\_latitude &  0.045037419 &  0.014647078 &  0.013814486 & -0.999974948 &  1.000000000 & -0.140752822 & -0.882718556 &  0.882774599 &  0.005344911 & -0.033697529 &  0.05877245 &  0.087477264 & -0.020963970 &  0.0075296483 &  0.0304150147 & -0.031086798\\\\\n",
       "\tRatecodeID &  0.007917738 & -0.008908202 &  0.254133008 &  0.140806355 & -0.140752822 &  1.000000000 &  0.105746920 & -0.106509627 & -0.022991516 &  0.472776148 & -0.44619900 & -0.670231317 &  0.213274312 &  0.3855303562 & -0.0486823084 &  0.475715665\\\\\n",
       "\tdropoff\\_longitude & -0.046168305 & -0.015044600 & -0.014632440 &  0.882732406 & -0.882718556 &  0.105746920 &  1.000000000 & -0.999936428 &  0.005333462 &  0.025530662 & -0.04625860 & -0.070029135 &  0.012395166 & -0.0084993801 & -0.0215935692 &  0.022528947\\\\\n",
       "\tdropoff\\_latitude &  0.046256047 &  0.014975874 &  0.015888087 & -0.882748282 &  0.882774599 & -0.106509627 & -0.999936428 &  1.000000000 & -0.004649523 & -0.024799207 &  0.04630285 &  0.071311926 & -0.012756486 &  0.0077094238 &  0.0215945633 & -0.022057693\\\\\n",
       "\tpayment\\_type & -0.023800429 & -0.019479091 & -0.022755681 & -0.004763404 &  0.005344911 & -0.022991516 &  0.005333462 & -0.004649523 &  1.000000000 & -0.035033036 &  0.03221611 & -0.039852122 & -0.465516484 & -0.0162173112 & -0.0973183553 & -0.126147908\\\\\n",
       "\tfare\\_amount &  0.007149731 &  0.011877321 &  0.894906002 &  0.033762915 & -0.033697529 &  0.472776148 &  0.025530662 & -0.024799207 & -0.035033036 &  1.000000000 & -0.30429139 & -0.259129841 &  0.417343984 &  0.4961016692 &  0.0504707659 &  0.977981543\\\\\n",
       "\textra & -0.010139643 &  0.019576606 & -0.206113379 & -0.059258763 &  0.058772455 & -0.446199002 & -0.046258603 &  0.046302846 &  0.032216107 & -0.304291385 &  1.00000000 &  0.256693810 & -0.158448732 & -0.2065334767 &  0.1904707389 & -0.300005789\\\\\n",
       "\tmta\\_tax &  0.007785521 &  0.005927385 & -0.126408731 & -0.087481488 &  0.087477264 & -0.670231317 & -0.070029135 &  0.071311926 & -0.039852122 & -0.259129841 &  0.25669381 &  1.000000000 & -0.124559323 & -0.3718583079 &  0.4751786328 & -0.275332899\\\\\n",
       "\ttip\\_amount &  0.005870923 &  0.009647988 &  0.367974615 &  0.020685874 & -0.020963970 &  0.213274312 &  0.012395166 & -0.012756486 & -0.465516484 &  0.417343984 & -0.15844873 & -0.124559323 &  1.000000000 &  0.2523016571 &  0.0135391942 &  0.580668496\\\\\n",
       "\ttolls\\_amount & -0.006106140 &  0.025095888 &  0.476586214 & -0.007108104 &  0.007529648 &  0.385530356 & -0.008499380 &  0.007709424 & -0.016217311 &  0.496101669 & -0.20653348 & -0.371858308 &  0.252301657 &  1.0000000000 &  0.0002046862 &  0.569174319\\\\\n",
       "\timprovement\\_surcharge & -0.024928822 &  0.011965307 &  0.025671758 & -0.030468764 &  0.030415015 & -0.048682308 & -0.021593569 &  0.021594563 & -0.097318355 &  0.050470766 &  0.19047074 &  0.475178633 &  0.013539194 &  0.0002046862 &  1.0000000000 &  0.050463721\\\\\n",
       "\ttotal\\_amount &  0.006535851 &  0.014787292 &  0.878415881 &  0.031123431 & -0.031086798 &  0.475715665 &  0.022528947 & -0.022057693 & -0.126147908 &  0.977981543 & -0.30000579 & -0.275332899 &  0.580668496 &  0.5691743192 &  0.0504637215 &  1.000000000\\\\\n",
       "\\end{tabular}\n"
      ],
      "text/markdown": [
       "\n",
       "A matrix: 16 × 16 of type dbl\n",
       "\n",
       "| <!--/--> | VendorID | passenger_count | trip_distance | pickup_longitude | pickup_latitude | RatecodeID | dropoff_longitude | dropoff_latitude | payment_type | fare_amount | extra | mta_tax | tip_amount | tolls_amount | improvement_surcharge | total_amount |\n",
       "|---|---|---|---|---|---|---|---|---|---|---|---|---|---|---|---|---|\n",
       "| VendorID |  1.000000000 |  0.262540509 |  0.008926689 | -0.044939892 |  0.045037419 |  0.007917738 | -0.046168305 |  0.046256047 | -0.023800429 |  0.007149731 | -0.01013964 |  0.007785521 |  0.005870923 | -0.0061061401 | -0.0249288215 |  0.006535851 |\n",
       "| passenger_count |  0.262540509 |  1.000000000 |  0.017714229 | -0.014739769 |  0.014647078 | -0.008908202 | -0.015044600 |  0.014975874 | -0.019479091 |  0.011877321 |  0.01957661 |  0.005927385 |  0.009647988 |  0.0250958877 |  0.0119653071 |  0.014787292 |\n",
       "| trip_distance |  0.008926689 |  0.017714229 |  1.000000000 | -0.013691300 |  0.013814486 |  0.254133008 | -0.014632440 |  0.015888087 | -0.022755681 |  0.894906002 | -0.20611338 | -0.126408731 |  0.367974615 |  0.4765862140 |  0.0256717584 |  0.878415881 |\n",
       "| pickup_longitude | -0.044939892 | -0.014739769 | -0.013691300 |  1.000000000 | -0.999974948 |  0.140806355 |  0.882732406 | -0.882748282 | -0.004763404 |  0.033762915 | -0.05925876 | -0.087481488 |  0.020685874 | -0.0071081037 | -0.0304687643 |  0.031123431 |\n",
       "| pickup_latitude |  0.045037419 |  0.014647078 |  0.013814486 | -0.999974948 |  1.000000000 | -0.140752822 | -0.882718556 |  0.882774599 |  0.005344911 | -0.033697529 |  0.05877245 |  0.087477264 | -0.020963970 |  0.0075296483 |  0.0304150147 | -0.031086798 |\n",
       "| RatecodeID |  0.007917738 | -0.008908202 |  0.254133008 |  0.140806355 | -0.140752822 |  1.000000000 |  0.105746920 | -0.106509627 | -0.022991516 |  0.472776148 | -0.44619900 | -0.670231317 |  0.213274312 |  0.3855303562 | -0.0486823084 |  0.475715665 |\n",
       "| dropoff_longitude | -0.046168305 | -0.015044600 | -0.014632440 |  0.882732406 | -0.882718556 |  0.105746920 |  1.000000000 | -0.999936428 |  0.005333462 |  0.025530662 | -0.04625860 | -0.070029135 |  0.012395166 | -0.0084993801 | -0.0215935692 |  0.022528947 |\n",
       "| dropoff_latitude |  0.046256047 |  0.014975874 |  0.015888087 | -0.882748282 |  0.882774599 | -0.106509627 | -0.999936428 |  1.000000000 | -0.004649523 | -0.024799207 |  0.04630285 |  0.071311926 | -0.012756486 |  0.0077094238 |  0.0215945633 | -0.022057693 |\n",
       "| payment_type | -0.023800429 | -0.019479091 | -0.022755681 | -0.004763404 |  0.005344911 | -0.022991516 |  0.005333462 | -0.004649523 |  1.000000000 | -0.035033036 |  0.03221611 | -0.039852122 | -0.465516484 | -0.0162173112 | -0.0973183553 | -0.126147908 |\n",
       "| fare_amount |  0.007149731 |  0.011877321 |  0.894906002 |  0.033762915 | -0.033697529 |  0.472776148 |  0.025530662 | -0.024799207 | -0.035033036 |  1.000000000 | -0.30429139 | -0.259129841 |  0.417343984 |  0.4961016692 |  0.0504707659 |  0.977981543 |\n",
       "| extra | -0.010139643 |  0.019576606 | -0.206113379 | -0.059258763 |  0.058772455 | -0.446199002 | -0.046258603 |  0.046302846 |  0.032216107 | -0.304291385 |  1.00000000 |  0.256693810 | -0.158448732 | -0.2065334767 |  0.1904707389 | -0.300005789 |\n",
       "| mta_tax |  0.007785521 |  0.005927385 | -0.126408731 | -0.087481488 |  0.087477264 | -0.670231317 | -0.070029135 |  0.071311926 | -0.039852122 | -0.259129841 |  0.25669381 |  1.000000000 | -0.124559323 | -0.3718583079 |  0.4751786328 | -0.275332899 |\n",
       "| tip_amount |  0.005870923 |  0.009647988 |  0.367974615 |  0.020685874 | -0.020963970 |  0.213274312 |  0.012395166 | -0.012756486 | -0.465516484 |  0.417343984 | -0.15844873 | -0.124559323 |  1.000000000 |  0.2523016571 |  0.0135391942 |  0.580668496 |\n",
       "| tolls_amount | -0.006106140 |  0.025095888 |  0.476586214 | -0.007108104 |  0.007529648 |  0.385530356 | -0.008499380 |  0.007709424 | -0.016217311 |  0.496101669 | -0.20653348 | -0.371858308 |  0.252301657 |  1.0000000000 |  0.0002046862 |  0.569174319 |\n",
       "| improvement_surcharge | -0.024928822 |  0.011965307 |  0.025671758 | -0.030468764 |  0.030415015 | -0.048682308 | -0.021593569 |  0.021594563 | -0.097318355 |  0.050470766 |  0.19047074 |  0.475178633 |  0.013539194 |  0.0002046862 |  1.0000000000 |  0.050463721 |\n",
       "| total_amount |  0.006535851 |  0.014787292 |  0.878415881 |  0.031123431 | -0.031086798 |  0.475715665 |  0.022528947 | -0.022057693 | -0.126147908 |  0.977981543 | -0.30000579 | -0.275332899 |  0.580668496 |  0.5691743192 |  0.0504637215 |  1.000000000 |\n",
       "\n"
      ],
      "text/plain": [
       "                      VendorID     passenger_count trip_distance\n",
       "VendorID               1.000000000  0.262540509     0.008926689 \n",
       "passenger_count        0.262540509  1.000000000     0.017714229 \n",
       "trip_distance          0.008926689  0.017714229     1.000000000 \n",
       "pickup_longitude      -0.044939892 -0.014739769    -0.013691300 \n",
       "pickup_latitude        0.045037419  0.014647078     0.013814486 \n",
       "RatecodeID             0.007917738 -0.008908202     0.254133008 \n",
       "dropoff_longitude     -0.046168305 -0.015044600    -0.014632440 \n",
       "dropoff_latitude       0.046256047  0.014975874     0.015888087 \n",
       "payment_type          -0.023800429 -0.019479091    -0.022755681 \n",
       "fare_amount            0.007149731  0.011877321     0.894906002 \n",
       "extra                 -0.010139643  0.019576606    -0.206113379 \n",
       "mta_tax                0.007785521  0.005927385    -0.126408731 \n",
       "tip_amount             0.005870923  0.009647988     0.367974615 \n",
       "tolls_amount          -0.006106140  0.025095888     0.476586214 \n",
       "improvement_surcharge -0.024928822  0.011965307     0.025671758 \n",
       "total_amount           0.006535851  0.014787292     0.878415881 \n",
       "                      pickup_longitude pickup_latitude RatecodeID  \n",
       "VendorID              -0.044939892      0.045037419     0.007917738\n",
       "passenger_count       -0.014739769      0.014647078    -0.008908202\n",
       "trip_distance         -0.013691300      0.013814486     0.254133008\n",
       "pickup_longitude       1.000000000     -0.999974948     0.140806355\n",
       "pickup_latitude       -0.999974948      1.000000000    -0.140752822\n",
       "RatecodeID             0.140806355     -0.140752822     1.000000000\n",
       "dropoff_longitude      0.882732406     -0.882718556     0.105746920\n",
       "dropoff_latitude      -0.882748282      0.882774599    -0.106509627\n",
       "payment_type          -0.004763404      0.005344911    -0.022991516\n",
       "fare_amount            0.033762915     -0.033697529     0.472776148\n",
       "extra                 -0.059258763      0.058772455    -0.446199002\n",
       "mta_tax               -0.087481488      0.087477264    -0.670231317\n",
       "tip_amount             0.020685874     -0.020963970     0.213274312\n",
       "tolls_amount          -0.007108104      0.007529648     0.385530356\n",
       "improvement_surcharge -0.030468764      0.030415015    -0.048682308\n",
       "total_amount           0.031123431     -0.031086798     0.475715665\n",
       "                      dropoff_longitude dropoff_latitude payment_type\n",
       "VendorID              -0.046168305       0.046256047     -0.023800429\n",
       "passenger_count       -0.015044600       0.014975874     -0.019479091\n",
       "trip_distance         -0.014632440       0.015888087     -0.022755681\n",
       "pickup_longitude       0.882732406      -0.882748282     -0.004763404\n",
       "pickup_latitude       -0.882718556       0.882774599      0.005344911\n",
       "RatecodeID             0.105746920      -0.106509627     -0.022991516\n",
       "dropoff_longitude      1.000000000      -0.999936428      0.005333462\n",
       "dropoff_latitude      -0.999936428       1.000000000     -0.004649523\n",
       "payment_type           0.005333462      -0.004649523      1.000000000\n",
       "fare_amount            0.025530662      -0.024799207     -0.035033036\n",
       "extra                 -0.046258603       0.046302846      0.032216107\n",
       "mta_tax               -0.070029135       0.071311926     -0.039852122\n",
       "tip_amount             0.012395166      -0.012756486     -0.465516484\n",
       "tolls_amount          -0.008499380       0.007709424     -0.016217311\n",
       "improvement_surcharge -0.021593569       0.021594563     -0.097318355\n",
       "total_amount           0.022528947      -0.022057693     -0.126147908\n",
       "                      fare_amount  extra       mta_tax      tip_amount  \n",
       "VendorID               0.007149731 -0.01013964  0.007785521  0.005870923\n",
       "passenger_count        0.011877321  0.01957661  0.005927385  0.009647988\n",
       "trip_distance          0.894906002 -0.20611338 -0.126408731  0.367974615\n",
       "pickup_longitude       0.033762915 -0.05925876 -0.087481488  0.020685874\n",
       "pickup_latitude       -0.033697529  0.05877245  0.087477264 -0.020963970\n",
       "RatecodeID             0.472776148 -0.44619900 -0.670231317  0.213274312\n",
       "dropoff_longitude      0.025530662 -0.04625860 -0.070029135  0.012395166\n",
       "dropoff_latitude      -0.024799207  0.04630285  0.071311926 -0.012756486\n",
       "payment_type          -0.035033036  0.03221611 -0.039852122 -0.465516484\n",
       "fare_amount            1.000000000 -0.30429139 -0.259129841  0.417343984\n",
       "extra                 -0.304291385  1.00000000  0.256693810 -0.158448732\n",
       "mta_tax               -0.259129841  0.25669381  1.000000000 -0.124559323\n",
       "tip_amount             0.417343984 -0.15844873 -0.124559323  1.000000000\n",
       "tolls_amount           0.496101669 -0.20653348 -0.371858308  0.252301657\n",
       "improvement_surcharge  0.050470766  0.19047074  0.475178633  0.013539194\n",
       "total_amount           0.977981543 -0.30000579 -0.275332899  0.580668496\n",
       "                      tolls_amount  improvement_surcharge total_amount\n",
       "VendorID              -0.0061061401 -0.0249288215          0.006535851\n",
       "passenger_count        0.0250958877  0.0119653071          0.014787292\n",
       "trip_distance          0.4765862140  0.0256717584          0.878415881\n",
       "pickup_longitude      -0.0071081037 -0.0304687643          0.031123431\n",
       "pickup_latitude        0.0075296483  0.0304150147         -0.031086798\n",
       "RatecodeID             0.3855303562 -0.0486823084          0.475715665\n",
       "dropoff_longitude     -0.0084993801 -0.0215935692          0.022528947\n",
       "dropoff_latitude       0.0077094238  0.0215945633         -0.022057693\n",
       "payment_type          -0.0162173112 -0.0973183553         -0.126147908\n",
       "fare_amount            0.4961016692  0.0504707659          0.977981543\n",
       "extra                 -0.2065334767  0.1904707389         -0.300005789\n",
       "mta_tax               -0.3718583079  0.4751786328         -0.275332899\n",
       "tip_amount             0.2523016571  0.0135391942          0.580668496\n",
       "tolls_amount           1.0000000000  0.0002046862          0.569174319\n",
       "improvement_surcharge  0.0002046862  1.0000000000          0.050463721\n",
       "total_amount           0.5691743192  0.0504637215          1.000000000"
      ]
     },
     "metadata": {},
     "output_type": "display_data"
    }
   ],
   "source": [
    "# Ouput the correlation matrix\n",
    "cor(taxis_numeric)"
   ]
  },
  {
   "cell_type": "code",
   "execution_count": 30,
   "id": "54b389b9",
   "metadata": {},
   "outputs": [],
   "source": [
    "# Add trip_distance_kms\n",
    "taxis_with_kms <- taxis %>%\n",
    "  mutate(trip_distance_kms = trip_distance*1.609)"
   ]
  },
  {
   "cell_type": "code",
   "execution_count": 31,
   "id": "e2a6c514",
   "metadata": {},
   "outputs": [
    {
     "data": {
      "text/html": [
       "<table class=\"dataframe\">\n",
       "<caption>A tibble: 6 × 20</caption>\n",
       "<thead>\n",
       "\t<tr><th scope=col>VendorID</th><th scope=col>tpep_pickup_datetime</th><th scope=col>tpep_dropoff_datetime</th><th scope=col>passenger_count</th><th scope=col>trip_distance</th><th scope=col>pickup_longitude</th><th scope=col>pickup_latitude</th><th scope=col>RatecodeID</th><th scope=col>store_and_fwd_flag</th><th scope=col>dropoff_longitude</th><th scope=col>dropoff_latitude</th><th scope=col>payment_type</th><th scope=col>fare_amount</th><th scope=col>extra</th><th scope=col>mta_tax</th><th scope=col>tip_amount</th><th scope=col>tolls_amount</th><th scope=col>improvement_surcharge</th><th scope=col>total_amount</th><th scope=col>trip_distance_kms</th></tr>\n",
       "\t<tr><th scope=col>&lt;dbl&gt;</th><th scope=col>&lt;dttm&gt;</th><th scope=col>&lt;dttm&gt;</th><th scope=col>&lt;dbl&gt;</th><th scope=col>&lt;dbl&gt;</th><th scope=col>&lt;dbl&gt;</th><th scope=col>&lt;dbl&gt;</th><th scope=col>&lt;dbl&gt;</th><th scope=col>&lt;chr&gt;</th><th scope=col>&lt;dbl&gt;</th><th scope=col>&lt;dbl&gt;</th><th scope=col>&lt;dbl&gt;</th><th scope=col>&lt;dbl&gt;</th><th scope=col>&lt;dbl&gt;</th><th scope=col>&lt;dbl&gt;</th><th scope=col>&lt;dbl&gt;</th><th scope=col>&lt;dbl&gt;</th><th scope=col>&lt;dbl&gt;</th><th scope=col>&lt;dbl&gt;</th><th scope=col>&lt;dbl&gt;</th></tr>\n",
       "</thead>\n",
       "<tbody>\n",
       "\t<tr><td>2</td><td>2016-01-01</td><td>2016-01-01 00:00:00</td><td>2</td><td> 1.10</td><td>-73.99037</td><td>40.73470</td><td>1</td><td>N</td><td>-73.98184</td><td>40.73241</td><td>2</td><td> 7.5</td><td>0.5</td><td>0.5</td><td>0</td><td>0</td><td>0.3</td><td> 8.8</td><td> 1.76990</td></tr>\n",
       "\t<tr><td>2</td><td>2016-01-01</td><td>2016-01-01 00:00:00</td><td>5</td><td> 4.90</td><td>-73.98078</td><td>40.72991</td><td>1</td><td>N</td><td>-73.94447</td><td>40.71668</td><td>1</td><td>18.0</td><td>0.5</td><td>0.5</td><td>0</td><td>0</td><td>0.3</td><td>19.3</td><td> 7.88410</td></tr>\n",
       "\t<tr><td>2</td><td>2016-01-01</td><td>2016-01-01 00:00:00</td><td>1</td><td>10.54</td><td>-73.98455</td><td>40.67957</td><td>1</td><td>N</td><td>-73.95027</td><td>40.78893</td><td>1</td><td>33.0</td><td>0.5</td><td>0.5</td><td>0</td><td>0</td><td>0.3</td><td>34.3</td><td>16.95886</td></tr>\n",
       "\t<tr><td>2</td><td>2016-01-01</td><td>2016-01-01 00:00:00</td><td>1</td><td> 4.75</td><td>-73.99347</td><td>40.71899</td><td>1</td><td>N</td><td>-73.96224</td><td>40.65733</td><td>2</td><td>16.5</td><td>0.0</td><td>0.5</td><td>0</td><td>0</td><td>0.3</td><td>17.3</td><td> 7.64275</td></tr>\n",
       "\t<tr><td>2</td><td>2016-01-01</td><td>2016-01-01 00:00:00</td><td>3</td><td> 1.76</td><td>-73.96062</td><td>40.78133</td><td>1</td><td>N</td><td>-73.97726</td><td>40.75851</td><td>2</td><td> 8.0</td><td>0.0</td><td>0.5</td><td>0</td><td>0</td><td>0.3</td><td> 8.8</td><td> 2.83184</td></tr>\n",
       "\t<tr><td>2</td><td>2016-01-01</td><td>2016-01-01 00:18:30</td><td>2</td><td> 5.52</td><td>-73.98012</td><td>40.74305</td><td>1</td><td>N</td><td>-73.91349</td><td>40.76314</td><td>2</td><td>19.0</td><td>0.5</td><td>0.5</td><td>0</td><td>0</td><td>0.3</td><td>20.3</td><td> 8.88168</td></tr>\n",
       "</tbody>\n",
       "</table>\n"
      ],
      "text/latex": [
       "A tibble: 6 × 20\n",
       "\\begin{tabular}{llllllllllllllllllll}\n",
       " VendorID & tpep\\_pickup\\_datetime & tpep\\_dropoff\\_datetime & passenger\\_count & trip\\_distance & pickup\\_longitude & pickup\\_latitude & RatecodeID & store\\_and\\_fwd\\_flag & dropoff\\_longitude & dropoff\\_latitude & payment\\_type & fare\\_amount & extra & mta\\_tax & tip\\_amount & tolls\\_amount & improvement\\_surcharge & total\\_amount & trip\\_distance\\_kms\\\\\n",
       " <dbl> & <dttm> & <dttm> & <dbl> & <dbl> & <dbl> & <dbl> & <dbl> & <chr> & <dbl> & <dbl> & <dbl> & <dbl> & <dbl> & <dbl> & <dbl> & <dbl> & <dbl> & <dbl> & <dbl>\\\\\n",
       "\\hline\n",
       "\t 2 & 2016-01-01 & 2016-01-01 00:00:00 & 2 &  1.10 & -73.99037 & 40.73470 & 1 & N & -73.98184 & 40.73241 & 2 &  7.5 & 0.5 & 0.5 & 0 & 0 & 0.3 &  8.8 &  1.76990\\\\\n",
       "\t 2 & 2016-01-01 & 2016-01-01 00:00:00 & 5 &  4.90 & -73.98078 & 40.72991 & 1 & N & -73.94447 & 40.71668 & 1 & 18.0 & 0.5 & 0.5 & 0 & 0 & 0.3 & 19.3 &  7.88410\\\\\n",
       "\t 2 & 2016-01-01 & 2016-01-01 00:00:00 & 1 & 10.54 & -73.98455 & 40.67957 & 1 & N & -73.95027 & 40.78893 & 1 & 33.0 & 0.5 & 0.5 & 0 & 0 & 0.3 & 34.3 & 16.95886\\\\\n",
       "\t 2 & 2016-01-01 & 2016-01-01 00:00:00 & 1 &  4.75 & -73.99347 & 40.71899 & 1 & N & -73.96224 & 40.65733 & 2 & 16.5 & 0.0 & 0.5 & 0 & 0 & 0.3 & 17.3 &  7.64275\\\\\n",
       "\t 2 & 2016-01-01 & 2016-01-01 00:00:00 & 3 &  1.76 & -73.96062 & 40.78133 & 1 & N & -73.97726 & 40.75851 & 2 &  8.0 & 0.0 & 0.5 & 0 & 0 & 0.3 &  8.8 &  2.83184\\\\\n",
       "\t 2 & 2016-01-01 & 2016-01-01 00:18:30 & 2 &  5.52 & -73.98012 & 40.74305 & 1 & N & -73.91349 & 40.76314 & 2 & 19.0 & 0.5 & 0.5 & 0 & 0 & 0.3 & 20.3 &  8.88168\\\\\n",
       "\\end{tabular}\n"
      ],
      "text/markdown": [
       "\n",
       "A tibble: 6 × 20\n",
       "\n",
       "| VendorID &lt;dbl&gt; | tpep_pickup_datetime &lt;dttm&gt; | tpep_dropoff_datetime &lt;dttm&gt; | passenger_count &lt;dbl&gt; | trip_distance &lt;dbl&gt; | pickup_longitude &lt;dbl&gt; | pickup_latitude &lt;dbl&gt; | RatecodeID &lt;dbl&gt; | store_and_fwd_flag &lt;chr&gt; | dropoff_longitude &lt;dbl&gt; | dropoff_latitude &lt;dbl&gt; | payment_type &lt;dbl&gt; | fare_amount &lt;dbl&gt; | extra &lt;dbl&gt; | mta_tax &lt;dbl&gt; | tip_amount &lt;dbl&gt; | tolls_amount &lt;dbl&gt; | improvement_surcharge &lt;dbl&gt; | total_amount &lt;dbl&gt; | trip_distance_kms &lt;dbl&gt; |\n",
       "|---|---|---|---|---|---|---|---|---|---|---|---|---|---|---|---|---|---|---|---|\n",
       "| 2 | 2016-01-01 | 2016-01-01 00:00:00 | 2 |  1.10 | -73.99037 | 40.73470 | 1 | N | -73.98184 | 40.73241 | 2 |  7.5 | 0.5 | 0.5 | 0 | 0 | 0.3 |  8.8 |  1.76990 |\n",
       "| 2 | 2016-01-01 | 2016-01-01 00:00:00 | 5 |  4.90 | -73.98078 | 40.72991 | 1 | N | -73.94447 | 40.71668 | 1 | 18.0 | 0.5 | 0.5 | 0 | 0 | 0.3 | 19.3 |  7.88410 |\n",
       "| 2 | 2016-01-01 | 2016-01-01 00:00:00 | 1 | 10.54 | -73.98455 | 40.67957 | 1 | N | -73.95027 | 40.78893 | 1 | 33.0 | 0.5 | 0.5 | 0 | 0 | 0.3 | 34.3 | 16.95886 |\n",
       "| 2 | 2016-01-01 | 2016-01-01 00:00:00 | 1 |  4.75 | -73.99347 | 40.71899 | 1 | N | -73.96224 | 40.65733 | 2 | 16.5 | 0.0 | 0.5 | 0 | 0 | 0.3 | 17.3 |  7.64275 |\n",
       "| 2 | 2016-01-01 | 2016-01-01 00:00:00 | 3 |  1.76 | -73.96062 | 40.78133 | 1 | N | -73.97726 | 40.75851 | 2 |  8.0 | 0.0 | 0.5 | 0 | 0 | 0.3 |  8.8 |  2.83184 |\n",
       "| 2 | 2016-01-01 | 2016-01-01 00:18:30 | 2 |  5.52 | -73.98012 | 40.74305 | 1 | N | -73.91349 | 40.76314 | 2 | 19.0 | 0.5 | 0.5 | 0 | 0 | 0.3 | 20.3 |  8.88168 |\n",
       "\n"
      ],
      "text/plain": [
       "  VendorID tpep_pickup_datetime tpep_dropoff_datetime passenger_count\n",
       "1 2        2016-01-01           2016-01-01 00:00:00   2              \n",
       "2 2        2016-01-01           2016-01-01 00:00:00   5              \n",
       "3 2        2016-01-01           2016-01-01 00:00:00   1              \n",
       "4 2        2016-01-01           2016-01-01 00:00:00   1              \n",
       "5 2        2016-01-01           2016-01-01 00:00:00   3              \n",
       "6 2        2016-01-01           2016-01-01 00:18:30   2              \n",
       "  trip_distance pickup_longitude pickup_latitude RatecodeID store_and_fwd_flag\n",
       "1  1.10         -73.99037        40.73470        1          N                 \n",
       "2  4.90         -73.98078        40.72991        1          N                 \n",
       "3 10.54         -73.98455        40.67957        1          N                 \n",
       "4  4.75         -73.99347        40.71899        1          N                 \n",
       "5  1.76         -73.96062        40.78133        1          N                 \n",
       "6  5.52         -73.98012        40.74305        1          N                 \n",
       "  dropoff_longitude dropoff_latitude payment_type fare_amount extra mta_tax\n",
       "1 -73.98184         40.73241         2             7.5        0.5   0.5    \n",
       "2 -73.94447         40.71668         1            18.0        0.5   0.5    \n",
       "3 -73.95027         40.78893         1            33.0        0.5   0.5    \n",
       "4 -73.96224         40.65733         2            16.5        0.0   0.5    \n",
       "5 -73.97726         40.75851         2             8.0        0.0   0.5    \n",
       "6 -73.91349         40.76314         2            19.0        0.5   0.5    \n",
       "  tip_amount tolls_amount improvement_surcharge total_amount trip_distance_kms\n",
       "1 0          0            0.3                    8.8          1.76990         \n",
       "2 0          0            0.3                   19.3          7.88410         \n",
       "3 0          0            0.3                   34.3         16.95886         \n",
       "4 0          0            0.3                   17.3          7.64275         \n",
       "5 0          0            0.3                    8.8          2.83184         \n",
       "6 0          0            0.3                   20.3          8.88168         "
      ]
     },
     "metadata": {},
     "output_type": "display_data"
    }
   ],
   "source": [
    "head(taxis_with_kms)"
   ]
  },
  {
   "cell_type": "code",
   "execution_count": 32,
   "id": "cba8f968",
   "metadata": {},
   "outputs": [],
   "source": [
    "# Add cost_per_mile\n",
    "taxis_with_cost_mile <- taxis %>% \n",
    "  mutate(cost_per_mile = total_amount/trip_distance)"
   ]
  },
  {
   "cell_type": "code",
   "execution_count": 33,
   "id": "c3f00a06",
   "metadata": {},
   "outputs": [
    {
     "data": {
      "text/html": [
       "<table class=\"dataframe\">\n",
       "<caption>A tibble: 6 × 20</caption>\n",
       "<thead>\n",
       "\t<tr><th scope=col>VendorID</th><th scope=col>tpep_pickup_datetime</th><th scope=col>tpep_dropoff_datetime</th><th scope=col>passenger_count</th><th scope=col>trip_distance</th><th scope=col>pickup_longitude</th><th scope=col>pickup_latitude</th><th scope=col>RatecodeID</th><th scope=col>store_and_fwd_flag</th><th scope=col>dropoff_longitude</th><th scope=col>dropoff_latitude</th><th scope=col>payment_type</th><th scope=col>fare_amount</th><th scope=col>extra</th><th scope=col>mta_tax</th><th scope=col>tip_amount</th><th scope=col>tolls_amount</th><th scope=col>improvement_surcharge</th><th scope=col>total_amount</th><th scope=col>cost_per_mile</th></tr>\n",
       "\t<tr><th scope=col>&lt;dbl&gt;</th><th scope=col>&lt;dttm&gt;</th><th scope=col>&lt;dttm&gt;</th><th scope=col>&lt;dbl&gt;</th><th scope=col>&lt;dbl&gt;</th><th scope=col>&lt;dbl&gt;</th><th scope=col>&lt;dbl&gt;</th><th scope=col>&lt;dbl&gt;</th><th scope=col>&lt;chr&gt;</th><th scope=col>&lt;dbl&gt;</th><th scope=col>&lt;dbl&gt;</th><th scope=col>&lt;dbl&gt;</th><th scope=col>&lt;dbl&gt;</th><th scope=col>&lt;dbl&gt;</th><th scope=col>&lt;dbl&gt;</th><th scope=col>&lt;dbl&gt;</th><th scope=col>&lt;dbl&gt;</th><th scope=col>&lt;dbl&gt;</th><th scope=col>&lt;dbl&gt;</th><th scope=col>&lt;dbl&gt;</th></tr>\n",
       "</thead>\n",
       "<tbody>\n",
       "\t<tr><td>2</td><td>2016-01-01</td><td>2016-01-01 00:00:00</td><td>2</td><td> 1.10</td><td>-73.99037</td><td>40.73470</td><td>1</td><td>N</td><td>-73.98184</td><td>40.73241</td><td>2</td><td> 7.5</td><td>0.5</td><td>0.5</td><td>0</td><td>0</td><td>0.3</td><td> 8.8</td><td>8.000000</td></tr>\n",
       "\t<tr><td>2</td><td>2016-01-01</td><td>2016-01-01 00:00:00</td><td>5</td><td> 4.90</td><td>-73.98078</td><td>40.72991</td><td>1</td><td>N</td><td>-73.94447</td><td>40.71668</td><td>1</td><td>18.0</td><td>0.5</td><td>0.5</td><td>0</td><td>0</td><td>0.3</td><td>19.3</td><td>3.938776</td></tr>\n",
       "\t<tr><td>2</td><td>2016-01-01</td><td>2016-01-01 00:00:00</td><td>1</td><td>10.54</td><td>-73.98455</td><td>40.67957</td><td>1</td><td>N</td><td>-73.95027</td><td>40.78893</td><td>1</td><td>33.0</td><td>0.5</td><td>0.5</td><td>0</td><td>0</td><td>0.3</td><td>34.3</td><td>3.254269</td></tr>\n",
       "\t<tr><td>2</td><td>2016-01-01</td><td>2016-01-01 00:00:00</td><td>1</td><td> 4.75</td><td>-73.99347</td><td>40.71899</td><td>1</td><td>N</td><td>-73.96224</td><td>40.65733</td><td>2</td><td>16.5</td><td>0.0</td><td>0.5</td><td>0</td><td>0</td><td>0.3</td><td>17.3</td><td>3.642105</td></tr>\n",
       "\t<tr><td>2</td><td>2016-01-01</td><td>2016-01-01 00:00:00</td><td>3</td><td> 1.76</td><td>-73.96062</td><td>40.78133</td><td>1</td><td>N</td><td>-73.97726</td><td>40.75851</td><td>2</td><td> 8.0</td><td>0.0</td><td>0.5</td><td>0</td><td>0</td><td>0.3</td><td> 8.8</td><td>5.000000</td></tr>\n",
       "\t<tr><td>2</td><td>2016-01-01</td><td>2016-01-01 00:18:30</td><td>2</td><td> 5.52</td><td>-73.98012</td><td>40.74305</td><td>1</td><td>N</td><td>-73.91349</td><td>40.76314</td><td>2</td><td>19.0</td><td>0.5</td><td>0.5</td><td>0</td><td>0</td><td>0.3</td><td>20.3</td><td>3.677536</td></tr>\n",
       "</tbody>\n",
       "</table>\n"
      ],
      "text/latex": [
       "A tibble: 6 × 20\n",
       "\\begin{tabular}{llllllllllllllllllll}\n",
       " VendorID & tpep\\_pickup\\_datetime & tpep\\_dropoff\\_datetime & passenger\\_count & trip\\_distance & pickup\\_longitude & pickup\\_latitude & RatecodeID & store\\_and\\_fwd\\_flag & dropoff\\_longitude & dropoff\\_latitude & payment\\_type & fare\\_amount & extra & mta\\_tax & tip\\_amount & tolls\\_amount & improvement\\_surcharge & total\\_amount & cost\\_per\\_mile\\\\\n",
       " <dbl> & <dttm> & <dttm> & <dbl> & <dbl> & <dbl> & <dbl> & <dbl> & <chr> & <dbl> & <dbl> & <dbl> & <dbl> & <dbl> & <dbl> & <dbl> & <dbl> & <dbl> & <dbl> & <dbl>\\\\\n",
       "\\hline\n",
       "\t 2 & 2016-01-01 & 2016-01-01 00:00:00 & 2 &  1.10 & -73.99037 & 40.73470 & 1 & N & -73.98184 & 40.73241 & 2 &  7.5 & 0.5 & 0.5 & 0 & 0 & 0.3 &  8.8 & 8.000000\\\\\n",
       "\t 2 & 2016-01-01 & 2016-01-01 00:00:00 & 5 &  4.90 & -73.98078 & 40.72991 & 1 & N & -73.94447 & 40.71668 & 1 & 18.0 & 0.5 & 0.5 & 0 & 0 & 0.3 & 19.3 & 3.938776\\\\\n",
       "\t 2 & 2016-01-01 & 2016-01-01 00:00:00 & 1 & 10.54 & -73.98455 & 40.67957 & 1 & N & -73.95027 & 40.78893 & 1 & 33.0 & 0.5 & 0.5 & 0 & 0 & 0.3 & 34.3 & 3.254269\\\\\n",
       "\t 2 & 2016-01-01 & 2016-01-01 00:00:00 & 1 &  4.75 & -73.99347 & 40.71899 & 1 & N & -73.96224 & 40.65733 & 2 & 16.5 & 0.0 & 0.5 & 0 & 0 & 0.3 & 17.3 & 3.642105\\\\\n",
       "\t 2 & 2016-01-01 & 2016-01-01 00:00:00 & 3 &  1.76 & -73.96062 & 40.78133 & 1 & N & -73.97726 & 40.75851 & 2 &  8.0 & 0.0 & 0.5 & 0 & 0 & 0.3 &  8.8 & 5.000000\\\\\n",
       "\t 2 & 2016-01-01 & 2016-01-01 00:18:30 & 2 &  5.52 & -73.98012 & 40.74305 & 1 & N & -73.91349 & 40.76314 & 2 & 19.0 & 0.5 & 0.5 & 0 & 0 & 0.3 & 20.3 & 3.677536\\\\\n",
       "\\end{tabular}\n"
      ],
      "text/markdown": [
       "\n",
       "A tibble: 6 × 20\n",
       "\n",
       "| VendorID &lt;dbl&gt; | tpep_pickup_datetime &lt;dttm&gt; | tpep_dropoff_datetime &lt;dttm&gt; | passenger_count &lt;dbl&gt; | trip_distance &lt;dbl&gt; | pickup_longitude &lt;dbl&gt; | pickup_latitude &lt;dbl&gt; | RatecodeID &lt;dbl&gt; | store_and_fwd_flag &lt;chr&gt; | dropoff_longitude &lt;dbl&gt; | dropoff_latitude &lt;dbl&gt; | payment_type &lt;dbl&gt; | fare_amount &lt;dbl&gt; | extra &lt;dbl&gt; | mta_tax &lt;dbl&gt; | tip_amount &lt;dbl&gt; | tolls_amount &lt;dbl&gt; | improvement_surcharge &lt;dbl&gt; | total_amount &lt;dbl&gt; | cost_per_mile &lt;dbl&gt; |\n",
       "|---|---|---|---|---|---|---|---|---|---|---|---|---|---|---|---|---|---|---|---|\n",
       "| 2 | 2016-01-01 | 2016-01-01 00:00:00 | 2 |  1.10 | -73.99037 | 40.73470 | 1 | N | -73.98184 | 40.73241 | 2 |  7.5 | 0.5 | 0.5 | 0 | 0 | 0.3 |  8.8 | 8.000000 |\n",
       "| 2 | 2016-01-01 | 2016-01-01 00:00:00 | 5 |  4.90 | -73.98078 | 40.72991 | 1 | N | -73.94447 | 40.71668 | 1 | 18.0 | 0.5 | 0.5 | 0 | 0 | 0.3 | 19.3 | 3.938776 |\n",
       "| 2 | 2016-01-01 | 2016-01-01 00:00:00 | 1 | 10.54 | -73.98455 | 40.67957 | 1 | N | -73.95027 | 40.78893 | 1 | 33.0 | 0.5 | 0.5 | 0 | 0 | 0.3 | 34.3 | 3.254269 |\n",
       "| 2 | 2016-01-01 | 2016-01-01 00:00:00 | 1 |  4.75 | -73.99347 | 40.71899 | 1 | N | -73.96224 | 40.65733 | 2 | 16.5 | 0.0 | 0.5 | 0 | 0 | 0.3 | 17.3 | 3.642105 |\n",
       "| 2 | 2016-01-01 | 2016-01-01 00:00:00 | 3 |  1.76 | -73.96062 | 40.78133 | 1 | N | -73.97726 | 40.75851 | 2 |  8.0 | 0.0 | 0.5 | 0 | 0 | 0.3 |  8.8 | 5.000000 |\n",
       "| 2 | 2016-01-01 | 2016-01-01 00:18:30 | 2 |  5.52 | -73.98012 | 40.74305 | 1 | N | -73.91349 | 40.76314 | 2 | 19.0 | 0.5 | 0.5 | 0 | 0 | 0.3 | 20.3 | 3.677536 |\n",
       "\n"
      ],
      "text/plain": [
       "  VendorID tpep_pickup_datetime tpep_dropoff_datetime passenger_count\n",
       "1 2        2016-01-01           2016-01-01 00:00:00   2              \n",
       "2 2        2016-01-01           2016-01-01 00:00:00   5              \n",
       "3 2        2016-01-01           2016-01-01 00:00:00   1              \n",
       "4 2        2016-01-01           2016-01-01 00:00:00   1              \n",
       "5 2        2016-01-01           2016-01-01 00:00:00   3              \n",
       "6 2        2016-01-01           2016-01-01 00:18:30   2              \n",
       "  trip_distance pickup_longitude pickup_latitude RatecodeID store_and_fwd_flag\n",
       "1  1.10         -73.99037        40.73470        1          N                 \n",
       "2  4.90         -73.98078        40.72991        1          N                 \n",
       "3 10.54         -73.98455        40.67957        1          N                 \n",
       "4  4.75         -73.99347        40.71899        1          N                 \n",
       "5  1.76         -73.96062        40.78133        1          N                 \n",
       "6  5.52         -73.98012        40.74305        1          N                 \n",
       "  dropoff_longitude dropoff_latitude payment_type fare_amount extra mta_tax\n",
       "1 -73.98184         40.73241         2             7.5        0.5   0.5    \n",
       "2 -73.94447         40.71668         1            18.0        0.5   0.5    \n",
       "3 -73.95027         40.78893         1            33.0        0.5   0.5    \n",
       "4 -73.96224         40.65733         2            16.5        0.0   0.5    \n",
       "5 -73.97726         40.75851         2             8.0        0.0   0.5    \n",
       "6 -73.91349         40.76314         2            19.0        0.5   0.5    \n",
       "  tip_amount tolls_amount improvement_surcharge total_amount cost_per_mile\n",
       "1 0          0            0.3                    8.8         8.000000     \n",
       "2 0          0            0.3                   19.3         3.938776     \n",
       "3 0          0            0.3                   34.3         3.254269     \n",
       "4 0          0            0.3                   17.3         3.642105     \n",
       "5 0          0            0.3                    8.8         5.000000     \n",
       "6 0          0            0.3                   20.3         3.677536     "
      ]
     },
     "metadata": {},
     "output_type": "display_data"
    }
   ],
   "source": [
    "head(taxis_with_cost_mile)"
   ]
  },
  {
   "cell_type": "code",
   "execution_count": 34,
   "id": "202a9755",
   "metadata": {},
   "outputs": [
    {
     "ename": "ERROR",
     "evalue": "Error: Problem with `mutate()` input `my_distance`.\n\u001b[31mx\u001b[39m could not find function \"hav_dist\"\n\u001b[34mi\u001b[39m Input `my_distance` is `hav_dist(...)`.\n",
     "output_type": "error",
     "traceback": [
      "Error: Problem with `mutate()` input `my_distance`.\n\u001b[31mx\u001b[39m could not find function \"hav_dist\"\n\u001b[34mi\u001b[39m Input `my_distance` is `hav_dist(...)`.\nTraceback:\n",
      "1. taxis %>% mutate(my_distance = hav_dist(pickup_longitude, pickup_latitude, \n .     dropoff_longitude, dropoff_latitude), diff = trip_distance - \n .     my_distance)",
      "2. mutate(., my_distance = hav_dist(pickup_longitude, pickup_latitude, \n .     dropoff_longitude, dropoff_latitude), diff = trip_distance - \n .     my_distance)",
      "3. mutate.data.frame(., my_distance = hav_dist(pickup_longitude, \n .     pickup_latitude, dropoff_longitude, dropoff_latitude), diff = trip_distance - \n .     my_distance)",
      "4. mutate_cols(.data, ...)",
      "5. withCallingHandlers({\n .     for (i in seq_along(dots)) {\n .         mask$across_cache_reset()\n .         quosures <- expand_quosure(dots[[i]])\n .         quosures_results <- vector(mode = \"list\", length = length(quosures))\n .         for (k in seq_along(quosures)) {\n .             quo <- quosures[[k]]\n .             quo_data <- attr(quo, \"dplyr:::data\")\n .             context_poke(\"column\", quo_data$column)\n .             chunks <- NULL\n .             result <- NULL\n .             if (quo_is_symbol(quo)) {\n .                 name <- as_string(quo_get_expr(quo))\n .                 if (name %in% names(new_columns)) {\n .                   result <- new_columns[[name]]\n .                   chunks <- mask$resolve(name)\n .                 }\n .                 else if (name %in% names(.data)) {\n .                   result <- .data[[name]]\n .                   chunks <- mask$resolve(name)\n .                 }\n .                 if (inherits(.data, \"rowwise_df\") && vec_is_list(result)) {\n .                   sizes <- list_sizes(result)\n .                   wrong <- which(sizes != 1)\n .                   if (length(wrong)) {\n .                     group <- wrong[1L]\n .                     mask$set_current_group(group)\n .                     abort(x_size = sizes[group], class = \"dplyr:::mutate_incompatible_size\")\n .                   }\n .                 }\n .             }\n .             if (is.null(chunks)) {\n .                 chunks <- mask$eval_all_mutate(quo)\n .             }\n .             if (is.null(chunks)) {\n .                 next\n .             }\n .             if (is.null(result)) {\n .                 if (length(rows) == 1) {\n .                   result <- chunks[[1]]\n .                 }\n .                 else {\n .                   result <- withCallingHandlers(vec_unchop(chunks <- vec_cast_common(!!!chunks), \n .                     rows), vctrs_error_incompatible_type = function(cnd) {\n .                     abort(class = \"dplyr:::error_mutate_incompatible_combine\", \n .                       parent = cnd)\n .                   })\n .                 }\n .             }\n .             quosures_results[[k]] <- list(result = result, chunks = chunks)\n .         }\n .         for (k in seq_along(quosures)) {\n .             quo <- quosures[[k]]\n .             quo_data <- attr(quo, \"dplyr:::data\")\n .             quo_result <- quosures_results[[k]]\n .             if (is.null(quo_result)) {\n .                 if (quo_data$is_named) {\n .                   name <- quo_data$name_given\n .                   new_columns[[name]] <- zap()\n .                   mask$remove(name)\n .                 }\n .                 next\n .             }\n .             result <- quo_result$result\n .             chunks <- quo_result$chunks\n .             if (!quo_data$is_named && is.data.frame(result)) {\n .                 new_columns[names(result)] <- result\n .                 mask$add_many(result, chunks)\n .             }\n .             else {\n .                 name <- quo_data$name_auto\n .                 new_columns[[name]] <- result\n .                 mask$add_one(name, chunks)\n .             }\n .         }\n .     }\n . }, error = function(e) {\n .     local_call_step(dots = dots, .index = i, .fn = \"mutate\", \n .         .dot_data = inherits(e, \"rlang_error_data_pronoun_not_found\"))\n .     call_step_envir <- peek_call_step()\n .     error_name <- call_step_envir$error_name\n .     error_expression <- call_step_envir$error_expression\n .     show_group_details <- TRUE\n .     if (inherits(e, \"dplyr:::mutate_incompatible_size\")) {\n .         size <- vec_size(rows[[mask$get_current_group()]])\n .         x_size <- e$x_size\n .         bullets <- c(x = glue(\"Input `{error_name}` can't be recycled to size {size}.\"), \n .             i = cnd_bullet_input_info(), i = glue(\"Input `{error_name}` must be size {or_1(size)}, not {x_size}.\"), \n .             i = cnd_bullet_rowwise_unlist())\n .     }\n .     else if (inherits(e, \"dplyr:::mutate_mixed_null\")) {\n .         show_group_details <- FALSE\n .         bullets <- c(x = glue(\"`{error_name}` must return compatible vectors across groups.\"), \n .             i = cnd_bullet_input_info(), i = \"Cannot combine NULL and non NULL results.\", \n .             i = cnd_bullet_rowwise_unlist())\n .     }\n .     else if (inherits(e, \"dplyr:::mutate_not_vector\")) {\n .         bullets <- c(x = glue(\"Input `{error_name}` must be a vector, not {friendly_type_of(e$result)}.\"), \n .             i = cnd_bullet_input_info(), i = cnd_bullet_rowwise_unlist())\n .     }\n .     else if (inherits(e, \"dplyr:::error_mutate_incompatible_combine\")) {\n .         show_group_details <- FALSE\n .         bullets <- c(x = glue(\"Input `{error_name}` must return compatible vectors across groups\"), \n .             i = cnd_bullet_input_info(), i = cnd_bullet_combine_details(e$parent$x, \n .                 e$parent$x_arg), i = cnd_bullet_combine_details(e$parent$y, \n .                 e$parent$y_arg))\n .     }\n .     else {\n .         bullets <- c(x = conditionMessage(e), i = cnd_bullet_input_info())\n .     }\n .     bullets <- c(cnd_bullet_header(), bullets, i = if (show_group_details) cnd_bullet_cur_group_label())\n .     abort(bullets, class = c(\"dplyr:::mutate_error\", \"dplyr_error\"), \n .         error_name = error_name, error_expression = error_expression, \n .         parent = e, bullets = bullets)\n . }, warning = function(w) {\n .     if (check_muffled_warning(w)) {\n .         maybe_restart(\"muffleWarning\")\n .     }\n .     local_call_step(dots = dots, .index = i, .fn = \"mutate\")\n .     warn(c(cnd_bullet_header(), i = conditionMessage(w), i = cnd_bullet_input_info(), \n .         i = cnd_bullet_cur_group_label(what = \"warning\")))\n .     maybe_restart(\"muffleWarning\")\n . })",
      "6. mask$eval_all_mutate(quo)",
      "7. .handleSimpleError(function (e) \n . {\n .     local_call_step(dots = dots, .index = i, .fn = \"mutate\", \n .         .dot_data = inherits(e, \"rlang_error_data_pronoun_not_found\"))\n .     call_step_envir <- peek_call_step()\n .     error_name <- call_step_envir$error_name\n .     error_expression <- call_step_envir$error_expression\n .     show_group_details <- TRUE\n .     if (inherits(e, \"dplyr:::mutate_incompatible_size\")) {\n .         size <- vec_size(rows[[mask$get_current_group()]])\n .         x_size <- e$x_size\n .         bullets <- c(x = glue(\"Input `{error_name}` can't be recycled to size {size}.\"), \n .             i = cnd_bullet_input_info(), i = glue(\"Input `{error_name}` must be size {or_1(size)}, not {x_size}.\"), \n .             i = cnd_bullet_rowwise_unlist())\n .     }\n .     else if (inherits(e, \"dplyr:::mutate_mixed_null\")) {\n .         show_group_details <- FALSE\n .         bullets <- c(x = glue(\"`{error_name}` must return compatible vectors across groups.\"), \n .             i = cnd_bullet_input_info(), i = \"Cannot combine NULL and non NULL results.\", \n .             i = cnd_bullet_rowwise_unlist())\n .     }\n .     else if (inherits(e, \"dplyr:::mutate_not_vector\")) {\n .         bullets <- c(x = glue(\"Input `{error_name}` must be a vector, not {friendly_type_of(e$result)}.\"), \n .             i = cnd_bullet_input_info(), i = cnd_bullet_rowwise_unlist())\n .     }\n .     else if (inherits(e, \"dplyr:::error_mutate_incompatible_combine\")) {\n .         show_group_details <- FALSE\n .         bullets <- c(x = glue(\"Input `{error_name}` must return compatible vectors across groups\"), \n .             i = cnd_bullet_input_info(), i = cnd_bullet_combine_details(e$parent$x, \n .                 e$parent$x_arg), i = cnd_bullet_combine_details(e$parent$y, \n .                 e$parent$y_arg))\n .     }\n .     else {\n .         bullets <- c(x = conditionMessage(e), i = cnd_bullet_input_info())\n .     }\n .     bullets <- c(cnd_bullet_header(), bullets, i = if (show_group_details) cnd_bullet_cur_group_label())\n .     abort(bullets, class = c(\"dplyr:::mutate_error\", \"dplyr_error\"), \n .         error_name = error_name, error_expression = error_expression, \n .         parent = e, bullets = bullets)\n . }, \"could not find function \\\"hav_dist\\\"\", base::quote(hav_dist(pickup_longitude, \n .     pickup_latitude, dropoff_longitude, dropoff_latitude)))",
      "8. h(simpleError(msg, call))",
      "9. abort(bullets, class = c(\"dplyr:::mutate_error\", \"dplyr_error\"), \n .     error_name = error_name, error_expression = error_expression, \n .     parent = e, bullets = bullets)",
      "10. signal_abort(cnd)"
     ]
    }
   ],
   "source": [
    "# Create my_distance and diff\n",
    "taxis_my_dist <- taxis  %>% \n",
    "  mutate(my_distance = hav_dist(pickup_longitude,pickup_latitude,dropoff_longitude,dropoff_latitude),\n",
    "         diff = trip_distance-my_distance)"
   ]
  },
  {
   "cell_type": "code",
   "execution_count": null,
   "id": "f5a73d37",
   "metadata": {},
   "outputs": [],
   "source": [
    "# Find the min and the max of diff\n",
    "\n",
    "min(taxis_my_dist$diff)\n",
    "\n",
    "max(taxis_my_dist$diff)\n"
   ]
  },
  {
   "cell_type": "code",
   "execution_count": 35,
   "id": "4d2fd6af",
   "metadata": {},
   "outputs": [],
   "source": [
    "taxis_standard_rate <- filter(taxis, RatecodeID == 1)"
   ]
  },
  {
   "cell_type": "code",
   "execution_count": 36,
   "id": "11f9fe5b",
   "metadata": {},
   "outputs": [
    {
     "data": {
      "text/html": [
       "<style>\n",
       ".list-inline {list-style: none; margin:0; padding: 0}\n",
       ".list-inline>li {display: inline-block}\n",
       ".list-inline>li:not(:last-child)::after {content: \"\\00b7\"; padding: 0 .5ex}\n",
       "</style>\n",
       "<ol class=list-inline><li>30001</li><li>19</li></ol>\n"
      ],
      "text/latex": [
       "\\begin{enumerate*}\n",
       "\\item 30001\n",
       "\\item 19\n",
       "\\end{enumerate*}\n"
      ],
      "text/markdown": [
       "1. 30001\n",
       "2. 19\n",
       "\n",
       "\n"
      ],
      "text/plain": [
       "[1] 30001    19"
      ]
     },
     "metadata": {},
     "output_type": "display_data"
    },
    {
     "data": {
      "text/html": [
       "<style>\n",
       ".list-inline {list-style: none; margin:0; padding: 0}\n",
       ".list-inline>li {display: inline-block}\n",
       ".list-inline>li:not(:last-child)::after {content: \"\\00b7\"; padding: 0 .5ex}\n",
       "</style>\n",
       "<ol class=list-inline><li>29095</li><li>19</li></ol>\n"
      ],
      "text/latex": [
       "\\begin{enumerate*}\n",
       "\\item 29095\n",
       "\\item 19\n",
       "\\end{enumerate*}\n"
      ],
      "text/markdown": [
       "1. 29095\n",
       "2. 19\n",
       "\n",
       "\n"
      ],
      "text/plain": [
       "[1] 29095    19"
      ]
     },
     "metadata": {},
     "output_type": "display_data"
    }
   ],
   "source": [
    "# Check the size of the dataframes\n",
    "dim(taxis)\n",
    "dim(taxis_standard_rate)"
   ]
  },
  {
   "cell_type": "code",
   "execution_count": 37,
   "id": "8c752857",
   "metadata": {},
   "outputs": [],
   "source": [
    "# Filter taxis\n",
    "taxis_groups <- taxis %>%\n",
    "  filter(passenger_count > 1)"
   ]
  },
  {
   "cell_type": "code",
   "execution_count": 38,
   "id": "9d412621",
   "metadata": {},
   "outputs": [
    {
     "data": {
      "text/html": [
       "<table class=\"dataframe\">\n",
       "<caption>A tibble: 6 × 19</caption>\n",
       "<thead>\n",
       "\t<tr><th scope=col>VendorID</th><th scope=col>tpep_pickup_datetime</th><th scope=col>tpep_dropoff_datetime</th><th scope=col>passenger_count</th><th scope=col>trip_distance</th><th scope=col>pickup_longitude</th><th scope=col>pickup_latitude</th><th scope=col>RatecodeID</th><th scope=col>store_and_fwd_flag</th><th scope=col>dropoff_longitude</th><th scope=col>dropoff_latitude</th><th scope=col>payment_type</th><th scope=col>fare_amount</th><th scope=col>extra</th><th scope=col>mta_tax</th><th scope=col>tip_amount</th><th scope=col>tolls_amount</th><th scope=col>improvement_surcharge</th><th scope=col>total_amount</th></tr>\n",
       "\t<tr><th scope=col>&lt;dbl&gt;</th><th scope=col>&lt;dttm&gt;</th><th scope=col>&lt;dttm&gt;</th><th scope=col>&lt;dbl&gt;</th><th scope=col>&lt;dbl&gt;</th><th scope=col>&lt;dbl&gt;</th><th scope=col>&lt;dbl&gt;</th><th scope=col>&lt;dbl&gt;</th><th scope=col>&lt;chr&gt;</th><th scope=col>&lt;dbl&gt;</th><th scope=col>&lt;dbl&gt;</th><th scope=col>&lt;dbl&gt;</th><th scope=col>&lt;dbl&gt;</th><th scope=col>&lt;dbl&gt;</th><th scope=col>&lt;dbl&gt;</th><th scope=col>&lt;dbl&gt;</th><th scope=col>&lt;dbl&gt;</th><th scope=col>&lt;dbl&gt;</th><th scope=col>&lt;dbl&gt;</th></tr>\n",
       "</thead>\n",
       "<tbody>\n",
       "\t<tr><td>2</td><td>2016-01-01 00:00:00</td><td>2016-01-01 00:00:00</td><td>2</td><td>1.10</td><td>-73.99037</td><td>40.73470</td><td>1</td><td>N</td><td>-73.98184</td><td>40.73241</td><td>2</td><td> 7.5</td><td>0.5</td><td>0.5</td><td>0.00</td><td>0</td><td>0.3</td><td> 8.80</td></tr>\n",
       "\t<tr><td>2</td><td>2016-01-01 00:00:00</td><td>2016-01-01 00:00:00</td><td>5</td><td>4.90</td><td>-73.98078</td><td>40.72991</td><td>1</td><td>N</td><td>-73.94447</td><td>40.71668</td><td>1</td><td>18.0</td><td>0.5</td><td>0.5</td><td>0.00</td><td>0</td><td>0.3</td><td>19.30</td></tr>\n",
       "\t<tr><td>2</td><td>2016-01-01 00:00:00</td><td>2016-01-01 00:00:00</td><td>3</td><td>1.76</td><td>-73.96062</td><td>40.78133</td><td>1</td><td>N</td><td>-73.97726</td><td>40.75851</td><td>2</td><td> 8.0</td><td>0.0</td><td>0.5</td><td>0.00</td><td>0</td><td>0.3</td><td> 8.80</td></tr>\n",
       "\t<tr><td>2</td><td>2016-01-01 00:00:00</td><td>2016-01-01 00:18:30</td><td>2</td><td>5.52</td><td>-73.98012</td><td>40.74305</td><td>1</td><td>N</td><td>-73.91349</td><td>40.76314</td><td>2</td><td>19.0</td><td>0.5</td><td>0.5</td><td>0.00</td><td>0</td><td>0.3</td><td>20.30</td></tr>\n",
       "\t<tr><td>2</td><td>2016-01-01 00:00:00</td><td>2016-01-01 00:26:45</td><td>2</td><td>7.45</td><td>-73.99406</td><td>40.71999</td><td>1</td><td>N</td><td>-73.96636</td><td>40.78987</td><td>2</td><td>26.0</td><td>0.5</td><td>0.5</td><td>0.00</td><td>0</td><td>0.3</td><td>27.30</td></tr>\n",
       "\t<tr><td>2</td><td>2016-01-01 00:00:03</td><td>2016-01-01 00:15:49</td><td>6</td><td>2.43</td><td>-73.96933</td><td>40.76354</td><td>1</td><td>N</td><td>-73.99569</td><td>40.74425</td><td>1</td><td>12.0</td><td>0.5</td><td>0.5</td><td>3.99</td><td>0</td><td>0.3</td><td>17.29</td></tr>\n",
       "</tbody>\n",
       "</table>\n"
      ],
      "text/latex": [
       "A tibble: 6 × 19\n",
       "\\begin{tabular}{lllllllllllllllllll}\n",
       " VendorID & tpep\\_pickup\\_datetime & tpep\\_dropoff\\_datetime & passenger\\_count & trip\\_distance & pickup\\_longitude & pickup\\_latitude & RatecodeID & store\\_and\\_fwd\\_flag & dropoff\\_longitude & dropoff\\_latitude & payment\\_type & fare\\_amount & extra & mta\\_tax & tip\\_amount & tolls\\_amount & improvement\\_surcharge & total\\_amount\\\\\n",
       " <dbl> & <dttm> & <dttm> & <dbl> & <dbl> & <dbl> & <dbl> & <dbl> & <chr> & <dbl> & <dbl> & <dbl> & <dbl> & <dbl> & <dbl> & <dbl> & <dbl> & <dbl> & <dbl>\\\\\n",
       "\\hline\n",
       "\t 2 & 2016-01-01 00:00:00 & 2016-01-01 00:00:00 & 2 & 1.10 & -73.99037 & 40.73470 & 1 & N & -73.98184 & 40.73241 & 2 &  7.5 & 0.5 & 0.5 & 0.00 & 0 & 0.3 &  8.80\\\\\n",
       "\t 2 & 2016-01-01 00:00:00 & 2016-01-01 00:00:00 & 5 & 4.90 & -73.98078 & 40.72991 & 1 & N & -73.94447 & 40.71668 & 1 & 18.0 & 0.5 & 0.5 & 0.00 & 0 & 0.3 & 19.30\\\\\n",
       "\t 2 & 2016-01-01 00:00:00 & 2016-01-01 00:00:00 & 3 & 1.76 & -73.96062 & 40.78133 & 1 & N & -73.97726 & 40.75851 & 2 &  8.0 & 0.0 & 0.5 & 0.00 & 0 & 0.3 &  8.80\\\\\n",
       "\t 2 & 2016-01-01 00:00:00 & 2016-01-01 00:18:30 & 2 & 5.52 & -73.98012 & 40.74305 & 1 & N & -73.91349 & 40.76314 & 2 & 19.0 & 0.5 & 0.5 & 0.00 & 0 & 0.3 & 20.30\\\\\n",
       "\t 2 & 2016-01-01 00:00:00 & 2016-01-01 00:26:45 & 2 & 7.45 & -73.99406 & 40.71999 & 1 & N & -73.96636 & 40.78987 & 2 & 26.0 & 0.5 & 0.5 & 0.00 & 0 & 0.3 & 27.30\\\\\n",
       "\t 2 & 2016-01-01 00:00:03 & 2016-01-01 00:15:49 & 6 & 2.43 & -73.96933 & 40.76354 & 1 & N & -73.99569 & 40.74425 & 1 & 12.0 & 0.5 & 0.5 & 3.99 & 0 & 0.3 & 17.29\\\\\n",
       "\\end{tabular}\n"
      ],
      "text/markdown": [
       "\n",
       "A tibble: 6 × 19\n",
       "\n",
       "| VendorID &lt;dbl&gt; | tpep_pickup_datetime &lt;dttm&gt; | tpep_dropoff_datetime &lt;dttm&gt; | passenger_count &lt;dbl&gt; | trip_distance &lt;dbl&gt; | pickup_longitude &lt;dbl&gt; | pickup_latitude &lt;dbl&gt; | RatecodeID &lt;dbl&gt; | store_and_fwd_flag &lt;chr&gt; | dropoff_longitude &lt;dbl&gt; | dropoff_latitude &lt;dbl&gt; | payment_type &lt;dbl&gt; | fare_amount &lt;dbl&gt; | extra &lt;dbl&gt; | mta_tax &lt;dbl&gt; | tip_amount &lt;dbl&gt; | tolls_amount &lt;dbl&gt; | improvement_surcharge &lt;dbl&gt; | total_amount &lt;dbl&gt; |\n",
       "|---|---|---|---|---|---|---|---|---|---|---|---|---|---|---|---|---|---|---|\n",
       "| 2 | 2016-01-01 00:00:00 | 2016-01-01 00:00:00 | 2 | 1.10 | -73.99037 | 40.73470 | 1 | N | -73.98184 | 40.73241 | 2 |  7.5 | 0.5 | 0.5 | 0.00 | 0 | 0.3 |  8.80 |\n",
       "| 2 | 2016-01-01 00:00:00 | 2016-01-01 00:00:00 | 5 | 4.90 | -73.98078 | 40.72991 | 1 | N | -73.94447 | 40.71668 | 1 | 18.0 | 0.5 | 0.5 | 0.00 | 0 | 0.3 | 19.30 |\n",
       "| 2 | 2016-01-01 00:00:00 | 2016-01-01 00:00:00 | 3 | 1.76 | -73.96062 | 40.78133 | 1 | N | -73.97726 | 40.75851 | 2 |  8.0 | 0.0 | 0.5 | 0.00 | 0 | 0.3 |  8.80 |\n",
       "| 2 | 2016-01-01 00:00:00 | 2016-01-01 00:18:30 | 2 | 5.52 | -73.98012 | 40.74305 | 1 | N | -73.91349 | 40.76314 | 2 | 19.0 | 0.5 | 0.5 | 0.00 | 0 | 0.3 | 20.30 |\n",
       "| 2 | 2016-01-01 00:00:00 | 2016-01-01 00:26:45 | 2 | 7.45 | -73.99406 | 40.71999 | 1 | N | -73.96636 | 40.78987 | 2 | 26.0 | 0.5 | 0.5 | 0.00 | 0 | 0.3 | 27.30 |\n",
       "| 2 | 2016-01-01 00:00:03 | 2016-01-01 00:15:49 | 6 | 2.43 | -73.96933 | 40.76354 | 1 | N | -73.99569 | 40.74425 | 1 | 12.0 | 0.5 | 0.5 | 3.99 | 0 | 0.3 | 17.29 |\n",
       "\n"
      ],
      "text/plain": [
       "  VendorID tpep_pickup_datetime tpep_dropoff_datetime passenger_count\n",
       "1 2        2016-01-01 00:00:00  2016-01-01 00:00:00   2              \n",
       "2 2        2016-01-01 00:00:00  2016-01-01 00:00:00   5              \n",
       "3 2        2016-01-01 00:00:00  2016-01-01 00:00:00   3              \n",
       "4 2        2016-01-01 00:00:00  2016-01-01 00:18:30   2              \n",
       "5 2        2016-01-01 00:00:00  2016-01-01 00:26:45   2              \n",
       "6 2        2016-01-01 00:00:03  2016-01-01 00:15:49   6              \n",
       "  trip_distance pickup_longitude pickup_latitude RatecodeID store_and_fwd_flag\n",
       "1 1.10          -73.99037        40.73470        1          N                 \n",
       "2 4.90          -73.98078        40.72991        1          N                 \n",
       "3 1.76          -73.96062        40.78133        1          N                 \n",
       "4 5.52          -73.98012        40.74305        1          N                 \n",
       "5 7.45          -73.99406        40.71999        1          N                 \n",
       "6 2.43          -73.96933        40.76354        1          N                 \n",
       "  dropoff_longitude dropoff_latitude payment_type fare_amount extra mta_tax\n",
       "1 -73.98184         40.73241         2             7.5        0.5   0.5    \n",
       "2 -73.94447         40.71668         1            18.0        0.5   0.5    \n",
       "3 -73.97726         40.75851         2             8.0        0.0   0.5    \n",
       "4 -73.91349         40.76314         2            19.0        0.5   0.5    \n",
       "5 -73.96636         40.78987         2            26.0        0.5   0.5    \n",
       "6 -73.99569         40.74425         1            12.0        0.5   0.5    \n",
       "  tip_amount tolls_amount improvement_surcharge total_amount\n",
       "1 0.00       0            0.3                    8.80       \n",
       "2 0.00       0            0.3                   19.30       \n",
       "3 0.00       0            0.3                    8.80       \n",
       "4 0.00       0            0.3                   20.30       \n",
       "5 0.00       0            0.3                   27.30       \n",
       "6 3.99       0            0.3                   17.29       "
      ]
     },
     "metadata": {},
     "output_type": "display_data"
    }
   ],
   "source": [
    "head(taxis_groups)"
   ]
  },
  {
   "cell_type": "code",
   "execution_count": 39,
   "id": "1000df7c",
   "metadata": {},
   "outputs": [
    {
     "data": {
      "text/html": [
       "<table class=\"dataframe\">\n",
       "<caption>A tibble: 6 × 3</caption>\n",
       "<thead>\n",
       "\t<tr><th scope=col>passenger_count</th><th scope=col>n</th><th scope=col>mean_cost</th></tr>\n",
       "\t<tr><th scope=col>&lt;dbl&gt;</th><th scope=col>&lt;int&gt;</th><th scope=col>&lt;dbl&gt;</th></tr>\n",
       "</thead>\n",
       "<tbody>\n",
       "\t<tr><td>1</td><td>19658</td><td>15.86088</td></tr>\n",
       "\t<tr><td>2</td><td> 4866</td><td>17.03844</td></tr>\n",
       "\t<tr><td>3</td><td> 1672</td><td>16.91711</td></tr>\n",
       "\t<tr><td>4</td><td>  838</td><td>17.00297</td></tr>\n",
       "\t<tr><td>5</td><td> 1873</td><td>15.80994</td></tr>\n",
       "\t<tr><td>6</td><td> 1094</td><td>16.53775</td></tr>\n",
       "</tbody>\n",
       "</table>\n"
      ],
      "text/latex": [
       "A tibble: 6 × 3\n",
       "\\begin{tabular}{lll}\n",
       " passenger\\_count & n & mean\\_cost\\\\\n",
       " <dbl> & <int> & <dbl>\\\\\n",
       "\\hline\n",
       "\t 1 & 19658 & 15.86088\\\\\n",
       "\t 2 &  4866 & 17.03844\\\\\n",
       "\t 3 &  1672 & 16.91711\\\\\n",
       "\t 4 &   838 & 17.00297\\\\\n",
       "\t 5 &  1873 & 15.80994\\\\\n",
       "\t 6 &  1094 & 16.53775\\\\\n",
       "\\end{tabular}\n"
      ],
      "text/markdown": [
       "\n",
       "A tibble: 6 × 3\n",
       "\n",
       "| passenger_count &lt;dbl&gt; | n &lt;int&gt; | mean_cost &lt;dbl&gt; |\n",
       "|---|---|---|\n",
       "| 1 | 19658 | 15.86088 |\n",
       "| 2 |  4866 | 17.03844 |\n",
       "| 3 |  1672 | 16.91711 |\n",
       "| 4 |   838 | 17.00297 |\n",
       "| 5 |  1873 | 15.80994 |\n",
       "| 6 |  1094 | 16.53775 |\n",
       "\n"
      ],
      "text/plain": [
       "  passenger_count n     mean_cost\n",
       "1 1               19658 15.86088 \n",
       "2 2                4866 17.03844 \n",
       "3 3                1672 16.91711 \n",
       "4 4                 838 17.00297 \n",
       "5 5                1873 15.80994 \n",
       "6 6                1094 16.53775 "
      ]
     },
     "metadata": {},
     "output_type": "display_data"
    }
   ],
   "source": [
    "# Group and summarize the data\n",
    "taxis %>% group_by(passenger_count) %>% \n",
    "  summarize(n = n(), mean_cost = mean(total_amount))"
   ]
  },
  {
   "cell_type": "code",
   "execution_count": 40,
   "id": "5374be76",
   "metadata": {},
   "outputs": [
    {
     "data": {
      "text/html": [
       "<table class=\"dataframe\">\n",
       "<caption>A tibble: 5 × 3</caption>\n",
       "<thead>\n",
       "\t<tr><th scope=col>RatecodeID</th><th scope=col>mean</th><th scope=col>sd</th></tr>\n",
       "\t<tr><th scope=col>&lt;dbl&gt;</th><th scope=col>&lt;dbl&gt;</th><th scope=col>&lt;dbl&gt;</th></tr>\n",
       "</thead>\n",
       "<tbody>\n",
       "\t<tr><td>1</td><td> 3.195932</td><td>3.023750</td></tr>\n",
       "\t<tr><td>2</td><td>17.038276</td><td>4.295977</td></tr>\n",
       "\t<tr><td>3</td><td>16.669748</td><td>7.418554</td></tr>\n",
       "\t<tr><td>4</td><td>10.337500</td><td>5.159266</td></tr>\n",
       "\t<tr><td>5</td><td> 4.050263</td><td>7.633558</td></tr>\n",
       "</tbody>\n",
       "</table>\n"
      ],
      "text/latex": [
       "A tibble: 5 × 3\n",
       "\\begin{tabular}{lll}\n",
       " RatecodeID & mean & sd\\\\\n",
       " <dbl> & <dbl> & <dbl>\\\\\n",
       "\\hline\n",
       "\t 1 &  3.195932 & 3.023750\\\\\n",
       "\t 2 & 17.038276 & 4.295977\\\\\n",
       "\t 3 & 16.669748 & 7.418554\\\\\n",
       "\t 4 & 10.337500 & 5.159266\\\\\n",
       "\t 5 &  4.050263 & 7.633558\\\\\n",
       "\\end{tabular}\n"
      ],
      "text/markdown": [
       "\n",
       "A tibble: 5 × 3\n",
       "\n",
       "| RatecodeID &lt;dbl&gt; | mean &lt;dbl&gt; | sd &lt;dbl&gt; |\n",
       "|---|---|---|\n",
       "| 1 |  3.195932 | 3.023750 |\n",
       "| 2 | 17.038276 | 4.295977 |\n",
       "| 3 | 16.669748 | 7.418554 |\n",
       "| 4 | 10.337500 | 5.159266 |\n",
       "| 5 |  4.050263 | 7.633558 |\n",
       "\n"
      ],
      "text/plain": [
       "  RatecodeID mean      sd      \n",
       "1 1           3.195932 3.023750\n",
       "2 2          17.038276 4.295977\n",
       "3 3          16.669748 7.418554\n",
       "4 4          10.337500 5.159266\n",
       "5 5           4.050263 7.633558"
      ]
     },
     "metadata": {},
     "output_type": "display_data"
    }
   ],
   "source": [
    "# Group and summarize the data\n",
    "taxis %>% group_by(RatecodeID) %>% \n",
    "  summarize(mean = mean(trip_distance), sd = sd(trip_distance))"
   ]
  },
  {
   "cell_type": "markdown",
   "id": "68c3b629",
   "metadata": {},
   "source": [
    "### Section 3: Visualizing Data"
   ]
  },
  {
   "cell_type": "code",
   "execution_count": 54,
   "id": "a489d70e",
   "metadata": {},
   "outputs": [
    {
     "data": {
      "text/html": [
       "<table class=\"dataframe\">\n",
       "<caption>A tibble: 6 × 19</caption>\n",
       "<thead>\n",
       "\t<tr><th scope=col>VendorID</th><th scope=col>tpep_pickup_datetime</th><th scope=col>tpep_dropoff_datetime</th><th scope=col>passenger_count</th><th scope=col>trip_distance</th><th scope=col>pickup_longitude</th><th scope=col>pickup_latitude</th><th scope=col>RatecodeID</th><th scope=col>store_and_fwd_flag</th><th scope=col>dropoff_longitude</th><th scope=col>dropoff_latitude</th><th scope=col>payment_type</th><th scope=col>fare_amount</th><th scope=col>extra</th><th scope=col>mta_tax</th><th scope=col>tip_amount</th><th scope=col>tolls_amount</th><th scope=col>improvement_surcharge</th><th scope=col>total_amount</th></tr>\n",
       "\t<tr><th scope=col>&lt;dbl&gt;</th><th scope=col>&lt;dttm&gt;</th><th scope=col>&lt;dttm&gt;</th><th scope=col>&lt;dbl&gt;</th><th scope=col>&lt;dbl&gt;</th><th scope=col>&lt;dbl&gt;</th><th scope=col>&lt;dbl&gt;</th><th scope=col>&lt;dbl&gt;</th><th scope=col>&lt;chr&gt;</th><th scope=col>&lt;dbl&gt;</th><th scope=col>&lt;dbl&gt;</th><th scope=col>&lt;dbl&gt;</th><th scope=col>&lt;dbl&gt;</th><th scope=col>&lt;dbl&gt;</th><th scope=col>&lt;dbl&gt;</th><th scope=col>&lt;dbl&gt;</th><th scope=col>&lt;dbl&gt;</th><th scope=col>&lt;dbl&gt;</th><th scope=col>&lt;dbl&gt;</th></tr>\n",
       "</thead>\n",
       "<tbody>\n",
       "\t<tr><td>2</td><td>2016-01-01</td><td>2016-01-01 00:00:00</td><td>2</td><td> 1.10</td><td>-73.99037</td><td>40.73470</td><td>1</td><td>N</td><td>-73.98184</td><td>40.73241</td><td>2</td><td> 7.5</td><td>0.5</td><td>0.5</td><td>0</td><td>0</td><td>0.3</td><td> 8.8</td></tr>\n",
       "\t<tr><td>2</td><td>2016-01-01</td><td>2016-01-01 00:00:00</td><td>5</td><td> 4.90</td><td>-73.98078</td><td>40.72991</td><td>1</td><td>N</td><td>-73.94447</td><td>40.71668</td><td>1</td><td>18.0</td><td>0.5</td><td>0.5</td><td>0</td><td>0</td><td>0.3</td><td>19.3</td></tr>\n",
       "\t<tr><td>2</td><td>2016-01-01</td><td>2016-01-01 00:00:00</td><td>1</td><td>10.54</td><td>-73.98455</td><td>40.67957</td><td>1</td><td>N</td><td>-73.95027</td><td>40.78893</td><td>1</td><td>33.0</td><td>0.5</td><td>0.5</td><td>0</td><td>0</td><td>0.3</td><td>34.3</td></tr>\n",
       "\t<tr><td>2</td><td>2016-01-01</td><td>2016-01-01 00:00:00</td><td>1</td><td> 4.75</td><td>-73.99347</td><td>40.71899</td><td>1</td><td>N</td><td>-73.96224</td><td>40.65733</td><td>2</td><td>16.5</td><td>0.0</td><td>0.5</td><td>0</td><td>0</td><td>0.3</td><td>17.3</td></tr>\n",
       "\t<tr><td>2</td><td>2016-01-01</td><td>2016-01-01 00:00:00</td><td>3</td><td> 1.76</td><td>-73.96062</td><td>40.78133</td><td>1</td><td>N</td><td>-73.97726</td><td>40.75851</td><td>2</td><td> 8.0</td><td>0.0</td><td>0.5</td><td>0</td><td>0</td><td>0.3</td><td> 8.8</td></tr>\n",
       "\t<tr><td>2</td><td>2016-01-01</td><td>2016-01-01 00:18:30</td><td>2</td><td> 5.52</td><td>-73.98012</td><td>40.74305</td><td>1</td><td>N</td><td>-73.91349</td><td>40.76314</td><td>2</td><td>19.0</td><td>0.5</td><td>0.5</td><td>0</td><td>0</td><td>0.3</td><td>20.3</td></tr>\n",
       "</tbody>\n",
       "</table>\n"
      ],
      "text/latex": [
       "A tibble: 6 × 19\n",
       "\\begin{tabular}{lllllllllllllllllll}\n",
       " VendorID & tpep\\_pickup\\_datetime & tpep\\_dropoff\\_datetime & passenger\\_count & trip\\_distance & pickup\\_longitude & pickup\\_latitude & RatecodeID & store\\_and\\_fwd\\_flag & dropoff\\_longitude & dropoff\\_latitude & payment\\_type & fare\\_amount & extra & mta\\_tax & tip\\_amount & tolls\\_amount & improvement\\_surcharge & total\\_amount\\\\\n",
       " <dbl> & <dttm> & <dttm> & <dbl> & <dbl> & <dbl> & <dbl> & <dbl> & <chr> & <dbl> & <dbl> & <dbl> & <dbl> & <dbl> & <dbl> & <dbl> & <dbl> & <dbl> & <dbl>\\\\\n",
       "\\hline\n",
       "\t 2 & 2016-01-01 & 2016-01-01 00:00:00 & 2 &  1.10 & -73.99037 & 40.73470 & 1 & N & -73.98184 & 40.73241 & 2 &  7.5 & 0.5 & 0.5 & 0 & 0 & 0.3 &  8.8\\\\\n",
       "\t 2 & 2016-01-01 & 2016-01-01 00:00:00 & 5 &  4.90 & -73.98078 & 40.72991 & 1 & N & -73.94447 & 40.71668 & 1 & 18.0 & 0.5 & 0.5 & 0 & 0 & 0.3 & 19.3\\\\\n",
       "\t 2 & 2016-01-01 & 2016-01-01 00:00:00 & 1 & 10.54 & -73.98455 & 40.67957 & 1 & N & -73.95027 & 40.78893 & 1 & 33.0 & 0.5 & 0.5 & 0 & 0 & 0.3 & 34.3\\\\\n",
       "\t 2 & 2016-01-01 & 2016-01-01 00:00:00 & 1 &  4.75 & -73.99347 & 40.71899 & 1 & N & -73.96224 & 40.65733 & 2 & 16.5 & 0.0 & 0.5 & 0 & 0 & 0.3 & 17.3\\\\\n",
       "\t 2 & 2016-01-01 & 2016-01-01 00:00:00 & 3 &  1.76 & -73.96062 & 40.78133 & 1 & N & -73.97726 & 40.75851 & 2 &  8.0 & 0.0 & 0.5 & 0 & 0 & 0.3 &  8.8\\\\\n",
       "\t 2 & 2016-01-01 & 2016-01-01 00:18:30 & 2 &  5.52 & -73.98012 & 40.74305 & 1 & N & -73.91349 & 40.76314 & 2 & 19.0 & 0.5 & 0.5 & 0 & 0 & 0.3 & 20.3\\\\\n",
       "\\end{tabular}\n"
      ],
      "text/markdown": [
       "\n",
       "A tibble: 6 × 19\n",
       "\n",
       "| VendorID &lt;dbl&gt; | tpep_pickup_datetime &lt;dttm&gt; | tpep_dropoff_datetime &lt;dttm&gt; | passenger_count &lt;dbl&gt; | trip_distance &lt;dbl&gt; | pickup_longitude &lt;dbl&gt; | pickup_latitude &lt;dbl&gt; | RatecodeID &lt;dbl&gt; | store_and_fwd_flag &lt;chr&gt; | dropoff_longitude &lt;dbl&gt; | dropoff_latitude &lt;dbl&gt; | payment_type &lt;dbl&gt; | fare_amount &lt;dbl&gt; | extra &lt;dbl&gt; | mta_tax &lt;dbl&gt; | tip_amount &lt;dbl&gt; | tolls_amount &lt;dbl&gt; | improvement_surcharge &lt;dbl&gt; | total_amount &lt;dbl&gt; |\n",
       "|---|---|---|---|---|---|---|---|---|---|---|---|---|---|---|---|---|---|---|\n",
       "| 2 | 2016-01-01 | 2016-01-01 00:00:00 | 2 |  1.10 | -73.99037 | 40.73470 | 1 | N | -73.98184 | 40.73241 | 2 |  7.5 | 0.5 | 0.5 | 0 | 0 | 0.3 |  8.8 |\n",
       "| 2 | 2016-01-01 | 2016-01-01 00:00:00 | 5 |  4.90 | -73.98078 | 40.72991 | 1 | N | -73.94447 | 40.71668 | 1 | 18.0 | 0.5 | 0.5 | 0 | 0 | 0.3 | 19.3 |\n",
       "| 2 | 2016-01-01 | 2016-01-01 00:00:00 | 1 | 10.54 | -73.98455 | 40.67957 | 1 | N | -73.95027 | 40.78893 | 1 | 33.0 | 0.5 | 0.5 | 0 | 0 | 0.3 | 34.3 |\n",
       "| 2 | 2016-01-01 | 2016-01-01 00:00:00 | 1 |  4.75 | -73.99347 | 40.71899 | 1 | N | -73.96224 | 40.65733 | 2 | 16.5 | 0.0 | 0.5 | 0 | 0 | 0.3 | 17.3 |\n",
       "| 2 | 2016-01-01 | 2016-01-01 00:00:00 | 3 |  1.76 | -73.96062 | 40.78133 | 1 | N | -73.97726 | 40.75851 | 2 |  8.0 | 0.0 | 0.5 | 0 | 0 | 0.3 |  8.8 |\n",
       "| 2 | 2016-01-01 | 2016-01-01 00:18:30 | 2 |  5.52 | -73.98012 | 40.74305 | 1 | N | -73.91349 | 40.76314 | 2 | 19.0 | 0.5 | 0.5 | 0 | 0 | 0.3 | 20.3 |\n",
       "\n"
      ],
      "text/plain": [
       "  VendorID tpep_pickup_datetime tpep_dropoff_datetime passenger_count\n",
       "1 2        2016-01-01           2016-01-01 00:00:00   2              \n",
       "2 2        2016-01-01           2016-01-01 00:00:00   5              \n",
       "3 2        2016-01-01           2016-01-01 00:00:00   1              \n",
       "4 2        2016-01-01           2016-01-01 00:00:00   1              \n",
       "5 2        2016-01-01           2016-01-01 00:00:00   3              \n",
       "6 2        2016-01-01           2016-01-01 00:18:30   2              \n",
       "  trip_distance pickup_longitude pickup_latitude RatecodeID store_and_fwd_flag\n",
       "1  1.10         -73.99037        40.73470        1          N                 \n",
       "2  4.90         -73.98078        40.72991        1          N                 \n",
       "3 10.54         -73.98455        40.67957        1          N                 \n",
       "4  4.75         -73.99347        40.71899        1          N                 \n",
       "5  1.76         -73.96062        40.78133        1          N                 \n",
       "6  5.52         -73.98012        40.74305        1          N                 \n",
       "  dropoff_longitude dropoff_latitude payment_type fare_amount extra mta_tax\n",
       "1 -73.98184         40.73241         2             7.5        0.5   0.5    \n",
       "2 -73.94447         40.71668         1            18.0        0.5   0.5    \n",
       "3 -73.95027         40.78893         1            33.0        0.5   0.5    \n",
       "4 -73.96224         40.65733         2            16.5        0.0   0.5    \n",
       "5 -73.97726         40.75851         2             8.0        0.0   0.5    \n",
       "6 -73.91349         40.76314         2            19.0        0.5   0.5    \n",
       "  tip_amount tolls_amount improvement_surcharge total_amount\n",
       "1 0          0            0.3                    8.8        \n",
       "2 0          0            0.3                   19.3        \n",
       "3 0          0            0.3                   34.3        \n",
       "4 0          0            0.3                   17.3        \n",
       "5 0          0            0.3                    8.8        \n",
       "6 0          0            0.3                   20.3        "
      ]
     },
     "metadata": {},
     "output_type": "display_data"
    }
   ],
   "source": [
    "head(taxis)"
   ]
  },
  {
   "cell_type": "code",
   "execution_count": 55,
   "id": "30b1ec36",
   "metadata": {},
   "outputs": [
    {
     "name": "stderr",
     "output_type": "stream",
     "text": [
      "`stat_bin()` using `bins = 30`. Pick better value with `binwidth`.\n",
      "\n"
     ]
    },
    {
     "data": {
      "image/png": "[encoded data removed]",
      "text/plain": [
       "plot without title"
      ]
     },
     "metadata": {
      "image/png": {
       "height": 420,
       "width": 420
      }
     },
     "output_type": "display_data"
    }
   ],
   "source": [
    "# Plot a histogram of total fares\n",
    "ggplot(taxis, aes(x = total_amount)) + geom_histogram()"
   ]
  },
  {
   "cell_type": "code",
   "execution_count": 60,
   "id": "68b53141",
   "metadata": {},
   "outputs": [
    {
     "data": {
      "text/html": [
       "<table class=\"dataframe\">\n",
       "<caption>A tibble: 6 × 19</caption>\n",
       "<thead>\n",
       "\t<tr><th scope=col>VendorID</th><th scope=col>tpep_pickup_datetime</th><th scope=col>tpep_dropoff_datetime</th><th scope=col>passenger_count</th><th scope=col>trip_distance</th><th scope=col>pickup_longitude</th><th scope=col>pickup_latitude</th><th scope=col>RatecodeID</th><th scope=col>store_and_fwd_flag</th><th scope=col>dropoff_longitude</th><th scope=col>dropoff_latitude</th><th scope=col>payment_type</th><th scope=col>fare_amount</th><th scope=col>extra</th><th scope=col>mta_tax</th><th scope=col>tip_amount</th><th scope=col>tolls_amount</th><th scope=col>improvement_surcharge</th><th scope=col>total_amount</th></tr>\n",
       "\t<tr><th scope=col>&lt;dbl&gt;</th><th scope=col>&lt;dttm&gt;</th><th scope=col>&lt;dttm&gt;</th><th scope=col>&lt;dbl&gt;</th><th scope=col>&lt;dbl&gt;</th><th scope=col>&lt;dbl&gt;</th><th scope=col>&lt;dbl&gt;</th><th scope=col>&lt;dbl&gt;</th><th scope=col>&lt;chr&gt;</th><th scope=col>&lt;dbl&gt;</th><th scope=col>&lt;dbl&gt;</th><th scope=col>&lt;dbl&gt;</th><th scope=col>&lt;dbl&gt;</th><th scope=col>&lt;dbl&gt;</th><th scope=col>&lt;dbl&gt;</th><th scope=col>&lt;dbl&gt;</th><th scope=col>&lt;dbl&gt;</th><th scope=col>&lt;dbl&gt;</th><th scope=col>&lt;dbl&gt;</th></tr>\n",
       "</thead>\n",
       "<tbody>\n",
       "\t<tr><td>1</td><td>2016-01-01 00:00:56</td><td>2016-01-01 00:17:24</td><td>1</td><td> 5.70</td><td>-73.98772</td><td>40.75057</td><td>1</td><td>N</td><td>-74.03557</td><td>40.71357</td><td>1</td><td> 18.0</td><td>0.5</td><td>0.5</td><td> 8.00</td><td>10.50</td><td>0.3</td><td> 37.80</td></tr>\n",
       "\t<tr><td>2</td><td>2016-01-01 00:01:01</td><td>2016-01-01 00:13:08</td><td>6</td><td> 7.85</td><td>-73.97963</td><td>40.74326</td><td>1</td><td>N</td><td>-73.91187</td><td>40.76463</td><td>1</td><td> 22.5</td><td>0.5</td><td>0.5</td><td> 5.87</td><td> 5.54</td><td>0.3</td><td> 35.21</td></tr>\n",
       "\t<tr><td>1</td><td>2016-01-01 00:01:14</td><td>2016-01-01 00:38:19</td><td>1</td><td>24.00</td><td>-73.99230</td><td>40.74929</td><td>5</td><td>N</td><td>-74.32033</td><td>40.72052</td><td>1</td><td>140.0</td><td>0.0</td><td>0.0</td><td>30.95</td><td>14.50</td><td>0.3</td><td>185.75</td></tr>\n",
       "\t<tr><td>1</td><td>2016-01-29 09:18:31</td><td>2016-01-29 09:45:17</td><td>1</td><td> 7.00</td><td>-74.00021</td><td>40.67845</td><td>1</td><td>N</td><td>-73.98305</td><td>40.73482</td><td>1</td><td> 25.5</td><td>0.0</td><td>0.5</td><td> 6.35</td><td> 5.54</td><td>0.3</td><td> 38.19</td></tr>\n",
       "\t<tr><td>1</td><td>2016-01-29 09:18:31</td><td>2016-01-29 09:51:40</td><td>1</td><td>15.90</td><td>-73.98363</td><td>40.74764</td><td>2</td><td>N</td><td>-73.78705</td><td>40.64691</td><td>1</td><td> 52.0</td><td>0.0</td><td>0.5</td><td>11.65</td><td> 5.54</td><td>0.3</td><td> 69.99</td></tr>\n",
       "\t<tr><td>2</td><td>2016-01-29 09:18:31</td><td>2016-01-29 09:40:50</td><td>6</td><td> 6.82</td><td>-73.95173</td><td>40.76949</td><td>1</td><td>N</td><td>-73.91217</td><td>40.75894</td><td>1</td><td> 23.5</td><td>0.0</td><td>0.5</td><td> 5.97</td><td> 5.54</td><td>0.3</td><td> 35.81</td></tr>\n",
       "</tbody>\n",
       "</table>\n"
      ],
      "text/latex": [
       "A tibble: 6 × 19\n",
       "\\begin{tabular}{lllllllllllllllllll}\n",
       " VendorID & tpep\\_pickup\\_datetime & tpep\\_dropoff\\_datetime & passenger\\_count & trip\\_distance & pickup\\_longitude & pickup\\_latitude & RatecodeID & store\\_and\\_fwd\\_flag & dropoff\\_longitude & dropoff\\_latitude & payment\\_type & fare\\_amount & extra & mta\\_tax & tip\\_amount & tolls\\_amount & improvement\\_surcharge & total\\_amount\\\\\n",
       " <dbl> & <dttm> & <dttm> & <dbl> & <dbl> & <dbl> & <dbl> & <dbl> & <chr> & <dbl> & <dbl> & <dbl> & <dbl> & <dbl> & <dbl> & <dbl> & <dbl> & <dbl> & <dbl>\\\\\n",
       "\\hline\n",
       "\t 1 & 2016-01-01 00:00:56 & 2016-01-01 00:17:24 & 1 &  5.70 & -73.98772 & 40.75057 & 1 & N & -74.03557 & 40.71357 & 1 &  18.0 & 0.5 & 0.5 &  8.00 & 10.50 & 0.3 &  37.80\\\\\n",
       "\t 2 & 2016-01-01 00:01:01 & 2016-01-01 00:13:08 & 6 &  7.85 & -73.97963 & 40.74326 & 1 & N & -73.91187 & 40.76463 & 1 &  22.5 & 0.5 & 0.5 &  5.87 &  5.54 & 0.3 &  35.21\\\\\n",
       "\t 1 & 2016-01-01 00:01:14 & 2016-01-01 00:38:19 & 1 & 24.00 & -73.99230 & 40.74929 & 5 & N & -74.32033 & 40.72052 & 1 & 140.0 & 0.0 & 0.0 & 30.95 & 14.50 & 0.3 & 185.75\\\\\n",
       "\t 1 & 2016-01-29 09:18:31 & 2016-01-29 09:45:17 & 1 &  7.00 & -74.00021 & 40.67845 & 1 & N & -73.98305 & 40.73482 & 1 &  25.5 & 0.0 & 0.5 &  6.35 &  5.54 & 0.3 &  38.19\\\\\n",
       "\t 1 & 2016-01-29 09:18:31 & 2016-01-29 09:51:40 & 1 & 15.90 & -73.98363 & 40.74764 & 2 & N & -73.78705 & 40.64691 & 1 &  52.0 & 0.0 & 0.5 & 11.65 &  5.54 & 0.3 &  69.99\\\\\n",
       "\t 2 & 2016-01-29 09:18:31 & 2016-01-29 09:40:50 & 6 &  6.82 & -73.95173 & 40.76949 & 1 & N & -73.91217 & 40.75894 & 1 &  23.5 & 0.0 & 0.5 &  5.97 &  5.54 & 0.3 &  35.81\\\\\n",
       "\\end{tabular}\n"
      ],
      "text/markdown": [
       "\n",
       "A tibble: 6 × 19\n",
       "\n",
       "| VendorID &lt;dbl&gt; | tpep_pickup_datetime &lt;dttm&gt; | tpep_dropoff_datetime &lt;dttm&gt; | passenger_count &lt;dbl&gt; | trip_distance &lt;dbl&gt; | pickup_longitude &lt;dbl&gt; | pickup_latitude &lt;dbl&gt; | RatecodeID &lt;dbl&gt; | store_and_fwd_flag &lt;chr&gt; | dropoff_longitude &lt;dbl&gt; | dropoff_latitude &lt;dbl&gt; | payment_type &lt;dbl&gt; | fare_amount &lt;dbl&gt; | extra &lt;dbl&gt; | mta_tax &lt;dbl&gt; | tip_amount &lt;dbl&gt; | tolls_amount &lt;dbl&gt; | improvement_surcharge &lt;dbl&gt; | total_amount &lt;dbl&gt; |\n",
       "|---|---|---|---|---|---|---|---|---|---|---|---|---|---|---|---|---|---|---|\n",
       "| 1 | 2016-01-01 00:00:56 | 2016-01-01 00:17:24 | 1 |  5.70 | -73.98772 | 40.75057 | 1 | N | -74.03557 | 40.71357 | 1 |  18.0 | 0.5 | 0.5 |  8.00 | 10.50 | 0.3 |  37.80 |\n",
       "| 2 | 2016-01-01 00:01:01 | 2016-01-01 00:13:08 | 6 |  7.85 | -73.97963 | 40.74326 | 1 | N | -73.91187 | 40.76463 | 1 |  22.5 | 0.5 | 0.5 |  5.87 |  5.54 | 0.3 |  35.21 |\n",
       "| 1 | 2016-01-01 00:01:14 | 2016-01-01 00:38:19 | 1 | 24.00 | -73.99230 | 40.74929 | 5 | N | -74.32033 | 40.72052 | 1 | 140.0 | 0.0 | 0.0 | 30.95 | 14.50 | 0.3 | 185.75 |\n",
       "| 1 | 2016-01-29 09:18:31 | 2016-01-29 09:45:17 | 1 |  7.00 | -74.00021 | 40.67845 | 1 | N | -73.98305 | 40.73482 | 1 |  25.5 | 0.0 | 0.5 |  6.35 |  5.54 | 0.3 |  38.19 |\n",
       "| 1 | 2016-01-29 09:18:31 | 2016-01-29 09:51:40 | 1 | 15.90 | -73.98363 | 40.74764 | 2 | N | -73.78705 | 40.64691 | 1 |  52.0 | 0.0 | 0.5 | 11.65 |  5.54 | 0.3 |  69.99 |\n",
       "| 2 | 2016-01-29 09:18:31 | 2016-01-29 09:40:50 | 6 |  6.82 | -73.95173 | 40.76949 | 1 | N | -73.91217 | 40.75894 | 1 |  23.5 | 0.0 | 0.5 |  5.97 |  5.54 | 0.3 |  35.81 |\n",
       "\n"
      ],
      "text/plain": [
       "  VendorID tpep_pickup_datetime tpep_dropoff_datetime passenger_count\n",
       "1 1        2016-01-01 00:00:56  2016-01-01 00:17:24   1              \n",
       "2 2        2016-01-01 00:01:01  2016-01-01 00:13:08   6              \n",
       "3 1        2016-01-01 00:01:14  2016-01-01 00:38:19   1              \n",
       "4 1        2016-01-29 09:18:31  2016-01-29 09:45:17   1              \n",
       "5 1        2016-01-29 09:18:31  2016-01-29 09:51:40   1              \n",
       "6 2        2016-01-29 09:18:31  2016-01-29 09:40:50   6              \n",
       "  trip_distance pickup_longitude pickup_latitude RatecodeID store_and_fwd_flag\n",
       "1  5.70         -73.98772        40.75057        1          N                 \n",
       "2  7.85         -73.97963        40.74326        1          N                 \n",
       "3 24.00         -73.99230        40.74929        5          N                 \n",
       "4  7.00         -74.00021        40.67845        1          N                 \n",
       "5 15.90         -73.98363        40.74764        2          N                 \n",
       "6  6.82         -73.95173        40.76949        1          N                 \n",
       "  dropoff_longitude dropoff_latitude payment_type fare_amount extra mta_tax\n",
       "1 -74.03557         40.71357         1             18.0       0.5   0.5    \n",
       "2 -73.91187         40.76463         1             22.5       0.5   0.5    \n",
       "3 -74.32033         40.72052         1            140.0       0.0   0.0    \n",
       "4 -73.98305         40.73482         1             25.5       0.0   0.5    \n",
       "5 -73.78705         40.64691         1             52.0       0.0   0.5    \n",
       "6 -73.91217         40.75894         1             23.5       0.0   0.5    \n",
       "  tip_amount tolls_amount improvement_surcharge total_amount\n",
       "1  8.00      10.50        0.3                    37.80      \n",
       "2  5.87       5.54        0.3                    35.21      \n",
       "3 30.95      14.50        0.3                   185.75      \n",
       "4  6.35       5.54        0.3                    38.19      \n",
       "5 11.65       5.54        0.3                    69.99      \n",
       "6  5.97       5.54        0.3                    35.81      "
      ]
     },
     "metadata": {},
     "output_type": "display_data"
    }
   ],
   "source": [
    "# Filter the data\n",
    "taxis_tolls <- filter(taxis, tolls_amount > 0)\n",
    "head(taxis_tolls)"
   ]
  },
  {
   "cell_type": "code",
   "execution_count": 67,
   "id": "93bdaaee",
   "metadata": {},
   "outputs": [
    {
     "name": "stderr",
     "output_type": "stream",
     "text": [
      "Warning message:\n",
      "\"Ignoring unknown parameters: bin\"\n",
      "`stat_bin()` using `bins = 30`. Pick better value with `binwidth`.\n",
      "\n"
     ]
    },
    {
     "data": {
      "image/png": "[encoded data removed]",
      "text/plain": [
       "plot without title"
      ]
     },
     "metadata": {
      "image/png": {
       "height": 420,
       "width": 420
      }
     },
     "output_type": "display_data"
    }
   ],
   "source": [
    "# Plot a histogram of tolls\n",
    "ggplot(taxis_tolls, aes(x=tolls_amount)) + geom_histogram(bin=10)"
   ]
  },
  {
   "cell_type": "code",
   "execution_count": null,
   "id": "b958a691",
   "metadata": {},
   "outputs": [],
   "source": []
  }
 ],
 "metadata": {
  "kernelspec": {
   "display_name": "R",
   "language": "R",
   "name": "ir"
  },
  "language_info": {
   "codemirror_mode": "r",
   "file_extension": ".r",
   "mimetype": "text/x-r-source",
   "name": "R",
   "pygments_lexer": "r",
   "version": "3.6.3"
  }
 },
 "nbformat": 4,
 "nbformat_minor": 5
}
