{
 "cells": [
  {
   "cell_type": "code",
   "execution_count": 1,
   "id": "f035120a",
   "metadata": {},
   "outputs": [
    {
     "name": "stdout",
     "output_type": "stream",
     "text": [
      " Factor w/ 2 levels \"Left\",\"Right\": 2 1 1 2 1\n"
     ]
    }
   ],
   "source": [
    "# Definition of hand_vector\n",
    "hand_vector <- c(\"Right\", \"Left\", \"Left\", \"Right\", \"Left\")\n",
    "\n",
    "# Convert hand_vector to a factor: hand_factor\n",
    "hand_factor = factor(hand_vector)\n",
    "\n",
    "# Display the structure of hand_factor\n",
    "str(hand_factor)"
   ]
  },
  {
   "cell_type": "code",
   "execution_count": 2,
   "id": "3c60aae7",
   "metadata": {},
   "outputs": [
    {
     "data": {
      "text/html": [
       "<style>\n",
       ".list-inline {list-style: none; margin:0; padding: 0}\n",
       ".list-inline>li {display: inline-block}\n",
       ".list-inline>li:not(:last-child)::after {content: \"\\00b7\"; padding: 0 .5ex}\n",
       "</style>\n",
       "<ol class=list-inline><li>Right</li><li>Left</li><li>Left</li><li>Right</li><li>Right</li></ol>\n",
       "\n",
       "<details>\n",
       "\t<summary style=display:list-item;cursor:pointer>\n",
       "\t\t<strong>Levels</strong>:\n",
       "\t</summary>\n",
       "\t<style>\n",
       "\t.list-inline {list-style: none; margin:0; padding: 0}\n",
       "\t.list-inline>li {display: inline-block}\n",
       "\t.list-inline>li:not(:last-child)::after {content: \"\\00b7\"; padding: 0 .5ex}\n",
       "\t</style>\n",
       "\t<ol class=list-inline><li>'Left'</li><li>'Right'</li></ol>\n",
       "</details>"
      ],
      "text/latex": [
       "\\begin{enumerate*}\n",
       "\\item Right\n",
       "\\item Left\n",
       "\\item Left\n",
       "\\item Right\n",
       "\\item Right\n",
       "\\end{enumerate*}\n",
       "\n",
       "\\emph{Levels}: \\begin{enumerate*}\n",
       "\\item 'Left'\n",
       "\\item 'Right'\n",
       "\\end{enumerate*}\n"
      ],
      "text/markdown": [
       "1. Right\n",
       "2. Left\n",
       "3. Left\n",
       "4. Right\n",
       "5. Right\n",
       "\n",
       "\n",
       "\n",
       "**Levels**: 1. 'Left'\n",
       "2. 'Right'\n",
       "\n",
       "\n"
      ],
      "text/plain": [
       "[1] Right Left  Left  Right Right\n",
       "Levels: Left Right"
      ]
     },
     "metadata": {},
     "output_type": "display_data"
    }
   ],
   "source": [
    "# Definition of survey_vector\n",
    "survey_vector <- c(\"R\", \"L\", \"L\", \"R\", \"R\")\n",
    "\n",
    "# Encode survey_vector as a factor with the correct names: survey_factor\n",
    "survey_factor = factor(survey_vector)\n",
    "levels(survey_factor) <- c(\"Left\",\"Right\")\n",
    "\n",
    "\n",
    "# Print survey_factor\n",
    "survey_factor"
   ]
  },
  {
   "cell_type": "code",
   "execution_count": 3,
   "id": "af183a40",
   "metadata": {},
   "outputs": [
    {
     "data": {
      "text/plain": [
       "   Length     Class      Mode \n",
       "        5 character character "
      ]
     },
     "metadata": {},
     "output_type": "display_data"
    },
    {
     "data": {
      "text/html": [
       "<style>\n",
       ".dl-inline {width: auto; margin:0; padding: 0}\n",
       ".dl-inline>dt, .dl-inline>dd {float: none; width: auto; display: inline-block}\n",
       ".dl-inline>dt::after {content: \":\\0020\"; padding-right: .5ex}\n",
       ".dl-inline>dt:not(:first-of-type) {padding-left: .5ex}\n",
       "</style><dl class=dl-inline><dt>Right</dt><dd>3</dd><dt>Left</dt><dd>2</dd></dl>\n"
      ],
      "text/latex": [
       "\\begin{description*}\n",
       "\\item[Right] 3\n",
       "\\item[Left] 2\n",
       "\\end{description*}\n"
      ],
      "text/markdown": [
       "Right\n",
       ":   3Left\n",
       ":   2\n",
       "\n"
      ],
      "text/plain": [
       "Right  Left \n",
       "    3     2 "
      ]
     },
     "metadata": {},
     "output_type": "display_data"
    }
   ],
   "source": [
    "# Defintion of survey_vector and survey_factor\n",
    "survey_vector <- c(\"R\", \"L\", \"L\", \"R\", \"R\")\n",
    "survey_factor <- factor(survey_vector, levels = c(\"R\", \"L\"), labels = c(\"Right\", \"Left\"))\n",
    "\n",
    "# Summarize survey_vector\n",
    "summary(survey_vector)\n",
    "\n",
    "# Summarize survey_factor\n",
    "summary(survey_factor)"
   ]
  },
  {
   "cell_type": "code",
   "execution_count": 4,
   "id": "2cdbf1ea",
   "metadata": {},
   "outputs": [
    {
     "data": {
      "text/html": [
       "<style>\n",
       ".list-inline {list-style: none; margin:0; padding: 0}\n",
       ".list-inline>li {display: inline-block}\n",
       ".list-inline>li:not(:last-child)::after {content: \"\\00b7\"; padding: 0 .5ex}\n",
       "</style>\n",
       "<ol class=list-inline><li>Elephant</li><li>Giraffe</li><li>Donkey</li><li>Horse</li></ol>\n",
       "\n",
       "<details>\n",
       "\t<summary style=display:list-item;cursor:pointer>\n",
       "\t\t<strong>Levels</strong>:\n",
       "\t</summary>\n",
       "\t<style>\n",
       "\t.list-inline {list-style: none; margin:0; padding: 0}\n",
       "\t.list-inline>li {display: inline-block}\n",
       "\t.list-inline>li:not(:last-child)::after {content: \"\\00b7\"; padding: 0 .5ex}\n",
       "\t</style>\n",
       "\t<ol class=list-inline><li>'Donkey'</li><li>'Elephant'</li><li>'Giraffe'</li><li>'Horse'</li></ol>\n",
       "</details>"
      ],
      "text/latex": [
       "\\begin{enumerate*}\n",
       "\\item Elephant\n",
       "\\item Giraffe\n",
       "\\item Donkey\n",
       "\\item Horse\n",
       "\\end{enumerate*}\n",
       "\n",
       "\\emph{Levels}: \\begin{enumerate*}\n",
       "\\item 'Donkey'\n",
       "\\item 'Elephant'\n",
       "\\item 'Giraffe'\n",
       "\\item 'Horse'\n",
       "\\end{enumerate*}\n"
      ],
      "text/markdown": [
       "1. Elephant\n",
       "2. Giraffe\n",
       "3. Donkey\n",
       "4. Horse\n",
       "\n",
       "\n",
       "\n",
       "**Levels**: 1. 'Donkey'\n",
       "2. 'Elephant'\n",
       "3. 'Giraffe'\n",
       "4. 'Horse'\n",
       "\n",
       "\n"
      ],
      "text/plain": [
       "[1] Elephant Giraffe  Donkey   Horse   \n",
       "Levels: Donkey Elephant Giraffe Horse"
      ]
     },
     "metadata": {},
     "output_type": "display_data"
    },
    {
     "data": {
      "text/html": [
       "<style>\n",
       ".list-inline {list-style: none; margin:0; padding: 0}\n",
       ".list-inline>li {display: inline-block}\n",
       ".list-inline>li:not(:last-child)::after {content: \"\\00b7\"; padding: 0 .5ex}\n",
       "</style>\n",
       "<ol class=list-inline><li>High</li><li>Low</li><li>High</li><li>Low</li><li>Medium</li></ol>\n",
       "\n",
       "<details>\n",
       "\t<summary style=display:list-item;cursor:pointer>\n",
       "\t\t<strong>Levels</strong>:\n",
       "\t</summary>\n",
       "\t<style>\n",
       "\t.list-inline {list-style: none; margin:0; padding: 0}\n",
       "\t.list-inline>li {display: inline-block}\n",
       "\t.list-inline>li:not(:last-child)::after {content: \"\\00b7\"; padding: 0 .5ex}\n",
       "\t</style>\n",
       "\t<ol class=list-inline><li>'Low'</li><li>'Medium'</li><li>'High'</li></ol>\n",
       "</details>"
      ],
      "text/latex": [
       "\\begin{enumerate*}\n",
       "\\item High\n",
       "\\item Low\n",
       "\\item High\n",
       "\\item Low\n",
       "\\item Medium\n",
       "\\end{enumerate*}\n",
       "\n",
       "\\emph{Levels}: \\begin{enumerate*}\n",
       "\\item 'Low'\n",
       "\\item 'Medium'\n",
       "\\item 'High'\n",
       "\\end{enumerate*}\n"
      ],
      "text/markdown": [
       "1. High\n",
       "2. Low\n",
       "3. High\n",
       "4. Low\n",
       "5. Medium\n",
       "\n",
       "\n",
       "\n",
       "**Levels**: 1. 'Low'\n",
       "2. 'Medium'\n",
       "3. 'High'\n",
       "\n",
       "\n"
      ],
      "text/plain": [
       "[1] High   Low    High   Low    Medium\n",
       "Levels: Low < Medium < High"
      ]
     },
     "metadata": {},
     "output_type": "display_data"
    }
   ],
   "source": [
    "# Definition of animal_vector and temperature_vector\n",
    "animal_vector <- c(\"Elephant\", \"Giraffe\", \"Donkey\", \"Horse\")\n",
    "temperature_vector <- c(\"High\", \"Low\", \"High\", \"Low\", \"Medium\")\n",
    "\n",
    "# Convert animal_vector to a factor: animal_factor\n",
    "animal_factor=factor(animal_vector)\n",
    "\n",
    "# Encode temperature_vector as a factor: temperature_factor\n",
    "temperature_factor=factor(temperature_vector, ordered=TRUE, levels = c(\"Low\", \"Medium\", \"High\"))\n",
    "\n",
    "# Print out animal_factor and temperature_factor\n",
    "animal_factor\n",
    "temperature_factor"
   ]
  },
  {
   "cell_type": "code",
   "execution_count": 5,
   "id": "100a27d1",
   "metadata": {},
   "outputs": [
    {
     "name": "stderr",
     "output_type": "stream",
     "text": [
      "Warning message in Ops.factor(right, left):\n",
      "\"'>' not meaningful for factors\"\n"
     ]
    },
    {
     "data": {
      "text/html": [
       "&lt;NA&gt;"
      ],
      "text/latex": [
       "<NA>"
      ],
      "text/markdown": [
       "&lt;NA&gt;"
      ],
      "text/plain": [
       "[1] NA"
      ]
     },
     "metadata": {},
     "output_type": "display_data"
    }
   ],
   "source": [
    "# Definition of survey_vector and survey_factor\n",
    "survey_vector <- c(\"R\", \"L\", \"L\", \"R\", \"R\")\n",
    "survey_factor <- factor(survey_vector, levels = c(\"R\", \"L\"), labels = c(\"Right\", \"Left\"))\n",
    "\n",
    "# First element from survey_factor: right\n",
    "right = survey_factor[1]\n",
    "\n",
    "# Second element from survey_factor: left\n",
    "left = survey_factor[2]\n",
    "\n",
    "# Right 'greater than' left?\n",
    "right > left"
   ]
  },
  {
   "cell_type": "code",
   "execution_count": 6,
   "id": "809f7a5f",
   "metadata": {},
   "outputs": [
    {
     "data": {
      "text/html": [
       "<style>\n",
       ".list-inline {list-style: none; margin:0; padding: 0}\n",
       ".list-inline>li {display: inline-block}\n",
       ".list-inline>li:not(:last-child)::after {content: \"\\00b7\"; padding: 0 .5ex}\n",
       "</style>\n",
       "<ol class=list-inline><li>'OK'</li><li>'Slow'</li><li>'Slow'</li><li>'OK'</li><li>'Fast'</li></ol>\n"
      ],
      "text/latex": [
       "\\begin{enumerate*}\n",
       "\\item 'OK'\n",
       "\\item 'Slow'\n",
       "\\item 'Slow'\n",
       "\\item 'OK'\n",
       "\\item 'Fast'\n",
       "\\end{enumerate*}\n"
      ],
      "text/markdown": [
       "1. 'OK'\n",
       "2. 'Slow'\n",
       "3. 'Slow'\n",
       "4. 'OK'\n",
       "5. 'Fast'\n",
       "\n",
       "\n"
      ],
      "text/plain": [
       "[1] \"OK\"   \"Slow\" \"Slow\" \"OK\"   \"Fast\""
      ]
     },
     "metadata": {},
     "output_type": "display_data"
    }
   ],
   "source": [
    "# Create speed_vector\n",
    "speed_vector = c(\"OK\", \"Slow\", \"Slow\", \"OK\", \"Fast\")\n",
    "speed_vector"
   ]
  },
  {
   "cell_type": "code",
   "execution_count": 7,
   "id": "5fef5741",
   "metadata": {},
   "outputs": [
    {
     "data": {
      "text/html": [
       "<style>\n",
       ".list-inline {list-style: none; margin:0; padding: 0}\n",
       ".list-inline>li {display: inline-block}\n",
       ".list-inline>li:not(:last-child)::after {content: \"\\00b7\"; padding: 0 .5ex}\n",
       "</style>\n",
       "<ol class=list-inline><li>OK</li><li>Slow</li><li>Slow</li><li>OK</li><li>Fast</li></ol>\n",
       "\n",
       "<details>\n",
       "\t<summary style=display:list-item;cursor:pointer>\n",
       "\t\t<strong>Levels</strong>:\n",
       "\t</summary>\n",
       "\t<style>\n",
       "\t.list-inline {list-style: none; margin:0; padding: 0}\n",
       "\t.list-inline>li {display: inline-block}\n",
       "\t.list-inline>li:not(:last-child)::after {content: \"\\00b7\"; padding: 0 .5ex}\n",
       "\t</style>\n",
       "\t<ol class=list-inline><li>'Slow'</li><li>'OK'</li><li>'Fast'</li></ol>\n",
       "</details>"
      ],
      "text/latex": [
       "\\begin{enumerate*}\n",
       "\\item OK\n",
       "\\item Slow\n",
       "\\item Slow\n",
       "\\item OK\n",
       "\\item Fast\n",
       "\\end{enumerate*}\n",
       "\n",
       "\\emph{Levels}: \\begin{enumerate*}\n",
       "\\item 'Slow'\n",
       "\\item 'OK'\n",
       "\\item 'Fast'\n",
       "\\end{enumerate*}\n"
      ],
      "text/markdown": [
       "1. OK\n",
       "2. Slow\n",
       "3. Slow\n",
       "4. OK\n",
       "5. Fast\n",
       "\n",
       "\n",
       "\n",
       "**Levels**: 1. 'Slow'\n",
       "2. 'OK'\n",
       "3. 'Fast'\n",
       "\n",
       "\n"
      ],
      "text/plain": [
       "[1] OK   Slow Slow OK   Fast\n",
       "Levels: Slow < OK < Fast"
      ]
     },
     "metadata": {},
     "output_type": "display_data"
    },
    {
     "data": {
      "text/html": [
       "<style>\n",
       ".dl-inline {width: auto; margin:0; padding: 0}\n",
       ".dl-inline>dt, .dl-inline>dd {float: none; width: auto; display: inline-block}\n",
       ".dl-inline>dt::after {content: \":\\0020\"; padding-right: .5ex}\n",
       ".dl-inline>dt:not(:first-of-type) {padding-left: .5ex}\n",
       "</style><dl class=dl-inline><dt>Slow</dt><dd>2</dd><dt>OK</dt><dd>2</dd><dt>Fast</dt><dd>1</dd></dl>\n"
      ],
      "text/latex": [
       "\\begin{description*}\n",
       "\\item[Slow] 2\n",
       "\\item[OK] 2\n",
       "\\item[Fast] 1\n",
       "\\end{description*}\n"
      ],
      "text/markdown": [
       "Slow\n",
       ":   2OK\n",
       ":   2Fast\n",
       ":   1\n",
       "\n"
      ],
      "text/plain": [
       "Slow   OK Fast \n",
       "   2    2    1 "
      ]
     },
     "metadata": {},
     "output_type": "display_data"
    }
   ],
   "source": [
    "# Create speed_vector\n",
    "speed_vector <- c(\"OK\", \"Slow\", \"Slow\", \"OK\", \"Fast\")\n",
    "\n",
    "# Convert speed_vector to ordered speed_factor\n",
    "speed_factor = factor(speed_vector, ordered=TRUE, levels = c(\"Slow\",\"OK\",\"Fast\"))\n",
    "\n",
    "# Print speed_factor\n",
    "speed_factor\n",
    "\n",
    "# Summarize speed_factor\n",
    "summary(speed_factor)"
   ]
  },
  {
   "cell_type": "code",
   "execution_count": 8,
   "id": "f5878cd1",
   "metadata": {},
   "outputs": [
    {
     "data": {
      "text/html": [
       "FALSE"
      ],
      "text/latex": [
       "FALSE"
      ],
      "text/markdown": [
       "FALSE"
      ],
      "text/plain": [
       "[1] FALSE"
      ]
     },
     "metadata": {},
     "output_type": "display_data"
    }
   ],
   "source": [
    "# Definition of speed_vector and speed_factor\n",
    "speed_vector <- c(\"Fast\", \"Slow\", \"Slow\", \"Fast\", \"Ultra-fast\")\n",
    "speed_factor <- factor(speed_vector, ordered = TRUE, levels = c(\"Slow\", \"Fast\", \"Ultra-fast\"))\n",
    "\n",
    "# Compare DA2 with DA5: compare_them\n",
    "compare_them = speed_factor[2]>speed_factor[5]\n",
    "\n",
    "# Print compare_them: Is DA2 faster than DA5?\n",
    "compare_them"
   ]
  },
  {
   "cell_type": "code",
   "execution_count": null,
   "id": "0d58a0c4",
   "metadata": {},
   "outputs": [],
   "source": [
    "fly_class\n",
    " [1] \"eco\" \"bus\" \"eco\" \"bus\" \"fir\" \"eco\" \"eco\" \"bus\" \"eco\" \"eco\" \"fir\" \"eco\"\n",
    "[13] \"eco\" \"eco\" \"eco\" \"bus\" \"eco\" \"eco\" \"eco\" \"fir\" \"bus\" \"eco\" \"eco\" \"fir\"\n",
    "[25] \"eco\" \"bus\" \"eco\" \"eco\" \"eco\" \"eco\" \"fir\" \"fir\" \"eco\" \"bus\" \"eco\" \"eco\"\n",
    "[37] \"bus\" \"eco\" \"eco\" \"eco\" \"eco\" \"eco\" \"eco\" \"eco\" \"eco\" \"eco\" \"eco\" \"eco\"\n",
    "[49] \"eco\" \"bus\""
   ]
  },
  {
   "cell_type": "code",
   "execution_count": 9,
   "id": "76fb772c",
   "metadata": {},
   "outputs": [
    {
     "ename": "ERROR",
     "evalue": "Error in factor(fly_class, ordered = TRUE, levels = lvls, labels = lbls): object 'fly_class' not found\n",
     "output_type": "error",
     "traceback": [
      "Error in factor(fly_class, ordered = TRUE, levels = lvls, labels = lbls): object 'fly_class' not found\nTraceback:\n",
      "1. factor(fly_class, ordered = TRUE, levels = lvls, labels = lbls)"
     ]
    }
   ],
   "source": [
    "# Prespecification of levels and labels\n",
    "lvls <- c(\"eco\", \"bus\", \"fir\")\n",
    "lbls <- c(\"economy\", \"business\", \"first\")\n",
    "\n",
    "# Encode fly_class as a factor, with the appropriate names and ordering\n",
    "fly_class_factor = factor(fly_class, ordered=TRUE, levels=lvls,labels=lbls)"
   ]
  },
  {
   "cell_type": "code",
   "execution_count": null,
   "id": "cb233560",
   "metadata": {},
   "outputs": [],
   "source": []
  }
 ],
 "metadata": {
  "kernelspec": {
   "display_name": "R",
   "language": "R",
   "name": "ir"
  },
  "language_info": {
   "codemirror_mode": "r",
   "file_extension": ".r",
   "mimetype": "text/x-r-source",
   "name": "R",
   "pygments_lexer": "r",
   "version": "3.6.3"
  }
 },
 "nbformat": 4,
 "nbformat_minor": 5
}
