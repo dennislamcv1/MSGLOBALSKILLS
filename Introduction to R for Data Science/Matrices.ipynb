{
 "cells": [
  {
   "cell_type": "code",
   "execution_count": 1,
   "id": "ceb35307",
   "metadata": {},
   "outputs": [
    {
     "data": {
      "text/html": [
       "<table class=\"dataframe\">\n",
       "<caption>A matrix: 3 × 2 of type dbl</caption>\n",
       "<tbody>\n",
       "\t<tr><td>460.998</td><td>314.4</td></tr>\n",
       "\t<tr><td>290.475</td><td>247.9</td></tr>\n",
       "\t<tr><td>309.306</td><td>165.8</td></tr>\n",
       "</tbody>\n",
       "</table>\n"
      ],
      "text/latex": [
       "A matrix: 3 × 2 of type dbl\n",
       "\\begin{tabular}{ll}\n",
       "\t 460.998 & 314.4\\\\\n",
       "\t 290.475 & 247.9\\\\\n",
       "\t 309.306 & 165.8\\\\\n",
       "\\end{tabular}\n"
      ],
      "text/markdown": [
       "\n",
       "A matrix: 3 × 2 of type dbl\n",
       "\n",
       "| 460.998 | 314.4 |\n",
       "| 290.475 | 247.9 |\n",
       "| 309.306 | 165.8 |\n",
       "\n"
      ],
      "text/plain": [
       "     [,1]    [,2] \n",
       "[1,] 460.998 314.4\n",
       "[2,] 290.475 247.9\n",
       "[3,] 309.306 165.8"
      ]
     },
     "metadata": {},
     "output_type": "display_data"
    }
   ],
   "source": [
    "# Star Wars box office in millions (!)\n",
    "box <- c(460.998, 314.4, 290.475, 247.900, 309.306, 165.8)\n",
    "\n",
    "# Create star_wars_matrix\n",
    "star_wars_matrix = matrix(box, byrow=TRUE, nrow = 3, ncol=2)\n",
    "star_wars_matrix"
   ]
  },
  {
   "cell_type": "code",
   "execution_count": 2,
   "id": "b37e18d2",
   "metadata": {},
   "outputs": [
    {
     "data": {
      "text/html": [
       "<table class=\"dataframe\">\n",
       "<caption>A matrix: 3 × 2 of type dbl</caption>\n",
       "<tbody>\n",
       "\t<tr><th scope=row>new_hope</th><td>460.998</td><td>314.4</td></tr>\n",
       "\t<tr><th scope=row>empire_strikes</th><td>290.475</td><td>247.9</td></tr>\n",
       "\t<tr><th scope=row>return_jedi</th><td>309.306</td><td>165.8</td></tr>\n",
       "</tbody>\n",
       "</table>\n"
      ],
      "text/latex": [
       "A matrix: 3 × 2 of type dbl\n",
       "\\begin{tabular}{r|ll}\n",
       "\tnew\\_hope & 460.998 & 314.4\\\\\n",
       "\tempire\\_strikes & 290.475 & 247.9\\\\\n",
       "\treturn\\_jedi & 309.306 & 165.8\\\\\n",
       "\\end{tabular}\n"
      ],
      "text/markdown": [
       "\n",
       "A matrix: 3 × 2 of type dbl\n",
       "\n",
       "| new_hope | 460.998 | 314.4 |\n",
       "| empire_strikes | 290.475 | 247.9 |\n",
       "| return_jedi | 309.306 | 165.8 |\n",
       "\n"
      ],
      "text/plain": [
       "               [,1]    [,2] \n",
       "new_hope       460.998 314.4\n",
       "empire_strikes 290.475 247.9\n",
       "return_jedi    309.306 165.8"
      ]
     },
     "metadata": {},
     "output_type": "display_data"
    }
   ],
   "source": [
    "# Star Wars box office in millions (!)\n",
    "new_hope <- c(460.998, 314.4)\n",
    "empire_strikes <- c(290.475, 247.900)\n",
    "return_jedi <- c(309.306, 165.8)\n",
    "\n",
    "# Create star_wars_matrix\n",
    "star_wars_matrix=rbind(new_hope,empire_strikes,return_jedi)\n",
    "star_wars_matrix"
   ]
  },
  {
   "cell_type": "code",
   "execution_count": 3,
   "id": "48b4b302",
   "metadata": {},
   "outputs": [
    {
     "data": {
      "text/html": [
       "<table class=\"dataframe\">\n",
       "<caption>A matrix: 3 × 2 of type dbl</caption>\n",
       "<thead>\n",
       "\t<tr><th></th><th scope=col>US</th><th scope=col>non-US</th></tr>\n",
       "</thead>\n",
       "<tbody>\n",
       "\t<tr><th scope=row>A New Hope</th><td>460.998</td><td>314.4</td></tr>\n",
       "\t<tr><th scope=row>The Empire Strikes Back</th><td>290.475</td><td>247.9</td></tr>\n",
       "\t<tr><th scope=row>Return of the Jedi</th><td>309.306</td><td>165.8</td></tr>\n",
       "</tbody>\n",
       "</table>\n"
      ],
      "text/latex": [
       "A matrix: 3 × 2 of type dbl\n",
       "\\begin{tabular}{r|ll}\n",
       "  & US & non-US\\\\\n",
       "\\hline\n",
       "\tA New Hope & 460.998 & 314.4\\\\\n",
       "\tThe Empire Strikes Back & 290.475 & 247.9\\\\\n",
       "\tReturn of the Jedi & 309.306 & 165.8\\\\\n",
       "\\end{tabular}\n"
      ],
      "text/markdown": [
       "\n",
       "A matrix: 3 × 2 of type dbl\n",
       "\n",
       "| <!--/--> | US | non-US |\n",
       "|---|---|---|\n",
       "| A New Hope | 460.998 | 314.4 |\n",
       "| The Empire Strikes Back | 290.475 | 247.9 |\n",
       "| Return of the Jedi | 309.306 | 165.8 |\n",
       "\n"
      ],
      "text/plain": [
       "                        US      non-US\n",
       "A New Hope              460.998 314.4 \n",
       "The Empire Strikes Back 290.475 247.9 \n",
       "Return of the Jedi      309.306 165.8 "
      ]
     },
     "metadata": {},
     "output_type": "display_data"
    }
   ],
   "source": [
    "# Star Wars box office in millions (!)\n",
    "new_hope <- c(460.998, 314.4)\n",
    "empire_strikes <- c(290.475, 247.900)\n",
    "return_jedi <- c(309.306, 165.8)\n",
    "star_wars_matrix <- rbind(new_hope, empire_strikes, return_jedi)\n",
    "\n",
    "# Name the columns and rows of star_wars_matrix\n",
    "colnames(star_wars_matrix) = c(\"US\", \"non-US\")\n",
    "rownames(star_wars_matrix) = c(\"A New Hope\", \"The Empire Strikes Back\", \"Return of the Jedi\")\n",
    "star_wars_matrix"
   ]
  },
  {
   "cell_type": "code",
   "execution_count": 4,
   "id": "607a6533",
   "metadata": {},
   "outputs": [],
   "source": [
    "# Only D is valid syntax that leads to the correct result."
   ]
  },
  {
   "cell_type": "code",
   "execution_count": 5,
   "id": "19aae047",
   "metadata": {},
   "outputs": [
    {
     "data": {
      "text/html": [
       "<style>\n",
       ".dl-inline {width: auto; margin:0; padding: 0}\n",
       ".dl-inline>dt, .dl-inline>dd {float: none; width: auto; display: inline-block}\n",
       ".dl-inline>dt::after {content: \":\\0020\"; padding-right: .5ex}\n",
       ".dl-inline>dt:not(:first-of-type) {padding-left: .5ex}\n",
       "</style><dl class=dl-inline><dt>A New Hope</dt><dd>775.398</dd><dt>The Empire Strikes Back</dt><dd>538.375</dd><dt>Return of the Jedi</dt><dd>475.106</dd></dl>\n"
      ],
      "text/latex": [
       "\\begin{description*}\n",
       "\\item[A New Hope] 775.398\n",
       "\\item[The Empire Strikes Back] 538.375\n",
       "\\item[Return of the Jedi] 475.106\n",
       "\\end{description*}\n"
      ],
      "text/markdown": [
       "A New Hope\n",
       ":   775.398The Empire Strikes Back\n",
       ":   538.375Return of the Jedi\n",
       ":   475.106\n",
       "\n"
      ],
      "text/plain": [
       "             A New Hope The Empire Strikes Back      Return of the Jedi \n",
       "                775.398                 538.375                 475.106 "
      ]
     },
     "metadata": {},
     "output_type": "display_data"
    }
   ],
   "source": [
    "# Star Wars box office in millions (!)\n",
    "new_hope <- c(460.998, 314.4)\n",
    "empire_strikes <- c(290.475, 247.900)\n",
    "return_jedi <- c(309.306, 165.8)\n",
    "star_wars_matrix <- rbind(new_hope, empire_strikes, return_jedi)\n",
    "colnames(star_wars_matrix) <- c(\"US\", \"non-US\")\n",
    "rownames(star_wars_matrix) <- c(\"A New Hope\", \"The Empire Strikes Back\", \"Return of the Jedi\")\n",
    "\n",
    "# Calculate the worldwide box office: worldwide_vector\n",
    "worldwide_vector = rowSums(star_wars_matrix)\n",
    "worldwide_vector"
   ]
  },
  {
   "cell_type": "code",
   "execution_count": 6,
   "id": "fce187dd",
   "metadata": {},
   "outputs": [
    {
     "data": {
      "text/html": [
       "<table class=\"dataframe\">\n",
       "<caption>A matrix: 3 × 3 of type dbl</caption>\n",
       "<thead>\n",
       "\t<tr><th></th><th scope=col>US</th><th scope=col>non-US</th><th scope=col>worldwide_vector</th></tr>\n",
       "</thead>\n",
       "<tbody>\n",
       "\t<tr><th scope=row>A New Hope</th><td>460.998</td><td>314.4</td><td>775.398</td></tr>\n",
       "\t<tr><th scope=row>The Empire Strikes Back</th><td>290.475</td><td>247.9</td><td>538.375</td></tr>\n",
       "\t<tr><th scope=row>Return of the Jedi</th><td>309.306</td><td>165.8</td><td>475.106</td></tr>\n",
       "</tbody>\n",
       "</table>\n"
      ],
      "text/latex": [
       "A matrix: 3 × 3 of type dbl\n",
       "\\begin{tabular}{r|lll}\n",
       "  & US & non-US & worldwide\\_vector\\\\\n",
       "\\hline\n",
       "\tA New Hope & 460.998 & 314.4 & 775.398\\\\\n",
       "\tThe Empire Strikes Back & 290.475 & 247.9 & 538.375\\\\\n",
       "\tReturn of the Jedi & 309.306 & 165.8 & 475.106\\\\\n",
       "\\end{tabular}\n"
      ],
      "text/markdown": [
       "\n",
       "A matrix: 3 × 3 of type dbl\n",
       "\n",
       "| <!--/--> | US | non-US | worldwide_vector |\n",
       "|---|---|---|---|\n",
       "| A New Hope | 460.998 | 314.4 | 775.398 |\n",
       "| The Empire Strikes Back | 290.475 | 247.9 | 538.375 |\n",
       "| Return of the Jedi | 309.306 | 165.8 | 475.106 |\n",
       "\n"
      ],
      "text/plain": [
       "                        US      non-US worldwide_vector\n",
       "A New Hope              460.998 314.4  775.398         \n",
       "The Empire Strikes Back 290.475 247.9  538.375         \n",
       "Return of the Jedi      309.306 165.8  475.106         "
      ]
     },
     "metadata": {},
     "output_type": "display_data"
    }
   ],
   "source": [
    "# Star Wars box office in millions (!)\n",
    "new_hope <- c(460.998, 314.4)\n",
    "empire_strikes <- c(290.475, 247.900)\n",
    "return_jedi <- c(309.306, 165.8)\n",
    "star_wars_matrix <- rbind(new_hope, empire_strikes, return_jedi)\n",
    "colnames(star_wars_matrix) <- c(\"US\", \"non-US\")\n",
    "rownames(star_wars_matrix) <- c(\"A New Hope\", \"The Empire Strikes Back\", \"Return of the Jedi\")\n",
    "\n",
    "# The worldwide box office figures\n",
    "worldwide_vector <- rowSums(star_wars_matrix)\n",
    "\n",
    "# Bind the new variable worldwide_vector as a column to star_wars_matrix: star_wars_ext\n",
    "star_wars_ext = cbind(star_wars_matrix,worldwide_vector)\n",
    "star_wars_ext"
   ]
  },
  {
   "cell_type": "code",
   "execution_count": 7,
   "id": "aa18bac1",
   "metadata": {},
   "outputs": [
    {
     "data": {
      "text/html": [
       "<table class=\"dataframe\">\n",
       "<caption>A matrix: 3 × 2 of type dbl</caption>\n",
       "<tbody>\n",
       "\t<tr><th scope=row>phantom</th><td>474.5</td><td>552.5</td></tr>\n",
       "\t<tr><th scope=row>clones</th><td>310.7</td><td>338.7</td></tr>\n",
       "\t<tr><th scope=row>sith</th><td>380.3</td><td>468.5</td></tr>\n",
       "</tbody>\n",
       "</table>\n"
      ],
      "text/latex": [
       "A matrix: 3 × 2 of type dbl\n",
       "\\begin{tabular}{r|ll}\n",
       "\tphantom & 474.5 & 552.5\\\\\n",
       "\tclones & 310.7 & 338.7\\\\\n",
       "\tsith & 380.3 & 468.5\\\\\n",
       "\\end{tabular}\n"
      ],
      "text/markdown": [
       "\n",
       "A matrix: 3 × 2 of type dbl\n",
       "\n",
       "| phantom | 474.5 | 552.5 |\n",
       "| clones | 310.7 | 338.7 |\n",
       "| sith | 380.3 | 468.5 |\n",
       "\n"
      ],
      "text/plain": [
       "        [,1]  [,2] \n",
       "phantom 474.5 552.5\n",
       "clones  310.7 338.7\n",
       "sith    380.3 468.5"
      ]
     },
     "metadata": {},
     "output_type": "display_data"
    }
   ],
   "source": [
    "phantom <- c(474.5,  552.5)\n",
    "clones <- c(310.7,  338.7)\n",
    "sith <- c(380.3,  468.5)\n",
    "\n",
    "star_wars_matrix2 = rbind(phantom,clones,sith)\n",
    "star_wars_matrix2"
   ]
  },
  {
   "cell_type": "code",
   "execution_count": 8,
   "id": "af0e0722",
   "metadata": {},
   "outputs": [
    {
     "data": {
      "text/html": [
       "<table class=\"dataframe\">\n",
       "<caption>A matrix: 3 × 2 of type dbl</caption>\n",
       "<thead>\n",
       "\t<tr><th></th><th scope=col>US</th><th scope=col>non-US</th></tr>\n",
       "</thead>\n",
       "<tbody>\n",
       "\t<tr><th scope=row>The Phantom Menace</th><td>474.5</td><td>552.5</td></tr>\n",
       "\t<tr><th scope=row>Attack of the Clones</th><td>310.7</td><td>338.7</td></tr>\n",
       "\t<tr><th scope=row>Revenge of the Sith</th><td>380.3</td><td>468.5</td></tr>\n",
       "</tbody>\n",
       "</table>\n"
      ],
      "text/latex": [
       "A matrix: 3 × 2 of type dbl\n",
       "\\begin{tabular}{r|ll}\n",
       "  & US & non-US\\\\\n",
       "\\hline\n",
       "\tThe Phantom Menace & 474.5 & 552.5\\\\\n",
       "\tAttack of the Clones & 310.7 & 338.7\\\\\n",
       "\tRevenge of the Sith & 380.3 & 468.5\\\\\n",
       "\\end{tabular}\n"
      ],
      "text/markdown": [
       "\n",
       "A matrix: 3 × 2 of type dbl\n",
       "\n",
       "| <!--/--> | US | non-US |\n",
       "|---|---|---|\n",
       "| The Phantom Menace | 474.5 | 552.5 |\n",
       "| Attack of the Clones | 310.7 | 338.7 |\n",
       "| Revenge of the Sith | 380.3 | 468.5 |\n",
       "\n"
      ],
      "text/plain": [
       "                     US    non-US\n",
       "The Phantom Menace   474.5 552.5 \n",
       "Attack of the Clones 310.7 338.7 \n",
       "Revenge of the Sith  380.3 468.5 "
      ]
     },
     "metadata": {},
     "output_type": "display_data"
    }
   ],
   "source": [
    "colnames(star_wars_matrix2) <- c(\"US\", \"non-US\")\n",
    "rownames(star_wars_matrix2) <- c(\"The Phantom Menace\",\"Attack of the Clones\",\"Revenge of the Sith\")\n",
    "star_wars_matrix2"
   ]
  },
  {
   "cell_type": "code",
   "execution_count": 9,
   "id": "aa688b41",
   "metadata": {},
   "outputs": [
    {
     "data": {
      "text/html": [
       "<table class=\"dataframe\">\n",
       "<caption>A matrix: 3 × 2 of type dbl</caption>\n",
       "<thead>\n",
       "\t<tr><th></th><th scope=col>US</th><th scope=col>non-US</th></tr>\n",
       "</thead>\n",
       "<tbody>\n",
       "\t<tr><th scope=row>A New Hope</th><td>460.998</td><td>314.4</td></tr>\n",
       "\t<tr><th scope=row>The Empire Strikes Back</th><td>290.475</td><td>247.9</td></tr>\n",
       "\t<tr><th scope=row>Return of the Jedi</th><td>309.306</td><td>165.8</td></tr>\n",
       "</tbody>\n",
       "</table>\n"
      ],
      "text/latex": [
       "A matrix: 3 × 2 of type dbl\n",
       "\\begin{tabular}{r|ll}\n",
       "  & US & non-US\\\\\n",
       "\\hline\n",
       "\tA New Hope & 460.998 & 314.4\\\\\n",
       "\tThe Empire Strikes Back & 290.475 & 247.9\\\\\n",
       "\tReturn of the Jedi & 309.306 & 165.8\\\\\n",
       "\\end{tabular}\n"
      ],
      "text/markdown": [
       "\n",
       "A matrix: 3 × 2 of type dbl\n",
       "\n",
       "| <!--/--> | US | non-US |\n",
       "|---|---|---|\n",
       "| A New Hope | 460.998 | 314.4 |\n",
       "| The Empire Strikes Back | 290.475 | 247.9 |\n",
       "| Return of the Jedi | 309.306 | 165.8 |\n",
       "\n"
      ],
      "text/plain": [
       "                        US      non-US\n",
       "A New Hope              460.998 314.4 \n",
       "The Empire Strikes Back 290.475 247.9 \n",
       "Return of the Jedi      309.306 165.8 "
      ]
     },
     "metadata": {},
     "output_type": "display_data"
    },
    {
     "data": {
      "text/html": [
       "<table class=\"dataframe\">\n",
       "<caption>A matrix: 3 × 2 of type dbl</caption>\n",
       "<thead>\n",
       "\t<tr><th></th><th scope=col>US</th><th scope=col>non-US</th></tr>\n",
       "</thead>\n",
       "<tbody>\n",
       "\t<tr><th scope=row>The Phantom Menace</th><td>474.5</td><td>552.5</td></tr>\n",
       "\t<tr><th scope=row>Attack of the Clones</th><td>310.7</td><td>338.7</td></tr>\n",
       "\t<tr><th scope=row>Revenge of the Sith</th><td>380.3</td><td>468.5</td></tr>\n",
       "</tbody>\n",
       "</table>\n"
      ],
      "text/latex": [
       "A matrix: 3 × 2 of type dbl\n",
       "\\begin{tabular}{r|ll}\n",
       "  & US & non-US\\\\\n",
       "\\hline\n",
       "\tThe Phantom Menace & 474.5 & 552.5\\\\\n",
       "\tAttack of the Clones & 310.7 & 338.7\\\\\n",
       "\tRevenge of the Sith & 380.3 & 468.5\\\\\n",
       "\\end{tabular}\n"
      ],
      "text/markdown": [
       "\n",
       "A matrix: 3 × 2 of type dbl\n",
       "\n",
       "| <!--/--> | US | non-US |\n",
       "|---|---|---|\n",
       "| The Phantom Menace | 474.5 | 552.5 |\n",
       "| Attack of the Clones | 310.7 | 338.7 |\n",
       "| Revenge of the Sith | 380.3 | 468.5 |\n",
       "\n"
      ],
      "text/plain": [
       "                     US    non-US\n",
       "The Phantom Menace   474.5 552.5 \n",
       "Attack of the Clones 310.7 338.7 \n",
       "Revenge of the Sith  380.3 468.5 "
      ]
     },
     "metadata": {},
     "output_type": "display_data"
    },
    {
     "data": {
      "text/html": [
       "<table class=\"dataframe\">\n",
       "<caption>A matrix: 6 × 2 of type dbl</caption>\n",
       "<thead>\n",
       "\t<tr><th></th><th scope=col>US</th><th scope=col>non-US</th></tr>\n",
       "</thead>\n",
       "<tbody>\n",
       "\t<tr><th scope=row>A New Hope</th><td>460.998</td><td>314.4</td></tr>\n",
       "\t<tr><th scope=row>The Empire Strikes Back</th><td>290.475</td><td>247.9</td></tr>\n",
       "\t<tr><th scope=row>Return of the Jedi</th><td>309.306</td><td>165.8</td></tr>\n",
       "\t<tr><th scope=row>The Phantom Menace</th><td>474.500</td><td>552.5</td></tr>\n",
       "\t<tr><th scope=row>Attack of the Clones</th><td>310.700</td><td>338.7</td></tr>\n",
       "\t<tr><th scope=row>Revenge of the Sith</th><td>380.300</td><td>468.5</td></tr>\n",
       "</tbody>\n",
       "</table>\n"
      ],
      "text/latex": [
       "A matrix: 6 × 2 of type dbl\n",
       "\\begin{tabular}{r|ll}\n",
       "  & US & non-US\\\\\n",
       "\\hline\n",
       "\tA New Hope & 460.998 & 314.4\\\\\n",
       "\tThe Empire Strikes Back & 290.475 & 247.9\\\\\n",
       "\tReturn of the Jedi & 309.306 & 165.8\\\\\n",
       "\tThe Phantom Menace & 474.500 & 552.5\\\\\n",
       "\tAttack of the Clones & 310.700 & 338.7\\\\\n",
       "\tRevenge of the Sith & 380.300 & 468.5\\\\\n",
       "\\end{tabular}\n"
      ],
      "text/markdown": [
       "\n",
       "A matrix: 6 × 2 of type dbl\n",
       "\n",
       "| <!--/--> | US | non-US |\n",
       "|---|---|---|\n",
       "| A New Hope | 460.998 | 314.4 |\n",
       "| The Empire Strikes Back | 290.475 | 247.9 |\n",
       "| Return of the Jedi | 309.306 | 165.8 |\n",
       "| The Phantom Menace | 474.500 | 552.5 |\n",
       "| Attack of the Clones | 310.700 | 338.7 |\n",
       "| Revenge of the Sith | 380.300 | 468.5 |\n",
       "\n"
      ],
      "text/plain": [
       "                        US      non-US\n",
       "A New Hope              460.998 314.4 \n",
       "The Empire Strikes Back 290.475 247.9 \n",
       "Return of the Jedi      309.306 165.8 \n",
       "The Phantom Menace      474.500 552.5 \n",
       "Attack of the Clones    310.700 338.7 \n",
       "Revenge of the Sith     380.300 468.5 "
      ]
     },
     "metadata": {},
     "output_type": "display_data"
    }
   ],
   "source": [
    "# Matrix that contains the first trilogy box office\n",
    "star_wars_matrix  \n",
    "\n",
    "# Matrix that contains the second trilogy box office\n",
    "star_wars_matrix2 \n",
    "\n",
    "# Combine both Star Wars trilogies in one matrix: all_wars_matrix\n",
    "all_wars_matrix = rbind(star_wars_matrix,star_wars_matrix2)\n",
    "all_wars_matrix"
   ]
  },
  {
   "cell_type": "code",
   "execution_count": 10,
   "id": "83e930d3",
   "metadata": {},
   "outputs": [
    {
     "data": {
      "text/html": [
       "<table class=\"dataframe\">\n",
       "<caption>A matrix: 6 × 2 of type dbl</caption>\n",
       "<thead>\n",
       "\t<tr><th></th><th scope=col>US</th><th scope=col>non-US</th></tr>\n",
       "</thead>\n",
       "<tbody>\n",
       "\t<tr><th scope=row>A New Hope</th><td>460.998</td><td>314.4</td></tr>\n",
       "\t<tr><th scope=row>The Empire Strikes Back</th><td>290.475</td><td>247.9</td></tr>\n",
       "\t<tr><th scope=row>Return of the Jedi</th><td>309.306</td><td>165.8</td></tr>\n",
       "\t<tr><th scope=row>The Phantom Menace</th><td>474.500</td><td>552.5</td></tr>\n",
       "\t<tr><th scope=row>Attack of the Clones</th><td>310.700</td><td>338.7</td></tr>\n",
       "\t<tr><th scope=row>Revenge of the Sith</th><td>380.300</td><td>468.5</td></tr>\n",
       "</tbody>\n",
       "</table>\n"
      ],
      "text/latex": [
       "A matrix: 6 × 2 of type dbl\n",
       "\\begin{tabular}{r|ll}\n",
       "  & US & non-US\\\\\n",
       "\\hline\n",
       "\tA New Hope & 460.998 & 314.4\\\\\n",
       "\tThe Empire Strikes Back & 290.475 & 247.9\\\\\n",
       "\tReturn of the Jedi & 309.306 & 165.8\\\\\n",
       "\tThe Phantom Menace & 474.500 & 552.5\\\\\n",
       "\tAttack of the Clones & 310.700 & 338.7\\\\\n",
       "\tRevenge of the Sith & 380.300 & 468.5\\\\\n",
       "\\end{tabular}\n"
      ],
      "text/markdown": [
       "\n",
       "A matrix: 6 × 2 of type dbl\n",
       "\n",
       "| <!--/--> | US | non-US |\n",
       "|---|---|---|\n",
       "| A New Hope | 460.998 | 314.4 |\n",
       "| The Empire Strikes Back | 290.475 | 247.9 |\n",
       "| Return of the Jedi | 309.306 | 165.8 |\n",
       "| The Phantom Menace | 474.500 | 552.5 |\n",
       "| Attack of the Clones | 310.700 | 338.7 |\n",
       "| Revenge of the Sith | 380.300 | 468.5 |\n",
       "\n"
      ],
      "text/plain": [
       "                        US      non-US\n",
       "A New Hope              460.998 314.4 \n",
       "The Empire Strikes Back 290.475 247.9 \n",
       "Return of the Jedi      309.306 165.8 \n",
       "The Phantom Menace      474.500 552.5 \n",
       "Attack of the Clones    310.700 338.7 \n",
       "Revenge of the Sith     380.300 468.5 "
      ]
     },
     "metadata": {},
     "output_type": "display_data"
    },
    {
     "data": {
      "text/html": [
       "<style>\n",
       ".dl-inline {width: auto; margin:0; padding: 0}\n",
       ".dl-inline>dt, .dl-inline>dd {float: none; width: auto; display: inline-block}\n",
       ".dl-inline>dt::after {content: \":\\0020\"; padding-right: .5ex}\n",
       ".dl-inline>dt:not(:first-of-type) {padding-left: .5ex}\n",
       "</style><dl class=dl-inline><dt>US</dt><dd>2226.279</dd><dt>non-US</dt><dd>2087.8</dd></dl>\n"
      ],
      "text/latex": [
       "\\begin{description*}\n",
       "\\item[US] 2226.279\n",
       "\\item[non-US] 2087.8\n",
       "\\end{description*}\n"
      ],
      "text/markdown": [
       "US\n",
       ":   2226.279non-US\n",
       ":   2087.8\n",
       "\n"
      ],
      "text/plain": [
       "      US   non-US \n",
       "2226.279 2087.800 "
      ]
     },
     "metadata": {},
     "output_type": "display_data"
    }
   ],
   "source": [
    "# Print box office Star Wars\n",
    "all_wars_matrix\n",
    "\n",
    "# Total revenue for US and non-US: total_revenue_vector\n",
    "total_revenue_vector=colSums(all_wars_matrix)\n",
    "total_revenue_vector"
   ]
  },
  {
   "cell_type": "code",
   "execution_count": 11,
   "id": "af5e8594",
   "metadata": {},
   "outputs": [],
   "source": [
    "first_row <- c(6, 8, 7, 9, 9, 10)\n",
    "second_row <- c(6, 8, 7, 5, 9,  6)\n",
    "third_row <- c(5, 4, 6, 6, 7,  8)\n",
    "fourth_row <- c(4, 5, 3, 4, 6,  8)"
   ]
  },
  {
   "cell_type": "code",
   "execution_count": 12,
   "id": "6396cf3d",
   "metadata": {},
   "outputs": [
    {
     "data": {
      "text/html": [
       "<table class=\"dataframe\">\n",
       "<caption>A matrix: 4 × 6 of type dbl</caption>\n",
       "<tbody>\n",
       "\t<tr><th scope=row>first_row</th><td>6</td><td>8</td><td>7</td><td>9</td><td>9</td><td>10</td></tr>\n",
       "\t<tr><th scope=row>second_row</th><td>6</td><td>8</td><td>7</td><td>5</td><td>9</td><td> 6</td></tr>\n",
       "\t<tr><th scope=row>third_row</th><td>5</td><td>4</td><td>6</td><td>6</td><td>7</td><td> 8</td></tr>\n",
       "\t<tr><th scope=row>fourth_row</th><td>4</td><td>5</td><td>3</td><td>4</td><td>6</td><td> 8</td></tr>\n",
       "</tbody>\n",
       "</table>\n"
      ],
      "text/latex": [
       "A matrix: 4 × 6 of type dbl\n",
       "\\begin{tabular}{r|llllll}\n",
       "\tfirst\\_row & 6 & 8 & 7 & 9 & 9 & 10\\\\\n",
       "\tsecond\\_row & 6 & 8 & 7 & 5 & 9 &  6\\\\\n",
       "\tthird\\_row & 5 & 4 & 6 & 6 & 7 &  8\\\\\n",
       "\tfourth\\_row & 4 & 5 & 3 & 4 & 6 &  8\\\\\n",
       "\\end{tabular}\n"
      ],
      "text/markdown": [
       "\n",
       "A matrix: 4 × 6 of type dbl\n",
       "\n",
       "| first_row | 6 | 8 | 7 | 9 | 9 | 10 |\n",
       "| second_row | 6 | 8 | 7 | 5 | 9 |  6 |\n",
       "| third_row | 5 | 4 | 6 | 6 | 7 |  8 |\n",
       "| fourth_row | 4 | 5 | 3 | 4 | 6 |  8 |\n",
       "\n"
      ],
      "text/plain": [
       "           [,1] [,2] [,3] [,4] [,5] [,6]\n",
       "first_row  6    8    7    9    9    10  \n",
       "second_row 6    8    7    5    9     6  \n",
       "third_row  5    4    6    6    7     8  \n",
       "fourth_row 4    5    3    4    6     8  "
      ]
     },
     "metadata": {},
     "output_type": "display_data"
    }
   ],
   "source": [
    "# Create the theater matrix\n",
    "theater = rbind(first_row, second_row, third_row, fourth_row)\n",
    "theater"
   ]
  },
  {
   "cell_type": "code",
   "execution_count": 13,
   "id": "5fe1a1df",
   "metadata": {},
   "outputs": [
    {
     "data": {
      "text/html": [
       "<style>\n",
       ".dl-inline {width: auto; margin:0; padding: 0}\n",
       ".dl-inline>dt, .dl-inline>dd {float: none; width: auto; display: inline-block}\n",
       ".dl-inline>dt::after {content: \":\\0020\"; padding-right: .5ex}\n",
       ".dl-inline>dt:not(:first-of-type) {padding-left: .5ex}\n",
       "</style><dl class=dl-inline><dt>first_row</dt><dd>49</dd><dt>second_row</dt><dd>41</dd><dt>third_row</dt><dd>36</dd><dt>fourth_row</dt><dd>30</dd></dl>\n"
      ],
      "text/latex": [
       "\\begin{description*}\n",
       "\\item[first\\textbackslash{}\\_row] 49\n",
       "\\item[second\\textbackslash{}\\_row] 41\n",
       "\\item[third\\textbackslash{}\\_row] 36\n",
       "\\item[fourth\\textbackslash{}\\_row] 30\n",
       "\\end{description*}\n"
      ],
      "text/markdown": [
       "first_row\n",
       ":   49second_row\n",
       ":   41third_row\n",
       ":   36fourth_row\n",
       ":   30\n",
       "\n"
      ],
      "text/plain": [
       " first_row second_row  third_row fourth_row \n",
       "        49         41         36         30 "
      ]
     },
     "metadata": {},
     "output_type": "display_data"
    }
   ],
   "source": [
    "# Calculate row_scores with rowSums()\n",
    "row_scores = rowSums(theater)\n",
    "row_scores"
   ]
  },
  {
   "cell_type": "code",
   "execution_count": 14,
   "id": "12d9e53f",
   "metadata": {},
   "outputs": [
    {
     "data": {
      "text/html": [
       "<table class=\"dataframe\">\n",
       "<caption>A matrix: 4 × 7 of type dbl</caption>\n",
       "<thead>\n",
       "\t<tr><th></th><th scope=col></th><th scope=col></th><th scope=col></th><th scope=col></th><th scope=col></th><th scope=col></th><th scope=col>row_scores</th></tr>\n",
       "</thead>\n",
       "<tbody>\n",
       "\t<tr><th scope=row>first_row</th><td>6</td><td>8</td><td>7</td><td>9</td><td>9</td><td>10</td><td>49</td></tr>\n",
       "\t<tr><th scope=row>second_row</th><td>6</td><td>8</td><td>7</td><td>5</td><td>9</td><td> 6</td><td>41</td></tr>\n",
       "\t<tr><th scope=row>third_row</th><td>5</td><td>4</td><td>6</td><td>6</td><td>7</td><td> 8</td><td>36</td></tr>\n",
       "\t<tr><th scope=row>fourth_row</th><td>4</td><td>5</td><td>3</td><td>4</td><td>6</td><td> 8</td><td>30</td></tr>\n",
       "</tbody>\n",
       "</table>\n"
      ],
      "text/latex": [
       "A matrix: 4 × 7 of type dbl\n",
       "\\begin{tabular}{r|lllllll}\n",
       "  &  &  &  &  &  &  & row\\_scores\\\\\n",
       "\\hline\n",
       "\tfirst\\_row & 6 & 8 & 7 & 9 & 9 & 10 & 49\\\\\n",
       "\tsecond\\_row & 6 & 8 & 7 & 5 & 9 &  6 & 41\\\\\n",
       "\tthird\\_row & 5 & 4 & 6 & 6 & 7 &  8 & 36\\\\\n",
       "\tfourth\\_row & 4 & 5 & 3 & 4 & 6 &  8 & 30\\\\\n",
       "\\end{tabular}\n"
      ],
      "text/markdown": [
       "\n",
       "A matrix: 4 × 7 of type dbl\n",
       "\n",
       "| <!--/--> | <!----> | <!----> | <!----> | <!----> | <!----> | <!----> | row_scores |\n",
       "|---|---|---|---|---|---|---|---|\n",
       "| first_row | 6 | 8 | 7 | 9 | 9 | 10 | 49 |\n",
       "| second_row | 6 | 8 | 7 | 5 | 9 |  6 | 41 |\n",
       "| third_row | 5 | 4 | 6 | 6 | 7 |  8 | 36 |\n",
       "| fourth_row | 4 | 5 | 3 | 4 | 6 |  8 | 30 |\n",
       "\n"
      ],
      "text/plain": [
       "                        row_scores\n",
       "first_row  6 8 7 9 9 10 49        \n",
       "second_row 6 8 7 5 9  6 41        \n",
       "third_row  5 4 6 6 7  8 36        \n",
       "fourth_row 4 5 3 4 6  8 30        "
      ]
     },
     "metadata": {},
     "output_type": "display_data"
    }
   ],
   "source": [
    "# cbind() together theater and row_scores: scores\n",
    "scores = cbind(theater, row_scores)\n",
    "\n",
    "scores"
   ]
  },
  {
   "cell_type": "code",
   "execution_count": 15,
   "id": "97620410",
   "metadata": {},
   "outputs": [
    {
     "data": {
      "text/html": [
       "290.475"
      ],
      "text/latex": [
       "290.475"
      ],
      "text/markdown": [
       "290.475"
      ],
      "text/plain": [
       "[1] 290.475"
      ]
     },
     "metadata": {},
     "output_type": "display_data"
    },
    {
     "data": {
      "text/html": [
       "314.4"
      ],
      "text/latex": [
       "314.4"
      ],
      "text/markdown": [
       "314.4"
      ],
      "text/plain": [
       "[1] 314.4"
      ]
     },
     "metadata": {},
     "output_type": "display_data"
    }
   ],
   "source": [
    "# star_wars_matrix is already defined in your workspace\n",
    "\n",
    "# US box office revenue for \"The Empire Strikes Back\"\n",
    "star_wars_matrix[2,1]\n",
    "\n",
    "# non-US box office revenue for \"A New Hope\"\n",
    "star_wars_matrix[1,2]"
   ]
  },
  {
   "cell_type": "code",
   "execution_count": 16,
   "id": "d8c0bd86",
   "metadata": {},
   "outputs": [
    {
     "data": {
      "text/html": [
       "<style>\n",
       ".dl-inline {width: auto; margin:0; padding: 0}\n",
       ".dl-inline>dt, .dl-inline>dd {float: none; width: auto; display: inline-block}\n",
       ".dl-inline>dt::after {content: \":\\0020\"; padding-right: .5ex}\n",
       ".dl-inline>dt:not(:first-of-type) {padding-left: .5ex}\n",
       "</style><dl class=dl-inline><dt>A New Hope</dt><dd>460.998</dd><dt>The Empire Strikes Back</dt><dd>290.475</dd><dt>Return of the Jedi</dt><dd>309.306</dd></dl>\n"
      ],
      "text/latex": [
       "\\begin{description*}\n",
       "\\item[A New Hope] 460.998\n",
       "\\item[The Empire Strikes Back] 290.475\n",
       "\\item[Return of the Jedi] 309.306\n",
       "\\end{description*}\n"
      ],
      "text/markdown": [
       "A New Hope\n",
       ":   460.998The Empire Strikes Back\n",
       ":   290.475Return of the Jedi\n",
       ":   309.306\n",
       "\n"
      ],
      "text/plain": [
       "             A New Hope The Empire Strikes Back      Return of the Jedi \n",
       "                460.998                 290.475                 309.306 "
      ]
     },
     "metadata": {},
     "output_type": "display_data"
    },
    {
     "data": {
      "text/html": [
       "<style>\n",
       ".dl-inline {width: auto; margin:0; padding: 0}\n",
       ".dl-inline>dt, .dl-inline>dd {float: none; width: auto; display: inline-block}\n",
       ".dl-inline>dt::after {content: \":\\0020\"; padding-right: .5ex}\n",
       ".dl-inline>dt:not(:first-of-type) {padding-left: .5ex}\n",
       "</style><dl class=dl-inline><dt>US</dt><dd>460.998</dd><dt>non-US</dt><dd>314.4</dd></dl>\n"
      ],
      "text/latex": [
       "\\begin{description*}\n",
       "\\item[US] 460.998\n",
       "\\item[non-US] 314.4\n",
       "\\end{description*}\n"
      ],
      "text/markdown": [
       "US\n",
       ":   460.998non-US\n",
       ":   314.4\n",
       "\n"
      ],
      "text/plain": [
       "     US  non-US \n",
       "460.998 314.400 "
      ]
     },
     "metadata": {},
     "output_type": "display_data"
    },
    {
     "data": {
      "text/html": [
       "242.7"
      ],
      "text/latex": [
       "242.7"
      ],
      "text/markdown": [
       "242.7"
      ],
      "text/plain": [
       "[1] 242.7"
      ]
     },
     "metadata": {},
     "output_type": "display_data"
    },
    {
     "data": {
      "text/html": [
       "281.15"
      ],
      "text/latex": [
       "281.15"
      ],
      "text/markdown": [
       "281.15"
      ],
      "text/plain": [
       "[1] 281.15"
      ]
     },
     "metadata": {},
     "output_type": "display_data"
    }
   ],
   "source": [
    "# star_wars_matrix is already defined in your workspace\n",
    "\n",
    "# Select all US box office revenue\n",
    "star_wars_matrix[,1]\n",
    "\n",
    "# Select revenue for \"A New Hope\"\n",
    "star_wars_matrix[1,]\n",
    "\n",
    "# Average non-US revenue per movie: non_us_all\n",
    "non_us_all=mean(star_wars_matrix[,2])\n",
    "non_us_all\n",
    "# Average non-US revenue of first two movies: non_us_some\n",
    "non_us_some=mean(star_wars_matrix[1:2,2])\n",
    "non_us_some"
   ]
  },
  {
   "cell_type": "code",
   "execution_count": 17,
   "id": "6e7bc7d5",
   "metadata": {},
   "outputs": [
    {
     "data": {
      "text/html": [
       "<table class=\"dataframe\">\n",
       "<caption>A matrix: 2 × 2 of type dbl</caption>\n",
       "<thead>\n",
       "\t<tr><th></th><th scope=col>US</th><th scope=col>non-US</th></tr>\n",
       "</thead>\n",
       "<tbody>\n",
       "\t<tr><th scope=row>A New Hope</th><td>460.998</td><td>314.4</td></tr>\n",
       "\t<tr><th scope=row>Return of the Jedi</th><td>309.306</td><td>165.8</td></tr>\n",
       "</tbody>\n",
       "</table>\n"
      ],
      "text/latex": [
       "A matrix: 2 × 2 of type dbl\n",
       "\\begin{tabular}{r|ll}\n",
       "  & US & non-US\\\\\n",
       "\\hline\n",
       "\tA New Hope & 460.998 & 314.4\\\\\n",
       "\tReturn of the Jedi & 309.306 & 165.8\\\\\n",
       "\\end{tabular}\n"
      ],
      "text/markdown": [
       "\n",
       "A matrix: 2 × 2 of type dbl\n",
       "\n",
       "| <!--/--> | US | non-US |\n",
       "|---|---|---|\n",
       "| A New Hope | 460.998 | 314.4 |\n",
       "| Return of the Jedi | 309.306 | 165.8 |\n",
       "\n"
      ],
      "text/plain": [
       "                   US      non-US\n",
       "A New Hope         460.998 314.4 \n",
       "Return of the Jedi 309.306 165.8 "
      ]
     },
     "metadata": {},
     "output_type": "display_data"
    }
   ],
   "source": [
    "# star_wars_matrix is already defined in your workspace\n",
    "\n",
    "# All figures for \"A New Hope\" and \"Return of the Jedi\"\n",
    "star_wars_matrix[c(1,3),c(1,2)]"
   ]
  },
  {
   "cell_type": "code",
   "execution_count": 18,
   "id": "1cf51232",
   "metadata": {},
   "outputs": [
    {
     "data": {
      "text/html": [
       "<table class=\"dataframe\">\n",
       "<caption>A matrix: 3 × 2 of type dbl</caption>\n",
       "<thead>\n",
       "\t<tr><th></th><th scope=col>US</th><th scope=col>non-US</th></tr>\n",
       "</thead>\n",
       "<tbody>\n",
       "\t<tr><th scope=row>A New Hope</th><td>460.998</td><td>314.4</td></tr>\n",
       "\t<tr><th scope=row>The Empire Strikes Back</th><td>290.475</td><td>247.9</td></tr>\n",
       "\t<tr><th scope=row>Return of the Jedi</th><td>309.306</td><td>165.8</td></tr>\n",
       "</tbody>\n",
       "</table>\n"
      ],
      "text/latex": [
       "A matrix: 3 × 2 of type dbl\n",
       "\\begin{tabular}{r|ll}\n",
       "  & US & non-US\\\\\n",
       "\\hline\n",
       "\tA New Hope & 460.998 & 314.4\\\\\n",
       "\tThe Empire Strikes Back & 290.475 & 247.9\\\\\n",
       "\tReturn of the Jedi & 309.306 & 165.8\\\\\n",
       "\\end{tabular}\n"
      ],
      "text/markdown": [
       "\n",
       "A matrix: 3 × 2 of type dbl\n",
       "\n",
       "| <!--/--> | US | non-US |\n",
       "|---|---|---|\n",
       "| A New Hope | 460.998 | 314.4 |\n",
       "| The Empire Strikes Back | 290.475 | 247.9 |\n",
       "| Return of the Jedi | 309.306 | 165.8 |\n",
       "\n"
      ],
      "text/plain": [
       "                        US      non-US\n",
       "A New Hope              460.998 314.4 \n",
       "The Empire Strikes Back 290.475 247.9 \n",
       "Return of the Jedi      309.306 165.8 "
      ]
     },
     "metadata": {},
     "output_type": "display_data"
    },
    {
     "data": {
      "text/html": [
       "<style>\n",
       ".dl-inline {width: auto; margin:0; padding: 0}\n",
       ".dl-inline>dt, .dl-inline>dd {float: none; width: auto; display: inline-block}\n",
       ".dl-inline>dt::after {content: \":\\0020\"; padding-right: .5ex}\n",
       ".dl-inline>dt:not(:first-of-type) {padding-left: .5ex}\n",
       "</style><dl class=dl-inline><dt>A New Hope</dt><dd>460.998</dd><dt>The Empire Strikes Back</dt><dd>290.475</dd></dl>\n"
      ],
      "text/latex": [
       "\\begin{description*}\n",
       "\\item[A New Hope] 460.998\n",
       "\\item[The Empire Strikes Back] 290.475\n",
       "\\end{description*}\n"
      ],
      "text/markdown": [
       "A New Hope\n",
       ":   460.998The Empire Strikes Back\n",
       ":   290.475\n",
       "\n"
      ],
      "text/plain": [
       "             A New Hope The Empire Strikes Back \n",
       "                460.998                 290.475 "
      ]
     },
     "metadata": {},
     "output_type": "display_data"
    },
    {
     "data": {
      "text/html": [
       "<table class=\"dataframe\">\n",
       "<caption>A matrix: 2 × 2 of type dbl</caption>\n",
       "<thead>\n",
       "\t<tr><th></th><th scope=col>US</th><th scope=col>non-US</th></tr>\n",
       "</thead>\n",
       "<tbody>\n",
       "\t<tr><th scope=row>The Empire Strikes Back</th><td>290.475</td><td>247.9</td></tr>\n",
       "\t<tr><th scope=row>Return of the Jedi</th><td>309.306</td><td>165.8</td></tr>\n",
       "</tbody>\n",
       "</table>\n"
      ],
      "text/latex": [
       "A matrix: 2 × 2 of type dbl\n",
       "\\begin{tabular}{r|ll}\n",
       "  & US & non-US\\\\\n",
       "\\hline\n",
       "\tThe Empire Strikes Back & 290.475 & 247.9\\\\\n",
       "\tReturn of the Jedi & 309.306 & 165.8\\\\\n",
       "\\end{tabular}\n"
      ],
      "text/markdown": [
       "\n",
       "A matrix: 2 × 2 of type dbl\n",
       "\n",
       "| <!--/--> | US | non-US |\n",
       "|---|---|---|\n",
       "| The Empire Strikes Back | 290.475 | 247.9 |\n",
       "| Return of the Jedi | 309.306 | 165.8 |\n",
       "\n"
      ],
      "text/plain": [
       "                        US      non-US\n",
       "The Empire Strikes Back 290.475 247.9 \n",
       "Return of the Jedi      309.306 165.8 "
      ]
     },
     "metadata": {},
     "output_type": "display_data"
    },
    {
     "data": {
      "text/html": [
       "247.9"
      ],
      "text/latex": [
       "247.9"
      ],
      "text/markdown": [
       "247.9"
      ],
      "text/plain": [
       "[1] 247.9"
      ]
     },
     "metadata": {},
     "output_type": "display_data"
    }
   ],
   "source": [
    "# star_wars_matrix is already defined in your workspace\n",
    "star_wars_matrix\n",
    "# Select the US revenues for \"A New Hope\" and \"The Empire Strikes Back\"\n",
    "star_wars_matrix[c(\"A New Hope\",\"The Empire Strikes Back\"),1]\n",
    "\n",
    "# Select the last two rows and both columns\n",
    "star_wars_matrix[c(FALSE,TRUE,TRUE),]\n",
    "\n",
    "# Select the non-US revenue for \"The Empire Strikes Back\"\n",
    "star_wars_matrix[c(\"The Empire Strikes Back\"),2]"
   ]
  },
  {
   "cell_type": "code",
   "execution_count": 19,
   "id": "f74adba8",
   "metadata": {},
   "outputs": [],
   "source": [
    "# A and D"
   ]
  },
  {
   "cell_type": "code",
   "execution_count": 20,
   "id": "9f9e016e",
   "metadata": {},
   "outputs": [],
   "source": [
    "view_count_1 <- c()"
   ]
  },
  {
   "cell_type": "code",
   "execution_count": 21,
   "id": "55c82443",
   "metadata": {},
   "outputs": [
    {
     "ename": "ERROR",
     "evalue": "Error in parse(text = x, srcfile = src): <text>:1:30: unexpected symbol\n1:                         Mark Laurent\n                                 ^\n",
     "output_type": "error",
     "traceback": [
      "Error in parse(text = x, srcfile = src): <text>:1:30: unexpected symbol\n1:                         Mark Laurent\n                                 ^\nTraceback:\n"
     ]
    }
   ],
   "source": [
    "                        Mark Laurent Rachel Pierre\n",
    "A New Hope                 1       3      2      3\n",
    "The Empire Strikes Back    2       4      3      2\n",
    "Return of the Jedi         1       3      2      1\n",
    "The Phantom Menace         1       2      1      1\n",
    "Attack of the Clones       1       1      0      1\n",
    "Revenge of the Sith        0       1      0      0"
   ]
  },
  {
   "cell_type": "code",
   "execution_count": null,
   "id": "6f086bec",
   "metadata": {},
   "outputs": [],
   "source": [
    "view_count_2"
   ]
  },
  {
   "cell_type": "code",
   "execution_count": null,
   "id": "f99a9096",
   "metadata": {},
   "outputs": [],
   "source": [
    "                        Christel Walter Dave Monica\n",
    "A New Hope                     2      1    5      0\n",
    "The Empire Strikes Back        2      1    2      0\n",
    "Return of the Jedi             2      0    3      0\n",
    "The Phantom Menace             4      2    2      0\n",
    "Attack of the Clones           5      3    2      0\n",
    "Revenge of the Sith            4      1    3      1"
   ]
  },
  {
   "cell_type": "code",
   "execution_count": null,
   "id": "f78e6858",
   "metadata": {},
   "outputs": [],
   "source": [
    "# Combine view_count_1 and view_count_2 in a new matrix: view_count_all\n",
    "view_count_all <- cbind(view_count_1,view_count_2)\n",
    "view_count_all\n",
    "\n",
    "# Subset view counts for three loudest debaters: view_count_loud\n",
    "view_count_loud = view_count_all[,c(3,6:7)]\n",
    "view_count_loud\n",
    "# Use colSums() to calculate the number of views: total_views_loud\n",
    "total_views_loud = colSums(view_count_loud)\n",
    "total_views_loud"
   ]
  },
  {
   "cell_type": "code",
   "execution_count": 22,
   "id": "3b94d62c",
   "metadata": {},
   "outputs": [
    {
     "data": {
      "text/html": [
       "<table class=\"dataframe\">\n",
       "<caption>A matrix: 3 × 2 of type dbl</caption>\n",
       "<thead>\n",
       "\t<tr><th></th><th scope=col>US</th><th scope=col>non-US</th></tr>\n",
       "</thead>\n",
       "<tbody>\n",
       "\t<tr><th scope=row>A New Hope</th><td>92.1996</td><td>62.88</td></tr>\n",
       "\t<tr><th scope=row>The Empire Strikes Back</th><td>58.0950</td><td>49.58</td></tr>\n",
       "\t<tr><th scope=row>Return of the Jedi</th><td>61.8612</td><td>33.16</td></tr>\n",
       "</tbody>\n",
       "</table>\n"
      ],
      "text/latex": [
       "A matrix: 3 × 2 of type dbl\n",
       "\\begin{tabular}{r|ll}\n",
       "  & US & non-US\\\\\n",
       "\\hline\n",
       "\tA New Hope & 92.1996 & 62.88\\\\\n",
       "\tThe Empire Strikes Back & 58.0950 & 49.58\\\\\n",
       "\tReturn of the Jedi & 61.8612 & 33.16\\\\\n",
       "\\end{tabular}\n"
      ],
      "text/markdown": [
       "\n",
       "A matrix: 3 × 2 of type dbl\n",
       "\n",
       "| <!--/--> | US | non-US |\n",
       "|---|---|---|\n",
       "| A New Hope | 92.1996 | 62.88 |\n",
       "| The Empire Strikes Back | 58.0950 | 49.58 |\n",
       "| Return of the Jedi | 61.8612 | 33.16 |\n",
       "\n"
      ],
      "text/plain": [
       "                        US      non-US\n",
       "A New Hope              92.1996 62.88 \n",
       "The Empire Strikes Back 58.0950 49.58 \n",
       "Return of the Jedi      61.8612 33.16 "
      ]
     },
     "metadata": {},
     "output_type": "display_data"
    }
   ],
   "source": [
    "# Star Wars box office in millions (!)\n",
    "new_hope <- c(460.998, 314.4)\n",
    "empire_strikes <- c(290.475, 247.900)\n",
    "return_jedi <- c(309.306, 165.8)\n",
    "star_wars_matrix <- rbind(new_hope, empire_strikes, return_jedi)\n",
    "colnames(star_wars_matrix) <- c(\"US\", \"non-US\")\n",
    "rownames(star_wars_matrix) <- c(\"A New Hope\", \"The Empire Strikes Back\", \"Return of the Jedi\")\n",
    "\n",
    "# Estimation of visitors\n",
    "visitors = star_wars_matrix / 5\n",
    "  \n",
    "# Print the estimate to the console\n",
    "visitors"
   ]
  },
  {
   "cell_type": "code",
   "execution_count": 24,
   "id": "ed053af6",
   "metadata": {},
   "outputs": [
    {
     "data": {
      "text/html": [
       "<table class=\"dataframe\">\n",
       "<caption>A matrix: 3 × 2 of type dbl</caption>\n",
       "<thead>\n",
       "\t<tr><th></th><th scope=col>US</th><th scope=col>non-US</th></tr>\n",
       "</thead>\n",
       "<tbody>\n",
       "\t<tr><th scope=row>A New Hope</th><td>5</td><td>5</td></tr>\n",
       "\t<tr><th scope=row>The Empire Strikes Back</th><td>6</td><td>6</td></tr>\n",
       "\t<tr><th scope=row>Return of the Jedi</th><td>7</td><td>7</td></tr>\n",
       "</tbody>\n",
       "</table>\n"
      ],
      "text/latex": [
       "A matrix: 3 × 2 of type dbl\n",
       "\\begin{tabular}{r|ll}\n",
       "  & US & non-US\\\\\n",
       "\\hline\n",
       "\tA New Hope & 5 & 5\\\\\n",
       "\tThe Empire Strikes Back & 6 & 6\\\\\n",
       "\tReturn of the Jedi & 7 & 7\\\\\n",
       "\\end{tabular}\n"
      ],
      "text/markdown": [
       "\n",
       "A matrix: 3 × 2 of type dbl\n",
       "\n",
       "| <!--/--> | US | non-US |\n",
       "|---|---|---|\n",
       "| A New Hope | 5 | 5 |\n",
       "| The Empire Strikes Back | 6 | 6 |\n",
       "| Return of the Jedi | 7 | 7 |\n",
       "\n"
      ],
      "text/plain": [
       "                        US non-US\n",
       "A New Hope              5  5     \n",
       "The Empire Strikes Back 6  6     \n",
       "Return of the Jedi      7  7     "
      ]
     },
     "metadata": {},
     "output_type": "display_data"
    }
   ],
   "source": [
    "# Star Wars box office in millions (!)\n",
    "box_office_all <- c(461, 314.4, 290.5, 247.9, 309.3, 165.8)\n",
    "movie_names <- c(\"A New Hope\",\"The Empire Strikes Back\",\"Return of the Jedi\")\n",
    "col_titles <- c(\"US\",\"non-US\")\n",
    "star_wars_matrix <- matrix(box_office_all, nrow = 3, byrow = TRUE, dimnames = list(movie_names, col_titles))\n",
    "\n",
    "# Definition of ticket_prices_matrix\n",
    "ticket_prices_matrix <- matrix(c(5, 5, 6, 6, 7, 7), nrow = 3, byrow = TRUE, dimnames = list(movie_names, col_titles))\n",
    "ticket_prices_matrix"
   ]
  },
  {
   "cell_type": "code",
   "execution_count": 25,
   "id": "5f64acfb",
   "metadata": {},
   "outputs": [
    {
     "data": {
      "text/html": [
       "<table class=\"dataframe\">\n",
       "<caption>A matrix: 3 × 2 of type dbl</caption>\n",
       "<thead>\n",
       "\t<tr><th></th><th scope=col>US</th><th scope=col>non-US</th></tr>\n",
       "</thead>\n",
       "<tbody>\n",
       "\t<tr><th scope=row>A New Hope</th><td>92.20000</td><td>62.88000</td></tr>\n",
       "\t<tr><th scope=row>The Empire Strikes Back</th><td>48.41667</td><td>41.31667</td></tr>\n",
       "\t<tr><th scope=row>Return of the Jedi</th><td>44.18571</td><td>23.68571</td></tr>\n",
       "</tbody>\n",
       "</table>\n"
      ],
      "text/latex": [
       "A matrix: 3 × 2 of type dbl\n",
       "\\begin{tabular}{r|ll}\n",
       "  & US & non-US\\\\\n",
       "\\hline\n",
       "\tA New Hope & 92.20000 & 62.88000\\\\\n",
       "\tThe Empire Strikes Back & 48.41667 & 41.31667\\\\\n",
       "\tReturn of the Jedi & 44.18571 & 23.68571\\\\\n",
       "\\end{tabular}\n"
      ],
      "text/markdown": [
       "\n",
       "A matrix: 3 × 2 of type dbl\n",
       "\n",
       "| <!--/--> | US | non-US |\n",
       "|---|---|---|\n",
       "| A New Hope | 92.20000 | 62.88000 |\n",
       "| The Empire Strikes Back | 48.41667 | 41.31667 |\n",
       "| Return of the Jedi | 44.18571 | 23.68571 |\n",
       "\n"
      ],
      "text/plain": [
       "                        US       non-US  \n",
       "A New Hope              92.20000 62.88000\n",
       "The Empire Strikes Back 48.41667 41.31667\n",
       "Return of the Jedi      44.18571 23.68571"
      ]
     },
     "metadata": {},
     "output_type": "display_data"
    },
    {
     "data": {
      "text/html": [
       "61.6007936507937"
      ],
      "text/latex": [
       "61.6007936507937"
      ],
      "text/markdown": [
       "61.6007936507937"
      ],
      "text/plain": [
       "[1] 61.60079"
      ]
     },
     "metadata": {},
     "output_type": "display_data"
    },
    {
     "data": {
      "text/html": [
       "42.6274603174603"
      ],
      "text/latex": [
       "42.6274603174603"
      ],
      "text/markdown": [
       "42.6274603174603"
      ],
      "text/plain": [
       "[1] 42.62746"
      ]
     },
     "metadata": {},
     "output_type": "display_data"
    }
   ],
   "source": [
    "# Estimated number of visitors\n",
    "visitors = star_wars_matrix / ticket_prices_matrix\n",
    "visitors\n",
    "# Average number of US visitors\n",
    "average_us_visitors = mean(visitors[,1])\n",
    "average_us_visitors\n",
    "# Average number of non-US visitors\n",
    "average_non_us_visitors = mean(visitors[,2])\n",
    "average_non_us_visitors"
   ]
  },
  {
   "cell_type": "code",
   "execution_count": 26,
   "id": "30b7e7c4",
   "metadata": {},
   "outputs": [
    {
     "ename": "ERROR",
     "evalue": "Error in eval(expr, envir, enclos): object 'commission_rates' not found\n",
     "output_type": "error",
     "traceback": [
      "Error in eval(expr, envir, enclos): object 'commission_rates' not found\nTraceback:\n"
     ]
    }
   ],
   "source": [
    "# Calculate the money that remains after subtracting the commission: remaining\n",
    "remaining = star_wars_matrix - (star_wars_matrix * commission_rates)\n",
    "remaining\n",
    "\n",
    "# Calculate income per film: remaining_tot\n",
    "remaining_tot = rowSums(remaining)\n",
    "remaining_tot\n",
    "\n",
    "# Calculate profit\n",
    "profit = remaining_tot - budget\n",
    "profit"
   ]
  },
  {
   "cell_type": "code",
   "execution_count": null,
   "id": "7e33e23f",
   "metadata": {},
   "outputs": [],
   "source": [
    "commission_rates\n",
    "                          US non-US\n",
    "A New Hope              0.25   0.28\n",
    "The Empire Strikes Back 0.23   0.26\n",
    "Return of the Jedi      0.20   0.21"
   ]
  }
 ],
 "metadata": {
  "kernelspec": {
   "display_name": "R",
   "language": "R",
   "name": "ir"
  },
  "language_info": {
   "codemirror_mode": "r",
   "file_extension": ".r",
   "mimetype": "text/x-r-source",
   "name": "R",
   "pygments_lexer": "r",
   "version": "3.6.3"
  }
 },
 "nbformat": 4,
 "nbformat_minor": 5
}
